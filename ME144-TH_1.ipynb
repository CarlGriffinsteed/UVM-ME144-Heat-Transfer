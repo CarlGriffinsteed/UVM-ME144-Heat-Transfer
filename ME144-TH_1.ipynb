{
 "cells": [
  {
   "cell_type": "raw",
   "metadata": {},
   "source": [
    "Text provided under a Creative Commons Attribution license, CC-BY. All code is made available under the FSF-approved MIT license. (c) Yves Dubief, 2016. NSF for support via NSF-CBET award #1258697."
   ]
  },
  {
   "cell_type": "markdown",
   "metadata": {},
   "source": [
    "<p class='alert alert-danger'>\n",
    "Only submissions in html format are accepted. Replace NetID by your NetID in the cell below and run the cell. DO NOT CHANGE THE NAME OF THIS NOTEBOOK. If characters have been added during download, rename the file to its original name. Do not modify the last cell, and don't forget to run it.\n",
    "\n",
    "\n",
    "Thanks!\n",
    "</p>"
   ]
  },
  {
   "cell_type": "code",
   "execution_count": 1,
   "metadata": {
    "collapsed": false
   },
   "outputs": [
    {
     "name": "stdout",
     "output_type": "stream",
     "text": [
      "NetID\n"
     ]
    }
   ],
   "source": [
    "import time\n",
    "import numpy as np\n",
    "student_id = \"NetID\"\n",
    "print(student_id)\n",
    "assignment_name = 'TH_1_'+student_id\n",
    "time_stamp = np.zeros(10)\n",
    "time_stamp[0] = time.time()"
   ]
  },
  {
   "cell_type": "markdown",
   "metadata": {},
   "source": [
    "The following cell should always be the first coding cell of your python notebooks"
   ]
  },
  {
   "cell_type": "code",
   "execution_count": 2,
   "metadata": {
    "collapsed": true
   },
   "outputs": [],
   "source": [
    "\"\"\"\n",
    "importing the necessary libraries, do not modify\n",
    "\"\"\"\n",
    "%matplotlib inline \n",
    "# plots graphs within the notebook\n",
    "%config InlineBackend.figure_format='svg' # not sure what this does, may be default images to svg format\n",
    "\n",
    "from IPython.display import display,Image, Latex, Math\n",
    "from __future__ import division\n",
    "from sympy.interactive import printing\n",
    "printing.init_printing(use_latex='mathjax')\n",
    "\n",
    "\n",
    "from IPython.display import clear_output\n",
    "\n",
    "import SchemDraw as schem\n",
    "import SchemDraw.elements as e\n",
    "\n",
    "import matplotlib.pyplot as plt\n",
    "import numpy as np\n",
    "import math\n",
    "import scipy.constants as sc\n",
    "\n",
    "import sympy as sym\n",
    "\n",
    "from IPython.core.display import HTML\n",
    "def header(text):\n",
    "    raw_html = '<h4>' + str(text) + '</h4>'\n",
    "    return raw_html\n",
    "\n",
    "def box(text):\n",
    "    raw_html = '<div style=\"border:1px dotted black;padding:2em;\">'+str(text)+'</div>'\n",
    "    return HTML(raw_html)\n",
    "\n",
    "def nobox(text):\n",
    "    raw_html = '<p>'+str(text)+'</p>'\n",
    "    return HTML(raw_html)\n",
    "\n",
    "def addContent(raw_html):\n",
    "    global htmlContent\n",
    "    htmlContent += raw_html\n",
    "    \n",
    "class PDF(object):\n",
    "  def __init__(self, pdf, size=(200,200)):\n",
    "    self.pdf = pdf\n",
    "    self.size = size\n",
    "\n",
    "  def _repr_html_(self):\n",
    "    return '<iframe src={0} width={1[0]} height={1[1]}></iframe>'.format(self.pdf, self.size)\n",
    "\n",
    "  def _repr_latex_(self):\n",
    "    return r'\\includegraphics[width=1.0\\textwidth]{{{0}}}'.format(self.pdf)\n",
    "\n",
    "class ListTable(list):\n",
    "    \"\"\" Overridden list class which takes a 2-dimensional list of \n",
    "        the form [[1,2,3],[4,5,6]], and renders an HTML Table in \n",
    "        IPython Notebook. \"\"\"\n",
    "    \n",
    "    def _repr_html_(self):\n",
    "        html = [\"<table>\"]\n",
    "        for row in self:\n",
    "            html.append(\"<tr>\")\n",
    "            \n",
    "            for col in row:\n",
    "                html.append(\"<td>{0}</td>\".format(col))\n",
    "            \n",
    "            html.append(\"</tr>\")\n",
    "        html.append(\"</table>\")\n",
    "        return ''.join(html)\n",
    "    \n",
    "font = {'family' : 'serif',\n",
    "        'color'  : 'black',\n",
    "        'weight' : 'normal',\n",
    "        'size'   : 18,\n",
    "        }\n",
    "\n",
    "from scipy.constants.constants import C2K\n",
    "from scipy.constants.constants import K2C\n",
    "from scipy.constants.constants import F2K\n",
    "from scipy.constants.constants import K2F\n",
    "from scipy.constants.constants import C2F\n",
    "from scipy.constants.constants import F2C"
   ]
  },
  {
   "cell_type": "code",
   "execution_count": 3,
   "metadata": {
    "collapsed": false
   },
   "outputs": [
    {
     "data": {
      "text/html": [
       "<iframe src=figures/TH_1_Pb_1.pdf width=600 height=400></iframe>"
      ],
      "text/latex": [
       "\\includegraphics[width=1.0\\textwidth]{figures/TH_1_Pb_1.pdf}"
      ],
      "text/plain": [
       "<__main__.PDF at 0x10662b1d0>"
      ]
     },
     "execution_count": 3,
     "metadata": {},
     "output_type": "execute_result"
    }
   ],
   "source": [
    "PDF('figures/TH_1_Pb_1.pdf',size=(600,400))"
   ]
  },
  {
   "cell_type": "markdown",
   "metadata": {},
   "source": [
    "<h1>Problem 1 </h1>\n",
    "\n",
    "Consider a $5-\\text{m}$-high, $8-m$-long, and $0.22-\\text{m}$-thick wall whose representative cross section is as given in the figure. The thermal conductivity of various materials used are defined in the parameter cell. The left and right surfaces of the wall are maintained at uniform temperatures of $300^{\\circ}\\text{C}$ and $100^{\\circ}\\text{C}$, respectively.\n",
    "<ol>\n",
    "<li>Determine the heat rate through the wall.</li>\n",
    "<li>Determine the temperature distribution within the wall. </li>\n",
    "</ol>\n",
    "Write your assumptions, draw the thermal circuit. "
   ]
  },
  {
   "cell_type": "code",
   "execution_count": 4,
   "metadata": {
    "collapsed": false
   },
   "outputs": [],
   "source": [
    "time_stamp[1] = time.time()"
   ]
  },
  {
   "cell_type": "markdown",
   "metadata": {},
   "source": [
    "<h2>Parameters</h2>"
   ]
  },
  {
   "cell_type": "code",
   "execution_count": 5,
   "metadata": {
    "collapsed": true
   },
   "outputs": [],
   "source": [
    "from Libraries import HT_conduction_extended_surfaces as extsurf\n",
    "from Libraries import HT_thermal_resistance as res\n",
    "\n",
    "k_A = 2. #W/m.K\n",
    "k_B = 8. #W/m.K\n",
    "k_C = 20. #W/m.K\n",
    "k_D = 15. #W/m.K\n",
    "k_E = 35. #W/m.K\n",
    "k_F = k_A #W/m.K\n",
    "\n",
    "L_A = 0.01 #m\n",
    "L_B = 0.05 #m\n",
    "L_C = L_B\n",
    "L_D = 0.1 #m\n",
    "L_E = L_D\n",
    "L_F = 0.06 #m\n",
    "\n",
    "A_A = 12.*8. #m^2\n",
    "A_B = 4.*8.\n",
    "A_C = 4.*8.\n",
    "A_D = 6.*8.\n",
    "A_E = 6.*8.\n",
    "A_F = A_A\n",
    "T = np.zeros(5)\n",
    "T[0] = 300.\n",
    "T[4] = 100."
   ]
  },
  {
   "cell_type": "markdown",
   "metadata": {},
   "source": [
    "<h2>Question 1</h2>"
   ]
  },
  {
   "cell_type": "code",
   "execution_count": 6,
   "metadata": {
    "collapsed": false
   },
   "outputs": [
    {
     "data": {
      "image/svg+xml": [
       "<?xml version=\"1.0\" encoding=\"utf-8\" standalone=\"no\"?>\n",
       "<!DOCTYPE svg PUBLIC \"-//W3C//DTD SVG 1.1//EN\"\n",
       "  \"http://www.w3.org/Graphics/SVG/1.1/DTD/svg11.dtd\">\n",
       "<!-- Created with matplotlib (http://matplotlib.org/) -->\n",
       "<svg height=\"40pt\" version=\"1.1\" viewBox=\"0 0 45 40\" width=\"45pt\" xmlns=\"http://www.w3.org/2000/svg\" xmlns:xlink=\"http://www.w3.org/1999/xlink\">\n",
       " <defs>\n",
       "  <style type=\"text/css\">\n",
       "*{stroke-linecap:butt;stroke-linejoin:round;}\n",
       "  </style>\n",
       " </defs>\n",
       " <g id=\"figure_1\">\n",
       "  <g id=\"patch_1\">\n",
       "   <path d=\"\n",
       "M0 40.595\n",
       "L45.51 40.595\n",
       "L45.51 -7.10543e-15\n",
       "L0 -7.10543e-15\n",
       "L0 40.595\" style=\"fill:none;\"/>\n",
       "  </g>\n",
       "  <g id=\"axes_1\">\n",
       "   <g id=\"line2d_1\">\n",
       "    <path clip-path=\"url(#pb3680522f8)\" d=\"\n",
       "M22.755 28.04\" style=\"fill:none;stroke:#000000;stroke-linecap:round;stroke-width:1.5;\"/>\n",
       "   </g>\n",
       "   <g id=\"line2d_2\">\n",
       "    <path clip-path=\"url(#pb3680522f8)\" d=\"\n",
       "M22.755 28.04\" style=\"fill:none;stroke:#000000;stroke-linecap:round;stroke-width:1.5;\"/>\n",
       "   </g>\n",
       "   <g id=\"patch_2\">\n",
       "    <path clip-path=\"url(#pb3680522f8)\" d=\"\n",
       "M22.755 30.335\n",
       "C23.3994 30.335 24.0176 30.0932 24.4733 29.6628\n",
       "C24.929 29.2324 25.185 28.6486 25.185 28.04\n",
       "C25.185 27.4314 24.929 26.8476 24.4733 26.4172\n",
       "C24.0176 25.9868 23.3994 25.745 22.755 25.745\n",
       "C22.1106 25.745 21.4924 25.9868 21.0367 26.4172\n",
       "C20.581 26.8476 20.325 27.4314 20.325 28.04\n",
       "C20.325 28.6486 20.581 29.2324 21.0367 29.6628\n",
       "C21.4924 30.0932 22.1106 30.335 22.755 30.335\n",
       "z\n",
       "\" style=\"stroke:#000000;stroke-linejoin:miter;stroke-width:1.5;\"/>\n",
       "   </g>\n",
       "   <g id=\"patch_3\">\n",
       "    <path clip-path=\"url(#pb3680522f8)\" d=\"\n",
       "M22.755 30.335\n",
       "C23.3994 30.335 24.0176 30.0932 24.4733 29.6628\n",
       "C24.929 29.2324 25.185 28.6486 25.185 28.04\n",
       "C25.185 27.4314 24.929 26.8476 24.4733 26.4172\n",
       "C24.0176 25.9868 23.3994 25.745 22.755 25.745\n",
       "C22.1106 25.745 21.4924 25.9868 21.0367 26.4172\n",
       "C20.581 26.8476 20.325 27.4314 20.325 28.04\n",
       "C20.325 28.6486 20.581 29.2324 21.0367 29.6628\n",
       "C21.4924 30.0932 22.1106 30.335 22.755 30.335\n",
       "z\n",
       "\" style=\"stroke:#000000;stroke-linejoin:miter;stroke-width:1.5;\"/>\n",
       "   </g>\n",
       "   <g id=\"text_1\">\n",
       "    <!-- T[0] -->\n",
       "    <defs>\n",
       "     <path d=\"\n",
       "M30.4219 75.9844\n",
       "L30.4219 -13.1875\n",
       "L9.71875 -13.1875\n",
       "L9.71875 -6.20312\n",
       "L21.3906 -6.20312\n",
       "L21.3906 69\n",
       "L9.71875 69\n",
       "L9.71875 75.9844\n",
       "z\n",
       "\" id=\"BitstreamVeraSans-Roman-5d\"/>\n",
       "     <path d=\"\n",
       "M8.59375 75.9844\n",
       "L29.2969 75.9844\n",
       "L29.2969 69\n",
       "L17.5781 69\n",
       "L17.5781 -6.20312\n",
       "L29.2969 -6.20312\n",
       "L29.2969 -13.1875\n",
       "L8.59375 -13.1875\n",
       "z\n",
       "\" id=\"BitstreamVeraSans-Roman-5b\"/>\n",
       "     <path d=\"\n",
       "M-0.296875 72.9062\n",
       "L61.375 72.9062\n",
       "L61.375 64.5938\n",
       "L35.5 64.5938\n",
       "L35.5 0\n",
       "L25.5938 0\n",
       "L25.5938 64.5938\n",
       "L-0.296875 64.5938\n",
       "z\n",
       "\" id=\"BitstreamVeraSans-Roman-54\"/>\n",
       "     <path d=\"\n",
       "M31.7812 66.4062\n",
       "Q24.1719 66.4062 20.3281 58.9062\n",
       "Q16.5 51.4219 16.5 36.375\n",
       "Q16.5 21.3906 20.3281 13.8906\n",
       "Q24.1719 6.39062 31.7812 6.39062\n",
       "Q39.4531 6.39062 43.2812 13.8906\n",
       "Q47.125 21.3906 47.125 36.375\n",
       "Q47.125 51.4219 43.2812 58.9062\n",
       "Q39.4531 66.4062 31.7812 66.4062\n",
       "M31.7812 74.2188\n",
       "Q44.0469 74.2188 50.5156 64.5156\n",
       "Q56.9844 54.8281 56.9844 36.375\n",
       "Q56.9844 17.9688 50.5156 8.26562\n",
       "Q44.0469 -1.42188 31.7812 -1.42188\n",
       "Q19.5312 -1.42188 13.0625 8.26562\n",
       "Q6.59375 17.9688 6.59375 36.375\n",
       "Q6.59375 54.8281 13.0625 64.5156\n",
       "Q19.5312 74.2188 31.7812 74.2188\" id=\"BitstreamVeraSans-Roman-30\"/>\n",
       "    </defs>\n",
       "    <g transform=\"translate(7.2 19.3575)scale(0.16 -0.16)\">\n",
       "     <use xlink:href=\"#BitstreamVeraSans-Roman-54\"/>\n",
       "     <use x=\"61.083984375\" xlink:href=\"#BitstreamVeraSans-Roman-5b\"/>\n",
       "     <use x=\"100.09765625\" xlink:href=\"#BitstreamVeraSans-Roman-30\"/>\n",
       "     <use x=\"163.720703125\" xlink:href=\"#BitstreamVeraSans-Roman-5d\"/>\n",
       "    </g>\n",
       "   </g>\n",
       "   <g id=\"text_2\">\n",
       "    <!-- T[1] -->\n",
       "    <defs>\n",
       "     <path d=\"\n",
       "M12.4062 8.29688\n",
       "L28.5156 8.29688\n",
       "L28.5156 63.9219\n",
       "L10.9844 60.4062\n",
       "L10.9844 69.3906\n",
       "L28.4219 72.9062\n",
       "L38.2812 72.9062\n",
       "L38.2812 8.29688\n",
       "L54.3906 8.29688\n",
       "L54.3906 0\n",
       "L12.4062 0\n",
       "z\n",
       "\" id=\"BitstreamVeraSans-Roman-31\"/>\n",
       "    </defs>\n",
       "    <g transform=\"translate(7.2 19.3575)scale(0.16 -0.16)\">\n",
       "     <use xlink:href=\"#BitstreamVeraSans-Roman-54\"/>\n",
       "     <use x=\"61.083984375\" xlink:href=\"#BitstreamVeraSans-Roman-5b\"/>\n",
       "     <use x=\"100.09765625\" xlink:href=\"#BitstreamVeraSans-Roman-31\"/>\n",
       "     <use x=\"163.720703125\" xlink:href=\"#BitstreamVeraSans-Roman-5d\"/>\n",
       "    </g>\n",
       "   </g>\n",
       "  </g>\n",
       " </g>\n",
       " <defs>\n",
       "  <clipPath id=\"pb3680522f8\">\n",
       "   <rect height=\"10.71\" width=\"11.34\" x=\"17.085\" y=\"22.685\"/>\n",
       "  </clipPath>\n",
       " </defs>\n",
       "</svg>\n"
      ],
      "text/plain": [
       "<matplotlib.figure.Figure at 0x104f0eb10>"
      ]
     },
     "metadata": {},
     "output_type": "display_data"
    }
   ],
   "source": [
    "Rth = []\n",
    "\n",
    "d = schem.Drawing()\n",
    "d.add(e.DOT, label=\"T[0]\")\n",
    "\n",
    "d.add(e.DOT, label=\"T[1]\")\n",
    "d.draw()"
   ]
  },
  {
   "cell_type": "code",
   "execution_count": 9,
   "metadata": {
    "collapsed": false
   },
   "outputs": [
    {
     "name": "stdout",
     "output_type": "stream",
     "text": [
      "Heat rate :    0.0 W\n"
     ]
    }
   ],
   "source": [
    "#Rth[0].conduction('plane',k_A,L_A,0.,A_A,\"k_A\",\"L_A\",\"none\",\"A_A\",\"T_{0}\",\"T_{1}\")\n",
    "q = 0.0\n",
    "\n",
    "\n",
    "print(\"Heat rate : %6.1f W\" %q)\n"
   ]
  },
  {
   "cell_type": "markdown",
   "metadata": {},
   "source": [
    "<h2>Question 2</h2>"
   ]
  },
  {
   "cell_type": "code",
   "execution_count": 10,
   "metadata": {
    "collapsed": false
   },
   "outputs": [
    {
     "name": "stdout",
     "output_type": "stream",
     "text": [
      "Temperature 0: 300.0\n",
      "Temperature 1: 0.0\n",
      "Temperature 2: 0.0\n",
      "Temperature 3: 0.0\n",
      "Temperature 4: 100.0\n",
      "Time spent on Pb1     27 s\n"
     ]
    }
   ],
   "source": [
    "\n",
    "\n",
    "for i in range(5):\n",
    "    print(\"Temperature %1i: %3.1f\" %(i,T[i]))\n",
    "time_stamp[2] = time.time()\n",
    "print(\"Time spent on Pb1 %6.0f s\" %(time_stamp[2]-time_stamp[1]))"
   ]
  },
  {
   "cell_type": "code",
   "execution_count": 11,
   "metadata": {
    "collapsed": false
   },
   "outputs": [
    {
     "data": {
      "text/html": [
       "<iframe src=figures/TH_1_Pb_2.pdf width=600 height=400></iframe>"
      ],
      "text/latex": [
       "\\includegraphics[width=1.0\\textwidth]{figures/TH_1_Pb_2.pdf}"
      ],
      "text/plain": [
       "<__main__.PDF at 0x1091ac3d0>"
      ]
     },
     "execution_count": 11,
     "metadata": {},
     "output_type": "execute_result"
    }
   ],
   "source": [
    "PDF('figures/TH_1_Pb_2.pdf',size=(600,400))"
   ]
  },
  {
   "cell_type": "markdown",
   "metadata": {},
   "source": [
    "<h1>Problem 2</h1>\n",
    "\n",
    "In an experiment to measure convection heat transfer coefficients, a very thin metal foil of very low emissivity(e.g., highly polished copper) is attached on the surface of a slab with very low thermal conductivity. The other surface of the metal foil is exposed to convection heat transfer by flowing fluid over the foil surface. This setup diminishes heat conduction through the slab and radiation on the metal foil surface, while convection plays the prominent role. The slab on which the foil is attached to has a thickness of $25\\text{mm}$ and a thermal conductivity of $0.025\\text{W/m.K}$. In a condition where the surrounding room temperature is $20^{\\circ}\\text{C}$, the metal foil is heated electrically with a uniform heat flux of $5,000\\text{W/m^2}$. If the bottom surface of the slab is $20^{\\circ}\\text{C}$ and the metal foil has an emissivity of 0.02, determine:\n",
    "<ol>\n",
    "<li> The convection heat transfer coefficient if air is flowing over the metal foil and the surface temperature of the foil is $150^{\\circ}\\text{C}$</li>\n",
    "<li> The convection heat transfer coefficient if water is flowing over the metal foil and the surface temperature of the foil is $30^{\\circ}\\text{C}$</li>\n",
    "</ol>\n",
    "Write your assumptions, draw the thermal circuit and write the conservation of energy. Compare the convection and radiation coefficients. Using <FONT FACE=\"courier\" style=\"color:blue\">Rth[2].radiation(em,T_1,T_sur,1,\"h_r\",\"none\",\"T_1\",\"T_{sur}\")</FONT> calculates the radiation coefficient in <FONT FACE=\"courier\" style=\"color:blue\">Rth[2].h<FONT>"
   ]
  },
  {
   "cell_type": "markdown",
   "metadata": {},
   "source": [
    "<h2>Question 1</h2>"
   ]
  },
  {
   "cell_type": "markdown",
   "metadata": {},
   "source": [
    "<h2>Parameters</h2>"
   ]
  },
  {
   "cell_type": "code",
   "execution_count": 12,
   "metadata": {
    "collapsed": false
   },
   "outputs": [],
   "source": [
    "time_stamp[3] = time.time()"
   ]
  },
  {
   "cell_type": "code",
   "execution_count": 13,
   "metadata": {
    "collapsed": true
   },
   "outputs": [],
   "source": [
    "from Libraries import HT_conduction_extended_surfaces as extsurf\n",
    "from Libraries import HT_thermal_resistance as res\n",
    "\n",
    "k_A = 2. #W/m.K\n",
    "k_B = 8. #W/m.K\n",
    "k_C = 20. #W/m.K\n",
    "k_D = 15. #W/m.K\n",
    "k_E = 35. #W/m.K\n",
    "k_F = k_A #W/m.K\n",
    "\n",
    "L_A = 0.01 #m\n",
    "L_B = 0.05 #m\n",
    "L_C = L_B\n",
    "L_D = 0.1 #m\n",
    "L_E = L_D\n",
    "L_F = 0.06 #m\n",
    "\n",
    "A_A = 12.*8. #m^2\n",
    "A_B = 4.*8.\n",
    "A_C = 4.*8.\n",
    "A_D = 6.*8.\n",
    "A_E = 6.*8.\n",
    "A_F = A_A\n",
    "T = np.zeros(5)\n",
    "T[0] = 300.\n",
    "T[4] = 100."
   ]
  },
  {
   "cell_type": "code",
   "execution_count": 14,
   "metadata": {
    "collapsed": false
   },
   "outputs": [
    {
     "data": {
      "image/svg+xml": [
       "<?xml version=\"1.0\" encoding=\"utf-8\" standalone=\"no\"?>\n",
       "<!DOCTYPE svg PUBLIC \"-//W3C//DTD SVG 1.1//EN\"\n",
       "  \"http://www.w3.org/Graphics/SVG/1.1/DTD/svg11.dtd\">\n",
       "<!-- Created with matplotlib (http://matplotlib.org/) -->\n",
       "<svg height=\"43pt\" version=\"1.1\" viewBox=\"0 0 96 43\" width=\"96pt\" xmlns=\"http://www.w3.org/2000/svg\" xmlns:xlink=\"http://www.w3.org/1999/xlink\">\n",
       " <defs>\n",
       "  <style type=\"text/css\">\n",
       "*{stroke-linecap:butt;stroke-linejoin:round;}\n",
       "  </style>\n",
       " </defs>\n",
       " <g id=\"figure_1\">\n",
       "  <g id=\"patch_1\">\n",
       "   <path d=\"\n",
       "M-7.10543e-15 43.03\n",
       "L96.16 43.03\n",
       "L96.16 0\n",
       "L-7.10543e-15 0\n",
       "L-7.10543e-15 43.03\" style=\"fill:none;\"/>\n",
       "  </g>\n",
       "  <g id=\"axes_1\">\n",
       "   <g id=\"line2d_1\">\n",
       "    <path clip-path=\"url(#pf665fbcc19)\" d=\"\n",
       "M48.08 12.555\" style=\"fill:none;stroke:#000000;stroke-linecap:round;stroke-width:1.5;\"/>\n",
       "   </g>\n",
       "   <g id=\"line2d_2\">\n",
       "    <path clip-path=\"url(#pf665fbcc19)\" d=\"\n",
       "M48.08 12.555\" style=\"fill:none;stroke:#000000;stroke-linecap:round;stroke-width:1.5;\"/>\n",
       "   </g>\n",
       "   <g id=\"patch_2\">\n",
       "    <path clip-path=\"url(#pf665fbcc19)\" d=\"\n",
       "M48.08 14.85\n",
       "C48.7244 14.85 49.3426 14.6082 49.7983 14.1778\n",
       "C50.254 13.7474 50.51 13.1636 50.51 12.555\n",
       "C50.51 11.9464 50.254 11.3626 49.7983 10.9322\n",
       "C49.3426 10.5018 48.7244 10.26 48.08 10.26\n",
       "C47.4356 10.26 46.8174 10.5018 46.3617 10.9322\n",
       "C45.906 11.3626 45.65 11.9464 45.65 12.555\n",
       "C45.65 13.1636 45.906 13.7474 46.3617 14.1778\n",
       "C46.8174 14.6082 47.4356 14.85 48.08 14.85\n",
       "z\n",
       "\" style=\"stroke:#000000;stroke-linejoin:miter;stroke-width:1.5;\"/>\n",
       "   </g>\n",
       "   <g id=\"patch_3\">\n",
       "    <path clip-path=\"url(#pf665fbcc19)\" d=\"\n",
       "M48.08 14.85\n",
       "C48.7244 14.85 49.3426 14.6082 49.7983 14.1778\n",
       "C50.254 13.7474 50.51 13.1636 50.51 12.555\n",
       "C50.51 11.9464 50.254 11.3626 49.7983 10.9322\n",
       "C49.3426 10.5018 48.7244 10.26 48.08 10.26\n",
       "C47.4356 10.26 46.8174 10.5018 46.3617 10.9322\n",
       "C45.906 11.3626 45.65 11.9464 45.65 12.555\n",
       "C45.65 13.1636 45.906 13.7474 46.3617 14.1778\n",
       "C46.8174 14.6082 47.4356 14.85 48.08 14.85\n",
       "z\n",
       "\" style=\"stroke:#000000;stroke-linejoin:miter;stroke-width:1.5;\"/>\n",
       "   </g>\n",
       "   <g id=\"text_1\">\n",
       "    <!-- $T_2=20^\\circ{C}$ -->\n",
       "    <defs>\n",
       "     <path d=\"\n",
       "M19.1875 8.29688\n",
       "L53.6094 8.29688\n",
       "L53.6094 0\n",
       "L7.32812 0\n",
       "L7.32812 8.29688\n",
       "Q12.9375 14.1094 22.625 23.8906\n",
       "Q32.3281 33.6875 34.8125 36.5312\n",
       "Q39.5469 41.8438 41.4219 45.5312\n",
       "Q43.3125 49.2188 43.3125 52.7812\n",
       "Q43.3125 58.5938 39.2344 62.25\n",
       "Q35.1562 65.9219 28.6094 65.9219\n",
       "Q23.9688 65.9219 18.8125 64.3125\n",
       "Q13.6719 62.7031 7.8125 59.4219\n",
       "L7.8125 69.3906\n",
       "Q13.7656 71.7812 18.9375 73\n",
       "Q24.125 74.2188 28.4219 74.2188\n",
       "Q39.75 74.2188 46.4844 68.5469\n",
       "Q53.2188 62.8906 53.2188 53.4219\n",
       "Q53.2188 48.9219 51.5312 44.8906\n",
       "Q49.8594 40.875 45.4062 35.4062\n",
       "Q44.1875 33.9844 37.6406 27.2188\n",
       "Q31.1094 20.4531 19.1875 8.29688\" id=\"BitstreamVeraSans-Roman-32\"/>\n",
       "     <path d=\"\n",
       "M31.7812 66.4062\n",
       "Q24.1719 66.4062 20.3281 58.9062\n",
       "Q16.5 51.4219 16.5 36.375\n",
       "Q16.5 21.3906 20.3281 13.8906\n",
       "Q24.1719 6.39062 31.7812 6.39062\n",
       "Q39.4531 6.39062 43.2812 13.8906\n",
       "Q47.125 21.3906 47.125 36.375\n",
       "Q47.125 51.4219 43.2812 58.9062\n",
       "Q39.4531 66.4062 31.7812 66.4062\n",
       "M31.7812 74.2188\n",
       "Q44.0469 74.2188 50.5156 64.5156\n",
       "Q56.9844 54.8281 56.9844 36.375\n",
       "Q56.9844 17.9688 50.5156 8.26562\n",
       "Q44.0469 -1.42188 31.7812 -1.42188\n",
       "Q19.5312 -1.42188 13.0625 8.26562\n",
       "Q6.59375 17.9688 6.59375 36.375\n",
       "Q6.59375 54.8281 13.0625 64.5156\n",
       "Q19.5312 74.2188 31.7812 74.2188\" id=\"BitstreamVeraSans-Roman-30\"/>\n",
       "     <path d=\"\n",
       "M23.2031 38.7031\n",
       "Q31 30.7969 31 25.1875\n",
       "Q31 19.5938 27.0469 15.6406\n",
       "Q23.0938 11.7031 17.5 11.7031\n",
       "Q11.7969 11.7031 7.89062 15.6406\n",
       "Q4 19.5938 4 25.4062\n",
       "Q4 31 7.95312 34.8438\n",
       "Q11.9062 38.7031 17.7031 38.7031\n",
       "Q23.2031 38.7031 31 30.7969\n",
       "M20.4062 18.2969\n",
       "Q24.4062 22.2969 24.4062 25.1875\n",
       "Q24.4062 28.0938 22.4062 30.0938\n",
       "Q20.4062 32.0938 17.7031 32.0938\n",
       "Q14.5938 32.0938 12.5938 30.1406\n",
       "Q10.5938 28.2031 10.5938 25.4062\n",
       "Q10.5938 22.2969 12.5469 20.2969\n",
       "Q14.5 18.2969 17.5 18.2969\n",
       "Q20.4062 18.2969 24.4062 22.2969\" id=\"STIXGeneral-Regular-2218\"/>\n",
       "     <path d=\"\n",
       "M64.4062 67.2812\n",
       "L64.4062 56.8906\n",
       "Q59.4219 61.5312 53.7812 63.8125\n",
       "Q48.1406 66.1094 41.7969 66.1094\n",
       "Q29.2969 66.1094 22.6562 58.4688\n",
       "Q16.0156 50.8281 16.0156 36.375\n",
       "Q16.0156 21.9688 22.6562 14.3281\n",
       "Q29.2969 6.6875 41.7969 6.6875\n",
       "Q48.1406 6.6875 53.7812 8.98438\n",
       "Q59.4219 11.2812 64.4062 15.9219\n",
       "L64.4062 5.60938\n",
       "Q59.2344 2.09375 53.4375 0.328125\n",
       "Q47.6562 -1.42188 41.2188 -1.42188\n",
       "Q24.6562 -1.42188 15.125 8.70312\n",
       "Q5.60938 18.8438 5.60938 36.375\n",
       "Q5.60938 53.9531 15.125 64.0781\n",
       "Q24.6562 74.2188 41.2188 74.2188\n",
       "Q47.75 74.2188 53.5312 72.4844\n",
       "Q59.3281 70.75 64.4062 67.2812\" id=\"BitstreamVeraSans-Roman-43\"/>\n",
       "     <path d=\"\n",
       "M10.5938 45.4062\n",
       "L73.1875 45.4062\n",
       "L73.1875 37.2031\n",
       "L10.5938 37.2031\n",
       "z\n",
       "\n",
       "M10.5938 25.4844\n",
       "L73.1875 25.4844\n",
       "L73.1875 17.1875\n",
       "L10.5938 17.1875\n",
       "z\n",
       "\" id=\"BitstreamVeraSans-Roman-3d\"/>\n",
       "     <path d=\"\n",
       "M-0.296875 72.9062\n",
       "L61.375 72.9062\n",
       "L61.375 64.5938\n",
       "L35.5 64.5938\n",
       "L35.5 0\n",
       "L25.5938 0\n",
       "L25.5938 64.5938\n",
       "L-0.296875 64.5938\n",
       "z\n",
       "\" id=\"BitstreamVeraSans-Roman-54\"/>\n",
       "    </defs>\n",
       "    <g transform=\"translate(8.8 30.71)scale(0.16 -0.16)\">\n",
       "     <use transform=\"translate(0.0 0.4078125)\" xlink:href=\"#BitstreamVeraSans-Roman-54\"/>\n",
       "     <use transform=\"translate(61.083984375 -31.0921875)scale(0.7)\" xlink:href=\"#BitstreamVeraSans-Roman-32\"/>\n",
       "     <use transform=\"translate(144.189453125 0.4078125)\" xlink:href=\"#BitstreamVeraSans-Roman-3d\"/>\n",
       "     <use transform=\"translate(226.265625 0.4078125)\" xlink:href=\"#BitstreamVeraSans-Roman-32\"/>\n",
       "     <use transform=\"translate(289.888671875 0.4078125)\" xlink:href=\"#BitstreamVeraSans-Roman-30\"/>\n",
       "     <use transform=\"translate(367.149414062 52.9078125)scale(0.7)\" xlink:href=\"#STIXGeneral-Regular-2218\"/>\n",
       "     <use transform=\"translate(420.687109375 0.4078125)\" xlink:href=\"#BitstreamVeraSans-Roman-43\"/>\n",
       "    </g>\n",
       "   </g>\n",
       "   <g id=\"text_2\">\n",
       "    <!-- $T_\\infty=20^\\circ{C}$ -->\n",
       "    <defs>\n",
       "     <path d=\"\n",
       "M44.6719 27.2969\n",
       "Q47.0781 23 50.3438 20.7969\n",
       "Q53.6094 18.6094 57.7188 18.6094\n",
       "Q62.6406 18.6094 65.7656 21.9062\n",
       "Q68.8906 25.2031 68.8906 30.3281\n",
       "Q68.8906 35.25 66.0156 38.5156\n",
       "Q63.1406 41.7969 58.7969 41.7969\n",
       "Q54.7812 41.7969 51.5312 38.5\n",
       "Q48.2969 35.2031 44.6719 27.2969\n",
       "M38.7188 32.5156\n",
       "Q36.3281 36.8125 33.0781 38.9531\n",
       "Q29.8281 41.1094 25.6875 41.1094\n",
       "Q20.7031 41.1094 17.5938 37.8906\n",
       "Q14.5 34.6719 14.5 29.5\n",
       "Q14.5 24.5625 17.375 21.2812\n",
       "Q20.2656 18.0156 24.6094 18.0156\n",
       "Q28.6094 18.0156 31.875 21.3281\n",
       "Q35.1562 24.6562 38.7188 32.5156\n",
       "M42.1875 23.5781\n",
       "Q38.7656 17 34.9375 13.8906\n",
       "Q31.1094 10.7969 26.5156 10.7969\n",
       "Q19.875 10.7969 15.3281 16.2344\n",
       "Q10.7969 21.6875 10.7969 29.7812\n",
       "Q10.7969 38.3281 14.875 43.5938\n",
       "Q18.9531 48.875 25.4844 48.875\n",
       "Q30.125 48.875 33.8594 45.7969\n",
       "Q37.5938 42.7188 41.1094 35.9844\n",
       "Q44.4375 42.7188 48.2969 45.9219\n",
       "Q52.1562 49.125 56.8906 49.125\n",
       "Q63.4219 49.125 68.0156 43.625\n",
       "Q72.6094 38.1406 72.6094 29.9844\n",
       "Q72.6094 21.4375 68.5312 16.2031\n",
       "Q64.4531 10.9844 57.9062 10.9844\n",
       "Q53.3281 10.9844 49.6875 13.8906\n",
       "Q46.0469 16.7969 42.1875 23.5781\" id=\"BitstreamVeraSans-Roman-221e\"/>\n",
       "    </defs>\n",
       "    <g transform=\"translate(7.2 30.71)scale(0.16 -0.16)\">\n",
       "     <use transform=\"translate(0.0 0.4078125)\" xlink:href=\"#BitstreamVeraSans-Roman-54\"/>\n",
       "     <use transform=\"translate(61.083984375 -31.0921875)scale(0.7)\" xlink:href=\"#BitstreamVeraSans-Roman-221e\"/>\n",
       "     <use transform=\"translate(163.8671875 0.4078125)\" xlink:href=\"#BitstreamVeraSans-Roman-3d\"/>\n",
       "     <use transform=\"translate(245.943359375 0.4078125)\" xlink:href=\"#BitstreamVeraSans-Roman-32\"/>\n",
       "     <use transform=\"translate(309.56640625 0.4078125)\" xlink:href=\"#BitstreamVeraSans-Roman-30\"/>\n",
       "     <use transform=\"translate(386.827148438 52.9078125)scale(0.7)\" xlink:href=\"#STIXGeneral-Regular-2218\"/>\n",
       "     <use transform=\"translate(440.36484375 0.4078125)\" xlink:href=\"#BitstreamVeraSans-Roman-43\"/>\n",
       "    </g>\n",
       "   </g>\n",
       "  </g>\n",
       " </g>\n",
       " <defs>\n",
       "  <clipPath id=\"pf665fbcc19\">\n",
       "   <rect height=\"10.71\" width=\"11.34\" x=\"42.41\" y=\"7.2\"/>\n",
       "  </clipPath>\n",
       " </defs>\n",
       "</svg>\n"
      ],
      "text/plain": [
       "<matplotlib.figure.Figure at 0x109168fd0>"
      ]
     },
     "metadata": {},
     "output_type": "display_data"
    }
   ],
   "source": [
    "from Libraries import HT_conduction_extended_surfaces as extsurf\n",
    "from Libraries import HT_thermal_resistance as res\n",
    "\n",
    "L = 0.025 #m\n",
    "k = 0.025 #W/m.K\n",
    "em = 0.02\n",
    "#T_inf = \n",
    "#T_sur = \n",
    "#T_2 = \n",
    "#T_1 = \n",
    "q_elec = 5000. #W/m^2\n",
    "\n",
    "Rair = []\n",
    "Rair.append(res.Resistance(\"$$\",\"\"))\n",
    "\n",
    "d = schem.Drawing()\n",
    "d.add( e.DOT, botlabel = \"$T_2=20^\\circ{C}$\")\n",
    "\n",
    "d.add( e.DOT, botlabel = \"$T_\\infty=20^\\circ{C}$\")\n",
    "\n",
    "d.draw()"
   ]
  },
  {
   "cell_type": "markdown",
   "metadata": {},
   "source": [
    "Conservation of mass dictates that\n",
    "$$\n",
    "your equation here\n",
    "$$\n",
    "Therefore the convection coefficient can be defined as:\n",
    "$$\n",
    "h = \n",
    "$$"
   ]
  },
  {
   "cell_type": "code",
   "execution_count": 18,
   "metadata": {
    "collapsed": false
   },
   "outputs": [
    {
     "name": "stdout",
     "output_type": "stream",
     "text": [
      "Convection coefficient  0.0 W/m^2.K, Radiation coefficient 0.0000 W/m^2.K\n"
     ]
    }
   ],
   "source": [
    "h = 0.\n",
    "hr = 0.\n",
    "#hr = Rair[2].h\n",
    "print(\"Convection coefficient %4.1f W/m^2.K, Radiation coefficient %1.4f W/m^2.K\" %(h, hr))"
   ]
  },
  {
   "cell_type": "markdown",
   "metadata": {},
   "source": [
    "<h2>Question 2</h2>"
   ]
  },
  {
   "cell_type": "code",
   "execution_count": 19,
   "metadata": {
    "collapsed": false
   },
   "outputs": [],
   "source": [
    "from Libraries import HT_conduction_extended_surfaces as extsurf\n",
    "from Libraries import HT_thermal_resistance as res\n",
    "\n",
    "\n",
    "#T_1 =  #K\n",
    "\n",
    "\n",
    "Rwater = []\n",
    "Rwater.append(res.Resistance(\"$$\", \"\"))\n",
    "\n"
   ]
  },
  {
   "cell_type": "code",
   "execution_count": 54,
   "metadata": {
    "collapsed": false
   },
   "outputs": [
    {
     "name": "stdout",
     "output_type": "stream",
     "text": [
      "Convection coefficient 37.2 W/m^2.K, Radiation coefficient 0.2153 W/m^2.K\n"
     ]
    }
   ],
   "source": [
    "h= 0.\n",
    "hr = 0.\n",
    "hr = Rwater[2].h\n",
    "print(\"Convection coefficient %4.1f W/m^2.K, Radiation coefficient %1.4f W/m^2.K\" %(h, Rwater[2].h))"
   ]
  },
  {
   "cell_type": "code",
   "execution_count": 76,
   "metadata": {
    "collapsed": false
   },
   "outputs": [
    {
     "name": "stdout",
     "output_type": "stream",
     "text": [
      "Time spent on Pb2   4299 s\n"
     ]
    }
   ],
   "source": [
    "time_stamp[4] = time.time()\n",
    "print(\"Time spent on Pb2 %6.0f s\" %(time_stamp[4]-time_stamp[3]))"
   ]
  },
  {
   "cell_type": "code",
   "execution_count": 20,
   "metadata": {
    "collapsed": false
   },
   "outputs": [
    {
     "name": "stdout",
     "output_type": "stream",
     "text": [
      "[NbConvertApp] Converting notebook ME144-TH_1.ipynb to html\n",
      "[NbConvertApp] Writing 246269 bytes to TH_1_NetID.html\n"
     ]
    }
   ],
   "source": [
    "!ipython nbconvert --to html ME144-TH_1.ipynb --template full --output $assignment_name"
   ]
  },
  {
   "cell_type": "code",
   "execution_count": null,
   "metadata": {
    "collapsed": true
   },
   "outputs": [],
   "source": []
  }
 ],
 "metadata": {
  "kernelspec": {
   "display_name": "Python 2",
   "language": "python",
   "name": "python2"
  },
  "language_info": {
   "codemirror_mode": {
    "name": "ipython",
    "version": 2
   },
   "file_extension": ".py",
   "mimetype": "text/x-python",
   "name": "python",
   "nbconvert_exporter": "python",
   "pygments_lexer": "ipython2",
   "version": "2.7.11"
  }
 },
 "nbformat": 4,
 "nbformat_minor": 0
}
