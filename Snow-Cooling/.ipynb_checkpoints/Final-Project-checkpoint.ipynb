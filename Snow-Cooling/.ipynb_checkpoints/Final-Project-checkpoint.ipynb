{
 "cells": [
  {
   "cell_type": "markdown",
   "metadata": {},
   "source": [
    "# ME144 Final Project\n",
    "Eric Kuhn, Machlan Pettersen, Luke Marcoon\n",
    "\n",
    "## Objective\n",
    "\n",
    "Develop a forecast model to determine the snow pile volume necessary to cool a building in a specific location from April 1 to October 1\n",
    "\n",
    "## Assumptions\n",
    "\n",
    "* The calculation of irradiation is not corrected for the variation of position of the sun relative to the specific location (Discuss)\n",
    "* All heat transfer calculations are 1D. (Discuss)\n",
    "* Conduction heat transfer is assumed to be quasi-steady (Discuss)\n",
    "* For convection over a flat plate, the regime is determined by the Richardson number:\n",
    "$$\n",
    "Ri = \\frac{Gr}{Re^2}\n",
    "$$\n",
    "    * If the wind speed is lower than $0.15 \\mathrm{m}/\\mathrm{s}$, forced convection is negligible\n",
    "    * If $Ri < 0.1$, natural convection is negligible\n",
    "    * If $0.1 \\leq Ri\\leq10$, the regime is mixed convection (the total convection coefficient is the sum of the forced and natural convection coefficients.\n",
    "    * If $Ri > 10$, forced convection is negligible\n",
    "* To simplify forced convection your building roof top should be cubic. (Discuss\n",
    "* To reduce computing time, multiply the heat rate on the roof by 4 (one less face to assume one is always in shaded)\n",
    "* Assume that the snow pile top has negligible curvature (i.e. it is assumed to be flat).\n",
    "* Assume saturated soil. If sandy, $k_{soil}=2\\mathrm{W}/\\mathrm{m.K}$, if peat $k_{soil}=0.5\\mathrm{W}/\\mathrm{m.K}$\n",
    "* The sensible heat rate by rain is \n",
    "$$\n",
    "q''_{rain}=\\rho_wC_{p,w}p(T_{wb}-T_s)\n",
    "$$\n",
    "where $\\rho_w=1000\\mathrm{kg/m}^3$, $C_{p,w}=4.19\\mathrm{kJ}/\\mathrm{kg.K}$, $p$ is the precipitation rate ($\\mathrm{m/s}$) and $T_{wb}$ is the wet bulb temperature given here https://journals.ametsoc.org/view/journals/apme/50/11/jamc-d-11-0143.1.xml\n",
    "\n",
    "## Deliverables\n",
    "\n",
    "* Discuss the validity of simplifying assumptions\n",
    "* Sketch your problems, thermal circuits when appropriate, and write your equations.\n",
    "* As much as possible, use individual functions for your calculations\n"
   ]
  },
  {
   "cell_type": "code",
   "execution_count": 1,
   "metadata": {},
   "outputs": [],
   "source": [
    "import sys  \n",
    "sys.path.insert(0, '../Libraries/') \n",
    "import matplotlib.pyplot as plt\n",
    "import numpy as np\n",
    "import pandas as pd"
   ]
  },
  {
   "cell_type": "code",
   "execution_count": null,
   "metadata": {},
   "outputs": [],
   "source": [
    "xl = pd.ExcelFile('Climate/April-October-2020.xlsx')"
   ]
  },
  {
   "cell_type": "markdown",
   "metadata": {},
   "source": [
    "## Available locations"
   ]
  },
  {
   "cell_type": "code",
   "execution_count": null,
   "metadata": {},
   "outputs": [],
   "source": [
    "xl.sheet_names "
   ]
  },
  {
   "cell_type": "markdown",
   "metadata": {},
   "source": [
    "## Lake Placid, NY study"
   ]
  },
  {
   "cell_type": "code",
   "execution_count": null,
   "metadata": {},
   "outputs": [],
   "source": [
    "loc = 'Lake Placid, NY'\n",
    "weather = pd.read_excel(\"Climate/April-October-2020.xlsx\",\n",
    "                        sheet_name=loc,header=0,\n",
    "                        converters= {'Date time': pd.to_datetime},)\n",
    "weather = weather.set_index('Date time')\n",
    "weather['Name'].head(1)"
   ]
  },
  {
   "cell_type": "markdown",
   "metadata": {},
   "source": [
    "### Clean possible NaNs"
   ]
  },
  {
   "cell_type": "code",
   "execution_count": null,
   "metadata": {},
   "outputs": [],
   "source": [
    "weather['Solar Radiation'] = weather['Solar Radiation'].fillna(0.0)\n",
    "weather['Cloud Cover'] = weather['Cloud Cover'].fillna(0.0)\n",
    "weather['Precipitation'] = weather['Precipitation'].fillna(0.0)\n",
    "# weather['Name'].head(-2)"
   ]
  },
  {
   "cell_type": "code",
   "execution_count": null,
   "metadata": {},
   "outputs": [],
   "source": [
    "weather = weather.fillna(0.0)"
   ]
  },
  {
   "cell_type": "markdown",
   "metadata": {},
   "source": [
    "### Visual data check"
   ]
  },
  {
   "cell_type": "code",
   "execution_count": null,
   "metadata": {},
   "outputs": [],
   "source": [
    "ax0 = weather.plot(y='Solar Radiation')\n",
    "ax0 = weather.plot(y='Temperature')\n",
    "ax0 = weather.plot(y='Cloud Cover')\n",
    "ax0 = weather.plot(y='Wind Speed')\n",
    "ax0 = weather.plot(y='Dew Point')\n",
    "ax0 = weather.plot(y='Precipitation')\n",
    "ax0 = weather.plot(y='Relative Humidity')"
   ]
  },
  {
   "cell_type": "markdown",
   "metadata": {},
   "source": [
    "### Creation of the interpolation function\n",
    "\n",
    "Note the definition of new functions. Use `U_atmospheric(t)`, `T_atmospheric(t)`, `sun_irradiation(t)`, `dew_point(t)`, `cloud_cover`, `relative_humidity` and `rain_rate`. These functions already include the appropriate clipping of unrealistic values"
   ]
  },
  {
   "cell_type": "code",
   "execution_count": null,
   "metadata": {},
   "outputs": [],
   "source": [
    "from scipy.interpolate import interp1d\n",
    "interp_method = 'cubic'\n",
    "t_data = np.arange(0,weather.shape[0]*15*60,15*60)\n",
    "U_atm = np.abs(weather['Wind Speed'][:].to_numpy()/3.6) #converted from km/h to m/s\n",
    "T_atm = weather['Temperature'][:].to_numpy()\n",
    "q_sun = weather['Solar Radiation'][:].to_numpy()\n",
    "# CC = weather['Cloud Cover'][:].to_numpy()\n",
    "cc = weather['Cloud Cover'][:].to_numpy()/100. # converted from % to fraction\n",
    "rh = weather['Relative Humidity'][:].to_numpy() # left as %\n",
    "p_r = weather['Precipitation'][:].to_numpy()*1e-3/(15*60) #converted to mm to m/s \n",
    "T_dp = weather['Dew Point'][:].to_numpy()\n",
    "f_U_atm = interp1d(t_data,U_atm,kind=interp_method)\n",
    "def U_atmospheric(t):\n",
    "    global f_U_atm\n",
    "    return np.maximum(f_U_atm(t),0.)\n",
    "f_T_atm = interp1d(t_data,T_atm,kind=interp_method)\n",
    "def T_atmospheric(t):\n",
    "    global f_T_atm\n",
    "    return f_T_atm(t)\n",
    "f_q_sun = interp1d(t_data,q_sun,kind=interp_method)\n",
    "def sun_irradiation(t):\n",
    "    global f_q_sun\n",
    "    return np.maximum(f_q_sun(t),0.)\n",
    "f_CC = interp1d(t_data,cc,kind=interp_method)\n",
    "def cloud_cover(t):\n",
    "    global f_CC\n",
    "    return np.clip(f_CC(t),0.,1.)\n",
    "f_T_dp = interp1d(t_data,T_dp,kind=interp_method)\n",
    "def dew_point(t):\n",
    "    global f_T_dp\n",
    "    return f_T_dp(t)\n",
    "f_RH = interp1d(t_data,rh,kind=interp_method)\n",
    "def relative_humidity(t):\n",
    "    global f_RH\n",
    "    return np.clip(f_RH(t),0.,100.)\n",
    "f_rain = interp1d(t_data,p_r,kind=interp_method)\n",
    "def rain_rate(t):\n",
    "    global f_rain\n",
    "    return np.maximum(f_rain(t),0.)\n"
   ]
  },
  {
   "cell_type": "markdown",
   "metadata": {},
   "source": [
    "### Importing libraries to solve heat transfer problem"
   ]
  },
  {
   "cell_type": "code",
   "execution_count": null,
   "metadata": {},
   "outputs": [],
   "source": [
    "import scipy.constants as csts\n",
    "from scipy.integrate import solve_ivp\n",
    "import thermodynamics as thermo\n",
    "import HT_external_convection as extconv\n",
    "import HT_natural_convection as natconv"
   ]
  },
  {
   "cell_type": "markdown",
   "metadata": {},
   "source": [
    "### Convection heat transfer on upper surface\n",
    "\n",
    "Where you write equations and text"
   ]
  },
  {
   "cell_type": "code",
   "execution_count": null,
   "metadata": {},
   "outputs": [],
   "source": [
    "def outsideconvection(Uinf, T_f,Tinf, air_f,Lplate, Ts):\n",
    "    Re = np.abs(Uinf)*Lplate/air_f.nu\n",
    "    Gr = natconv.Gr(beta=air_f.beta,DT=np.abs(Ts-Tinf),D=Lplate,nu=air_f.nu)\n",
    "    Ra = natconv.Ra(beta=air_f.beta,DT=np.abs(Ts-Tinf),D=Lplate,nu=air_f.nu,alpha=air_f.alpha)\n",
    "    if (Uinf < 0.15):\n",
    "        ForcedConvection = False\n",
    "        NaturalConvection = True\n",
    "    else:\n",
    "        Ri = Gr / Re**2\n",
    "        if Ri < 0.1:\n",
    "            ForcedConvection = True\n",
    "            NaturalConvection = False\n",
    "        elif Ri > 10:\n",
    "            ForcedConvection = False\n",
    "            NaturalConvection = True\n",
    "        else:\n",
    "            ForcedConvection = True\n",
    "            NaturalConvection = True\n",
    "    if ForcedConvection:\n",
    "        if (Re <= 5e5):\n",
    "            airflow = extconv.FlatPlate('laminar','isothermal',U_infty=Uinf,nu=air_f.nu,alpha=air_f.alpha, L=Lplate,xi=0,Re_xc= 5e5)\n",
    "            airflow.average(Lplate)\n",
    "            hconv_f = airflow.Nu_ave*air_f.k/Lplate\n",
    "        elif Re > 5e5:\n",
    "            airflow = extconv.FlatPlate('mixed','isothermal',U_infty=Uinf,nu=air_f.nu,alpha=air_f.alpha, L=Lplate,xi=0,Re_xc= 5e5)\n",
    "            airflow.average(Lplate)\n",
    "            hconv_f = airflow.Nu_ave*air_f.k/Lplate\n",
    "    else:\n",
    "        hconv_f = 0\n",
    "    #Natural convection flux\n",
    "    if NaturalConvection and Ra > 1e4:\n",
    "        if Ts >= Tinf:\n",
    "            airflow = natconv.FlatPlate(Ra,air_f.Pr,'upper','hot')\n",
    "        else:\n",
    "            airflow = natconv.FlatPlate(Ra,air_f.Pr,'upper','cold')\n",
    "        hconv_n = airflow.Nu*air_f.k/Lplate\n",
    "    else:\n",
    "        hconv_n = 0\n",
    "    #Total convection flux (here not a function of Ri)\n",
    "    h = hconv_n + hconv_f\n",
    "    qpp = h*(Tinf - Ts)\n",
    "    \n",
    "    return qpp"
   ]
  },
  {
   "cell_type": "markdown",
   "metadata": {},
   "source": [
    "### Radiation between outer surface and sky\n",
    "\n",
    "Correlation..\n"
   ]
  },
  {
   "cell_type": "code",
   "execution_count": null,
   "metadata": {},
   "outputs": [],
   "source": [
    "def skyradiation(Tdp,cc,Tinf,Ts):\n",
    "    # Ts must be in Celsius\n",
    "    eps_clear = 0.711 + 0.56*(Tdp/100.) + 0.73*(Tdp/100.)**2\n",
    "    Ca = 1. + 0.02224*cc + 0.0035*cc**2 + 0.00028*cc**3\n",
    "    Tsky = (Ca*eps_clear)**0.25*thermo.C2K(Tinf)\n",
    "    qsky = eps_sky*csts.sigma*(Tsky**4 - thermo.C2K(Ts)**4)\n",
    "    return qsky"
   ]
  },
  {
   "cell_type": "markdown",
   "metadata": {},
   "source": [
    "### Heat transfer with rain\n",
    "\n",
    "Equations\n"
   ]
  },
  {
   "cell_type": "code",
   "execution_count": null,
   "metadata": {},
   "outputs": [],
   "source": [
    "def T_wet_bulb(T,RH):\n",
    "    return T * np.arctan(0.1515977*(RH + 8.313659)**0.5) + np.arctan(T + RH) \\\n",
    "            - np.arctan(RH - 1.676331) + 0.00391838*RH**1.5*np.arctan(0.023101*RH) \\\n",
    "            - 4.686035\n",
    "def rain(pr,Tinf,RH,Ts):\n",
    "    Twb = T_wet_bulb(Tinf,RH)\n",
    "#     print(\"rain\",pr,Twb,Tinf,RH,Ts)\n",
    "    rho = 1000.\n",
    "    Cp = 4.19e3\n",
    "    return rho*Cp*pr*(Twb - Ts)\n",
    "    "
   ]
  },
  {
   "cell_type": "markdown",
   "metadata": {},
   "source": [
    "## Function to be solved\n",
    "\n",
    "Conservation of energy equation"
   ]
  },
  {
   "cell_type": "code",
   "execution_count": null,
   "metadata": {},
   "outputs": [],
   "source": [
    "def f(t,T):\n",
    "    global Lplate,k,H,eps,f_U_atm,f_T_atm,f_q_sun,rho,C_p,alpha_s,f_CC,f_T_dp\n",
    "    # film temperature between ambient and upper surface\n",
    "    Tinf = T_atmospheric(t)\n",
    "    Uinf = U_atmospheric(t)\n",
    "    \n",
    "    T_f = (T[0]+Tinf)/2\n",
    "    air_f = thermo.Fluid('air',T_f,\"C\")\n",
    "    Tdp = dew_point(t)\n",
    "    cc = cloud_cover(t)\n",
    "    pr = rain_rate(t)\n",
    "    rh = relative_humidity(t)\n",
    "    \n",
    "    \n",
    "    qpp_sun = alpha_s*sun_irradiation(t)\n",
    "    \n",
    "    qpp_sky = skyradiation(Tdp,cc,Tinf,T[0])\n",
    "    \n",
    "    qpp_conv = outsideconvection(Uinf, T_f,Tinf, air_f,Lplate, T[0])\n",
    "    \n",
    "    qpp_rain = rain(pr,Tinf,rh,T[0])\n",
    "    \n",
    "    qpp_cond = k*(T[0] - T_s_lower)/H\n",
    "    \n",
    "    qpp_total = qpp_sun + qpp_sky + qpp_conv + qpp_rain - qpp_cond\n",
    "    \n",
    "    return qpp_total/(rho*C_p)\n",
    "    "
   ]
  },
  {
   "cell_type": "markdown",
   "metadata": {},
   "source": [
    "## Main code\n",
    "\n",
    "### 1) Building Cooling Requirements "
   ]
  },
  {
   "cell_type": "code",
   "execution_count": null,
   "metadata": {},
   "outputs": [],
   "source": [
    "rho = 20. #kg/m^3 concrete density\n",
    "C_p = 880. #kg/J*K\n",
    "R_wall = 7.27 #m^3K/W\n",
    "H = 0.3048 #thickness of concrete warehouse walls: m\n",
    "k = R_wall*H #thermal conductivity of the wall\n",
    "alpha_s = 0.5\n",
    "eps_sky = 1.\n",
    "Lplate = 70.  #length of building\n",
    "A = Lplate**2\n",
    "T_s_lower = 20.\n",
    "\n",
    "\n",
    "tmax = t_data[-1]\n",
    "mask = np.where(t_data <= tmax)\n",
    "sol = solve_ivp(f,[0,tmax],[-5],method='LSODA',t_eval=t_data[mask],max_step=10*60.)"
   ]
  },
  {
   "cell_type": "markdown",
   "metadata": {},
   "source": [
    "### Output\n",
    "\n",
    "Creation of two new columns, one for upper surface temperature, the other as the cooling energy needed to maintain target temperature on the lower surface."
   ]
  },
  {
   "cell_type": "code",
   "execution_count": null,
   "metadata": {},
   "outputs": [],
   "source": [
    "weather['Tsu'] = sol.y[0]\n",
    "weather['q_cool'] = np.maximum(k*(sol.y[0] - T_s_lower)/H*A,0.)"
   ]
  },
  {
   "cell_type": "code",
   "execution_count": null,
   "metadata": {},
   "outputs": [],
   "source": [
    "ax0 = weather.plot(y='q_cool')\n",
    "weather.plot(y='Precipitation',ax=ax0, secondary_y=True)"
   ]
  },
  {
   "cell_type": "code",
   "execution_count": null,
   "metadata": {},
   "outputs": [],
   "source": [
    "weather['q_cool'].sum()*15*60/3600*1e-6"
   ]
  },
  {
   "cell_type": "markdown",
   "metadata": {},
   "source": [
    "### 2) Wood Chip Snow Pile Insulation"
   ]
  },
  {
   "cell_type": "code",
   "execution_count": null,
   "metadata": {},
   "outputs": [],
   "source": [
    "rho = 20.\n",
    "C_p = 2500.\n",
    "H = 0.2 #thickness sawdust (from Sundsvall Hospital Paper): m\n",
    "k = 0.35 #Thermal conductivity of moist sawdust (from Sundsvall Hospital Paper)\n",
    "alpha_s = 0.5\n",
    "eps_sky = 1.\n",
    "Lplate = 70.  #length of building\n",
    "A = Lplate**2\n",
    "T_s_lower = 20.\n",
    "\n",
    "tmax = t_data[-1]\n",
    "mask = np.where(t_data <= tmax)\n",
    "sol = solve_ivp(f,[0,tmax],[-5],method='LSODA',t_eval=t_data[mask],max_step=10*60.)"
   ]
  }
 ],
 "metadata": {
  "kernelspec": {
   "display_name": "Python 3",
   "language": "python",
   "name": "python3"
  },
  "language_info": {
   "codemirror_mode": {
    "name": "ipython",
    "version": 3
   },
   "file_extension": ".py",
   "mimetype": "text/x-python",
   "name": "python",
   "nbconvert_exporter": "python",
   "pygments_lexer": "ipython3",
   "version": "3.8.3"
  }
 },
 "nbformat": 4,
 "nbformat_minor": 4
}
