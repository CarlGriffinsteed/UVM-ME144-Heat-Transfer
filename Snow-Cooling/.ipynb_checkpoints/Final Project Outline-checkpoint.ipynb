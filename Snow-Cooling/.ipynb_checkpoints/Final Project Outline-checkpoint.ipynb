{
 "cells": [
  {
   "cell_type": "code",
   "execution_count": 1,
   "metadata": {},
   "outputs": [],
   "source": [
    "import sys  \n",
    "sys.path.insert(0, '../Libraries/') \n",
    "\n",
    "import matplotlib.pyplot as plt\n",
    "import numpy as np\n",
    "import pandas as pd\n",
    "\n",
    "import scipy.constants as csts\n",
    "from scipy.integrate import solve_ivp\n",
    "from scipy.interpolate import interp1d\n",
    "\n",
    "import thermodynamics as thermo\n",
    "import HT_external_convection as extconv\n",
    "import HT_natural_convection as natconv"
   ]
  },
  {
   "cell_type": "markdown",
   "metadata": {},
   "source": [
    "## Adding Lake Placid, NY Weather Data"
   ]
  },
  {
   "cell_type": "code",
   "execution_count": null,
   "metadata": {},
   "outputs": [],
   "source": [
    "xl = pd.ExcelFile('Climate/April-October-2020.xlsx')\n",
    "\n",
    "loc = xl.sheet_names[6]\n",
    "weather = pd.read_excel(\"Climate/April-October-2020.xlsx\",sheet_name=loc,header=0,converters= {'Date time': pd.to_datetime},)\n",
    "weather = weather.set_index('Date time')\n",
    "#weather['Name'].head(10)"
   ]
  },
  {
   "cell_type": "code",
   "execution_count": null,
   "metadata": {},
   "outputs": [],
   "source": [
    "weather['Solar Radiation'] = weather['Solar Radiation'].fillna(0.0)\n",
    "weather['Cloud Cover'] = weather['Cloud Cover'].fillna(0.0)\n",
    "weather['Precipitation'] = weather['Precipitation'].fillna(0.0)\n",
    "weather['Relative Humidity'] = weather['Relative Humidity'].fillna(0.0)\n",
    "#weather['Name'].head(-2)"
   ]
  },
  {
   "cell_type": "code",
   "execution_count": null,
   "metadata": {},
   "outputs": [],
   "source": [
    "ax0 = weather.plot(y='Solar Radiation')\n",
    "ax0 = weather.plot(y='Temperature')\n",
    "ax0 = weather.plot(y='Cloud Cover')\n",
    "ax0 = weather.plot(y='Wind Speed')\n",
    "ax0 = weather.plot(y='Dew Point')\n",
    "ax0 = weather.plot(y='Precipitation')\n",
    "ax0 = weather.plot(y='Relative Humidity')"
   ]
  },
  {
   "cell_type": "code",
   "execution_count": null,
   "metadata": {},
   "outputs": [],
   "source": [
    "t_data = np.arange(0,weather.shape[0]*15*60,15*60)\n",
    "weather['Wind Speed']      = weather['Wind Speed'].interpolate('cubic')\n",
    "weather['Temperature']     = weather['Temperature'].interpolate('cubic')\n",
    "weather['Solar Radiation'] = weather['Solar Radiation'].interpolate('cubic')\n",
    "weather['Cloud Cover']     = weather['Cloud Cover'].interpolate('cubic')\n",
    "weather['Dew Point']       = weather['Dew Point'].interpolate('cubic')\n",
    "\n",
    "U_atm   = np.abs(weather['Wind Speed'][:].to_numpy()/3.6)\n",
    "T_atm   = weather['Temperature'][:].to_numpy()\n",
    "q_sun   = weather['Solar Radiation'][:].to_numpy()\n",
    "cc      = weather['Cloud Cover'][:].to_numpy()/100\n",
    "cctmp   = np.minimum(cc, np.ones_like(cc))\n",
    "cc      = np.maximum(cctmp,np.zeros_like(cc))\n",
    "T_dp    = weather['Dew Point'][:].to_numpy()\n",
    "RH      = weather['Relative Humidity'][:].to_numpy()\n",
    "\n",
    "f_U_atm = interp1d(t_data,U_atm,kind='cubic')\n",
    "f_T_atm = interp1d(t_data,T_atm,kind='cubic')\n",
    "f_q_sun = interp1d(t_data,q_sun,kind='cubic')\n",
    "f_CC    = interp1d(t_data,cc,kind='cubic')\n",
    "f_T_dp  = interp1d(t_data,T_dp,kind='cubic')\n",
    "f_RH    = interp1d(t_data,RH,kind='cubic')"
   ]
  },
  {
   "cell_type": "markdown",
   "metadata": {},
   "source": [
    "## Numerical Method Simulation for Warehouse Cooling Requirements"
   ]
  },
  {
   "cell_type": "code",
   "execution_count": null,
   "metadata": {},
   "outputs": [],
   "source": [
    "rho = 20. #density of air\n",
    "C_p = 2500. #specific heat of air\n",
    "R_wall = 7.27 #m^3K/W\n",
    "H = 0.3048 #thickness of concrete warehouse walls: m\n",
    "k = R_wall*H #thermal conductivity of the wall\n",
    "alpha_s = 0.5 #diffusivity of the sky\n",
    "eps_sky = 1. #emissivity of the sky\n",
    "L_w = 70.  #length of the square warehouse: m\n",
    "h_w = 6.   #height of the warehouse: m\n",
    "A_wall = 4*(L_w*h_w) #total surface area of the walls\n",
    "A_roof = L_w**2 #total surface are of the roof\n",
    "A = A_wall + A_roof  #total surface area of the warehouse exposed to the atmosphere\n",
    "T_s_lower = 20 #room temp: C\n",
    "\n",
    "def f(t,T):\n",
    "    global L_w,k,H,eps,f_U_atm,f_T_atm,f_q_sun,rho,C_p,alpha_s,f_CC,f_T_dp,f_RH\n",
    "    # film temperature between ambient and upper surface\n",
    "    Tinf = f_T_atm(t)\n",
    "    Uinf = np.max([f_U_atm(t),0.])\n",
    "    q_irr = alpha_s*f_q_sun(t)\n",
    "    T_f = (T[0]+Tinf)/2\n",
    "    air_f = thermo.Fluid('air',T_f,\"C\")\n",
    "    # Wet bulb temp\n",
    "    T_wb = f_T_atm(t)*np.arctan((0.151977)*(f_RH(t)+8.313659)**(1/2)) + np.arctan(f_T_atm(t) + f_RH(t)) - np.arctan(f_RH(t)-1.676331) + 0.00391838*(f_RH(t))**(3/2)*np.arctan(0.023101*f_RH(t))-4.686035\n",
    "    # sky radiation\n",
    "    Tdp = f_T_dp(t)\n",
    "    eps_clear = 0.711 + 0.56*(Tdp/100.) + 0.73*(Tdp/100.)**2\n",
    "    cc = f_CC(t)/100.\n",
    "    Ca = 1. + 0.02224*cc + 0.0035*cc**2 + 0.00028*cc**3\n",
    "    Tsky = (Ca*eps_clear)**0.25*thermo.C2K(Tinf)\n",
    "    qsky = eps_sky*csts.sigma*(Tsky**4 - thermo.C2K(T[0])**4)\n",
    "    \n",
    "    Re = np.abs(Uinf)*L_w/air_f.nu\n",
    "    Gr = natconv.Gr(beta=air_f.beta,DT=np.abs(T-T_f),D=L_w,nu=air_f.nu)\n",
    "    Ra = natconv.Ra(beta=air_f.beta,DT=np.abs(T-T_f),D=L_w,nu=air_f.nu,alpha=air_f.alpha)\n",
    "    # Forced convection flux\n",
    "    if Re >0 and (Re <= 5e5):\n",
    "        airflow = extconv.FlatPlate('laminar','isothermal',U_infty=Uinf,nu=air_f.nu,alpha=air_f.alpha, L=L_w,xi=0,Re_xc= 5e5)\n",
    "        airflow.average(L_w)\n",
    "        hconv_f = airflow.Nu_ave*air_f.k/L_w\n",
    "    elif Re > 5e5:\n",
    "        airflow = extconv.FlatPlate('mixed','isothermal',U_infty=Uinf,nu=air_f.nu,alpha=air_f.alpha, L=L_w,xi=0,Re_xc= 5e5)\n",
    "        airflow.average(L_w)\n",
    "        hconv_f = airflow.Nu_ave*air_f.k/L_w\n",
    "    else:\n",
    "        hconv_f = 0\n",
    "    #Natural convection flux\n",
    "    if Ra > 1e4:\n",
    "        if T[0] >= Tinf:\n",
    "            airflow = natconv.FlatPlate(Ra,air_f.Pr,'upper','hot')\n",
    "        else:\n",
    "            airflow = natconv.FlatPlate(Ra,air_f.Pr,'upper','cold')\n",
    "        hconv_n = airflow.Nu*air_f.k/L_w\n",
    "    else:\n",
    "        hconv_n = 0\n",
    "    #Total convection flux (here not a function of Ri)\n",
    "    h = hconv_n + hconv_f\n",
    "    \n",
    "    qpp_conv = h*(Tinf - T[0])\n",
    "    #Conduction flux\n",
    "    qpp_cond = k*(T[0] - T_s_lower)/H\n",
    "\n",
    "    return (q_irr+qpp_conv+qsky - qpp_cond)/(rho*C_p)\n",
    "\n",
    "# Simulation\n",
    "tmax = t_data[-1]\n",
    "mask = np.where(t_data <= tmax)\n",
    "sol = solve_ivp(f,[0,tmax],[10.],method='LSODA',t_eval=t_data[mask],max_step=5*60.)"
   ]
  },
  {
   "cell_type": "code",
   "execution_count": null,
   "metadata": {},
   "outputs": [],
   "source": [
    "#Ts upper, q out, q irr are assigned to columns in weather panda data\n",
    "weather['Ts upper'] = sol.y[0]\n",
    "weather['q out'] = k*A*sol.y[0]/H\n",
    "weather['q irr'] = alpha_s*weather['Solar Radiation'][:]*A\n",
    "\n",
    "#Plotting cooling requirement: q out vs solar irradiation heat flux: q irr\n",
    "ax0 = weather.plot(y='q irr')\n",
    "weather.plot(y='q out',ax = ax0)\n",
    "\n",
    "#Total sum of cooling load in J?\n",
    "weather['q out'].sum()*15*60*1e-6"
   ]
  },
  {
   "cell_type": "code",
   "execution_count": null,
   "metadata": {},
   "outputs": [],
   "source": [
    "#Scrubbing Atmospheric Temperature Data\n",
    "np.argwhere(np.isnan(weather['Temperature'][:].to_numpy()))\n",
    "\n",
    "#Plotting Ts upper versus Atmospheric temperature\n",
    "ax0 = weather.plot(y='Ts upper')\n",
    "weather.plot(y='Temperature',ax = ax0)"
   ]
  },
  {
   "cell_type": "code",
   "execution_count": null,
   "metadata": {},
   "outputs": [],
   "source": [
    "#Resampling weather data\n",
    "weather_1H = weather.resample(\"1H\").mean()\n",
    "weather_1H['Energy slab'] = k*A/H*weather_1H['Ts upper']\n",
    "\n",
    "ax0 = weather_1H.plot(y='Ts upper')\n",
    "weather_1H.plot(y='Temperature',ax = ax0)\n",
    "\n",
    "weather_1H.plot(y='Energy slab')\n",
    "\n",
    "weather_1H['Energy slab'].sum()"
   ]
  },
  {
   "cell_type": "code",
   "execution_count": null,
   "metadata": {},
   "outputs": [],
   "source": []
  }
 ],
 "metadata": {
  "kernelspec": {
   "display_name": "Python 3",
   "language": "python",
   "name": "python3"
  },
  "language_info": {
   "codemirror_mode": {
    "name": "ipython",
    "version": 3
   },
   "file_extension": ".py",
   "mimetype": "text/x-python",
   "name": "python",
   "nbconvert_exporter": "python",
   "pygments_lexer": "ipython3",
   "version": "3.8.3"
  }
 },
 "nbformat": 4,
 "nbformat_minor": 4
}
