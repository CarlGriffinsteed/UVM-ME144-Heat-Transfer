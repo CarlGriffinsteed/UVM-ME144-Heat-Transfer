{
 "cells": [
  {
   "cell_type": "markdown",
   "metadata": {},
   "source": [
    "# Weather Data Manipulation-0\n",
    "\n",
    "Historical weather data is a key element of your model. In this notebook, we introduce old data from the snow farming project in Craftsbury. The first data deals with temperature signals from the Craftsbury snow-farming experiment. First we study mulch insulation, for which we have 4 temperature probes, at the surface of the snow, 10 cm within the mulch , on top of the insulation material and 46 cm above the pile.\n",
    "\n",
    "## Loading up data\n",
    "\n",
    "We begin with importing the module needed for this study. The module `pandas` allows all kinds of manipulations of excel spreadsheets and files, including reading, writing, creating or deleting columns or rows, performing statistics, plotting, etc..."
   ]
  },
  {
   "cell_type": "code",
   "execution_count": 2,
   "metadata": {},
   "outputs": [],
   "source": [
    "import matplotlib.pyplot as plt\n",
    "import numpy as np\n",
    "\n",
    "import pandas as pd\n"
   ]
  },
  {
   "cell_type": "markdown",
   "metadata": {},
   "source": [
    "The data is contained in spreadsheets located in the folder `Insulation`. The pandas function to read a `.xslx` file is `read_excel` which requires the location and name of the file. All other arguments are optional. If there are multiple sheets and you want to read a sheet other than the first one, you must specify the name of the spreadsheed. The description of the columns in the second row or row 1 for python. In the first instruction `header=1` tells pandas to create column after the information read at that row and collect data in subsequent rows. The instruction `data_parser=[1]` makes sure that the timestamp is stored at the right format. Finally `names=[\"..\",\"..\",\"..\"]` renames the columns to names of your choice.\n",
    "\n",
    " There are four columns, sample number, timestamp, probe 1 and probe 2. `pandas` works to its full potential when you define the `index` column for your data. Here the index column is the timestamp colum, the sample number column does not add any value to our study and therefore is dropped."
   ]
  },
  {
   "cell_type": "code",
   "execution_count": 3,
   "metadata": {},
   "outputs": [],
   "source": [
    "\n",
    "\n",
    "sensor811 = pd.read_excel(\"Insulation/SN 20103811 2018-07-16 13_18_09 -0400.xlsx\",sheet_name=\"DATA\",\n",
    "                          header=1,date_parser=[1],names=[\"#\",\"timestamp\",\"30cm\",\"0cm\"])\n",
    "sensor811 = sensor811.set_index('timestamp')\n",
    "sensor811 = sensor811.drop(\"#\",axis=1)\n",
    "sensor934 = pd.read_excel(\"Insulation/SN 20366934 2018-07-16 13_19_37 -0400.xlsx\",sheet_name=\"DATA\",\n",
    "                          header=1,date_parser=[0],names=[\"#\",\"timestamp\",\"10cm\",\"46cm\"])\n",
    "sensor934 = sensor934.set_index('timestamp')\n",
    "sensor934 = sensor934.drop(\"#\",axis=1)"
   ]
  },
  {
   "cell_type": "markdown",
   "metadata": {},
   "source": [
    "Here is what one of the objects looks like:"
   ]
  },
  {
   "cell_type": "code",
   "execution_count": 4,
   "metadata": {},
   "outputs": [
    {
     "data": {
      "text/html": [
       "<div>\n",
       "<style scoped>\n",
       "    .dataframe tbody tr th:only-of-type {\n",
       "        vertical-align: middle;\n",
       "    }\n",
       "\n",
       "    .dataframe tbody tr th {\n",
       "        vertical-align: top;\n",
       "    }\n",
       "\n",
       "    .dataframe thead th {\n",
       "        text-align: right;\n",
       "    }\n",
       "</style>\n",
       "<table border=\"1\" class=\"dataframe\">\n",
       "  <thead>\n",
       "    <tr style=\"text-align: right;\">\n",
       "      <th></th>\n",
       "      <th>10cm</th>\n",
       "      <th>46cm</th>\n",
       "    </tr>\n",
       "    <tr>\n",
       "      <th>timestamp</th>\n",
       "      <th></th>\n",
       "      <th></th>\n",
       "    </tr>\n",
       "  </thead>\n",
       "  <tbody>\n",
       "    <tr>\n",
       "      <th>2018-06-24 11:53:16</th>\n",
       "      <td>17.457685</td>\n",
       "      <td>17.200283</td>\n",
       "    </tr>\n",
       "    <tr>\n",
       "      <th>2018-06-24 11:58:16</th>\n",
       "      <td>17.543486</td>\n",
       "      <td>17.414785</td>\n",
       "    </tr>\n",
       "    <tr>\n",
       "      <th>2018-06-24 12:03:16</th>\n",
       "      <td>17.672188</td>\n",
       "      <td>16.857080</td>\n",
       "    </tr>\n",
       "    <tr>\n",
       "      <th>2018-06-24 12:08:16</th>\n",
       "      <td>18.186993</td>\n",
       "      <td>17.500586</td>\n",
       "    </tr>\n",
       "    <tr>\n",
       "      <th>2018-06-24 12:13:16</th>\n",
       "      <td>18.787598</td>\n",
       "      <td>17.543486</td>\n",
       "    </tr>\n",
       "    <tr>\n",
       "      <th>...</th>\n",
       "      <td>...</td>\n",
       "      <td>...</td>\n",
       "    </tr>\n",
       "    <tr>\n",
       "      <th>2018-07-16 12:58:16</th>\n",
       "      <td>11.580332</td>\n",
       "      <td>38.221474</td>\n",
       "    </tr>\n",
       "    <tr>\n",
       "      <th>2018-07-16 13:03:16</th>\n",
       "      <td>11.666133</td>\n",
       "      <td>36.376759</td>\n",
       "    </tr>\n",
       "    <tr>\n",
       "      <th>2018-07-16 13:08:16</th>\n",
       "      <td>11.709033</td>\n",
       "      <td>41.396103</td>\n",
       "    </tr>\n",
       "    <tr>\n",
       "      <th>2018-07-16 13:13:16</th>\n",
       "      <td>11.709033</td>\n",
       "      <td>39.894588</td>\n",
       "    </tr>\n",
       "    <tr>\n",
       "      <th>2018-07-16 13:18:16</th>\n",
       "      <td>11.709033</td>\n",
       "      <td>35.776154</td>\n",
       "    </tr>\n",
       "  </tbody>\n",
       "</table>\n",
       "<p>6354 rows × 2 columns</p>\n",
       "</div>"
      ],
      "text/plain": [
       "                          10cm       46cm\n",
       "timestamp                                \n",
       "2018-06-24 11:53:16  17.457685  17.200283\n",
       "2018-06-24 11:58:16  17.543486  17.414785\n",
       "2018-06-24 12:03:16  17.672188  16.857080\n",
       "2018-06-24 12:08:16  18.186993  17.500586\n",
       "2018-06-24 12:13:16  18.787598  17.543486\n",
       "...                        ...        ...\n",
       "2018-07-16 12:58:16  11.580332  38.221474\n",
       "2018-07-16 13:03:16  11.666133  36.376759\n",
       "2018-07-16 13:08:16  11.709033  41.396103\n",
       "2018-07-16 13:13:16  11.709033  39.894588\n",
       "2018-07-16 13:18:16  11.709033  35.776154\n",
       "\n",
       "[6354 rows x 2 columns]"
      ]
     },
     "execution_count": 4,
     "metadata": {},
     "output_type": "execute_result"
    }
   ],
   "source": [
    "sensor934"
   ]
  },
  {
   "cell_type": "markdown",
   "metadata": {},
   "source": [
    "## Plotting data in pandas\n",
    "\n",
    "The following cell shows how to (line) plot with pandas. `ax=` defines the graph in which data should be plotted (here `ax0`). In the absence of this optional argument, pandas will produce 4 individual plots. If you do not specify which column to plot, all columns contained in the object are included in the plot.   "
   ]
  },
  {
   "cell_type": "code",
   "execution_count": 5,
   "metadata": {},
   "outputs": [
    {
     "data": {
      "text/plain": [
       "<Figure size 288x144 with 0 Axes>"
      ]
     },
     "metadata": {},
     "output_type": "display_data"
    },
    {
     "data": {
      "image/png": "[encoded data removed]",
      "text/plain": [
       "<Figure size 432x288 with 1 Axes>"
      ]
     },
     "metadata": {
      "needs_background": "light"
     },
     "output_type": "display_data"
    }
   ],
   "source": [
    "plt.figure(figsize=(4,2))\n",
    "ax0 = sensor811.plot(y=\"0cm\")\n",
    "sensor934.plot(y=\"10cm\", ax = ax0)\n",
    "sensor811.plot(y=\"30cm\", ax = ax0)\n",
    "sensor934.plot(y=\"46cm\", ax = ax0)\n",
    "plt.show()"
   ]
  },
  {
   "cell_type": "markdown",
   "metadata": {},
   "source": [
    "## Data manipulation\n",
    "On top of reading and plotting excel spreadsheets (or any data arrange as a `DataFrame` the `pandas` class of data), `pandas` has many data manipulation functionalities. It can remove blanks or fill blanks with a default value, which is useful when the sensor misbehaved and skip a sample or two. A useful feature for time series is to perform running averages, for instance, here we average the data over 1 day with a rolling average and resampling. **Look up both definitions**"
   ]
  },
  {
   "cell_type": "code",
   "execution_count": 28,
   "metadata": {},
   "outputs": [
    {
     "data": {
      "text/plain": [
       "<AxesSubplot:xlabel='timestamp'>"
      ]
     },
     "execution_count": 28,
     "metadata": {},
     "output_type": "execute_result"
    },
    {
     "data": {
      "image/png": "[encoded data removed]",
      "text/plain": [
       "<Figure size 432x288 with 1 Axes>"
      ]
     },
     "metadata": {
      "needs_background": "light"
     },
     "output_type": "display_data"
    }
   ],
   "source": [
    "sensor934_rolling = sensor934.rolling('1D').mean()\n",
    "sensor934_resample = sensor934.resample('1D').mean()\n",
    "ax0 = sensor934_rolling.plot()\n",
    "sensor934.plot(ax=ax0)\n",
    "sensor934_resample.plot(ax=ax0)"
   ]
  },
  {
   "cell_type": "markdown",
   "metadata": {},
   "source": [
    "## Power spectrum\n",
    "A power spectrum for the data of interest decompose the information of temperature as a function of time, into the influence of each frequency on the energy of the signal. It assumes that the signal, of duration $t_m$ can be represented by a Fourier series (see below), or\n",
    "$$\n",
    "T(t)=\\sum_{n=0}{N}\\hat{a}_n\\cos \\frac{2\\pi n}{t_m}t+\\hat{b}_n\\sin \\frac{2\\pi n}{t_m}t = \\sum_{n=0}{N}\\hat{a}_n\\cos 2\\pi f_n t+\\hat{b}_n\\sin 2\\pi f_n t \n",
    "$$\n",
    "where $f_n$ is the nth frequency.\n",
    "\n",
    "The power spectrum shows the contribution of each frequ"
   ]
  },
  {
   "cell_type": "code",
   "execution_count": null,
   "metadata": {},
   "outputs": [],
   "source": [
    "alt0 = np.copy(sensor811[\"0cm\"])\n",
    "alt30 = np.copy(sensor811[\"30cm\"])\n",
    "alt10 = np.copy(sensor934[\"10cm\"])\n",
    "alt46 = np.copy(sensor934[\"46cm\"])\n",
    "from scipy import signal\n",
    "Ts = 5*60\n",
    "freqs = 1/Ts\n",
    "\n",
    "f,P0 = signal.periodogram(x=alt0[100:],fs=freqs, scaling='spectrum' )\n",
    "f,P30 = signal.periodogram(x=alt30[100:],fs=freqs, scaling='spectrum' )\n",
    "f1,P10 = signal.periodogram(x=alt10[100:],fs=freqs, scaling='spectrum' )\n",
    "f1,P46 = signal.periodogram(x=alt46[100:],fs=freqs, scaling='spectrum' )\n",
    "plt.figure(figsize=(6,5))\n",
    "plt.loglog(f[1:]*24*3600,P0[1:])\n",
    "plt.loglog(f1[1:]*24*3600,P10[1:])\n",
    "plt.loglog(f[1:]*24*3600,P30[1:])\n",
    "plt.loglog(f1[1:]*24*3600,P46[1:])\n",
    "plt.xlabel(r'frequency [$Hz\\times24h$]')\n",
    "plt.ylabel(r'PSD [$T^2$]')\n",
    "plt.ylim(1e-6,1e2)\n",
    "plt.xlim(4e-2,2e1)\n",
    "plt.grid(True, which = \"major\", lw = 1)\n",
    "plt.grid(True, which = \"minor\", lw = 0.5)\n",
    "plt.minorticks_on()\n",
    "plt.show()"
   ]
  },
  {
   "cell_type": "code",
   "execution_count": null,
   "metadata": {},
   "outputs": [],
   "source": [
    "sensor929 = pd.read_excel(\"Insulation/SN 20366929 2018-07-16 13_18_44 -0400.xlsx\",sheet_name=\"DATA\",\n",
    "                          header=1,date_parser=[1],names=[\"#\",\"timestamp\",\"0cm\",\"10cm\"])\n",
    "sensor929 = sensor929.set_index('timestamp')\n",
    "sensor929 = sensor929.drop(\"#\",axis=1)\n",
    "sensor930 = pd.read_excel(\"Insulation/SN 20366930 2018-07-16 13_19_12 -0400.xlsx\",sheet_name=\"DATA\",\n",
    "                          header=1,date_parser=[0],names=[\"#\",\"timestamp\",\"30cm\",\"46cm\"])\n",
    "sensor930 = sensor930.set_index('timestamp')\n",
    "sensor930 = sensor930.drop(\"#\",axis=1)\n",
    "plt.figure(figsize=(4,3))\n",
    "ax = sensor929.plot(y=\"0cm\")\n",
    "sensor929.plot(y=\"10cm\", ax = ax)\n",
    "sensor930.plot(y=\"30cm\", ax = ax)\n",
    "sensor930.plot(y=\"46cm\", ax = ax)\n",
    "plt.show()\n",
    "alt0 = np.copy(sensor929[\"0cm\"])\n",
    "alt10 = np.copy(sensor929[\"10cm\"])\n",
    "alt30 = np.copy(sensor930[\"30cm\"])\n",
    "alt46 = np.copy(sensor930[\"46cm\"])\n",
    "from scipy import signal\n",
    "Ts = 5*60\n",
    "freqs = 1/Ts\n",
    "\n",
    "ff,Pf0 = signal.periodogram(x=alt0[100:],fs=freqs, scaling='spectrum' )\n",
    "ff,Pf10 = signal.periodogram(x=alt10[100:],fs=freqs, scaling='spectrum' )\n",
    "ff1,Pf30 = signal.periodogram(x=alt30[100:],fs=freqs, scaling='spectrum' )\n",
    "ff1,Pf46 = signal.periodogram(x=alt46[100:],fs=freqs, scaling='spectrum' )\n",
    "plt.figure(figsize=(6,5))\n",
    "plt.loglog(ff[1:]*24*3600,Pf0[1:])\n",
    "plt.loglog(ff[1:]*24*3600,Pf10[1:])\n",
    "plt.loglog(ff1[1:]*24*3600,Pf30[1:])\n",
    "plt.loglog(ff1[1:]*24*3600,Pf46[1:])\n",
    "plt.xlabel(r'frequency [$Hz\\times24h$]')\n",
    "plt.ylabel(r'PSD [$T^2$]')\n",
    "plt.ylim(1e-6,1e2)\n",
    "plt.xlim(4e-2,2e1)\n",
    "plt.grid(True, which = \"major\", lw = 1)\n",
    "plt.grid(True, which = \"minor\", lw = 0.5)\n",
    "plt.minorticks_on()\n",
    "plt.show()"
   ]
  },
  {
   "cell_type": "code",
   "execution_count": null,
   "metadata": {},
   "outputs": [],
   "source": [
    "plt.figure(figsize=(6,5))\n",
    "plt.loglog(f[1:]*24*3600,P0[1:],label=\"Mulch\")\n",
    "plt.loglog(ff[1:]*24*3600,Pf0[1:],label=\"Foam\")\n",
    "plt.loglog(f[1:]*24*3600,0.05*((f[1:]/f[1]))**(-2),'--',label=r\"$k^{-2}$\")\n",
    "plt.xlabel(r'frequency [$Hz\\times24h$]')\n",
    "plt.ylabel(r'PSD [$T^2$]')\n",
    "plt.ylim(1e-6,1e0)\n",
    "plt.xlim(4e-2,2e1)\n",
    "plt.grid(True, which = \"major\", lw = 1)\n",
    "plt.grid(True, which = \"minor\", lw = 0.5)\n",
    "plt.minorticks_on()\n",
    "plt.legend(loc=3, bbox_to_anchor=[0, 1],\n",
    "          ncol=3, shadow=True, fancybox=True)\n",
    "plt.show()"
   ]
  },
  {
   "cell_type": "markdown",
   "metadata": {},
   "source": [
    "This plot shows the power spectra of the temperature signal. Power spectra are derived from Fourier series. The following should help to understand the physical meaning of power spectra.\n",
    "\n",
    "<h1>Discrete Fourier Series</h1>\n",
    "\n",
    "Consider a function $f$ periodic over a domain $0\\leq x\\leq 2\\pi$, discretized by $N_x$ points. The longest wavelength wave that can be contained in the domain is $L_x$. A phyiscal understanding of Fourier series is the representation of a system as the sum of many waves fo wavelengths smaller or equal to $L_x$. In a discrete sense, the series of wave used to decompose the system is defined as:\n",
    "$$\n",
    "a_n\\exp\\left(\\hat{\\jmath}\\frac{2\\pi n}{Lx}\\right)\n",
    "$$\n",
    "such that\n",
    "<p class='alert alert-danger'>\n",
    "$$\n",
    "f(x) = \\sum_{n=-\\infty}^{\\infty}a_n\\exp\\left(\\hat{\\jmath}\\frac{2\\pi nx}{Lx}\\right)\n",
    "$$\n",
    "</p>\n",
    "and \n",
    "<p class='alert alert-danger'>\n",
    "$$\n",
    "a_n = \\frac{1}{L_x}\\int_Lf(x)\\exp\\left(-\\hat{\\jmath}\\frac{2\\pi nx}{Lx}\\right)dx\n",
    "$$\n",
    "</p>\n",
    "Here $\\hat{\\jmath}^2=-1$.Often the reduction to wavenumber is used, where\n",
    "<p class='alert alert-danger'>\n",
    "$$\n",
    "k_n = \\frac{2\\pi n}{L_x}\n",
    "$$\n",
    "</p>\n",
    "Note that if $x$ is time instead of distance, $L_x$ is a time $T$ and the smallest frequency contained in the domain is $f_0=1/T_0$ and the wavenumber $n$ is $k_n=2\\pi f_0n=2\\pi f_n$ with $f_n$ for $\\vert n\\vert >1$ are the higher frequencies. \n",
    "\n",
    "<h1>Discrete Fourier Transform (DFT)</h1>\n",
    "\n",
    "In scientific computing we are interested in applying Fourier series on vectors or matrices, containing a integer number of samples. The DFT is the fourier series for the number of samples. DFT functions available in python or any other language only care about the number of samples, therefore the wavenumber is \n",
    "<p class='alert alert-danger'>\n",
    "$$\n",
    "k_n=\\frac{2\\pi n}{N_x}\n",
    "$$\n",
    "</p>\n",
    "Consider a function $f$ periodic over a domain $0\\leq x\\leq 2\\pi$, discretized by $N_x$ points. The nodal value is $f_i$ located at $x_i=(i+1)\\Delta x$ with $\\Delta x=L_x/Nx$. The DFT is defined as\n",
    "<p class='alert alert-danger'>\n",
    "$$\n",
    "\\hat{f}_k=\\sum_{i=0}^{N_x-1}f_i\\exp\\left(-2\\pi\\hat{\\jmath}\\frac{ik}{N_x}\\right)\n",
    "$$\n",
    "</p>\n",
    "The inverse DFT is defined as\n",
    "<p class='alert alert-danger'>\n",
    "$$\n",
    "f_i=\\sum_{k=0}^{N_x-1}\\hat{f}_k\\exp\\left(2\\pi\\hat{\\jmath}\\frac{ik}{N_x}\\right)\n",
    "$$\n",
    "</p>\n",
    "\n",
    "<h1>Fast Fourier Transform (FFT)</h1>\n",
    "Using symmetries, the FFT reduces computational costs and stores in the following way:\n",
    "<p class='alert alert-danger'>\n",
    "$$\n",
    "\\hat{f}_k=\\sum_{i=-Nx/2+1}^{N_x/2}f_i\\exp\\left(-2\\pi\\hat{\\jmath}\\frac{ik}{N_x}\\right)\n",
    "$$\n",
    "</p>\n",
    "<p class='alert alert-info'>\n",
    "Compared to the Fourier series, DFT or FFT assumes that the system can be accurately captured by a finite number of waves. It is up to the user to ensure that the number of computational points is sufficient to capture the smallest scale, or smallest wavelength or highest frequence. Remember that the function on which FT is applied must be periodic over the domain and the grid spacing must be uniform.\n",
    "</p>\n",
    "There are FT algorithms for unevenly space data, but this is beyond the scope of this notebook.\n"
   ]
  },
  {
   "cell_type": "markdown",
   "metadata": {},
   "source": [
    "<h1>Filtering</h1>\n",
    "\n",
    "The following provides examples of low- and high-pass filters based on Fourier transform. A ideal low-(high-) pass filter passes frequencies that are lower than a threshold without attenuation and removes frequencies that are higher than the threshold. \n",
    "\n",
    "When applied to spatial data (function of $x$ rather than $t$-time), the FT (Fourier Transform) of a variable is function of wavenumbers\n",
    "$$\n",
    "k_n=\\frac{2\\pi n}{L_x}\n",
    "$$\n",
    "or wavelengths\n",
    "$$\n",
    "\\lambda_n=\\frac{2\\pi}{k_n}\n",
    "$$\n",
    "\n",
    "The test function is defined as sum of $N_{wave}$ cosine function:\n",
    "$$\n",
    "u(x)=\\sum_{n=0}^{N_{wave}}A_n\\cos\\left(nx+\\phi_n\\right)\n",
    "$$\n",
    "with the following first and second derivatives:\n",
    "$$\n",
    "\\frac{du}{dx}=\\sum_{n=1}^{N_{wave}}-nA_n\\sin\\left(nx+\\phi_n\\right)\n",
    "$$\n",
    "$$\n",
    "\\frac{d^2u}{dx^2}=\\sum_{n=1}^{N_{wave}}-n^2A_n\\cos\\left(nx+\\phi_n\\right)\n",
    "$$\n",
    "The python code for function u and its derivatives is written below. Here amplitudes $A_n$ and phases $\\phi_n$ are chosen randomly of ranges $[0,1]$ and $[0,2\\pi]$, respectively."
   ]
  },
  {
   "cell_type": "code",
   "execution_count": null,
   "metadata": {},
   "outputs": [],
   "source": [
    "font = {'family' : 'serif',\n",
    "        'color'  : 'black',\n",
    "        'weight' : 'normal',\n",
    "        'size'   : 18,\n",
    "        }\n",
    "import matplotlib.pyplot as plt\n",
    "import numpy as np\n",
    "\n",
    "Lx = 2.*np.pi\n",
    "Nx = 128\n",
    "u = np.zeros(Nx,dtype='float64')\n",
    "du = np.zeros(Nx,dtype='float64')\n",
    "ddu = np.zeros(Nx,dtype='float64')\n",
    "k_0 = 2.*np.pi/Lx \n",
    "x = np.linspace(Lx/Nx,Lx,Nx)\n",
    "Nwave = 12\n",
    "uwave = np.zeros((Nx,Nwave),dtype='float64')\n",
    "duwave = np.zeros((Nx,Nwave),dtype='float64')\n",
    "dduwave = np.zeros((Nx,Nwave),dtype='float64')\n",
    "ampwave = np.random.normal(0.,0.5,Nwave)\n",
    "# ampwave = np.random.random(Nwave)\n",
    "phasewave = np.random.random(Nwave)*2*np.pi\n",
    "for iwave in range(Nwave):\n",
    "    uwave[:,iwave] = ampwave[iwave]*np.cos(k_0*iwave*x+phasewave[iwave])\n",
    "#     duwave[:,iwave] = -k_0*iwave*ampwave[iwave]*np.sin(k_0*iwave*x+phasewave[iwave])\n",
    "#     dduwave[:,iwave] = -(k_0*iwave)**2*ampwave[iwave]*np.cos(k_0*iwave*x+phasewave[iwave])\n",
    "u = np.sum(uwave,axis=1)\n",
    "# du = np.sum(duwave,axis=1)\n",
    "# ddu = np.sum(dduwave,axis=1)\n",
    "#print(u)\n",
    "plt.figure(figsize=(3,2))\n",
    "plt.plot(x,u,lw=2)\n",
    "plt.xlim(0,Lx)\n",
    "#plt.legend(loc=3, bbox_to_anchor=[0, 1],\n",
    "#           ncol=3, shadow=True, fancybox=True)\n",
    "plt.xlabel('$x$', fontdict = font)\n",
    "plt.ylabel('$u$', fontdict = font)\n",
    "plt.xticks(fontsize = 16)\n",
    "plt.yticks(fontsize = 16)\n",
    "plt.show()\n"
   ]
  },
  {
   "cell_type": "code",
   "execution_count": null,
   "metadata": {},
   "outputs": [],
   "source": [
    "fig, axs = plt.subplots(4, 3, sharex='col', sharey='row',\n",
    "                        gridspec_kw={'hspace': 0, 'wspace': 0})\n",
    "fig.suptitle('Individual waves')\n",
    "n = 0\n",
    "for i in range(4):\n",
    "    for j in range(3):\n",
    "        axs[i,j].plot(x,uwave[:,n])\n",
    "        n += 1\n",
    "        axs[i,j].set_ylim(-1,1)\n",
    "        axs[i,j].set_yticks([-0.5, 0., 0.5])\n",
    "for ax in axs.flat:\n",
    "    ax.label_outer()"
   ]
  },
  {
   "cell_type": "markdown",
   "metadata": {},
   "source": [
    "Imagine that we want to filter **all** waves with wavenumbers lower or higher than the 6th wavenumber. First we apply the Fourier transform $\\hat{u}$ to the signal and define our wavenumber $k$"
   ]
  },
  {
   "cell_type": "code",
   "execution_count": null,
   "metadata": {},
   "outputs": [],
   "source": [
    "uhat = np.fft.rfft(u)\n",
    "k = np.fft.rfftfreq(Nx,d=Lx/Nx)\n",
    "k"
   ]
  },
  {
   "cell_type": "markdown",
   "metadata": {},
   "source": [
    "### Low pass filter\n",
    "The low pass filter consists of setting all coefficients with wavenumbers larger than 6 to zero, followed by an inverse Fourier transform"
   ]
  },
  {
   "cell_type": "code",
   "execution_count": null,
   "metadata": {},
   "outputs": [],
   "source": [
    "kcut = k[6]\n",
    "mask = np.where(k >= kcut)"
   ]
  },
  {
   "cell_type": "code",
   "execution_count": null,
   "metadata": {},
   "outputs": [],
   "source": [
    "nkcut = 6\n",
    "kcut = k[nkcut]\n",
    "mask = np.where(k >= kcut)\n",
    "uhatlo = np.copy(uhat)\n",
    "uhatlo[mask] = (0.0 + 0.0j)\n",
    "ulo = np.real(np.fft.irfft(uhatlo))\n",
    "uloexact = np.sum(uwave[:,:nkcut],axis = 1)\n",
    "plt.figure(figsize=(3,2))\n",
    "plt.plot(x,ulo,lw=2)\n",
    "plt.plot(x,uloexact,'--',lw=2)\n",
    "plt.xlim(0,Lx)\n",
    "#plt.legend(loc=3, bbox_to_anchor=[0, 1],\n",
    "#           ncol=3, shadow=True, fancybox=True)\n",
    "plt.xlabel('$x$', fontdict = font)\n",
    "plt.ylabel('$u$', fontdict = font)\n",
    "plt.xticks(fontsize = 16)\n",
    "plt.yticks(fontsize = 16)\n",
    "plt.title(r\"$\\Vert u_{lo}-u_{lo,exact}\\Vert_2=%1.1e$\"%(np.linalg.norm(ulo-uloexact)))\n",
    "plt.show()"
   ]
  },
  {
   "cell_type": "code",
   "execution_count": null,
   "metadata": {},
   "outputs": [],
   "source": [
    "uhat[:12]"
   ]
  },
  {
   "cell_type": "code",
   "execution_count": null,
   "metadata": {},
   "outputs": [],
   "source": [
    "uhatlo[:12]"
   ]
  },
  {
   "cell_type": "markdown",
   "metadata": {},
   "source": [
    "### High pass filters\n",
    "Perfect high-pass filters eliminate Fourier terms with wavenumbers lower that the cutoff wavenumber $k_{cut}$"
   ]
  },
  {
   "cell_type": "code",
   "execution_count": null,
   "metadata": {},
   "outputs": [],
   "source": [
    "nkcut = 6\n",
    "kcut = k[nkcut]\n",
    "mask = np.where(k < kcut)\n",
    "uhathi = np.copy(uhat)\n",
    "uhathi[mask] = (0.0 + 0.0j)\n",
    "uhi = np.real(np.fft.irfft(uhathi))\n",
    "uhiexact = np.sum(uwave[:,nkcut:],axis = 1)\n",
    "plt.figure(figsize=(3,2))\n",
    "plt.plot(x,uhi,lw=2)\n",
    "plt.plot(x,uhiexact,'--',lw=2)\n",
    "plt.xlim(0,Lx)\n",
    "#plt.legend(loc=3, bbox_to_anchor=[0, 1],\n",
    "#           ncol=3, shadow=True, fancybox=True)\n",
    "plt.xlabel('$x$', fontdict = font)\n",
    "plt.ylabel('$u$', fontdict = font)\n",
    "plt.xticks(fontsize = 16)\n",
    "plt.yticks(fontsize = 16)\n",
    "plt.title(r\"$\\Vert u_{lo}-u_{lo,exact}\\Vert_2=%1.1e$\"%(np.linalg.norm(ulo-uloexact)))\n",
    "plt.show()"
   ]
  },
  {
   "cell_type": "code",
   "execution_count": null,
   "metadata": {},
   "outputs": [],
   "source": [
    "plt.figure(figsize=(3,2))\n",
    "plt.plot(x,u,lw=2)\n",
    "plt.plot(x,uhi+ulo,'--',lw=2)\n",
    "plt.xlim(0,Lx)\n",
    "#plt.legend(loc=3, bbox_to_anchor=[0, 1],\n",
    "#           ncol=3, shadow=True, fancybox=True)\n",
    "plt.xlabel('$x$', fontdict = font)\n",
    "plt.ylabel('$u$', fontdict = font)\n",
    "plt.xticks(fontsize = 16)\n",
    "plt.yticks(fontsize = 16)\n",
    "plt.title(r\"$\\Vert u_{lo}+u_{hi}-u_{exact}\\Vert_2=%1.1e$\"%(np.linalg.norm(ulo+uhi-u)))\n",
    "plt.show()"
   ]
  },
  {
   "cell_type": "code",
   "execution_count": null,
   "metadata": {},
   "outputs": [],
   "source": [
    "plt.figure(figsize=(3,2))\n",
    "plt.plot(x,ulo,lw=2,label=\"$u_{lo}$\")\n",
    "plt.plot(x,uhi,lw=2,label=\"$u_{hi}$\")\n",
    "plt.plot(x,u,'--',lw=2,label=\"$u$\")\n",
    "plt.xlim(0,Lx)\n",
    "plt.legend(loc=3, bbox_to_anchor=[0, 1],\n",
    "          ncol=3, shadow=True, fancybox=True)\n",
    "plt.xlabel('$x$', fontdict = font)\n",
    "plt.ylabel('$u$', fontdict = font)\n",
    "plt.xticks(fontsize = 16)\n",
    "plt.yticks(fontsize = 16)\n",
    "plt.show()"
   ]
  },
  {
   "cell_type": "code",
   "execution_count": null,
   "metadata": {},
   "outputs": [],
   "source": [
    "P = uhat*np.conj(uhat)\n",
    "P"
   ]
  },
  {
   "cell_type": "code",
   "execution_count": null,
   "metadata": {},
   "outputs": [],
   "source": [
    "nP = 2*(Lx/Nx)**2/Lx/np.pi\n",
    "P = np.real(uhat*np.conj(uhat))\n",
    "Plo = np.real(uhatlo*np.conj(uhatlo))\n",
    "Phi = np.real(uhathi*np.conj(uhathi))\n",
    "P[:] *= nP\n",
    "P[0] /= 4\n",
    "Plo[:] *= nP\n",
    "Plo[0] /= 4\n",
    "Phi[:] *= nP\n",
    "Phi[0] /= 4\n",
    "plt.plot(k,P,'o',label=\"Whole spectrum\")\n",
    "plt.plot(k,Plo,'--',label=\"Spectrum of $u_{lo}$\")\n",
    "plt.plot(k,Phi,'-',label=\"Spectrum of $u_{hi}$\")\n",
    "plt.plot(k[:12],ampwave[:]**2,'^',label=\"$A_n^2$\")\n",
    "plt.legend(loc=3, bbox_to_anchor=[0, 1],\n",
    "          ncol=2, shadow=True, fancybox=True)\n",
    "plt.xlim(0,2)\n",
    "plt.xlabel(r\"$x$\")\n",
    "plt.ylabel(r\"$P_{xx}$\")\n",
    "plt.show()"
   ]
  },
  {
   "cell_type": "code",
   "execution_count": null,
   "metadata": {},
   "outputs": [],
   "source": [
    "Plo[:5]/ampwave[:5]**2"
   ]
  },
  {
   "cell_type": "code",
   "execution_count": null,
   "metadata": {},
   "outputs": [],
   "source": []
  }
 ],
 "metadata": {
  "kernelspec": {
   "display_name": "Python 3",
   "language": "python",
   "name": "python3"
  },
  "language_info": {
   "codemirror_mode": {
    "name": "ipython",
    "version": 3
   },
   "file_extension": ".py",
   "mimetype": "text/x-python",
   "name": "python",
   "nbconvert_exporter": "python",
   "pygments_lexer": "ipython3",
   "version": "3.8.5"
  }
 },
 "nbformat": 4,
 "nbformat_minor": 4
}
