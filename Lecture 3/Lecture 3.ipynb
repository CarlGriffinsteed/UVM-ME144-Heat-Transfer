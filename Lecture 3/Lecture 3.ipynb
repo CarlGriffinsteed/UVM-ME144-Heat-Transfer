{
 "cells": [
  {
   "cell_type": "raw",
   "metadata": {},
   "source": [
    "Text provided under a Creative Commons Attribution license, CC-BY. All code is made available under the FSF-approved MIT license. (c) Yves Dubief, 2016. NSF for support via NSF-CBET award #1258697."
   ]
  },
  {
   "cell_type": "code",
   "execution_count": 1,
   "metadata": {},
   "outputs": [],
   "source": [
    "%matplotlib inline \n",
    "\n",
    "from IPython.display import clear_output\n",
    "\n",
    "import schemdraw as schem\n",
    "import schemdraw.elements as e\n",
    "\n",
    "import matplotlib.pyplot as plt\n",
    "import numpy as np\n",
    "import math\n",
    "import scipy.constants as sc\n",
    "\n",
    "import sympy as sym\n",
    "\n",
    "\n",
    "    \n",
    "font = {'family' : 'serif',\n",
    "        'color'  : 'black',\n",
    "        'weight' : 'normal',\n",
    "        'size'   : 18,\n",
    "        }\n",
    "\n"
   ]
  },
  {
   "cell_type": "markdown",
   "metadata": {},
   "source": [
    "# Concept"
   ]
  },
  {
   "cell_type": "markdown",
   "metadata": {},
   "source": [
    "\n",
    "One dimensional materials are materials with two dimensions much larger than the third so that properties within the materials have negligible variations in the first two dimensions. In this chapter, we focus on the heat transfer inside 1-D solids or fluids at rest (i.e. no convective motion).\n",
    "\n",
    "Consider a 1D material of dimension $L$, ($0\\leq x\\leq L$). Imagine that this the wall thickness of a house made of one material. The outside is at constant temperature $T_{w,o}$ and the inside at $T_{w,i}>T_{w,o}$. Typically the owner heats up the house to maintain $T_{w,i}$ and the weather controls $T_{w,o}$. You can view the problem as:\n",
    "<ol>\n",
    "<li> the outside air extracts heat from the house,</li>\n",
    "<li> the house warms the outside air. </li>\n",
    "</ol>\n",
    "\n",
    "In any case, there is heat exchange between the outside and inside through the outside and inside surfaces of our wall. This is called <b>heat transfer</b>. Obviously, if inside and outside are at the same temperature, there is no heat transfer. This observation suggests that <b> temperature gradients</b> are necessary for heat transfer to occur. An analog property is the viscous stress in fluid mechanics which can only be non-zero when at least one velocity gradient is non-zero. Another observation that we have all made is that certain material transfer heat more than other: Licking a metal pole on a cold winter day is really bad idea; if the pole was made of wood, the scene below (from the movie A Christmas Story) would not be funny. Of course there is a little more to the story than just temperature of the air.\n",
    "\n",
    "<img src=\"AChristmasStory.jpg\" alt=\"my awesome sketch\" width=50% >\n",
    "\n"
   ]
  },
  {
   "cell_type": "markdown",
   "metadata": {},
   "source": [
    "Each material has a specific <b>thermal conductivity</b>, $k$, or ability to conduct heat. Going back to the wall of our house, with heat flowing or conducting from the inside to the outside, the question is how to quantify heat?"
   ]
  },
  {
   "cell_type": "markdown",
   "metadata": {},
   "source": [
    "# Heat Flux and Heat Transfer"
   ]
  },
  {
   "cell_type": "markdown",
   "metadata": {},
   "source": [
    "\n",
    "The guiding principle of heat is basic law of energy: energy must be conserved. Here we are referring to thermal energy or enthalpy:\n",
    "<p class='alert alert-danger'>\n",
    "$$\n",
    "h=\\rho C_p T\n",
    "$$\n",
    "</p>\n",
    "\n",
    "where $\\rho$ and $C_p$ are the density and the specific heat of the wall material. We now construct a <b>discretized</b> model of the <b>local</b> thermal energy variation in time and space. We divide our wall in $N$ elements with the objective to compute the evolution of temperature (enthalpy) throughout the wall by applying conservation of energy to each element (or control volume).\n",
    "\n",
    "<img src=\"Notebook2-1D-cell.png\" alt=\"my awesome sketch\" width=50% >\n",
    "\n",
    "In one element, we define the temperature at the center, as the average temperature over the entire cell. Since we limit our present discussion to 1D, the total enthalpy over the cell is $h\\Delta x\\Delta y\\Delta z$. The conservation of energy dictates that\n",
    "<p class='alert alert-danger'>\n",
    "$$\n",
    "\\left[\\begin{array}{1}\n",
    "\\text{growth or decay of}\\\\\n",
    "\\text{enthalpy over time}\n",
    "\\end{array}\n",
    "\\right] = \n",
    "\\left[\\text{energy coming in}\\right] - \\left[\\text{energy going out}\\right]+\\left[\\text{internal energy sources}\\right]\n",
    "$$\n",
    "</p>\n",
    "where **internal energy sources** may be heat production or destruction from chemical reactions, mechanical systems (friction) or electrical resistance. Here after the total internal energy source per unit volume is defined as $\\dot{q}$\n",
    "\n",
    "The left hand side can simply be interpreted as\n",
    "$$\n",
    "\\frac{h(x_i,t+\\Delta t)-h(x_i,t)}{\\Delta t}\\Delta x\\Delta y\\Delta z=\\rho C_p\\frac{T(x_i,t+\\Delta t)-T(x_i,t)}{\\Delta t}\\Delta x\\Delta y\\Delta z\n",
    "$$\n",
    "\n"
   ]
  },
  {
   "cell_type": "markdown",
   "metadata": {},
   "source": [
    "In the light of the previous discussion, we shall now derive an expression of the energy going in and out (RHS of the conservation energy). We speculated before that heat transfer should be related to temperature gradient, for instance at the interface between cell $i$ and $i+1$, this gradient is\n",
    "$$\n",
    "\\frac{T(x_{i+1},t)-T(x_i,t)}{x_{i+1}-x_{i}}=\\frac{T(x_{i+1},t)-T(x_i,t)}{\\Delta x}\n",
    "$$\n",
    "This is an approximation of the temperature gradient that becomes exact when $\\Delta x\\rightarrow 0$.\n",
    "\n",
    "How does the heat flow? It is sort of a philosiphical question. Does the cold air cool the house or does the inside of the house warms the air? Let's be practical: We need energy to keep our houses warm in the water, so the heat appears to escape the house. The transport heat is therefore <b>against</b> the gradient of temperature. We therefore define the <b>heat flux</b>\n",
    "$$\n",
    "q''(x_{i+1/2},t)=-k\\frac{T(x_{i+1},t)-T(x_i,t)}{\\Delta x}\n",
    "$$\n",
    "as our energy in or out. The thermal conductivity $k$ is material dependent and necessary to achieve the dimensions of an energy flux (W/m<sup>2</sup>). The heat rate across the interface at $x_{i+1/2}$ is the integral over the surface area. Assuming (thanks to 1D) that $q''$ is constant over that surface, the <b>heat rate</b> is\n",
    "$$\n",
    "q(x_{i+1/2},t)=-k\\frac{T(x_{i+1},t)-T(x_i,t)}{\\Delta x}\\Delta y\\Delta z\n",
    "$$\n",
    "The units of $k$ are therefore <b>W/(m.K)</b>. Temperature can be expressed here in Kelvin or degree Centigrade (since this is a difference) but <b>not in Farhenheit</b>. From now on we will stick to Kelvin and Centigrade as much as possible.\n",
    "\n",
    "Our balance of energy now becomes:\n",
    "$$\n",
    "\\begin{split}\n",
    "&\\rho C_p\\frac{T(x_i,t+\\Delta t)-T(x_i,t)}{\\Delta t}\\Delta x\\Delta y\\Delta z\\\\\n",
    "&-\\left(-k\\frac{T(x_{i},t)-T(x_{i-1},t)}{\\Delta x}\\right)\\Delta y\\Delta z+\\left(-k\\frac{T(x_{i+1},t)-T(x_i,t)}{\\Delta x}\\right)\\Delta y\\Delta z=\\dot{q}\\Delta x\\Delta y\\Delta z\n",
    "\\end{split}\n",
    "$$\n",
    "which can be recast as:\n",
    "$$\n",
    "\\rho C_p \\frac{T(x_i,t+\\Delta t)-T(x_i,t)}{\\Delta t}\\Delta x\\Delta y\\Delta z=k\\frac{T(x_{i+1},t)-2T(x_i,t)+T(x_{i-1},t)}{\\Delta x}\\Delta y\\Delta z+\\dot{q}\n",
    "$$\n",
    "and simplified to \n",
    "$$\n",
    "\\rho C_p \\frac{T(x_i,t+\\Delta t)-T(x_i,t)}{\\Delta t}=k\\frac{T(x_{i+1},t)-2T(x_i,t)+T(x_{i-1},t)}{\\Delta x^2}+\\dot{q}\n",
    "$$\n",
    "In the absence of heat generation, or internal energy source ($\\dot{q}=0$). The steady state solution is independent of time, hence the governing equation of each cell in our wall:\n",
    "$$\n",
    "-T(x_{i+1},t)+2T(x_i,t)-T(x_{i-1},t)=0\n",
    "$$\n",
    "How do we solve this problem? The solution at $x_i$ depends on the solution at $x_{i+1}$ and $x_{i-1}$, which imposes that we treat the problem as a compact system of equations written in a matrix form:\n",
    "$$\n",
    "\\left(\\begin{array}{cccccccccc}\n",
    "1 & 0 & 0 & \\ldots & \\ldots& \\ldots & 0\\\\\n",
    "-1  & 2 & -1 & \\ddots &  & &   \\vdots\\\\\n",
    "0& \\ddots & \\ddots & \\ddots& \\ddots&  & \\vdots\\\\\n",
    "\\vdots &\\ddots & -1 & 2 & -1 & \\ddots &  \\vdots\\\\\n",
    "\\vdots  & &\\ddots & \\ddots &\\ddots &\\ddots & 0\\\\\n",
    "\\vdots & & & \\ddots &-1 & 2 & -1 \\\\\n",
    "0 & \\ldots & \\ldots & \\ldots & 0 &0 & 1\\\\\n",
    "\\end{array}\n",
    "\\right)\\cdot\n",
    "\\left(\\begin{array}{c}\n",
    "T(x_{0})\\\\\n",
    "T(x_{1})\\\\\n",
    "\\vdots \\\\\n",
    "T(x_{i})\\\\\n",
    "\\vdots \\\\\n",
    "T(x_{N-2})\\\\\n",
    "T(x_{N-1})\n",
    "\\end{array}\n",
    "\\right)=\n",
    "\\left(\\begin{array}{c}\n",
    "T_{w,i}\\\\\n",
    "0\\\\\n",
    "\\vdots \\\\\n",
    "\\vdots \\\\\n",
    "\\vdots \\\\\n",
    "0\\\\\n",
    "T_{w,o}\n",
    "\\end{array}\n",
    "\\right)\n",
    "$$"
   ]
  },
  {
   "cell_type": "code",
   "execution_count": 2,
   "metadata": {},
   "outputs": [
    {
     "data": {
      "text/plain": [
       "<function matplotlib.pyplot.show(close=None, block=None)>"
      ]
     },
     "execution_count": 2,
     "metadata": {},
     "output_type": "execute_result"
    },
    {
     "data": {
      "image/png": "[encoded data removed]",
      "text/plain": [
       "<Figure size 450x375 with 1 Axes>"
      ]
     },
     "metadata": {
      "needs_background": "light"
     },
     "output_type": "display_data"
    }
   ],
   "source": [
    "\n",
    "\n",
    "import matplotlib.pyplot as plt\n",
    "import numpy as np\n",
    "\n",
    "L = 0.025 #wall thickness is 2.5 cm\n",
    "N = 5 # Number of cells in the wall\n",
    "Ti = 20. #\n",
    "To = -20. #\n",
    "dx = float(L)/float(N-1) #cell size\n",
    "x = np.array([i*dx for i in range(N)])\n",
    "A = np.zeros((N, N))     # pre-allocate [A] array\n",
    "b = np.zeros((N, 1))     # pre-allocate {b} column vector\n",
    "\n",
    "A[0, 0] = 1.\n",
    "b[0, 0] = Ti\n",
    "A[N-1,N-1] = 1.\n",
    "b[N-1,0] = To\n",
    "\n",
    "for i in range(1, N-1):\n",
    "    A[i, i-1] = -1   # node-1\n",
    "    A[i, i] = 2     # node\n",
    "    A[i, i+1] = -1   # node+1\n",
    "    \n",
    "#print('A \\n', A)\n",
    "#print('B \\n', b)\n",
    "\n",
    "#---- Solve using numpy.linalg.solve\n",
    "\n",
    "T = np.linalg.solve(A, b)     # solve A*x = B for x\n",
    "\n",
    "#print('T \\n', T)\n",
    "\n",
    "plt.figure(figsize=(3,2.5), dpi=150)\n",
    "plt.plot(x,T, lw=2, label='Wall temperature')\n",
    "plt.xlim([0,L])\n",
    "plt.ylim([To,Ti])\n",
    "plt.xlabel('$x$ (m)')\n",
    "plt.ylabel('$T$ ($^\\circ$C)')\n",
    "plt.legend()\n",
    "plt.show\n"
   ]
  },
  {
   "cell_type": "markdown",
   "metadata": {},
   "source": [
    "How is the distribution of temperature inside our wall? Use the code to change the inside and/or outside temperature, is the distribution other than linear? Increase the number of cells inside the wall, do you see any change?\n",
    "\n",
    "Using our intuitive approach and a model of the heat flux, our simulation suggests that the temperature distribution is linear inside our wall resulting in the following heat flux\n",
    "<p class='alert alert-danger'>\n",
    "$$\n",
    "q''=-k\\frac{T_{w,i}-T_{w,o}}{L}\n",
    "$$\n",
    "</p>\n",
    "and the heat transfer rate is $q=q''A$ where $A$ is the surface area of the wall. Heat flux is defined by a phenomologic law, called <b>Fourier's law</b> which was derived from observations and experiments. Fourier's law in 3D is\n",
    "<p class='alert alert-danger'>\n",
    "$$\n",
    "\\vec{q}''=-k\\vec{\\nabla}T=-k\\left(\\begin{array}{c}\\frac{\\partial T}{\\partial x}\\\\\\frac{\\partial T}{\\partial y}\\\\\\frac{\\partial T}{\\partial z}\\end{array}\\right)\n",
    "$$\n",
    "</p>\n",
    "and for one dimension problem:\n",
    "<p class='alert alert-danger'>\n",
    "$$\n",
    "q''=-k\\frac{dT}{dx}\n",
    "$$\n",
    "</p>\n",
    "\n",
    "Consider now a practical application. Pinewood has a thermal conductivity of 0.26 $\\text{W}/\\text{m}.\\text{K}$. The heat transfer rate through a one squared meter wood panel is 260 W. For an insulating material (fiberglass-type) with a thermal conductivity of 0.035 $\\text{W}/\\text{m}.\\text{K}$, the heat transfer rate drops to 35 W. \n",
    "\n",
    "The problem is that one cannot build houses out of insulation material. Now consider a wall is 2.5cm of wood and 1cm of insulation. The wall is no longer homogenous: 2.5cm of the domain has a thermal conductivity of 0.26, the rest has a thermal conductivity of 0.035. Let us assume that for <b>1D steady-state conduction</b> the heat flux <b>within the same material</b> of thermal conductivity $k$ between point $a$ and $b$ separated by a length $L$ is\n",
    "$$\n",
    "q''=-k\\frac{T_a-T_b}{L}\n",
    "$$\n",
    "We are here assuming that the distribution of temperature is linear between $a$ and $b$.\n",
    "\n",
    "Conservation of energy imposes that the same energy (heat) flowing through the wood has to flow through the insulation. Our system is 1D so the energy is nowhere to go but through the walls and it needs to be conserved! (Yes I am repeating myself, I am just making sure you remember that energy is always conserved). The equality of heat flux writes:\n",
    "$$\n",
    "q_\\text{wood}''=q_\\text{insulation}'' \\Rightarrow -k_\\text{wood}\\frac{T_{w,i}-T_1}{L_\\text{wood}}=-k_\\text{insulation}\\frac{T_1-T_{w,o}}{L_\\text{insulation}}\n",
    "$$\n",
    "which leads to the determination of the interface temperature $T_1$\n",
    "$$\n",
    "T_1=\\frac{1}{\\frac{k_\\text{wood}}{L_\\text{wood}}+\\frac{k_\\text{insulation}}{L_\\text{insulation}}}\\left(\\frac{k_\\text{wood}}{L_\\text{wood}}T_{w,i}+\\frac{k_\\text{insulation}}{L_\\text{insulation}}T_{w,o}\\right)\n",
    "$$\n",
    "The temperature distribution is plotted below and the heat flux is calculated.\n"
   ]
  },
  {
   "cell_type": "code",
   "execution_count": 3,
   "metadata": {},
   "outputs": [
    {
     "name": "stdout",
     "output_type": "stream",
     "text": [
      "Heat rate through wall: 65.47 W\n"
     ]
    },
    {
     "data": {
      "image/png": "[encoded data removed]",
      "text/plain": [
       "<Figure size 450x375 with 1 Axes>"
      ]
     },
     "metadata": {
      "needs_background": "light"
     },
     "output_type": "display_data"
    }
   ],
   "source": [
    "import math\n",
    "k_wood=0.26 #W/(m.K)\n",
    "k_insulation=0.035 #W/(m.K)\n",
    "L_wood=0.025 #m\n",
    "L_insulation=0.01 #m\n",
    "L_wall=L_wood+L_insulation\n",
    "T_wi=20. #C\n",
    "T_wo=-5. #C\n",
    "Area=1. #m^2\n",
    "x=np.array([0., L_wood, L_wall])\n",
    "T_1=(k_wood/L_wood*T_wi+k_insulation/L_insulation*T_wo)/(k_wood/L_wood+k_insulation/L_insulation)\n",
    "T=np.array([T_wi, T_1, T_wo])\n",
    "plt.figure(figsize=(3,2.5), dpi=150)\n",
    "plt.plot(x,T, lw=2, label='Wall temperature')\n",
    "plt.xlim([0,L_wall])\n",
    "plt.ylim([T_wo,T_wi])\n",
    "plt.xlabel('$x$ (m)')\n",
    "plt.ylabel('$T$ ($^\\circ$C)')\n",
    "plt.legend()\n",
    "plt.show\n",
    "q_wall=k_wood/L_wood*(T_wi-T_1)*Area\n",
    "print ('Heat rate through wall: {0:.2f} W'.format(q_wall))"
   ]
  },
  {
   "cell_type": "markdown",
   "metadata": {},
   "source": [
    "This is still a lousy house. What would the heat rate be if we add sheetrock on the inside and bricks on the outside?\n",
    "\n",
    "To summarize, we have 1cm of sheetrock (sr) with $k_{sr}=0.10$W/(m.K), 2.5cm of pinewood (pw), 1cm of insulation (in) and 5 cm of brick (br) with $k_{br}=0.6$W/(m.K). The system of equations for <b>heat rate</b> is\n",
    "\\begin{eqnarray}\n",
    "-\\frac{k_\\text{sr}A}{L_\\text{sr}}\\left(T_{w,i}-T_1\\right)&=&\n",
    "-\\frac{k_\\text{pw}A}{L_\\text{pw}}\\left(T_1-T_2\\right)\\\\\n",
    "-\\frac{k_\\text{pw}A}{L_\\text{pw}}\\left(T_1-T_2\\right)&=&\n",
    "-\\frac{k_\\text{in}A}{L_\\text{in}}\\left(T_2-T_3\\right)\\\\\n",
    "-\\frac{k_\\text{in}A}{L_\\text{in}}\\left(T_2-T_3\\right)&=&\n",
    "-\\frac{k_\\text{br}A}{L_\\text{br}}\\left(T_3-T_{w,o}\\right)\n",
    "\\end{eqnarray}\n",
    "We now define the following\n",
    "\\begin{eqnarray}\n",
    "R_\\text{sr}&=&\\frac{L_\\text{sr}}{k_\\text{sr}A}\\\\\n",
    "R_\\text{pw}&=&\\frac{L_\\text{pw}}{k_\\text{pw}A}\\\\\n",
    "R_\\text{in}&=&\\frac{L_\\text{in}}{k_\\text{in}A}\\\\\n",
    "R_\\text{br}&=&\\frac{L_\\text{br}}{k_\\text{br}A}\n",
    "\\end{eqnarray}\n",
    "and explain later why. We can recast the system into a matrix form\n",
    "$$\n",
    "\\left(\\begin{array}{ccccc}\n",
    "1 & 0 & 0 & 0 & 0\\\\\n",
    "-\\frac{1}{R_\\text{sr}} & \\frac{1}{R_\\text{sr}}+\\frac{1}{R_\\text{pw}} & -\\frac{1}{R_\\text{pw}} & 0 & 0 \\\\\n",
    "0 & -\\frac{1}{R_\\text{pw}} & \\frac{1}{R_\\text{pw}}+\\frac{1}{R_\\text{in}} & -\\frac{1}{R_\\text{in}} &0 \\\\\n",
    "0 & 0 & -\\frac{1}{R_\\text{in}} & \\frac{1}{R_\\text{in}}+\\frac{1}{R_\\text{br}} & \\frac{1}{R_\\text{br}} \\\\\n",
    "0 & 0 & 0 & 0&  1\n",
    "\\end{array}\\right)\n",
    "\\left(\\begin{array}{c}\n",
    "T_{w,i}\\\\\n",
    "T_1\\\\\n",
    "T_2\\\\\n",
    "T_3\\\\\n",
    "T_{w,o}\n",
    "\\end{array}\\right)=\n",
    "\\left(\\begin{array}{c}\n",
    "20\\\\\n",
    "0\\\\\n",
    "0\\\\\n",
    "0\\\\\n",
    "-5\n",
    "\\end{array}\\right)\n",
    "$$"
   ]
  },
  {
   "cell_type": "code",
   "execution_count": 4,
   "metadata": {},
   "outputs": [
    {
     "name": "stdout",
     "output_type": "stream",
     "text": [
      "[[  1.    0.    0.    0.    0. ]\n",
      " [-10.   20.4 -10.4   0.    0. ]\n",
      " [  0.  -10.4  13.9  -3.5   0. ]\n",
      " [  0.    0.   -3.5  15.5 -12. ]\n",
      " [  0.    0.    0.    0.    1. ]]\n",
      "[[25.        ]\n",
      " [19.69215813]\n",
      " [14.58846403]\n",
      " [-0.57679844]\n",
      " [-5.        ]]\n",
      "Heat rate through wall in sr: 53.08 W\n",
      "Heat rate through wall in pw: 53.08 W\n",
      "Heat rate through wall in in: 53.08 W\n",
      "Heat rate through wall in br: 53.08 W\n"
     ]
    },
    {
     "data": {
      "image/png": "[encoded data removed]",
      "text/plain": [
       "<Figure size 450x375 with 1 Axes>"
      ]
     },
     "metadata": {
      "needs_background": "light"
     },
     "output_type": "display_data"
    }
   ],
   "source": [
    "k_sr=0.1\n",
    "L_sr=0.01\n",
    "k_pw=0.26\n",
    "L_pw=0.025\n",
    "k_in=0.035\n",
    "L_in=0.01\n",
    "k_br=0.6\n",
    "L_br=0.05\n",
    "Area=1.\n",
    "T_wi=25.\n",
    "T_wo=-5.\n",
    "R_sr=L_sr/(k_sr*Area)\n",
    "R_pw=L_pw/(k_pw*Area)\n",
    "R_in=L_in/(k_in*Area)\n",
    "R_br=L_br/(k_br*Area)\n",
    "A = np.zeros((5, 5))\n",
    "b = np.zeros((5, 1))\n",
    "A[0, 0] = 1.\n",
    "b[0, 0] = T_wi\n",
    "A[1,0] = -1./R_sr\n",
    "A[1,1] = 1./R_sr+1./R_pw\n",
    "A[1,2] = -1./R_pw\n",
    "A[2,1] = -1./R_pw\n",
    "A[2,2] = 1./R_pw+1./R_in\n",
    "A[2,3] = -1./R_in\n",
    "A[3,2] = -1./R_in\n",
    "A[3,3] = 1./R_in+1./R_br\n",
    "A[3,4] = -1./R_br\n",
    "A[4,4] = 1.\n",
    "b[4,0] = T_wo\n",
    "print(A)\n",
    "\n",
    "T = np.linalg.solve(A, b)\n",
    "print(T)\n",
    "x = np.zeros((5,1))\n",
    "x[1,0] = L_sr\n",
    "x[2,0] = x[1,0]+L_pw\n",
    "x[3,0] = x[2,0]+L_in\n",
    "x[4,0] = x[3,0]+L_br\n",
    "\n",
    "L=x[4,0]\n",
    "\n",
    "plt.figure(figsize=(3,2.5), dpi=150)\n",
    "plt.plot(x,T, lw=2, label='Wall temperature')\n",
    "plt.xlim([0,L])\n",
    "plt.ylim([T_wo,T_wi])\n",
    "plt.xlabel('$x$ (m)')\n",
    "plt.ylabel('$T$ ($^\\circ$C)')\n",
    "plt.legend()\n",
    "plt.show\n",
    "\n",
    "q_wall=(T_wi-T[1,0])/R_sr\n",
    "print ('Heat rate through wall in sr: {0:.2f} W'.format(q_wall))\n",
    "q_wall=(T[1,0]-T[2,0])/R_pw\n",
    "print ('Heat rate through wall in pw: {0:.2f} W'.format(q_wall))\n",
    "q_wall=(T[2,0]-T[3,0])/R_in\n",
    "print ('Heat rate through wall in in: {0:.2f} W'.format(q_wall))\n",
    "q_wall=(T[3,0]-T[4,0])/R_br\n",
    "print ('Heat rate through wall in br: {0:.2f} W'.format(q_wall))"
   ]
  },
  {
   "cell_type": "markdown",
   "metadata": {},
   "source": [
    "The significance of \n",
    "<p class='alert alert-danger'>\n",
    "$$\n",
    "R=\\frac{L}{kA}\n",
    "$$\n",
    "</p>\n",
    "comes from the analogy between heat rate, temperature, thermal conductivity and current $I$, potential difference $\\Delta V$, and conductivity $\\sigma$. Ohm's law in a wire of area $A$ and length $L$ between points $1$ and $2$ states that\n",
    "$$\n",
    "V_1-V_2=R I\\text{ with }R=\\frac{L}{\\sigma A}\\text{ or } I=\\frac{\\Delta V}{R}\n",
    "$$\n",
    "\n",
    "In heat transfer $R$ is the <b>thermal resistance</b>\n",
    "<p class='alert alert-danger'>\n",
    "$$\n",
    "R=\\frac{\\Delta T}{q}\n",
    "$$\n",
    "</p>\n",
    "In the case of composite materials, such as the one we have just computed, the total resistance is the sum of all the resistance\n",
    "<p class='alert alert-danger'>\n",
    "$$\n",
    "R_\\text{tot}=\\sum_{i=0}^{N-1}R_i\n",
    "$$\n",
    "</p>\n",
    "and the heat rate through the wall is \n",
    "<p class='alert alert-danger'>\n",
    "$$\n",
    "q=\\frac{T_0-T_{N-1}}{R_\\text{tot}}\n",
    "$$\n",
    "</p>\n",
    "If you are not concerned by the temperature distribution through the wall, this method is faster than the matrix one.\n",
    "\n",
    "For heat transfer per unit surface area, or heat flux, the thermal resistance for a plane wall is defined as\n",
    "$$\n",
    "R''=\\frac{L}{k}\n",
    "$$"
   ]
  },
  {
   "cell_type": "code",
   "execution_count": 6,
   "metadata": {},
   "outputs": [
    {
     "name": "stdout",
     "output_type": "stream",
     "text": [
      "Heat rate through wall using the total thermal resistance: 53.08 W\n"
     ]
    }
   ],
   "source": [
    "R_tot=R_sr+R_pw+R_in+R_br\n",
    "q_wall=(T_wi-T_wo)/R_tot\n",
    "print ('Heat rate through wall using the total thermal resistance: {0:.2f} W'.format(q_wall))"
   ]
  },
  {
   "cell_type": "markdown",
   "metadata": {},
   "source": [
    "## What you need to remember\n",
    "\n",
    "* Units of thermal conductivity\n",
    "* **Fourier's law** (not only because Fourier is French and lived in Grenoble)\n",
    "* The following definitions and units\n",
    "    * **Heat flux**: heat transfer per unit surface area $q''\\, [W/m^2]$\n",
    "    * **Heat rate per unit length**: $q'\\, [W/m]$\n",
    "    * **Heat rate**: $q\\, [W]$\n",
    "* Conservation of energy applied to a solid or a volume of fluid at rest\n",
    "* There is a analogy between heat transfer and electricity. "
   ]
  },
  {
   "cell_type": "code",
   "execution_count": null,
   "metadata": {
    "collapsed": true
   },
   "outputs": [],
   "source": []
  }
 ],
 "metadata": {
  "kernelspec": {
   "display_name": "Python 3",
   "language": "python",
   "name": "python3"
  },
  "language_info": {
   "codemirror_mode": {
    "name": "ipython",
    "version": 3
   },
   "file_extension": ".py",
   "mimetype": "text/x-python",
   "name": "python",
   "nbconvert_exporter": "python",
   "pygments_lexer": "ipython3",
   "version": "3.8.5"
  }
 },
 "nbformat": 4,
 "nbformat_minor": 2
}
