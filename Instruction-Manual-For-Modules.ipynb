{
 "cells": [
  {
   "cell_type": "raw",
   "metadata": {},
   "source": [
    "Text provided under a Creative Commons Attribution license, CC-BY. All code is made available under the FSF-approved MIT license. (c) Yves Dubief, 2016. NSF for support via NSF-CBET award #1258697."
   ]
  },
  {
   "cell_type": "code",
   "execution_count": 2,
   "metadata": {},
   "outputs": [],
   "source": [
    "\"\"\"\n",
    "importing the necessary libraries, do not modify\n",
    "\"\"\"\n",
    "%matplotlib inline \n",
    "# plots graphs within the notebook\n",
    "%config InlineBackend.figure_format='svg' # not sure what this does, may be default images to svg format\n",
    "\n",
    "from IPython.display import display,Image, Latex\n",
    "from __future__ import division\n",
    "from sympy.interactive import printing\n",
    "printing.init_printing(use_latex='mathjax')\n",
    "\n",
    "\n",
    "from IPython.display import display,Image, Latex\n",
    "\n",
    "from IPython.display import clear_output\n",
    "\n",
    "import schemdraw as schem\n",
    "import schemdraw.elements as e\n",
    "\n",
    "import matplotlib.pyplot as plt\n",
    "import numpy as np\n",
    "import math\n",
    "import scipy.constants as sc\n",
    "\n",
    "import sympy as sym\n",
    "\n",
    "from IPython.core.display import HTML\n",
    "def header(text):\n",
    "    raw_html = '<h4>' + str(text) + '</h4>'\n",
    "    return raw_html\n",
    "\n",
    "def box(text):\n",
    "    raw_html = '<div style=\"border:1px dotted black;padding:2em;\">'+str(text)+'</div>'\n",
    "    return HTML(raw_html)\n",
    "\n",
    "def nobox(text):\n",
    "    raw_html = '<p>'+str(text)+'</p>'\n",
    "    return HTML(raw_html)\n",
    "\n",
    "def addContent(raw_html):\n",
    "    global htmlContent\n",
    "    htmlContent += raw_html\n",
    "    \n",
    "class PDF(object):\n",
    "  def __init__(self, pdf, size=(200,200)):\n",
    "    self.pdf = pdf\n",
    "    self.size = size\n",
    "\n",
    "  def _repr_html_(self):\n",
    "    return '<iframe src={0} width={1[0]} height={1[1]}></iframe>'.format(self.pdf, self.size)\n",
    "\n",
    "  def _repr_latex_(self):\n",
    "    return r'\\includegraphics[width=1.0\\textwidth]{{{0}}}'.format(self.pdf)\n",
    "\n",
    "class ListTable(list):\n",
    "    \"\"\" Overridden list class which takes a 2-dimensional list of \n",
    "        the form [[1,2,3],[4,5,6]], and renders an HTML Table in \n",
    "        IPython Notebook. \"\"\"\n",
    "    \n",
    "    def _repr_html_(self):\n",
    "        html = [\"<table>\"]\n",
    "        for row in self:\n",
    "            html.append(\"<tr>\")\n",
    "            \n",
    "            for col in row:\n",
    "                html.append(\"<td>{0}</td>\".format(col))\n",
    "            \n",
    "            html.append(\"</tr>\")\n",
    "        html.append(\"</table>\")\n",
    "        return ''.join(html)\n",
    "    \n",
    "font = {'family' : 'serif',\n",
    "        'color'  : 'black',\n",
    "        'weight' : 'normal',\n",
    "        'size'   : 18,\n",
    "        }\n",
    "from scipy.constants import convert_temperature\n",
    "def C2K(T):\n",
    "    return convert_temperature(T,'Celsius','Kelvin')\n",
    "def C2F(T):\n",
    "    return convert_temperature(T,'Celsius','Fahrenheit')\n",
    "def F2K(T):\n",
    "    return convert_temperature(T,'Fahrenheit','Kelvin')\n",
    "def F2C(T):\n",
    "    return convert_temperature(T,'Fahrenheit','Celsius')\n",
    "def K2F(T):\n",
    "    return convert_temperature(T,'Kelvin','Fahrenheit')\n",
    "def K2C(T):\n",
    "    return convert_temperature(T,'Kelvin','Celsius')"
   ]
  },
  {
   "cell_type": "markdown",
   "metadata": {},
   "source": [
    "<h1> Thermodynamics Module</h1>\n",
    "\n",
    "The thermodynamic properties necessary for the treatment of heat transfer problem include:\n",
    "<ul>\n",
    "<li> Density $\\rho \\text{ (kg/m$^3$)}$</li>\n",
    "<li> Specific heat at constant pressure $C_p \\text{ (J/(kg.K)}$</li>\n",
    "<li> Dynamic viscosity $\\mu \\text{ (kg/(m.s))}$</li>\n",
    "<li> Thermal conductivity $k \\text{ (W/(m.K))}$</li>\n",
    "<li> Kinematic viscosity $\\nu \\text{ (m$^2$/s)}$</li>\n",
    "<li> Thermal diffusivity $\\alpha \\text{ (m$^2$/s)}$</li>\n",
    "<li> Prandtl number $Pr$, ratio of kinematic viscosity to thermal diffusivity, dimensionless\n",
    "<li> Thermal expansion coefficient $\\beta \\text{ (1/K)}$</li>\n",
    "</ul> \n",
    "The module <FONT FACE=\"courier\" style=\"color:blue\">from Libraries import thermodynamics as thermo </FONT> gives these thermodynamics properties for water, air, argon and krypton under $1\\text{ atm}$ over a given range of temperature $T$ (dependent upon the fluid). Air properties are tabled between $-150\\text{$^\\circ$C}$ and $400\\text{$^\\circ$C}$, water between $274\\text{K}$ and $373\\text{K}$, Argon between $100\\text{K}$ and $700\\text{K}$ and Krypton between $150\\text{K}$ and $750\\text{K}$\n",
    "<p class='alert alert-danger'>\n",
    "<b>Input must be in Kelvin</b>\n",
    "</p>\n",
    "Use the scipy functions <FONT FACE=\"courier\" style=\"color:blue\">C2K </FONT> and <FONT FACE=\"courier\" style=\"color:blue\">F2K </FONT> to convert temperatures to Kelvin. Thermodynamic properties are linearly interpolated from the two nearest temperature states.\n",
    "\n",
    "<h2> How does it work?</h2>\n",
    "\n",
    "First load up the module"
   ]
  },
  {
   "cell_type": "code",
   "execution_count": null,
   "metadata": {},
   "outputs": [],
   "source": [
    "from NewLibraries import thermodynamics as thermo"
   ]
  },
  {
   "cell_type": "markdown",
   "metadata": {},
   "source": [
    "Second define a variable as your fluid. For example:"
   ]
  },
  {
   "cell_type": "code",
   "execution_count": null,
   "metadata": {},
   "outputs": [],
   "source": [
    "water_pipe = thermo.Fluid('water',thermo.F2K(70.))"
   ]
  },
  {
   "cell_type": "markdown",
   "metadata": {},
   "source": [
    "The class is called Fluid, the capital letter F is necessary. If you don't remember which fluids are available, execute the following:"
   ]
  },
  {
   "cell_type": "code",
   "execution_count": null,
   "metadata": {},
   "outputs": [],
   "source": [
    "? thermo.Fluid"
   ]
  },
  {
   "cell_type": "markdown",
   "metadata": {},
   "source": [
    "Now you can print any of the quantities defined above:"
   ]
  },
  {
   "cell_type": "code",
   "execution_count": null,
   "metadata": {},
   "outputs": [],
   "source": [
    "print('Density %4.3f kg/m^3' %water_pipe.rho)\n",
    "print('Specific heat %4.3f J/Kg.K' %water_pipe.Cp)\n",
    "print('Dynamic viscosity %1.3e kg/m.s' %water_pipe.mu)\n",
    "print('Thermal conductivity %4.4f W/m.K' %water_pipe.k)\n",
    "print('Kinematic viscosity %1.3e m^2/s' %water_pipe.nu)\n",
    "print('Thermal diffusivity %1.3e m^2/s' %water_pipe.alpha)\n",
    "print('Prandtl number %4.3f ' %water_pipe.Pr)\n",
    "print('Thermal expansion coefficient %1.3e 1/K' %water_pipe.beta)"
   ]
  },
  {
   "cell_type": "markdown",
   "metadata": {},
   "source": [
    "<h1>Thermal Resistance Module</h1>\n",
    "\n",
    "The class thermal resistance is imported with <FONT FACE=\"courier\" style=\"color:blue\">from Libraries import HT_thermal_resistance as res</FONT>.\n",
    "\n",
    "Thermal resistances are derived from an analogy between heat transfer and electric circuit. Each mode of heat transfer can be represented by a thermal resistance, linking the heat flux ($q''\\text{ W/m$^2$}$), heat rate per unit length ($q'\\text{ W/m}$) or heat rate ($q\\text{ W}$) to the temperature difference between two points ($T_a-T_b$, with $T_a>T_b$:\n",
    "<p class='alert alert-danger'>\n",
    "$$\n",
    "q''=\\frac{1}{R''_\\text{th}}\\left(T_a-T_b\\right),\\; q'=\\frac{1}{R'_\\text{th}}\\left(T_a-T_b\\right),\\; q=\\frac{1}{R_\\text{th}}\\left(T_a-T_b\\right)\n",
    "$$\n",
    "</p>\n",
    "The heat transfer rate, also called heat loss or heat gain, is analog to the current, and the temperature to the potential difference. \n",
    "\n",
    "The first step is to define an array of thermal resistance, and give each resistance its own label. <b style=\"color:red\"> Remember not use commas, use periods instead</b>.\n",
    "\n",
    "Here we use the class Resistance in the module HT_thermal_resistance. The first call requires the label (in Latex format with \\$ $\\) and the dimensional unit of the associated flux\n"
   ]
  },
  {
   "cell_type": "code",
   "execution_count": null,
   "metadata": {},
   "outputs": [],
   "source": [
    "from NewLibraries import HT_thermal_resistance as res\n",
    "\n",
    "Rth = []\n",
    "Rth.append(res.Resistance('$R_{conv.in}$','W'))\n",
    "Rth.append(res.Resistance('$R_{cond.pipe}$','W'))\n",
    "Rth.append(res.Resistance('$R_{conv.out}$','W'))\n",
    "Rth.append(res.Resistance('$R_{rad.out}$','W'))\n",
    "\n",
    "print('number of resistances %2i' %len(Rth))"
   ]
  },
  {
   "cell_type": "markdown",
   "metadata": {},
   "source": [
    "Typically the next step is to draw the thermal circuit using the module SchemDraw already available from the first cell:\n",
    "<FONT FACE=\"courier\" style=\"color:blue\">\n",
    "import SchemDraw as schem\n",
    "</FONT>\n",
    "and\n",
    "<FONT FACE=\"courier\" style=\"color:blue\">\n",
    "import SchemDraw.elements as e\n",
    "</FONT>"
   ]
  },
  {
   "cell_type": "code",
   "execution_count": null,
   "metadata": {},
   "outputs": [],
   "source": [
    "d = schem.Drawing()\n",
    "L1=d.add( e.LINE, d = 'right')\n",
    "d.labelI(L1,'q')\n",
    "d.add( e.DOT, label='$T_{\\infty.in}$')\n",
    "R0 = d.add( e.RES, d='right', label=Rth[0].name )\n",
    "d.add( e.DOT, label='$T_a$')\n",
    "R1 = d.add( e.RES, d='right', label=Rth[1].name )\n",
    "d.add( e.DOT, rgtlabel='$T_b$')\n",
    "L0 = d.add( e.LINE, d = 'up', l = 1.5)\n",
    "R2 = d.add( e.RES, d='right', label=Rth[2].name )\n",
    "L1 = d.add( e.LINE, d = 'down', l = 1.5)\n",
    "L2 = d.add( e.LINE, d = 'right', l = 1.5)\n",
    "d.add(e.DOT, label = '$T_\\infty.out$')\n",
    "L3 = d.add( e.LINE, d = 'down', xy = R1.end, l = 1.5)\n",
    "R3 = d.add( e.RES, d = 'right', label = Rth[3].name)\n",
    "L4 = d.add( e.LINE, d = 'up', l = 1.5)\n",
    "d.draw()"
   ]
  },
  {
   "cell_type": "markdown",
   "metadata": {},
   "source": [
    "For 1D conduction in a solid or a fluid at rest, the expression of the thermal resistance depends upon the geometry of the system:\n",
    "<FONT FACE=\"courier\" style=\"color:blue\">.conduction(geo,k,r_a,r_b,A,r_a_name,r_b_name,A_name,Ta_name,Tb_name)</FONT>\n",
    "<ul>\n",
    "<li> Plane wall of thermal conductivity $k$, thickness $L$ and cross-sectional surface area $A$ <FONT FACE=\"courier\" style=\"color:blue\"> geo = 'plane', r_a = L, r_b = 0</FONT>\n",
    "<p class='alert alert-danger'>\n",
    "$$\n",
    "R_\\text{th,cond}=\\frac{L}{kA}\n",
    "$$\n",
    "</p>\n",
    "</li>\n",
    "<li> Cylindrical wall of thermal conductivity $k$, between inner radius $r_a$ and outer radius $r_b$ and axial length $L$ <FONT FACE=\"courier\" style=\"color:blue\"> geo = 'cylindrical', A = L</FONT>\n",
    "\n",
    "<p class='alert alert-danger'>\n",
    "$$\n",
    "R_\\text{th,cond}=\\cfrac{\\ln\\left(\\cfrac{r_b}{r_a}\\right)}{2\\pi kL}\n",
    "$$\n",
    "</p>\n",
    "</li>\n",
    "<li> Spherical wall of thermal conductivity $k$, between inner radius $r_a$ and outer radius $r_b$\n",
    "\n",
    "<FONT FACE=\"courier\" style=\"color:blue\"> geo = 'spherical', A = 1</FONT>\n",
    "<p class='alert alert-danger'>\n",
    "$$\n",
    "R_\\text{th,cond}=\\cfrac{\\cfrac{1}{r_a}-\\cfrac{1}{r_b}}{4\\pi k}\n",
    "$$\n",
    "</p>\n",
    "</li>\n",
    "</ul>\n",
    "For convection heat transfer across a surface of area $A$ with a convection heat transfer coefficient $h$, the class attribute is <FONT FACE=\"courier\" style=\"color:blue\">convection(h,A,h_name,A_name,Ta_name,Tb_name)</FONT>\n",
    "\n",
    "<p class='alert alert-danger'>\n",
    "$$\n",
    "R_\\text{th,conv}=\\frac{1}{hA}\n",
    "$$\n",
    "</p>\n",
    "\n",
    "For radiation heat transfer across a surface of area $A$ with a radiation heat transfer coefficient $h_r$, the class attribute is <FONT FACE=\"courier\" style=\"color:blue\">radiation(eps,T_s,T_sur,A,Ta_name,Tb_name)</FONT>\n",
    "<p class='alert alert-danger'>\n",
    "$$\n",
    "R_\\text{th,rad}=\\frac{1}{h_rA}\\, \\text{ with } h_r = \\varepsilon\\sigma(T_s+T_\\text{sur})(T_s^2+T_\\text{sur}^2)\n",
    "$$\n",
    "<b> To calculate $h_r$, temperatures must be in Kelvin</b>\n",
    "</p>\n",
    "\n",
    "Like a thermal circuit, $n$ thermal resistances in serial are equivalent to one total resistance. If the $n$ resistances are stored in an array $R[i]$, the total resistance of resistances in series starting at $m$ and finishing at $n$ is \n",
    "<FONT FACE=\"courier\" style=\"color:blue\">serial_sum(R,m,n)</FONT>\n",
    "<p class='alert alert-danger'>\n",
    "$$\n",
    "R_\\text{th,tot}=\\sum_{i=m}^{n}R[i]\n",
    "$$\n",
    "</p>\n",
    "Similarly, thermal resistances in parallel between $n$ and $m$ reduce to\n",
    "<FONT FACE=\"courier\" style=\"color:blue\">parallel_sum(R,m,n)</FONT>\n",
    "<p class='alert alert-danger'>\n",
    "$$\n",
    "R_\\text{th,tot}=\\left(\\sum_{i=m}^{n}\\cfrac{1}{R[i]}\\right)^{-1}\n",
    "$$\n",
    "</p>\n",
    "\n",
    "All arguments above with <FONT FACE=\"courier\" style=\"color:blue\">_name </FONT> extension help with the diplay of equations, which is automatically generated by the class attribute <FONT FACE=\"courier\" style=\"color:blue\"> display_equation(i)</FONT> where i is the index of the resistance you are interested in. The following shows an example of the definition of thermal resistance and the display of equations:"
   ]
  },
  {
   "cell_type": "markdown",
   "metadata": {},
   "source": []
  },
  {
   "cell_type": "code",
   "execution_count": null,
   "metadata": {},
   "outputs": [],
   "source": [
    "\"\"\"Example: heated water at T_infty_in flowing in a pipe with convection heat transfer h_i. The pipe of length L is made of copper, length L,\n",
    "inner radius r_a, outer radius r_b. The pipe is immersed in air at T_infty_out and the heat transfer from the outer\n",
    "surface of the pipe to the air is through convection and radiation. Find the heat loss per unit length\n",
    "\"\"\"  \n",
    "L = 1. #m\n",
    "r_a = 0.05/2.  #m\n",
    "r_b = 0.055/2. #m\n",
    "h_i = 60. #W/m^2.K\n",
    "k_pipe = 80. #W/m.K\n",
    "h_o = 2. #W/m^2.K\n",
    "eps = 0.8\n",
    "T_infty_in = 320. #C\n",
    "T_infty_out = 5. #C\n",
    "T_sur = T_infty_out #radiation reference temperature\n",
    "A_i = 2.*np.pi*r_a*L\n",
    "A_o = 2.*np.pi*r_b*L\n",
    "print(A_i,A_o)\n",
    "T_b = 305. # a mere guess at this point\n",
    "\n",
    "Rth = []\n",
    "Rth.append(res.Resistance(\"$R'_{conv.in}$\",\"W/m\"))\n",
    "Rth.append(res.Resistance(\"$R'_{cond.pipe}$\",\"W/m\"))\n",
    "Rth.append(res.Resistance(\"$R'_{conv.out}$\",\"W/m\"))\n",
    "Rth.append(res.Resistance(\"$R'_{rad.out}$\",\"W/m\"))\n",
    "\n",
    "d = schem.Drawing()\n",
    "#L1=d.add( e.LINE, d = 'right')\n",
    "#d.labelI(L1,'q')\n",
    "d.add( e.DOT, label='$T_{\\infty.in}$')\n",
    "R0 = d.add( e.RES, d='right', label=Rth[0].name )\n",
    "d.add( e.DOT, label='$T_a$')\n",
    "R1 = d.add( e.RES, d='right', label=Rth[1].name )\n",
    "d.add( e.DOT, rgtlabel='$T_b$')\n",
    "L0 = d.add( e.LINE, d = 'up', l = 1.5)\n",
    "R2 = d.add( e.RES, d='right', label=Rth[2].name )\n",
    "L1 = d.add( e.LINE, d = 'down', l = 1.5)\n",
    "L2 = d.add( e.LINE, d = 'right', l = 1.5)\n",
    "d.add(e.DOT, label = '$T_\\infty.out$')\n",
    "L3 = d.add( e.LINE, d = 'down', xy = R1.end, l = 1.5)\n",
    "R3 = d.add( e.RES, d = 'right', label = Rth[3].name)\n",
    "L4 = d.add( e.LINE, d = 'up', l = 1.5)\n",
    "d.draw()\n",
    "\n",
    "Rth[0].convection(h_i,A_i,'h_{in}','2{\\pi}{r_a}L','T_{\\infty.in}','T_a')\n",
    "print(k_pipe,r_a,r_b,L)\n",
    "print(np.log(r_b/r_a)/(2.*math.pi*L*k_pipe))\n",
    "Rth[1].conduction('cylindrical',k=k_pipe,r_a = r_a, r_b = r_b,L_pipe = L,\n",
    "                 L_pipe_name = \"L\", r_a_name = \"r_a\",r_b_name = \"r_b\",\n",
    "                  A_name = \"A\",\\\n",
    "                   T_a_name = \"T_a\",T_b_name = \"T_b\")\n",
    "\n",
    "# Rth[1].conduction('cylindrical',k_pipe,r_a,r_b,L,'k_{pipe}','r_a','r_b','L','T_a','T_b')\n",
    "Rth[2].convection(h_o,A_o,'h_{out}','2{\\pi}{r_b}L','T_b','T_{\\infty.out}')\n",
    "Rth[3].radiation(eps,C2K(T_b),C2K(T_sur),A_o,'h_r','2{\\pi}{r_b}L','T_b','T_{\\infty.out}')"
   ]
  },
  {
   "cell_type": "markdown",
   "metadata": {},
   "source": [
    "The total resistance of the system reduces to:"
   ]
  },
  {
   "cell_type": "code",
   "execution_count": null,
   "metadata": {},
   "outputs": [],
   "source": [
    "R_tot = res.serial_sum(Rth,0,1) + res.parallel_sum(Rth,2,3)\n",
    "for i in range(len(Rth)):\n",
    "    print(Rth[i].R)\n",
    "print(R_tot)"
   ]
  },
  {
   "cell_type": "code",
   "execution_count": null,
   "metadata": {},
   "outputs": [],
   "source": [
    "q = R_tot*(T_infty_in - T_infty_out)\n",
    "print(q)"
   ]
  },
  {
   "cell_type": "code",
   "execution_count": null,
   "metadata": {},
   "outputs": [],
   "source": [
    "T = np.zeros(4)\n",
    "T[0] = T_infty_in\n",
    "\n",
    "T[1] = T[0] - q*Rth[0].R\n",
    "T[2] = T[1] - q*Rth[1].R\n",
    "T[3] = T_infty_out\n",
    "print(T)"
   ]
  },
  {
   "cell_type": "code",
   "execution_count": null,
   "metadata": {},
   "outputs": [],
   "source": [
    "print(Rth[3].h)"
   ]
  },
  {
   "cell_type": "code",
   "execution_count": null,
   "metadata": {},
   "outputs": [],
   "source": []
  }
 ],
 "metadata": {
  "kernelspec": {
   "display_name": "Python 3",
   "language": "python",
   "name": "python3"
  },
  "language_info": {
   "codemirror_mode": {
    "name": "ipython",
    "version": 3
   },
   "file_extension": ".py",
   "mimetype": "text/x-python",
   "name": "python",
   "nbconvert_exporter": "python",
   "pygments_lexer": "ipython3",
   "version": "3.8.5"
  }
 },
 "nbformat": 4,
 "nbformat_minor": 2
}
