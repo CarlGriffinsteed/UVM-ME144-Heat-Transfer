{
 "cells": [
  {
   "cell_type": "markdown",
   "metadata": {},
   "source": [
    "# HW2\n",
    "\n",
    "\n",
    "Before submitting your **HTpy-HW2.ipynb** file, perform the following\n",
    "* `Kernel>Restart & Run All`\n",
    "* Make sure that there are no errors\n",
    "\n",
    "The following includes problems that need coding and others that only need to perform simple operations (python as a calculator)."
   ]
  },
  {
   "cell_type": "code",
   "execution_count": 1,
   "metadata": {},
   "outputs": [],
   "source": [
    "from Libraries import thermodynamics as thermo\n",
    "import numpy as np\n",
    "import matplotlib.pyplot as plt\n",
    "import scipy.constants as csts"
   ]
  },
  {
   "cell_type": "markdown",
   "metadata": {},
   "source": [
    "## 1 Insulation\n",
    "\n",
    "This problem is an expansion of PB 3 in `HTpy-HW2.ipynb`\n",
    "\n",
    "Assuming that the outer surface temperature of the pipe is $150^\\circ C$, find an insulation that works (i.e. an insulation that will not melt, for which you can find the price and thermal conductivity online). Derive the necessary equations that allow for determination of the different costs as a function of the thickness. Generate a plot for at least 3 different thicknesses.\n",
    "\n",
    "Hint: Derive the heat loss for a variable thickness of insulation, then apply this formula for a range of thicknesses. Compare savings of gas vs cost of insulation."
   ]
  },
  {
   "cell_type": "markdown",
   "metadata": {},
   "source": [
    "### Solution\n",
    "Assumptions:\n",
    "* Heat transfer is steady and 1D\n",
    "* Conservation of Energy applies to the fiberglass insulation with a 90% efficiency\n",
    "* Thermal Conductivity (k) for fiberglass insulation is 0.62 W/mk\n",
    "* Energy lost E_{lost} may include radiation, conduction and/or convection\n",
    "\n",
    "\n",
    "Energy conservation reduces to\n",
    "$$\n",
    "\\dot{E}_{in} - \\dot{E}_{out} = 0\n",
    "$$\n",
    "\n",
    "\n",
    "\n",
    "$$\n",
    "\\dot{E}_{in} = q_{cond}\n",
    "$$\n",
    "\n",
    "\n",
    "\n",
    "$$\n",
    "\\dot{E}_{out} = q_{loss} = (0.1)q_{cond}\n",
    "$$\n",
    "\n",
    "\n",
    "\n",
    "$$\n",
    "q_{cond} = -k \\frac{T_1 - T_0}{t}\n",
    "$$\n",
    "\n",
    "\n",
    "\n",
    "$$\n",
    "-k \\frac{T_1 - T_0}{t} - (0.1)q_{loss} = 0\n",
    "$$\n"
   ]
  },
  {
   "cell_type": "code",
   "execution_count": 2,
   "metadata": {},
   "outputs": [
    {
     "name": "stdout",
     "output_type": "stream",
     "text": [
      "q1 is -6102 watts\n",
      "q2 is -3051 watts\n",
      "q3 is -2034 watts\n",
      "The cost of half-inch insulated operation for a year is $4277\n",
      "The cost of one inch insulated operation for a year is $2138\n",
      "The cost of one and a half-inch insulated operation for a year is $1426\n"
     ]
    },
    {
     "data": {
      "image/png": "[encoded data removed]",
      "text/plain": [
       "<Figure size 432x288 with 1 Axes>"
      ]
     },
     "metadata": {
      "needs_background": "light"
     },
     "output_type": "display_data"
    }
   ],
   "source": [
    "from scipy.optimize import fsolve\n",
    "import matplotlib.pyplot as plt\n",
    "D = 0.1\n",
    "L = 25.\n",
    "q = 18405.\n",
    "h = 10.\n",
    "T_0 = 25.\n",
    "T_1 = 150.\n",
    "k = 0.62\n",
    "eps = 0.8\n",
    "eta_f = 0.9\n",
    "Cost = 0.02\n",
    "#Denoting three thicknesses of insulation\n",
    "t1 = 0.0127 #0.25 in\n",
    "t2 = 0.0254 #0.5 in\n",
    "t3 = 0.0381 #1 in\n",
    "A = np.pi*D*L\n",
    "\n",
    "#Using Fourier's law to determine heat lost by the insulation\n",
    "q_1 = -k*(T_1 - T_0)*(1/t1)\n",
    "q_2 = -k*(T_1 - T_0)*(1/t2)\n",
    "q_3 = -k*(T_1 - T_0)*(1/t3)\n",
    "\n",
    "\n",
    "\n",
    "print('q1 is %.f watts' %q_1)\n",
    "print('q2 is %.f watts' %q_2)\n",
    "print('q3 is %.f watts' %q_3)\n",
    "\n",
    "I_cost1 = abs(q_1)*(365*24*3600)/0.9*Cost*1e-6\n",
    "print('The cost of half-inch insulated operation for a year is $%.f' %I_cost1)\n",
    "\n",
    "I_cost2 = abs(q_2)*(365*24*3600)/0.9*Cost*1e-6\n",
    "print('The cost of one inch insulated operation for a year is $%.f' %I_cost2)\n",
    "\n",
    "I_cost3 = abs(q_3)*(365*24*3600)/0.9*Cost*1e-6\n",
    "print('The cost of one and a half-inch insulated operation for a year is $%.f' %I_cost3)\n",
    "\n",
    "\n",
    "\n",
    "x = [t1,t2,t3] \n",
    "y = [I_cost1,I_cost2,I_cost3]  \n",
    "plt.plot(x, y)\n",
    "plt.xlabel('Insulation Thickness(Meters)') \n",
    "plt.ylabel('Cost(Dollars per Year)') \n",
    "plt.title('Cost to Run Steam Line Depending on Insulation Thickness') \n",
    "plt.show() "
   ]
  },
  {
   "cell_type": "markdown",
   "metadata": {},
   "source": [
    "## 2 Window\n",
    "\n",
    "Set up equations and apply realistic numerical values to them to discuss heat losses of a single pane window, a single pane window with storm window and a double paned window with air trapped at a vacuum of $10^{-3} \\mathrm{torr}$ ina gap of $5\\mathrm{mm}$. Do not consider the effects of radiation for any of the window.\n",
    "\n",
    "<img src=\"ThermalCondAir.png\" alt=\"my awesome sketch\" width=100% >"
   ]
  },
  {
   "cell_type": "markdown",
   "metadata": {},
   "source": [
    "### Solution\n",
    "Assumptions:\n",
    "<ul>\n",
    "    <li>Heat transfer is steady and 1D</li>\n",
    "    <li>There is no conduction within the vaccum</li>\n",
    "    <li>This is a serial thermal circuit system</li>\n",
    "</ul>"
   ]
  },
  {
   "cell_type": "code",
   "execution_count": 3,
   "metadata": {},
   "outputs": [
    {
     "name": "stdout",
     "output_type": "stream",
     "text": [
      "The heat lost by the single pane window is 30 watts\n",
      "The heat lost by the single pane window with the storm window is 15 watts\n",
      "The heat lost by the double pane window with a vacuum insulation is 9 watts\n"
     ]
    }
   ],
   "source": [
    "T_0 = 30 #Indoor temp\n",
    "T_1 = 0 #Outdoor temp\n",
    "L = 0.003 #Window Thickness\n",
    "R_g = 1 #Standard R value of window glass\n",
    "k_g = L/R_g\n",
    "R_s = 1 #Standard R value of a storm window\n",
    "k_s = L/R_s\n",
    "R_tot1 = R_g + R_s\n",
    "L_v = 0.005 #gap of 5mm\n",
    "k_v = 0.004 #Standard k value of a vacuum insulated panel\n",
    "R_v = L_v/k_v\n",
    "R_tot2 = 2*R_g + R_v\n",
    "\n",
    "q_1 = (1/R_g) * (T_0 - T_1)\n",
    "print('The heat lost by the single pane window is %.f watts' %q_1)\n",
    "\n",
    "q_2 = (1/R_tot1) * (T_0 - T_1)\n",
    "print('The heat lost by the single pane window with the storm window is %.f watts' %q_2)\n",
    "\n",
    "q_3 = (1/R_tot2) * (T_0 - T_1)\n",
    "print('The heat lost by the double pane window with a vacuum insulation is %.f watts' %q_3)\n",
    "\n"
   ]
  },
  {
   "cell_type": "code",
   "execution_count": null,
   "metadata": {},
   "outputs": [],
   "source": []
  }
 ],
 "metadata": {
  "kernelspec": {
   "display_name": "Python 3",
   "language": "python",
   "name": "python3"
  },
  "language_info": {
   "codemirror_mode": {
    "name": "ipython",
    "version": 3
   },
   "file_extension": ".py",
   "mimetype": "text/x-python",
   "name": "python",
   "nbconvert_exporter": "python",
   "pygments_lexer": "ipython3",
   "version": "3.8.3"
  }
 },
 "nbformat": 4,
 "nbformat_minor": 4
}
