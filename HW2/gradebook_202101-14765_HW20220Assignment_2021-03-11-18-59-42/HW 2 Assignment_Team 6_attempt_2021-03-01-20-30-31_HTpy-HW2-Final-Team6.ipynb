{
 "cells": [
  {
   "cell_type": "markdown",
   "metadata": {},
   "source": [
    "# HW2\n",
    "\n",
    "\n",
    "Before submitting your **HTpy-HW2.ipynb** file, perform the following\n",
    "* `Kernel>Restart & Run All`\n",
    "* Make sure that there are no errors\n",
    "\n",
    "The following includes problems that need coding and others that only need to perform simple operations (python as a calculator)."
   ]
  },
  {
   "cell_type": "code",
   "execution_count": 1,
   "metadata": {},
   "outputs": [],
   "source": [
    "from Libraries import thermodynamics as thermo\n",
    "import numpy as np\n",
    "import matplotlib.pyplot as plt\n",
    "import scipy.constants as csts"
   ]
  },
  {
   "cell_type": "markdown",
   "metadata": {},
   "source": [
    "## 1 Insulation\n",
    "\n",
    "This problem is an expansion of PB 3 in `HTpy-HW2.ipynb`\n",
    "\n",
    "Assuming that the outer surface temperature of the pipe is $150^\\circ C$, find an insulation that works (i.e. an insulation that will not melt, for which you can find the price and thermal conductivity online). Derive the necessary equations that allow for determination of the different costs as a function of the thickness. Generate a plot for at least 3 different thicknesses.\n",
    "\n",
    "Hint: Derive the heat loss for a variable thickness of insulation, then apply this formula for a range of thicknesses. Compare savings of gas vs cost of insulation."
   ]
  },
  {
   "cell_type": "markdown",
   "metadata": {},
   "source": [
    "### Solution\n",
    "Assumptions:\n",
    "* Heat transfer is steady and 1D\n",
    "* Conservation of energy is applied to the surface of the pipe. There is no energy generation in that control volume. \n",
    "\n",
    "The control volume is the external surface of the pipe of surface area $A=\\pi D\\times L=2.5m^2$. The steam loses heat to the outside at a rate $q=18.405kW$. This energy is transferred to the outside through radiation and convection. The conservation of energy applied to the surface of the pipe therefore reduces to:\n",
    "\n",
    "$$\n",
    "\\dot{E}_{in}-\\dot{E}_{out}=0\n",
    "$$\n",
    "\n",
    "with $\\dot{E}_{in}=q$ and $\\dot{E}_{out}=q_{conv}+q_{rad}$. For a surface temperature $T_s$, this equation becomes\n",
    "\n",
    "$$\n",
    "q-hA(T_s-T_\\infty)-\\sigma\\varepsilon A(T_s^4-T_\\infty^4)=0\n",
    "$$\n",
    "\n",
    "that we solve for $T_s$ using the function root finder solver fsolve from scipy.optimize.\n",
    "\n",
    "The annual energy loss $E_{loss}$ is q multiplied by a year. The energy consumed by the boiler to create the total energy loss is\n",
    "$$\n",
    "E_{furnace}=\\frac{E_{loss}}{\\eta_f}\n",
    "$$\n",
    "\n",
    "Warning: the cost is in dollars per MEGAJoule.\n",
    "\n",
    "The equation for heat flux is:\n",
    "\n",
    "$$\n",
    "q = \\frac{1}{R}\\Delta T\n",
    "$$\n",
    "\n",
    "and R is defined mathematically with:\n",
    "\n",
    "$$\n",
    "R = \\frac{ln (\\frac{r_o}{r_i})}{2 \\pi k L}\n",
    "$$\n",
    "\n",
    "Using fiberglass insulation, k = 0.051 $W/mC$ when T = 150 C, and L = 25 $m$. \n",
    "\n",
    "Solving for the ratio of outer radius to inner radius,\n",
    "\n",
    "$$\n",
    "\\frac{r_o}{r_i} = e^{2R\\pi k L}\n",
    "$$"
   ]
  },
  {
   "cell_type": "code",
   "execution_count": 2,
   "metadata": {},
   "outputs": [
    {
     "name": "stdout",
     "output_type": "stream",
     "text": [
      "The steam line surface temperature is 150 C\n",
      "verification: 18404.999999999996\n",
      "The cost of operation for a year is $12898\n"
     ]
    }
   ],
   "source": [
    "## Work from HTpy-HW2, problemn 3\n",
    "\n",
    "from Libraries import thermodynamics as thermo\n",
    "import numpy as np\n",
    "import scipy.constants as csts\n",
    "from scipy.optimize import fsolve\n",
    "D = 0.1\n",
    "L = 25.\n",
    "h = 10.\n",
    "q = 18405.\n",
    "T_infty = 25.\n",
    "eps = 0.8\n",
    "eta_f = 0.9\n",
    "Cost = 0.02\n",
    "A = np.pi*D*L\n",
    "\n",
    "def heatfunc(Ts):\n",
    "    global q,h,A,T_infty,eps\n",
    "    return q-h*A*(Ts-T_infty)-eps*csts.sigma*A*(thermo.C2K(Ts)**4-thermo.C2K(T_infty)**4)\n",
    "root = fsolve(func=heatfunc,x0=[100.])\n",
    "T_s = root[0]\n",
    "\n",
    "\n",
    "print('The steam line surface temperature is %.0f C' %T_s)\n",
    "print('verification:',A*h*(T_s-T_infty) + eps*csts.sigma*A*(thermo.C2K(T_s)**4-thermo.C2K(T_infty)**4))\n",
    "cost = q*(365*24*3600)/0.9*Cost*1e-6\n",
    "print('The cost of operation for a year is $%.f' %cost)"
   ]
  },
  {
   "cell_type": "code",
   "execution_count": 3,
   "metadata": {
    "scrolled": true
   },
   "outputs": [
    {
     "name": "stdout",
     "output_type": "stream",
     "text": [
      "The thickness of the insulation in case 1 is 0.010 m\n",
      "The cost for case 1 is $7363\n",
      "The thickness of the insulation in case 2 is 0.020 m\n",
      "The cost for case 2 is $3849\n",
      "The thickness of the insulation in case 3 is 0.030 m\n",
      "The cost for case 2 is $2920\n"
     ]
    },
    {
     "data": {
      "text/plain": [
       "Text(0, 0.5, 'Cost (Dollars)')"
      ]
     },
     "execution_count": 3,
     "metadata": {},
     "output_type": "execute_result"
    },
    {
     "data": {
      "image/png": "[encoded data removed]",
      "text/plain": [
       "<Figure size 432x288 with 1 Axes>"
      ]
     },
     "metadata": {
      "needs_background": "light"
     },
     "output_type": "display_data"
    }
   ],
   "source": [
    "from Libraries import thermodynamics as thermo\n",
    "import numpy as np\n",
    "import matplotlib.pyplot as plt\n",
    "import scipy.constants as csts\n",
    "from scipy.optimize import fsolve\n",
    "\n",
    "k = 0.051\n",
    "L = 25\n",
    "T_s = 150\n",
    "T_infty = 25\n",
    "r_i = 0.1\n",
    "\n",
    "#For case 1:\n",
    "r_o1 = 0.11\n",
    "\n",
    "t_1 = r_o1 - r_i\n",
    "R_1 = (np.log(r_o1/r_i))/(2*3.14159*0.051*25)\n",
    "q_1 = (T_s-T_infty)/R_1\n",
    "\n",
    "cost1 = q_1*(365*24*3600)/0.9*Cost*1e-6\n",
    "\n",
    "print('The thickness of the insulation in case 1 is %.3f m' %t_1)\n",
    "print('The cost for case 1 is $%.f' %cost1)\n",
    "\n",
    "#For case 2:\n",
    "r_o2 = 0.12\n",
    "\n",
    "t_2 = r_o2 - r_i\n",
    "R_2 = (np.log(r_o2/r_i))/(2*3.14159*0.051*25)\n",
    "q_2 = (T_s-T_infty)/R_2\n",
    "\n",
    "cost2 = q_2*(365*24*3600)/0.9*Cost*1e-6\n",
    "\n",
    "print('The thickness of the insulation in case 2 is %.3f m' %t_2)\n",
    "print('The cost for case 2 is $%.f' %cost2)\n",
    "\n",
    "#For case 3:\n",
    "r_o3 = 0.13\n",
    "\n",
    "t_3 = r_o3 - r_i\n",
    "R_3 = r_o3 - r_i\n",
    "q_3 = (T_s-T_infty)/R_3\n",
    "\n",
    "cost3 = q_3*(365*24*3600)/0.9*Cost*1e-6\n",
    "\n",
    "print('The thickness of the insulation in case 3 is %.3f m' %t_3)\n",
    "print('The cost for case 2 is $%.f' %cost3)\n",
    "\n",
    "thickness = [0.010, 0.020, 0.030]\n",
    "cost = [7363,3849,2920]\n",
    "plt.plot(thickness,cost)\n",
    "plt.xlabel('Thickness (Meters)')\n",
    "plt.ylabel('Cost (Dollars)')"
   ]
  },
  {
   "cell_type": "markdown",
   "metadata": {},
   "source": [
    "## 2 Window\n",
    "\n",
    "Set up equations and apply realistic numerical values to them to discuss heat losses of a single pane window, a single pane window with storm window and a double paned window with air trapped at a vacuum of $10^{-3} \\mathrm{torr}$ ina gap of $5\\mathrm{mm}$. Do not consider the effects of radiation for any of the window.\n",
    "\n",
    "<img src=\"ThermalCondAir.png\" alt=\"my awesome sketch\" width=100% >"
   ]
  },
  {
   "cell_type": "markdown",
   "metadata": {},
   "source": [
    "### Solution\n",
    "Assumptions:\n",
    "<ul>\n",
    "    <li>Heat transfer is steady and 1D</li>\n",
    "    <li>Effects of radiation are not considered</li>\n",
    "    <li>Air trapped between panes is stagnant</li>\n",
    "\n",
    "</ul>\n",
    "$$\n",
    "q''_{cond}= \\frac{1}{R''_{cond}}(T_{inside}-T_{outside})\n",
    "$$\n",
    "\n",
    "$$\n",
    "R''_{cond}=\\frac{t}{k}\n",
    "$$\n",
    "\n"
   ]
  },
  {
   "cell_type": "code",
   "execution_count": 4,
   "metadata": {},
   "outputs": [
    {
     "name": "stdout",
     "output_type": "stream",
     "text": [
      "The value of R_{cond} is 0.0025 {k*m^2}/{watts}\n",
      "The amount of conductive heat transfer for a single pane window is 12400.0 {watts}/{m^2}\n"
     ]
    }
   ],
   "source": [
    "Ti=294\n",
    "To=263\n",
    "t=0.0024\n",
    "k=0.96\n",
    "R=t/k\n",
    "print('The value of R''_{cond} is',R,'{k*m^2}/{watts}')\n",
    "q=(1/R)*(Ti-To)\n",
    "print('The amount of conductive heat transfer for a single pane window is',q, '{watts}/{m^2}')"
   ]
  },
  {
   "cell_type": "code",
   "execution_count": 5,
   "metadata": {},
   "outputs": [
    {
     "name": "stdout",
     "output_type": "stream",
     "text": [
      "The value of R_{cond} is 0.005807291666666667 {k*m^2}/{watts}\n",
      "The amount of conductive heat transfer for a single pane window is 5338.11659192825 {watts}/{m^2}\n"
     ]
    }
   ],
   "source": [
    "Ti=294\n",
    "To=263\n",
    "t=0.0024+0.003175\n",
    "k=0.96\n",
    "R=t/k\n",
    "print('The value of R''_{cond} is',R,'{k*m^2}/{watts}')\n",
    "q=(1/R)*(Ti-To)\n",
    "print('The amount of conductive heat transfer for a single pane window is',q, '{watts}/{m^2}')"
   ]
  },
  {
   "cell_type": "code",
   "execution_count": 6,
   "metadata": {},
   "outputs": [
    {
     "name": "stdout",
     "output_type": "stream",
     "text": [
      "The thickness of each pane is 2mm and the space between is 5mm.\n",
      "The amount of conductive heat transfer for a double pane window is 4006.153846153846 {watts/{m^2}}\n"
     ]
    }
   ],
   "source": [
    "Ti = 294\n",
    "To = 263\n",
    "k = 0.96\n",
    "kair= 1.4\n",
    "tglass= 0.004\n",
    "tspace= 0.005\n",
    "Rglass = (tglass)/(k)\n",
    "Rair = (tspace)/(kair)\n",
    "R = Rglass+Rair\n",
    "q = (1/R)*(Ti-To)\n",
    "print('The thickness of each pane is 2mm and the space between is 5mm.')\n",
    "print('The amount of conductive heat transfer for a double pane window is', q, '{watts/{m^2}}')"
   ]
  },
  {
   "cell_type": "code",
   "execution_count": null,
   "metadata": {},
   "outputs": [],
   "source": []
  }
 ],
 "metadata": {
  "kernelspec": {
   "display_name": "Python 3",
   "language": "python",
   "name": "python3"
  },
  "language_info": {
   "codemirror_mode": {
    "name": "ipython",
    "version": 3
   },
   "file_extension": ".py",
   "mimetype": "text/x-python",
   "name": "python",
   "nbconvert_exporter": "python",
   "pygments_lexer": "ipython3",
   "version": "3.8.3"
  }
 },
 "nbformat": 4,
 "nbformat_minor": 4
}
