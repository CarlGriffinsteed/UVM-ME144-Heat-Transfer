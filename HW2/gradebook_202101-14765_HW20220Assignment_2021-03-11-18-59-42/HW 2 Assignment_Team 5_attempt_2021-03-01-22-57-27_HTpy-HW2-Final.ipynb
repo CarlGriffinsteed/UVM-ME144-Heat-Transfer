{
 "cells": [
  {
   "cell_type": "markdown",
   "metadata": {},
   "source": [
    "# HW2\n",
    "\n",
    "\n",
    "Before submitting your **HTpy-HW2.ipynb** file, perform the following\n",
    "* `Kernel>Restart & Run All`\n",
    "* Make sure that there are no errors\n",
    "\n",
    "The following includes problems that need coding and others that only need to perform simple operations (python as a calculator)."
   ]
  },
  {
   "cell_type": "code",
   "execution_count": null,
   "metadata": {},
   "outputs": [],
   "source": [
    "from Libraries import thermodynamics as thermo\n",
    "import numpy as np\n",
    "import matplotlib.pyplot as plt\n",
    "import scipy.constants as csts"
   ]
  },
  {
   "cell_type": "markdown",
   "metadata": {},
   "source": [
    "## 1 Insulation\n",
    "\n",
    "This problem is an expansion of PB 3 in `HTpy-HW2.ipynb`\n",
    "\n",
    "Assuming that the outer surface temperature of the pipe is $150^\\circ C$, find an insulation that works (i.e. an insulation that will not melt, for which you can find the price and thermal conductivity online). Derive the necessary equations that allow for determination of the different costs as a function of the thickness. Generate a plot for at least 3 different thicknesses.\n",
    "\n",
    "\n",
    "Hint: Derive the heat loss for a variable thickness of insulation, then apply this formula for a range of thicknesses. Compare savings of gas vs cost of insulation."
   ]
  },
  {
   "cell_type": "markdown",
   "metadata": {},
   "source": [
    "\n"
   ]
  },
  {
   "cell_type": "markdown",
   "metadata": {},
   "source": [
    "### Solution\n",
    "Assumptions:\n",
    "<ul>\n",
    "    <li>Heat transfer is steady and 1D</li>\n",
    "</ul>\n",
    "\n"
   ]
  },
  {
   "cell_type": "code",
   "execution_count": null,
   "metadata": {},
   "outputs": [],
   "source": [
    "#Dimensional constants\n",
    "L = 25. #m\n",
    "#Equal spaced thickness of 0.0127 because the values for this insulation come in 1/2\" thicknesses\n",
    "thickness = np.arange(0.0127, 0.075, 0.0127)\n",
    "rins = 0.05 #m\n",
    "rout = thickness + rins #m\n",
    "Aout = np.pi*2*rout*L #m^2\n",
    "#Thermal constants\n",
    "h = 10. #W/m^2C\n",
    "T_infty = 25. #C\n",
    "T_s = 150. #C\n",
    "k = 0.23  #W/m*C\n",
    "eps = 0.8\n",
    "#Cost constants\n",
    "eta_f = 0.9 \n",
    "ECost = 0.02 #$/MJ\n",
    "InsuCost = 17.8 #$/m at 0.0127m thickness per layer\n",
    "\n",
    "#Thermal resitance\n",
    "Rinso = np.log(rout/rins)/(2*np.pi*k*L)\n",
    "Rconv = 1/(h*Aout)\n",
    "Req = Rinso + Rconv\n",
    "Q = (T_s-T_infty)/Req\n",
    "#Cost\n",
    "EnergyTotal = Q*(365*24*3600)/0.9*ECost*1e-6\n",
    "InsuTotal = np.ceil(thickness/0.0127)*L*InsuCost\n",
    "CostTotal = EnergyTotal + InsuTotal\n",
    "\n",
    "#plot\n",
    "plt.plot(thickness,CostTotal, '-o')\n",
    "plt.xlabel('Thickness (m)')\n",
    "plt.ylabel('Cost per year ($)')\n",
    "plt.title('Thickness v. Cost Comparison')\n",
    "for i in range(0,len(CostTotal)):\n",
    "    print('The cost of operation for a year is $%.f with an insulation thickness of %.4fm.' %(CostTotal[i], thickness[i]))\n"
   ]
  },
  {
   "cell_type": "markdown",
   "metadata": {},
   "source": [
    "## 2 Window\n",
    "\n",
    "Set up equations and apply realistic numerical values to them to discuss heat losses of a single pane window, a single pane window with storm window and a double paned window with air trapped at a vacuum of $10^{-3} \\mathrm{torr}$ ina gap of $5\\mathrm{mm}$. Do not consider the effects of radiation for any of the window.\n",
    "\n",
    "<img src=\"ThermalCondAir.png\" alt=\"my awesome sketch\" width=100% >"
   ]
  },
  {
   "cell_type": "markdown",
   "metadata": {},
   "source": [
    "### Solution\n",
    "Assumptions:\n",
    "<ul>\n",
    "    <li>Heat transfer is steady and 1D</li>\n",
    "</ul>"
   ]
  },
  {
   "cell_type": "code",
   "execution_count": null,
   "metadata": {},
   "outputs": [],
   "source": [
    "from scipy.optimize import fsolve\n",
    "\n",
    "L_pane = 0.6          #m\n",
    "A_pane = L_pane**2    #m^2\n",
    "W_pane = 0.005        #m\n",
    "L_storm = 0.6         #m\n",
    "A_storm = L_storm**2  #m^2\n",
    "W_storm = 0.008       #m\n",
    "W_gap = 0.005         #m\n",
    "T_inf_O = -10         #C\n",
    "T_inf_I = 20          #C\n",
    "h_O = 10              #W/m^2*C\n",
    "h_I = 40              #W/m^2*C\n",
    "h_B = 25              #W/m^2*C\n",
    "k_air = 0.024         #W/m*C\n",
    "k_glass = 0.96        #W/m*C\n",
    "R_conv_O = 1/(h_O*A_pane)\n",
    "R_cond_W = W_pane/(k_glass*A_pane)\n",
    "R_cond_S = W_storm/(k_glass*A_storm)\n",
    "R_conv_B = 1/(h_B*A_storm)\n",
    "R_conv_I = 1/(h_I*A_pane)\n",
    "R_conv_V = W_gap/(A_pane*k_air)\n",
    "R_tot_single = R_conv_I + R_cond_W + R_conv_O\n",
    "R_tot_storm = R_conv_I + R_cond_W + R_conv_B + R_cond_S + R_conv_O\n",
    "R_tot_double = R_conv_I + R_cond_W + R_conv_V + R_cond_W + R_conv_O\n",
    "\n",
    "def SinglePane(Q_loss):\n",
    "    global T_inf_I, T_inf_I, R_tot_single\n",
    "    return Q_loss - (T_inf_I-T_inf_O)/R_tot_single\n",
    "root = fsolve(func=SinglePane, x0=[100.])\n",
    "Q_L_P = root[0]\n",
    "\n",
    "def StormWindow(Q_loss):\n",
    "    global T_inf_I, T_inf_I, R_tot_storm\n",
    "    return Q_loss - (T_inf_I-T_inf_O)/R_tot_storm\n",
    "root = fsolve(func=StormWindow, x0=[100.])\n",
    "Q_L_S = root[0]\n",
    "\n",
    "def DoublePane(Q_loss):\n",
    "    global T_inf_I, T_inf_I, R_tot_double\n",
    "    return Q_loss - (T_inf_I-T_inf_O)/R_tot_double\n",
    "root = fsolve(func=DoublePane, x0=[100.])\n",
    "Q_L_D = root[0]\n",
    "\n",
    "print('Heat loss from a single pane window is %.0f W' %Q_L_P)\n",
    "print('Heat loss from a single pane and storm window is %.0f W' %Q_L_S)\n",
    "print('Heat loss from a double pane window is %.f W' %Q_L_D)\n",
    "\n"
   ]
  }
 ],
 "metadata": {
  "kernelspec": {
   "display_name": "Python 3",
   "language": "python",
   "name": "python3"
  },
  "language_info": {
   "codemirror_mode": {
    "name": "ipython",
    "version": 3
   },
   "file_extension": ".py",
   "mimetype": "text/x-python",
   "name": "python",
   "nbconvert_exporter": "python",
   "pygments_lexer": "ipython3",
   "version": "3.8.5"
  }
 },
 "nbformat": 4,
 "nbformat_minor": 4
}
