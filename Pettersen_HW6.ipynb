{
 "cells": [
  {
   "cell_type": "markdown",
   "metadata": {},
   "source": [
    "# Problem 8.42"
   ]
  },
  {
   "cell_type": "markdown",
   "metadata": {},
   "source": [
    "Atmospheric air enters a 10m long, 150mm diameter uninsulated heating duct at $60^\\circ\\mathrm{C}$ and 0.04 kg/s. The duct surface temperature is approximately constant at $T_{s} = 15^\\circ\\mathrm{C}$.\n",
    "\n",
    "(a) What are the outlet air temperature, the heat rate q, and the pressure drop $\\Delta p$ for these conditions?\n",
    "\n",
    "(b) To illustrate the tradeoff between heat transfer rate and pressure drop considerations, calculate $q$ and $\\Delta p$ for diameters in the range from 0.1 to 0.2 m. In your analysis, maintain the total surface area, $A_{s} = \\pi DL$, at the value computed for part (a). Plot $q,\\Delta p$, and $L$ as a function of the duct diameter.  "
   ]
  },
  {
   "cell_type": "code",
   "execution_count": 1,
   "metadata": {},
   "outputs": [],
   "source": [
    "\n",
    "from IPython.display import clear_output\n",
    "\n",
    "import schemdraw as schem\n",
    "import schemdraw.elements as e\n",
    "\n",
    "import matplotlib.pyplot as plt\n",
    "import numpy as np\n",
    "import math\n",
    "import scipy.constants as sc\n",
    "\n",
    "import sympy as sym\n",
    "\n",
    "from Libraries import thermodynamics as thermo\n",
    "from Libraries import HT_internal_convection as intconv\n",
    "\n"
   ]
  },
  {
   "cell_type": "code",
   "execution_count": 2,
   "metadata": {},
   "outputs": [
    {
     "name": "stdout",
     "output_type": "stream",
     "text": [
      "The Reynolds number is 16836.53\n",
      "10\n"
     ]
    }
   ],
   "source": [
    "fluid = thermo.Fluid('air',60.,\"C\")\n",
    "L = 10 #m\n",
    "D = 0.15 #m\n",
    "mdot = 0.04 #kg/s\n",
    "\n",
    "A = np.pi*(0.075**2)\n",
    "bulk = mdot/(fluid.rho*A)\n",
    "\n",
    "Re = (4*mdot)/(np.pi*D*fluid.mu)\n",
    "print('The Reynolds number is %.2f'%Re)\n",
    "\n",
    "\n",
    "\n",
    "pipe = intconv.PipeFlow(D, L, rho=fluid.rho, nu=fluid.nu, Um = bulk)\n",
    "print(pipe.Re)\n",
    "\n",
    "\n"
   ]
  },
  {
   "cell_type": "markdown",
   "metadata": {},
   "source": [
    "# Problem 8.62"
   ]
  },
  {
   "cell_type": "markdown",
   "metadata": {},
   "source": [
    "Water at a flow rate of $\\dot{m}$ = 0.215 kg/s is cooled from $70^\\circ\\mathrm{C}$ to $30^\\circ\\mathrm{C}$ by passing it through a thin-walled tube of diameter $D$ = 50 mm and maintaining a coolant at $T_{\\infty}$ = $15^\\circ\\mathrm{C}$ in cross flow over the tube. \n",
    "\n",
    "(a) What is the required tube length if the coolant is air and its velocity is $V$ = 20 m/s?\n",
    "\n",
    "(b) What is the tuve length if the coolant is water and $V$ = 2 m/s?"
   ]
  },
  {
   "cell_type": "code",
   "execution_count": 12,
   "metadata": {},
   "outputs": [
    {
     "name": "stdout",
     "output_type": "stream",
     "text": [
      "30.78621092446306\n",
      "The required length if the coolant is air at 20 m/s is 15.13 m.\n",
      "The required length if the coolant is water at 2 m/s is 14.58 m.\n"
     ]
    }
   ],
   "source": [
    "T_m = (70+30)/2\n",
    "T_infty = 15 #C\n",
    "T_mi = 70 #C\n",
    "T_mo = 30 #C\n",
    "T_f = (T_infty + T_m)/2 #C\n",
    "mdot = 0.215 #kg/s\n",
    "D = 0.05 #m\n",
    "water = thermo.Fluid('water',T_m,\"C\")\n",
    "air_c = thermo.Fluid('air',T_f,\"C\")\n",
    "water_c = thermo.Fluid('water',T_f,\"C\")\n",
    "\n",
    "q =mdot*water.Cp*(70-30)\n",
    "#Finding log mean temperature, initial Reynolds number, and friction factor\n",
    "T_lm = -(T_mi - T_mo)/np.log((T_infty-T_mo)/(T_infty-T_mi))\n",
    "Re_i = (4*mdot)/(np.pi*D*water.mu)\n",
    "f = (0.79*np.log(Re_i))**-2\n",
    "\n",
    "#Gnielinski\n",
    "Nu_i = ((f/8)*(Re_i-1000)*water.Pr)/(1+12.7*(((f/8)**.5))*((water.Pr**(2/3))-1))\n",
    "\n",
    "h_i = Nu_i*(water.k/D)\n",
    "#Reynolds number at outlet\n",
    "Re_o_1 = (20*D)/air_c.nu\n",
    "\n",
    "#Seban, constant T_s\n",
    "Nu_o_1 = 5+0.025*(Re_o_1*water.Pr)**0.8\n",
    "h_o_1 = Nu_o_1*water.k/D\n",
    "\n",
    "Q = ((1/h_i)+(1/h_o_1))**-1\n",
    "\n",
    "L_1 = q/(Q*np.pi*D*T_lm)\n",
    "print(\"The required length if the coolant is air at 20 m/s is %.2f m.\"%L_1)\n",
    "\n",
    "Re_o_2 = (2*D)/(water_c.nu)\n",
    "Nu_o_2 = 5+0.025*(Re_o_2*water.Pr)**0.8\n",
    "h_o_2 = Nu_o_2*water.k/D\n",
    "\n",
    "Q_2 = ((1/h_i)+(1/h_o_2))**-1\n",
    "L_2 = q/(Q_2*np.pi*D*T_lm)\n",
    "print(\"The required length if the coolant is water at 2 m/s is %.2f m.\"%L_2)"
   ]
  },
  {
   "cell_type": "code",
   "execution_count": null,
   "metadata": {},
   "outputs": [],
   "source": []
  }
 ],
 "metadata": {
  "kernelspec": {
   "display_name": "Python 3",
   "language": "python",
   "name": "python3"
  },
  "language_info": {
   "codemirror_mode": {
    "name": "ipython",
    "version": 3
   },
   "file_extension": ".py",
   "mimetype": "text/x-python",
   "name": "python",
   "nbconvert_exporter": "python",
   "pygments_lexer": "ipython3",
   "version": "3.8.3"
  }
 },
 "nbformat": 4,
 "nbformat_minor": 4
}
