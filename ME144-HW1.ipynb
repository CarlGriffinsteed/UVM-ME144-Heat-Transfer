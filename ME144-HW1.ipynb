{
 "cells": [
  {
   "cell_type": "raw",
   "metadata": {},
   "source": [
    "Text provided under a Creative Commons Attribution license, CC-BY. All code is made available under the FSF-approved MIT license. (c) Yves Dubief, 2016. NSF for support via NSF-CBET award #1258697."
   ]
  },
  {
   "cell_type": "markdown",
   "metadata": {},
   "source": [
    "The following cell should always be the first coding cell of your python notebooks"
   ]
  },
  {
   "cell_type": "code",
   "execution_count": 1,
   "metadata": {
    "collapsed": false
   },
   "outputs": [
    {
     "name": "stdout",
     "output_type": "stream",
     "text": [
      "Please enter your NETID (e.g. ydubief)ydubief\n",
      "ydubief\n"
     ]
    }
   ],
   "source": [
    "\n",
    "student_id = raw_input('Please enter your NETID (e.g. ydubief)')\n",
    "print(student_id)\n",
    "assignment_name = 'HW1_'+student_id\n"
   ]
  },
  {
   "cell_type": "code",
   "execution_count": 1,
   "metadata": {
    "collapsed": true
   },
   "outputs": [],
   "source": [
    "\"\"\"\n",
    "importing the necessary libraries, do not modify\n",
    "\"\"\"\n",
    "%matplotlib inline \n",
    "# plots graphs within the notebook\n",
    "%config InlineBackend.figure_format='svg' # not sure what this does, may be default images to svg format\n",
    "\n",
    "from IPython.display import display,Image, Latex\n",
    "from __future__ import division\n",
    "from sympy.interactive import printing\n",
    "printing.init_printing(use_latex='mathjax')\n",
    "\n",
    "\n",
    "from IPython.display import display,Image, Latex\n",
    "\n",
    "from IPython.display import clear_output\n",
    "\n",
    "import SchemDraw as schem\n",
    "import SchemDraw.elements as e\n",
    "\n",
    "import matplotlib.pyplot as plt\n",
    "import numpy as np\n",
    "import math\n",
    "import scipy.constants as sc\n",
    "\n",
    "import sympy as sym\n",
    "\n",
    "from IPython.core.display import HTML\n",
    "def header(text):\n",
    "    raw_html = '<h4>' + str(text) + '</h4>'\n",
    "    return raw_html\n",
    "\n",
    "def box(text):\n",
    "    raw_html = '<div style=\"border:1px dotted black;padding:2em;\">'+str(text)+'</div>'\n",
    "    return HTML(raw_html)\n",
    "\n",
    "def nobox(text):\n",
    "    raw_html = '<p>'+str(text)+'</p>'\n",
    "    return HTML(raw_html)\n",
    "\n",
    "def addContent(raw_html):\n",
    "    global htmlContent\n",
    "    htmlContent += raw_html\n",
    "    \n",
    "class PDF(object):\n",
    "  def __init__(self, pdf, size=(200,200)):\n",
    "    self.pdf = pdf\n",
    "    self.size = size\n",
    "\n",
    "  def _repr_html_(self):\n",
    "    return '<iframe src={0} width={1[0]} height={1[1]}></iframe>'.format(self.pdf, self.size)\n",
    "\n",
    "  def _repr_latex_(self):\n",
    "    return r'\\includegraphics[width=1.0\\textwidth]{{{0}}}'.format(self.pdf)\n",
    "\n",
    "class ListTable(list):\n",
    "    \"\"\" Overridden list class which takes a 2-dimensional list of \n",
    "        the form [[1,2,3],[4,5,6]], and renders an HTML Table in \n",
    "        IPython Notebook. \"\"\"\n",
    "    \n",
    "    def _repr_html_(self):\n",
    "        html = [\"<table>\"]\n",
    "        for row in self:\n",
    "            html.append(\"<tr>\")\n",
    "            \n",
    "            for col in row:\n",
    "                html.append(\"<td>{0}</td>\".format(col))\n",
    "            \n",
    "            html.append(\"</tr>\")\n",
    "        html.append(\"</table>\")\n",
    "        return ''.join(html)\n",
    "    \n",
    "font = {'family' : 'serif',\n",
    "        'color'  : 'black',\n",
    "        'weight' : 'normal',\n",
    "        'size'   : 18,\n",
    "        }\n",
    "\n",
    "from scipy.constants.constants import C2K\n",
    "from scipy.constants.constants import K2C\n",
    "from scipy.constants.constants import F2K\n",
    "from scipy.constants.constants import K2F\n",
    "from scipy.constants.constants import C2F\n",
    "from scipy.constants.constants import F2C"
   ]
  },
  {
   "cell_type": "markdown",
   "metadata": {},
   "source": [
    "<h3> Heat loss through a single-pane window</h3>\n",
    "\n",
    "The rear window of an automobile is defogged by attaching a thin, transparent, film-type heating element to its inner surface. By electrically heating this element, a uniform heat flux may be established at the inner surface. \n",
    "\n",
    "(a)\tFor 4-mm-thick window glass, determine the electrical power required per unit window area to maintain an inner surface temperature of $15^\\circ 􏰠C$ when the interior air temperature and convection coefficient are $T_{\\infty.i}= 25^\\circ 􏰠C$ and $h_i=10 W/m^2.K$, while the exterior (ambient) air temperature and convection coefficient are $T_{\\infty.o}=􏰕-10^\\circ 􏰠C$ and $h_o=65 W/m^2.K$.\n",
    "\n",
    "(b) In practice $T􏰝_{\\infty.o}$ and $h_o$ vary according to weather conditions and car speed. For values of $h_o=2,20,65,100 W/m^2.K$, determine and plot the electrical power requirement as a function of $T􏰝_{\\infty.o}$ for 􏰕$-30\\leq􏰦 T􏰝_{\\infty.o}\\leq 0^\\circ 􏰠C$. From your results, what can you conclude about the need for heater operation at low values of ho? How is this conclusion affected by the value of $T􏰝_{\\infty.o}$? If h 􏰶 V n, where V is the vehicle speed and n is a positive exponent, how does the vehicle speed affect the need for heater operation?\n",
    "\n",
    "The thermal conductivity of this glass is $1.4 W/m.K$\n"
   ]
  },
  {
   "cell_type": "markdown",
   "metadata": {},
   "source": [
    "## Assumptions"
   ]
  },
  {
   "cell_type": "markdown",
   "metadata": {},
   "source": [
    "Steady state, 1D conduction, thermal resistance of the heating element is negligible. Negligible heat transfer by radiation."
   ]
  },
  {
   "cell_type": "markdown",
   "metadata": {},
   "source": [
    "## Parameters"
   ]
  },
  {
   "cell_type": "code",
   "execution_count": 2,
   "metadata": {
    "collapsed": false
   },
   "outputs": [],
   "source": [
    "L =0.004 #m\n",
    "\n",
    "k_glass = 1.4 #W/m.K thermal conductivity of glass\n",
    "\n",
    "T_inf_in = 25 #C\n",
    "T_inf_out = -10 #C\n",
    "h_in = 65.\n",
    "h_out = 65.\n",
    "T_s_i = 15 #C"
   ]
  },
  {
   "cell_type": "code",
   "execution_count": 23,
   "metadata": {
    "collapsed": false
   },
   "outputs": [
    {
     "name": "stdout",
     "output_type": "stream",
     "text": [
      "[NbConvertApp] Converting notebook Problem-Template0.ipynb to html\n",
      "[NbConvertApp] Writing 319091 bytes to ydubief.html\n"
     ]
    }
   ],
   "source": [
    "!ipython nbconvert --to html ME144-HW1.ipynb --output $assignment_name"
   ]
  },
  {
   "cell_type": "code",
   "execution_count": null,
   "metadata": {
    "collapsed": true
   },
   "outputs": [],
   "source": []
  }
 ],
 "metadata": {
  "kernelspec": {
   "display_name": "Python 2",
   "language": "python",
   "name": "python2"
  },
  "language_info": {
   "codemirror_mode": {
    "name": "ipython",
    "version": 2
   },
   "file_extension": ".py",
   "mimetype": "text/x-python",
   "name": "python",
   "nbconvert_exporter": "python",
   "pygments_lexer": "ipython2",
   "version": "2.7.11"
  }
 },
 "nbformat": 4,
 "nbformat_minor": 0
}
