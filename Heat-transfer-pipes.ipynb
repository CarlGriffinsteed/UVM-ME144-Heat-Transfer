{
 "cells": [
  {
   "cell_type": "markdown",
   "metadata": {},
   "source": [
    "# Heat transfer for pipes"
   ]
  },
  {
   "cell_type": "code",
   "execution_count": 2,
   "metadata": {},
   "outputs": [],
   "source": [
    "\"\"\"\n",
    "importing the necessary libraries, do not modify\n",
    "\"\"\"\n",
    "%matplotlib inline \n",
    "\n",
    "\n",
    "from IPython.display import clear_output\n",
    "\n",
    "import schemdraw as schem\n",
    "import schemdraw.elements as e\n",
    "\n",
    "import matplotlib.pyplot as plt\n",
    "import numpy as np\n",
    "import math\n",
    "import scipy.constants as sc\n",
    "\n",
    "import sympy as sym\n",
    "\n"
   ]
  },
  {
   "cell_type": "markdown",
   "metadata": {},
   "source": [
    "<img src=\"figures/fig_08_08.jpg\" alt=\"my awesome sketch\" width=75% >\n",
    "<i>Fig. 1: Illustration of internal convection.</i>"
   ]
  },
  {
   "cell_type": "markdown",
   "metadata": {},
   "source": [
    "The above sketch illustrates the focus of this notebook: How to quantify the heat transfer between a pipe, in which a fluid flows, and its surroundings. The heat transfer from the outer surface of the pipe to the outer flow is to defined in the previous chapter, external convection. In the following, this notebook establishes the tools necessary to solve the internal convection problem."
   ]
  },
  {
   "cell_type": "markdown",
   "metadata": {},
   "source": [
    "## Entry flow and fully developed internal flow"
   ]
  },
  {
   "cell_type": "markdown",
   "metadata": {},
   "source": [
    "<img src=\"figures/fig_08_01.jpg\" alt=\"my awesome sketch\" width=100% >\n",
    "<i>Fig. 2: Pipe flow nomenclature.</i>"
   ]
  },
  {
   "cell_type": "markdown",
   "metadata": {},
   "source": [
    "### Python module\n",
    "\n",
    "For internal flow, the module is loaded as:"
   ]
  },
  {
   "cell_type": "code",
   "execution_count": 2,
   "metadata": {},
   "outputs": [],
   "source": [
    "from Libraries import HT_internal_convection as intconv\n"
   ]
  },
  {
   "cell_type": "markdown",
   "metadata": {},
   "source": [
    "As an example, consider the flow of water in a pipe of diameter $D=10$ cm, length $L=10$m. The water thermodynamic properties are estimated at $T_f=50^\\circ$C. The bulk velocity is $U_m=2$m/s.\n"
   ]
  },
  {
   "cell_type": "code",
   "execution_count": 3,
   "metadata": {},
   "outputs": [],
   "source": [
    "from Libraries import thermodynamics as thermo\n",
    "T_f = 50 #C\n",
    "waterflow = thermo.Fluid('water',T_f,\"C\")\n",
    "\n",
    "L_pipe = 10. #m\n",
    "D_pipe = 0.1 #m\n",
    "Um_pipe = 2 #m/s"
   ]
  },
  {
   "cell_type": "code",
   "execution_count": 4,
   "metadata": {},
   "outputs": [],
   "source": [
    "pipe = intconv.PipeFlow(D= D_pipe, L=L_pipe,\n",
    "                        rho=waterflow.rho, nu=waterflow.nu, Um=Um_pipe)"
   ]
  },
  {
   "cell_type": "markdown",
   "metadata": {},
   "source": [
    "<img src=\"figures/fig_08_03.jpg\" alt=\"my awesome sketch\" width=100% >\n",
    "<i> Fig. 3. Friction factor in pipe flow as a function of Re and relative surface roughness.</i>"
   ]
  },
  {
   "cell_type": "markdown",
   "metadata": {},
   "source": [
    "A uniform flow entering a pipe (Fig. 2) first experiences streamwise variation of velocity to accommodate the wall boundary conditions. A boundary layer, of thickness $\\delta$, forms on the wall and grows until its edge reaches the pipe centerline. This region is the hydrodynamic entrance region. Beyond that point, the flow becomes fully developed, which means that\n",
    "<ul>\n",
    "<li> In the laminar regime, the velocity profile is only a function of $r$,</li>\n",
    "<li> In the turbulent regime, the <b>mean</b> velocity profile is only a function of $r$.</li>\n",
    "</ul>\n",
    "Friction drag or the force exerted by the flow onto the pipe wall governs the pressure gradient necessary to generate a desired flowrate. Calculation of the friction drag leads to the design of the mechanical force creating the pressure gradient. In fully developed (laminar or turbulent) regimes, the pressure gradient may be determined by\n",
    "<p class='alert alert-danger'>\n",
    "$$\n",
    "-\\frac{\\Delta\\overline{P}}{L}=f\\,\\frac{1}{D}\\,\\frac{\\rho U_m^2}{2}\n",
    "$$\n",
    "</p>\n",
    "where $D=2R$ and $L$ are the diameter and length of the pipe, respectively, and $f$ is the <b>friction factor</b>. The bulk velocity or average velocity is\n",
    "<p class='alert alert-info'>\n",
    "$$\n",
    "U_m=\\frac{\\dot{m}}{\\rho A_c}\n",
    "$$\n",
    "</p>\n",
    "where $\\dot{m}$ is the mass flux\n",
    "$$\n",
    "\\dot{m}=\\int_0^{2\\pi}\\int_0^R\\rho \\overline{u}(r)\\,r\\,dr d\\theta=2\\pi\\int_0^R\\rho \\overline{u}(r)\\,r\\,dr\n",
    "$$\n",
    "and $A_c=\\pi R^2$\n",
    "The Reynolds number of the flow is based on the bulk velocity and pipe diameter:\n",
    "<p class='alert alert-danger'>\n",
    "$$\n",
    "Re_D=\\frac{\\rho U_mD}{\\mu}=\\frac{4\\dot{m}}{\\pi D\\mu}\n",
    "$$\n",
    "</p>\n",
    "The friction factor in the laminar regime is rigorously derived:\n",
    "$$\n",
    "f = \\frac{64}{Re_D}\n",
    "$$\n",
    "</p>\n",
    "and is valid up to the critical Reynolds number $Re_{D,c}$, which in most pipe is around 2,000. Be aware that in certain research facilities, the flow can remain laminar for Reynolds numbers up to 10,000. The Reynolds 2,000 is not absolute, universal property, but is the best guess from most engineering applications.\n",
    "\n",
    "Beyond the critical Reynolds number, $f$ is a function of the roughness to diameter ratio $\\varepsilon=e/D$ (e is typically the standard deviation of the roughness height) and the Reynolds number. A trustworthy empirical correlation is the Colebrook formula:\n",
    "<p class='alert alert-danger'>\n",
    "$$\n",
    "\\frac{1}{\\sqrt{f}}=-2\\log_{10}\\left[\\frac{\\varepsilon}{3.7}+\\frac{2.51}{Re_D\\sqrt{f}}\\right]\n",
    "$$\n",
    "</p>\n",
    "which is solved below for a range of relative roughness $\\varepsilon$.\n",
    "\n",
    "Often there is a need to determine the pump or blower power $P$ necessary to move the flow at a prescribed pressure drop:\n",
    "<p class='alert alert-danger'>\n",
    "$$\n",
    "P=\\frac{\\dot{m}}{\\rho}\\Delta p= \\underbrace{(\\Delta p)A_c}_\\text{force}\\cdot U_m\n",
    "$$\n",
    "</p>\n",
    "\n",
    "### Example of functions\n",
    "Going back to our library, let's explore how to determine some of the properties defined above:"
   ]
  },
  {
   "cell_type": "markdown",
   "metadata": {},
   "source": [
    "Reynolds number:"
   ]
  },
  {
   "cell_type": "code",
   "execution_count": 5,
   "metadata": {},
   "outputs": [
    {
     "name": "stdout",
     "output_type": "stream",
     "text": [
      "Re= 3.61e+05\n"
     ]
    }
   ],
   "source": [
    "print(\"Re= %1.2e\" %pipe.Re)"
   ]
  },
  {
   "cell_type": "markdown",
   "metadata": {},
   "source": [
    "Mass flow rate:"
   ]
  },
  {
   "cell_type": "code",
   "execution_count": 6,
   "metadata": {},
   "outputs": [
    {
     "name": "stdout",
     "output_type": "stream",
     "text": [
      "mass flowrate= 15.5 kg/s\n"
     ]
    }
   ],
   "source": [
    "print(\"mass flowrate= %1.1f kg/s\" %pipe.mdot)"
   ]
  },
  {
   "cell_type": "markdown",
   "metadata": {},
   "source": [
    "Compute the friction factor:"
   ]
  },
  {
   "cell_type": "code",
   "execution_count": 7,
   "metadata": {},
   "outputs": [
    {
     "name": "stdout",
     "output_type": "stream",
     "text": [
      "Pipe wall is assumed to be hydrodynamically smooth\n"
     ]
    }
   ],
   "source": [
    "pipe.f_turbulent()"
   ]
  },
  {
   "cell_type": "code",
   "execution_count": 8,
   "metadata": {},
   "outputs": [
    {
     "name": "stdout",
     "output_type": "stream",
     "text": [
      "f= 0.01397\n"
     ]
    }
   ],
   "source": [
    "print(\"f= %1.5f\" %pipe.f)"
   ]
  },
  {
   "cell_type": "markdown",
   "metadata": {},
   "source": [
    "The mean pressure gradient is:"
   ]
  },
  {
   "cell_type": "code",
   "execution_count": 9,
   "metadata": {},
   "outputs": [
    {
     "name": "stdout",
     "output_type": "stream",
     "text": [
      "-dP/dx= 2760 Pa/m\n"
     ]
    }
   ],
   "source": [
    "print(\"-dP/dx= %1.0f Pa/m\" %pipe.dPdx)"
   ]
  },
  {
   "cell_type": "markdown",
   "metadata": {},
   "source": [
    "## Heat transfer by internal convection"
   ]
  },
  {
   "cell_type": "markdown",
   "metadata": {},
   "source": [
    "The temperature is expected to vary both in the streamwise direction and in the radial direction. To reduce the complexity of the problem, we define the mean temperature as:\n",
    "$$\n",
    "T_m=\\frac{1}{\\dot{m}C_p}\\int_{A_c}\\rho\\,u\\,C_p\\, T\\,dA_c\n",
    "$$\n",
    "where $\\dot{m}$ is the mass flow rate, $rho$ and $C_p$ are the density and specific heat of the fluid and $A_c$ is the cross-sectional area of the pipe.\n",
    "The local heat flux may be now expressed as:\n",
    "$$\n",
    "q_s''=h(T_s-T_m)\n",
    "$$\n",
    "where $h$ is the <b>local</b> convection heat transfer coefficient and $T_s$ is the surface temperature on the inner wall of the pipe. The variation of temperature in the <b>fully developed</b> flow can be shown to be governed by the following ODE:\n",
    "<p class='alert alert-info'>\n",
    "$$\n",
    "\\frac{dT_m}{dx}=\\frac{P}{\\dot{m}C_p}h(T_s-T_m)\n",
    "$$\n",
    "</p>\n",
    "where $P$ is the perimeter of the pipe.\n",
    "If the local heat flux is maintained constant over the length of the pipe $L$, the total heat rate is \n",
    "<p class='alert alert-danger'>\n",
    "$$\n",
    "q_\\text{conv}=(PL)q_s''\\, \\text{$q_s''=$constant}\n",
    "$$\n",
    "</p>\n",
    "and the streamwise distribution of the mean temperature is linear:\n",
    "$$\n",
    "T_m(x)=T_{m,i}+\\frac{q_s''P}{\\dot{m}C_p}x,\\, \\text{$q_s''=$constant}\n",
    "$$\n",
    "For the case of constant wall temperature $T_s$, the temperature distribution is the solution of the above ODE, thus of exponential nature. For practical applications, you most always need to compute the overall heat transfer and the outlet mean temperature $T_{m,o}$. The integration of the above ODE for $x=0$ to $x=L$ yields\n",
    "<p class='alert alert-danger'>\n",
    "$$\n",
    "\\frac{T_s-T_{m,o}}{T_s-T_{m,i}}=\\exp\\left(-\\frac{PL}{\\dot{m}C_p}\\overline{h}\\right),\\, \\text{$T_s=$constant}\n",
    "$$\n",
    "</p>\n",
    "where \n",
    "$$\n",
    "\\overline{h}=\\frac{1}{L}\\int_0^L h(x)dx\n",
    "$$\n",
    "If you must compute the mean temperature at $x$ an integration from $0$ to $x$ yields\n",
    "<FONT FACE=\"courier\" style=\"color:blue\">T_mx_Ts_constant(T_s,T_mi,P,L,mdot,Cp,hbar,x)</FONT>\n",
    "<p class='alert alert-danger'>\n",
    "$$\n",
    "\\frac{T_s-T_{m}(x)}{T_s-T_{m,i}}=\\exp\\left(-\\frac{PL}{\\dot{m}C_p}\\overline{h}_x\\right),\\, \\text{$T_s=$constant}\n",
    "$$\n",
    "</p>\n",
    "where \n",
    "$$\n",
    "\\overline{h}_x=\\frac{1}{L}\\int_0^x h(x')dx'\n",
    "$$\n",
    "The computation of the total heat transfer rate can be shown to write:\n",
    "<p class='alert alert-danger'>\n",
    "$$\n",
    "q_\\text{conv}=\\overline{h}(PL)\\Delta T_\\text{lm},\\, \\text{$T_s=$constant}\n",
    "$$\n",
    "</p>\n",
    "with the log mean temperature\n",
    "<FONT FACE=\"courier\" style=\"color:blue\">log_mean_temperature(T_s,T_o,T_i)</FONT>\n",
    "<p class='alert alert-danger'>\n",
    "$$\n",
    "\\Delta T_\\text{lm}=\\cfrac{T_{m,i}-T_{m,o}}{\\ln\\left(\\cfrac{T_s-T_{m,o}}{T_s-T_{m,i}}\\right)}\n",
    "$$\n",
    "</p>\n",
    "In many problem, $T_s$ is not defined but the outside ambient temperature $T_\\infty$, the thermal conductivity of the pipe is known. One needs to determine the total resistance of the system $R_\\text{tot}$, which requires calculating the heat transfer coefficient of the forced or natural convection, occuring on the outside of the pipe, the radiation coefficient if needed, the thermal resistance due by conduction within the pipe, which may include multiple components in the presence of insulation for example, and the internal convection heat transfer coefficient (to be defined below). In such cases, the variation of temperature between inlet and outlet becomes:\n",
    "<FONT FACE=\"courier\" style=\"color:blue\">T_mo_T_infty(T_infty,T_mi,P,L,mdot,Cp,R_tot)</FONT>\n",
    "<p class='alert alert-danger'>\n",
    "$$\n",
    "\\frac{T_\\infty-T_{m,o}}{T_\\infty-T_{m,i}}=\\exp\\left(-\\frac{1}{\\dot{m}C_pR_\\text{tot}}\\right)\n",
    "$$\n",
    "</p>\n",
    "and the total heat transfer rate is\n",
    "<p class='alert alert-danger'>\n",
    "$$\n",
    "q=\\frac{\\Delta T_\\text{lm}}{R_\\text{tot}}\n",
    "$$\n",
    "</p>\n",
    "The equations derived in this cell enable:\n",
    "<ul>\n",
    "<li> The computation of the internal convection heat transfer coefficient if $T_{m,i}$ and $T_{m,o}$ are known.</li>\n",
    "<li> The computation of $T_{m,i}$ or $T_{m,o}$ if one is known and $\\overline{h}$ is known </li>\n",
    "<li> The computation of the required mass flux to achieve given $T_{m,i}$ and $T_{m,o}$, albeit through an iterative process</li>\n",
    "</ul>"
   ]
  },
  {
   "cell_type": "markdown",
   "metadata": {},
   "source": [
    "## Correlations for convection heat transfer coefficients in internal pipe flows"
   ]
  },
  {
   "cell_type": "markdown",
   "metadata": {},
   "source": [
    "Here we detailed only the correlations for fully developed flows. For laminar flows, the nusselt numbers are constant, thus the library <FONT FACE=\"courier\" style=\"color:blue\">HT_internal_convection</FONT> provides directly $\\overline{h}$:\n",
    "<FONT FACE=\"courier\" style=\"color:blue\">laminar_isoflux() </FONT>\n",
    "<p class='alert alert-danger'>\n",
    "$$\n",
    "Nu=\\frac{hD}{k}=4.36,\\, \\text{$q_s''=$constant}\n",
    "$$\n",
    "</p>\n",
    "<FONT FACE=\"courier\" style=\"color:blue\">laminar_isothermal() </FONT>\n",
    "<p class='alert alert-danger'>\n",
    "$$\n",
    "Nu=\\frac{hD}{k}=4.36,\\, \\text{$q_s''=$constant}\n",
    "$$\n",
    "</p>\n"
   ]
  },
  {
   "cell_type": "code",
   "execution_count": 10,
   "metadata": {},
   "outputs": [
    {
     "name": "stdout",
     "output_type": "stream",
     "text": [
      "Nu= 4.36 for laminar isoflux\n",
      "Nu= 3.66 for laminar isothermal\n"
     ]
    }
   ],
   "source": [
    "pipe.laminar_isoflux()\n",
    "print(\"Nu= %1.2f for laminar isoflux\" %pipe.Nu)\n",
    "pipe.laminar_isothermal()\n",
    "print(\"Nu= %1.2f for laminar isothermal\" %pipe.Nu)"
   ]
  },
  {
   "cell_type": "markdown",
   "metadata": {},
   "source": [
    "In turbulent flows, there is a choice of correlations:\n",
    "<FONT FACE=\"courier\" style=\"color:blue\">Dittus_Boelter(Re,Pr,mode) </FONT>\n",
    "<p class='alert alert-danger'>\n",
    "$$\n",
    "Nu=\\frac{hD}{k}=0.023Re^{4/5}Pr^n\n",
    "$$\n",
    "</p>\n",
    "with mode being either <FONT FACE=\"courier\" style=\"color:blue\">'cooling'</FONT> or <FONT FACE=\"courier\" style=\"color:blue\">'heating'</FONT>"
   ]
  },
  {
   "cell_type": "code",
   "execution_count": 11,
   "metadata": {},
   "outputs": [
    {
     "name": "stdout",
     "output_type": "stream",
     "text": [
      "Nu= 940 for cooling\n",
      "Nu= 1067 for heating\n"
     ]
    }
   ],
   "source": [
    "pipe.Dittus_Boelter(mode='cooling',Pr=waterflow.Pr)\n",
    "print(\"Nu= %1.0f for cooling\" %pipe.Nu)\n",
    "pipe.Dittus_Boelter(mode='heating',Pr=waterflow.Pr)\n",
    "print(\"Nu= %1.0f for heating\" %pipe.Nu)"
   ]
  },
  {
   "cell_type": "markdown",
   "metadata": {},
   "source": [
    "<FONT FACE=\"courier\" style=\"color:blue\">Sieder_Tate(Re,Pr,mu,mu_s) </FONT>\n",
    "<p class='alert alert-danger'>\n",
    "$$\n",
    "Nu=\\frac{hD}{k}=0.027Re^{4/5}Pr^{1/3}\\left(\\cfrac{\\mu}{\\mu_s}\\right)^{0.14}\n",
    "$$"
   ]
  },
  {
   "cell_type": "code",
   "execution_count": 12,
   "metadata": {},
   "outputs": [
    {
     "name": "stdout",
     "output_type": "stream",
     "text": [
      "Nu= 1213\n"
     ]
    }
   ],
   "source": [
    "T_s = 75 #C\n",
    "watersurface = thermo.Fluid('water',thermo.C2K(T_s))\n",
    "pipe.Sieder_Tate(mu=waterflow.mu,mu_s=watersurface.mu,Pr=waterflow.Pr)\n",
    "print(\"Nu= %1.0f\" %pipe.Nu)"
   ]
  },
  {
   "cell_type": "markdown",
   "metadata": {},
   "source": [
    "<FONT FACE=\"courier\" style=\"color:blue\">Gnielinski(Re,Pr,f) </FONT>\n",
    "<p class='alert alert-danger'>\n",
    "$$\n",
    "Nu=\\frac{hD}{k}=\\frac{(f/8)(Re-1000)Pr}{1+12.7(f/8)^{1/2}(Pr^{2/3}-1)}\n",
    "$$\n",
    "</p>"
   ]
  },
  {
   "cell_type": "code",
   "execution_count": 13,
   "metadata": {},
   "outputs": [
    {
     "name": "stdout",
     "output_type": "stream",
     "text": [
      "Nu= 1311\n"
     ]
    }
   ],
   "source": [
    "pipe.Gnielinski(f=pipe.f, Pr=waterflow.Pr)\n",
    "print(\"Nu= %1.0f\" %pipe.Nu)"
   ]
  },
  {
   "cell_type": "markdown",
   "metadata": {},
   "source": [
    "<FONT FACE=\"courier\" style=\"color:blue\">Skupinski(Re,Pr) </FONT>\n",
    "<p class='alert alert-danger'>\n",
    "$$\n",
    "Nu=\\frac{hD}{k}=4.82+0.0185\\left(Re\\,Pr\\right)^{0.827},\\, \\text{$q_s''=$constant}\n",
    "$$\n",
    "</p>"
   ]
  },
  {
   "cell_type": "code",
   "execution_count": 14,
   "metadata": {},
   "outputs": [
    {
     "name": "stdout",
     "output_type": "stream",
     "text": [
      "Nu= 2089\n"
     ]
    }
   ],
   "source": [
    "pipe.Skupinski(Pr=waterflow.Pr)\n",
    "print(\"Nu= %1.0f\" %pipe.Nu)"
   ]
  },
  {
   "cell_type": "markdown",
   "metadata": {},
   "source": [
    "<FONT FACE=\"courier\" style=\"color:blue\">Seban(Re,Pr) </FONT>\n",
    "<p class='alert alert-danger'>\n",
    "$$\n",
    "Nu=\\frac{hD}{k}=5.0+0.025\\left(Re\\,Pr\\right)^{0.8},\\, \\text{$T_s=$constant}\n",
    "$$\n",
    "</p>"
   ]
  },
  {
   "cell_type": "code",
   "execution_count": 15,
   "metadata": {},
   "outputs": [
    {
     "name": "stdout",
     "output_type": "stream",
     "text": [
      "Nu= 1931\n"
     ]
    }
   ],
   "source": [
    "pipe.Seban(Pr=waterflow.Pr)\n",
    "print(\"Nu= %1.0f\" %pipe.Nu)"
   ]
  },
  {
   "cell_type": "markdown",
   "metadata": {},
   "source": [
    "## Natural convection around cylinder"
   ]
  },
  {
   "cell_type": "markdown",
   "metadata": {},
   "source": [
    "<img src=\"figures/fig_09_08.jpg\" alt=\"my awesome sketch\" width=75% >\n",
    "<i>Fig. 4: Illustration of the flow induced by natural convection around a cylinder. Insert shows the angular distribution of the local Nu.</i>"
   ]
  },
  {
   "cell_type": "markdown",
   "metadata": {},
   "source": [
    "In a fluid entirely at rest, a heated surface transfers its heat via pure conduction. Natural convection is the enhanced heat transfer between a body of fluid at rest (at infinity) and a heated surface through the creation of a convective flow driven by buoyancy forces. Fig. 4 illustrates a natural convection flow occuring around a cylinder. The fluid at the bottom of the cylinder $\\theta=0$ becomes buoyant through heat transfer between the cylinder and the fluid and rises along the surface of the cylinder. This process creates two boundary layers that merge at $\\theta = \\pi$ to create a vertical jet-like flow, also called a plume. Plumes are characteristic flows of natural convection, i.e. they are found irrespective of the geometry of the heated object.\n",
    "\n",
    "The library is called in the following way:"
   ]
  },
  {
   "cell_type": "code",
   "execution_count": 16,
   "metadata": {},
   "outputs": [],
   "source": [
    "from Libraries import HT_natural_convection as natconv"
   ]
  },
  {
   "cell_type": "markdown",
   "metadata": {},
   "source": [
    "The non-dimensional numbers relevant to natural convection are:\n",
    "the Grashof number\n",
    "<FONT FACE=\"courier\" style=\"color:blue\">Grashof(g,beta,DT,D,nu) </FONT>\n",
    "<p class='alert alert-danger'>\n",
    "$$\n",
    "Gr = \\frac{g\\beta(\\Delta T)D^3}{\\nu^2}\n",
    "$$\n",
    "</p>\n",
    "and the Rayleigh number \n",
    "<FONT FACE=\"courier\" style=\"color:blue\">Rayleigh(g,beta,DT,D,nu,alpha) </FONT>\n",
    "<p class='alert alert-danger'>\n",
    "$$\n",
    "Ra = Gr.Pr= \\frac{g\\beta(\\Delta T)D^3}{\\nu\\alpha}\n",
    "$$\n",
    "</p>\n",
    "where $g$ is the gravity magnitude, $\\beta$ is the volumetric thermal expansion coefficient at a given pressure $p$\n",
    "$$\n",
    "\\beta = -\\frac{1}{\\rho}\\left(\\frac{\\partial\\rho}{\\partial T}\\right)_p\n",
    "$$\n",
    "$\\Delta T$ is the absolute temperature difference between the heated surface temperature $T_s$ and the fluid temperature at infinity $T_\\infty$, $\\Delta T= \\vert T_s-T_\\infty\\vert$, $D$ is the characteristic length of the system (here the diameter) and $\\nu$ and $\\alpha$ are the kinematic viscosity and the thermal diffusivity, both of dimensions $\\text{m$^2$/s}$. \n",
    "Note that for the ideal gas law\n",
    "$$\n",
    "p =\\rho \\frac{R}{M}T\\text{ or } \\rho = \\frac{p}{\\frac{R}{M}T}\n",
    "$$\n",
    "thus the expansion coefficient is \n",
    "<p class='alert alert-info'>\n",
    "$$\n",
    "\\beta = \\frac{1}{T}\\text{ for an ideal gas, $T$ in K}\n",
    "$$\n",
    "</p>\n",
    "For a liquid, $\\beta$ must be interpolated from a table. All thermodynamics quantities involved are to be defined at the film temperature which is the arithmetic mean\n",
    "<p class='alert alert-info'>\n",
    "$$\n",
    "T_f=\\frac{T_s+T_\\infty}{2} \n",
    "$$\n",
    "</p>"
   ]
  },
  {
   "cell_type": "code",
   "execution_count": 17,
   "metadata": {},
   "outputs": [
    {
     "name": "stdout",
     "output_type": "stream",
     "text": [
      "Natural convection Gr= 5.03e+06\n",
      "Natural convection Ra= 3.57e+06\n"
     ]
    }
   ],
   "source": [
    "#air\n",
    "T_infty = 10#C\n",
    "T_s = 50#C\n",
    "D = 0.1#m\n",
    "T_f = (T_s+T_infty)/2\n",
    "airflow = thermo.Fluid('air',T_f,\"C\")\n",
    "Gr= natconv.Gr(beta=airflow.beta,D=D,DT=T_s-T_infty,nu=airflow.nu)\n",
    "print('Natural convection Gr= %1.2e'%Gr)\n",
    "Ra= natconv.Ra(alpha=airflow.alpha,beta=airflow.beta,D=D,DT=T_s-T_infty,nu=airflow.nu)\n",
    "print('Natural convection Ra= %1.2e'%Ra)"
   ]
  },
  {
   "cell_type": "markdown",
   "metadata": {},
   "source": [
    "The Grashof and Rayleigh number quantify the ratio of buoyancy to viscous forces. When they are large enough, a convective flow sets in and the heat transfer increases in comparison to pure conduction. The Nusselt number, ratio of convective to conduction heat transfer (i.e. $>1$ in the presence of a convection flow) is typically a power law of the Rayleigh number. In the case of the flow around a cylinder with isothermal surface temperature, there are two correlations:\n",
    "<FONT FACE=\"courier\" style=\"color:blue\">Morgan(Ra) </FONT>\n",
    "<p class='alert alert-danger'>\n",
    "$$\n",
    "\\overline{Nu}=\\frac{\\overline{h}D}{k}=C\\,Ra^n\n",
    "$$\n",
    "</p>\n",
    "<FONT FACE=\"courier\" style=\"color:blue\">Churchill-Chu(Ra,Pr) </FONT>\n",
    "<p class='alert alert-danger'>\n",
    "$$\n",
    "\\overline{Nu}=\\frac{\\overline{h}D}{k}=\\left[0.60+\\frac{0.387Ra^{1/6}}{\\left[1+\\left(\\frac{0.559}\n",
    "{Pr}\\right)^{9/16}\\right]^{8/27}}\n",
    "\\right]^2 \n",
    "$$\n",
    "</p>\n",
    "Both are valid for $Ra\\leq10^{12}$. The Nusselt is averaged over the perimeter of the cylinder to account for the angular variation of heat transfer discussed earlier. The heat transfer from natural convection from a heated cylinder of diameter $D$ and length $L$ is\n",
    "<p class='alert alert-info'>\n",
    "$$\n",
    "q=\\overline{h}(\\pi DL)(T_s-T_\\infty)=\\frac{1}{R_\\text{th,conv}}(T_s-T_\\infty)\n",
    "$$\n",
    "</p>\n",
    "where $R_\\text{th,conv}$ may computed with <FONT FACE=\"courier\" style=\"color:blue\">R_th_convection(h,A)</FONT>\n"
   ]
  },
  {
   "cell_type": "code",
   "execution_count": 18,
   "metadata": {},
   "outputs": [
    {
     "name": "stdout",
     "output_type": "stream",
     "text": [
      "Morgan correlation: Nu= 20.87\n",
      "Churchill-Chu correlation: Nu= 20.91\n"
     ]
    }
   ],
   "source": [
    "airnatconv = natconv.HorizontalCylinder(correlation='Morgan',Ra=Ra)\n",
    "print(\"Morgan correlation: Nu= %1.2f\" %airnatconv.Nu)\n",
    "airnatconv = natconv.HorizontalCylinder(correlation='Churchill-Chu',Ra=Ra,Pr=airflow.Pr)\n",
    "print(\"Churchill-Chu correlation: Nu= %1.2f\" %airnatconv.Nu)"
   ]
  },
  {
   "cell_type": "code",
   "execution_count": 19,
   "metadata": {},
   "outputs": [
    {
     "data": {
      "image/png": "[encoded data removed]",
      "text/plain": [
       "<Figure size 432x288 with 1 Axes>"
      ]
     },
     "metadata": {
      "needs_background": "light"
     },
     "output_type": "display_data"
    }
   ],
   "source": [
    "font = {'family' : 'serif',\n",
    "        #'color'  : 'black',\n",
    "        'weight' : 'normal',\n",
    "        'size'   : 14,\n",
    "        }\n",
    "\n",
    "from matplotlib.ticker import FormatStrFormatter\n",
    "plt.rc('font', **font)\n",
    "N = 100\n",
    "Ra = np.logspace(5,12,N)\n",
    "Nu_Morgan = np.zeros(N)\n",
    "Nu_ChurchillChu = np.zeros(N)\n",
    "Pr = 1.0\n",
    "for i in range(N):\n",
    "    flow = natconv.HorizontalCylinder(correlation='Morgan',Ra=Ra[i])\n",
    "    Nu_Morgan[i] = flow.Nu\n",
    "    flow = natconv.HorizontalCylinder(correlation='Churchill-Chu',Ra=Ra[i],Pr=Pr)\n",
    "    Nu_ChurchillChu[i] = flow.Nu\n",
    "\n",
    "plt.loglog(Ra,Nu_Morgan, label = r\"Morgan\",lw = 2)\n",
    "plt.loglog(Ra,Nu_ChurchillChu, label = r\"Churchill-Chu\", lw= 2)\n",
    "plt.xlabel(r\"$Ra$\")\n",
    "plt.ylabel(r\"$Nu$\")\n",
    "plt.legend(loc=3, bbox_to_anchor=[0., 1.01], ncol=2, shadow=False, fancybox=True)\n",
    "plt.show()"
   ]
  },
  {
   "cell_type": "code",
   "execution_count": 20,
   "metadata": {},
   "outputs": [
    {
     "data": {
      "image/png": "[encoded data removed]",
      "text/plain": [
       "<Figure size 432x288 with 1 Axes>"
      ]
     },
     "metadata": {
      "needs_background": "light"
     },
     "output_type": "display_data"
    }
   ],
   "source": [
    "plt.semilogx(Ra,Nu_Morgan-Nu_ChurchillChu,lw = 2)\n",
    "plt.xlabel(r\"$Ra$\")\n",
    "plt.ylabel(r\"$Nu_{Morgan}-Nu_{Churchill-Chu}$\")\n",
    "plt.show()"
   ]
  },
  {
   "cell_type": "markdown",
   "metadata": {},
   "source": [
    "## Assignment"
   ]
  },
  {
   "cell_type": "markdown",
   "metadata": {},
   "source": [
    "<ol>\n",
    "<li> Read this entire notebook. Using the textbook, add restrictions and range of validity for the above correlations when applicable. Add the entry length Nu correlation for laminar flow</li>\n",
    "<li> Add a section on entrance flow</li>\n",
    "<li> How should the entrance flow region be treated in turbulent flows?</li>\n",
    "<li>Solve 8.31, 8.36, 8.43</li>\n",
    "</ol>"
   ]
  },
  {
   "cell_type": "markdown",
   "metadata": {},
   "source": [
    "### 8.31"
   ]
  },
  {
   "cell_type": "markdown",
   "metadata": {},
   "source": [
    "<img src=\"figures/probun_08_07.jpg\" alt=\"my awesome sketch\" width=50% >\n",
    "To cool a summer home without using a vapor-compression refrigeration cycle, air is routed through a plastic pipe ($k=0.15\\text{ W/m.K}$, $D_i=0.15\\text{ m}$, $D_o=0.17\\text{ m}$) that is submerged in an adjoining body of water. The water temperature is nominally at $T_\\infty= 17^\\circ\\text{C}$, and a convection coefﬁcient of $h_o\\approx 1500\\text{ W/m$^2$. K}$ is maintained at the outer surface of the pipe.\n",
    "\n",
    "If air from the home enters the pipe at a temperature of $T_{m,i}= 29^\\circ\\text{C}$ and a volumetric ﬂow rate of $\\dot{\\forall}_i= 0.025\\text{ m$^3$/s}$, what pipe length $L$ is needed to provide a discharge temperature of $T_{m,o}=21^\\circ\\text{C}$? What is the fan power required\n",
    "to move the air through this length of pipe if its inner surface is smooth?"
   ]
  },
  {
   "cell_type": "code",
   "execution_count": 6,
   "metadata": {},
   "outputs": [
    {
     "data": {
      "image/png": "[encoded data removed]",
      "image/svg+xml": [
       "<?xml version=\"1.0\" encoding=\"utf-8\" standalone=\"no\"?>\r\n",
       "<!DOCTYPE svg PUBLIC \"-//W3C//DTD SVG 1.1//EN\"\r\n",
       "  \"http://www.w3.org/Graphics/SVG/1.1/DTD/svg11.dtd\">\r\n",
       "<!-- Created with matplotlib (https://matplotlib.org/) -->\r\n",
       "<svg height=\"54.52pt\" version=\"1.1\" viewBox=\"0 0 376.959 54.52\" width=\"376.959pt\" xmlns=\"http://www.w3.org/2000/svg\" xmlns:xlink=\"http://www.w3.org/1999/xlink\">\r\n",
       " <defs>\r\n",
       "  <style type=\"text/css\">\r\n",
       "*{stroke-linecap:butt;stroke-linejoin:round;}\r\n",
       "  </style>\r\n",
       " </defs>\r\n",
       " <g id=\"figure_1\">\r\n",
       "  <g id=\"patch_1\">\r\n",
       "   <path d=\"M 0 54.52 \r\n",
       "L 376.959 54.52 \r\n",
       "L 376.959 -0 \r\n",
       "L 0 -0 \r\n",
       "z\r\n",
       "\" style=\"fill:#ffffff;\"/>\r\n",
       "  </g>\r\n",
       "  <g id=\"axes_1\">\r\n",
       "   <g id=\"patch_2\">\r\n",
       "    <path clip-path=\"url(#p9d10bd3d24)\" d=\"M 71.46 36.61 \r\n",
       "L 62.28 39.67 \r\n",
       "L 62.28 36.6253 \r\n",
       "L 10.26 36.6253 \r\n",
       "L 10.26 36.5947 \r\n",
       "L 62.28 36.5947 \r\n",
       "L 62.28 33.55 \r\n",
       "z\r\n",
       "\" style=\"stroke:#000000;stroke-linejoin:miter;stroke-width:2;\"/>\r\n",
       "   </g>\r\n",
       "   <g id=\"line2d_1\">\r\n",
       "    <path clip-path=\"url(#p9d10bd3d24)\" d=\"M 79.11 36.61 \r\n",
       "L 109.71 36.61 \r\n",
       "L 112.26 28.96 \r\n",
       "L 117.36 44.26 \r\n",
       "L 122.46 28.96 \r\n",
       "L 127.56 44.26 \r\n",
       "L 132.66 28.96 \r\n",
       "L 137.76 44.26 \r\n",
       "L 140.31 36.61 \r\n",
       "L 170.91 36.61 \r\n",
       "\" style=\"fill:none;stroke:#000000;stroke-linecap:round;stroke-width:2;\"/>\r\n",
       "   </g>\r\n",
       "   <g id=\"line2d_2\">\r\n",
       "    <path clip-path=\"url(#p9d10bd3d24)\" d=\"M 170.91 36.61 \r\n",
       "L 201.51 36.61 \r\n",
       "L 204.06 28.96 \r\n",
       "L 209.16 44.26 \r\n",
       "L 214.26 28.96 \r\n",
       "L 219.36 44.26 \r\n",
       "L 224.46 28.96 \r\n",
       "L 229.56 44.26 \r\n",
       "L 232.11 36.61 \r\n",
       "L 262.71 36.61 \r\n",
       "\" style=\"fill:none;stroke:#000000;stroke-linecap:round;stroke-width:2;\"/>\r\n",
       "   </g>\r\n",
       "   <g id=\"line2d_3\">\r\n",
       "    <path clip-path=\"url(#p9d10bd3d24)\" d=\"M 262.71 36.61 \r\n",
       "L 293.31 36.61 \r\n",
       "L 295.86 28.96 \r\n",
       "L 300.96 44.26 \r\n",
       "L 306.06 28.96 \r\n",
       "L 311.16 44.26 \r\n",
       "L 316.26 28.96 \r\n",
       "L 321.36 44.26 \r\n",
       "L 323.91 36.61 \r\n",
       "L 354.51 36.61 \r\n",
       "\" style=\"fill:none;stroke:#000000;stroke-linecap:round;stroke-width:2;\"/>\r\n",
       "   </g>\r\n",
       "   <g id=\"line2d_4\">\r\n",
       "    <path clip-path=\"url(#p9d10bd3d24)\" d=\"M 10.26 36.61 \r\n",
       "L 40.86 36.61 \r\n",
       "L 71.46 36.61 \r\n",
       "\" style=\"fill:none;stroke:#000000;stroke-linecap:round;stroke-width:2;\"/>\r\n",
       "   </g>\r\n",
       "   <g id=\"text_1\">\r\n",
       "    <!-- $R'_{conv,i}$ -->\r\n",
       "    <defs>\r\n",
       "     <path d=\"M 25.203125 64.796875 \r\n",
       "L 20.21875 38.921875 \r\n",
       "L 32.90625 38.921875 \r\n",
       "Q 40.375 38.921875 44.984375 43.046875 \r\n",
       "Q 49.609375 47.171875 49.609375 53.8125 \r\n",
       "Q 49.609375 59.125 46.5 61.953125 \r\n",
       "Q 43.40625 64.796875 37.59375 64.796875 \r\n",
       "z\r\n",
       "M 43.3125 35.015625 \r\n",
       "Q 46.4375 34.28125 48.515625 31.390625 \r\n",
       "Q 50.59375 28.515625 53.328125 19.921875 \r\n",
       "L 59.515625 0 \r\n",
       "L 49.125 0 \r\n",
       "L 43.40625 18.703125 \r\n",
       "Q 41.21875 25.921875 38.328125 28.359375 \r\n",
       "Q 35.453125 30.8125 29.5 30.8125 \r\n",
       "L 18.609375 30.8125 \r\n",
       "L 12.59375 0 \r\n",
       "L 2.6875 0 \r\n",
       "L 16.890625 72.90625 \r\n",
       "L 39.109375 72.90625 \r\n",
       "Q 49.21875 72.90625 54.609375 68.328125 \r\n",
       "Q 60.015625 63.765625 60.015625 55.171875 \r\n",
       "Q 60.015625 47.5625 55.421875 41.984375 \r\n",
       "Q 50.828125 36.421875 43.3125 35.015625 \r\n",
       "z\r\n",
       "\" id=\"DejaVuSans-Oblique-82\"/>\r\n",
       "     <path d=\"M 3.515625 5.421875 \r\n",
       "Q 2.875 5.609375 2.875 6.390625 \r\n",
       "L 15.09375 51.8125 \r\n",
       "Q 15.671875 53.65625 17.078125 54.78125 \r\n",
       "Q 18.5 55.90625 20.3125 55.90625 \r\n",
       "Q 22.65625 55.90625 24.4375 54.359375 \r\n",
       "Q 26.21875 52.828125 26.21875 50.484375 \r\n",
       "Q 26.21875 49.46875 25.6875 48.1875 \r\n",
       "L 7.625 4.984375 \r\n",
       "Q 7.28125 4.296875 6.6875 4.296875 \r\n",
       "Q 6.15625 4.296875 5 4.78125 \r\n",
       "Q 3.859375 5.28125 3.515625 5.421875 \r\n",
       "z\r\n",
       "\" id=\"Cmsy10-48\"/>\r\n",
       "     <path d=\"M 53.609375 52.59375 \r\n",
       "L 51.8125 43.703125 \r\n",
       "Q 48.578125 46.046875 44.9375 47.21875 \r\n",
       "Q 41.3125 48.390625 37.40625 48.390625 \r\n",
       "Q 33.109375 48.390625 29.21875 46.875 \r\n",
       "Q 25.34375 45.359375 22.703125 42.578125 \r\n",
       "Q 18.5 38.328125 16.203125 32.609375 \r\n",
       "Q 13.921875 26.90625 13.921875 20.796875 \r\n",
       "Q 13.921875 13.421875 17.609375 9.8125 \r\n",
       "Q 21.296875 6.203125 28.8125 6.203125 \r\n",
       "Q 32.515625 6.203125 36.6875 7.328125 \r\n",
       "Q 40.875 8.453125 45.40625 10.6875 \r\n",
       "L 43.703125 1.8125 \r\n",
       "Q 39.796875 0.203125 35.671875 -0.609375 \r\n",
       "Q 31.546875 -1.421875 27.203125 -1.421875 \r\n",
       "Q 16.3125 -1.421875 10.453125 4.015625 \r\n",
       "Q 4.59375 9.46875 4.59375 19.578125 \r\n",
       "Q 4.59375 28.078125 7.640625 35.234375 \r\n",
       "Q 10.6875 42.390625 16.703125 48.09375 \r\n",
       "Q 20.796875 52 26.3125 54 \r\n",
       "Q 31.84375 56 38.375 56 \r\n",
       "Q 42.1875 56 45.9375 55.140625 \r\n",
       "Q 49.703125 54.296875 53.609375 52.59375 \r\n",
       "z\r\n",
       "\" id=\"DejaVuSans-Oblique-99\"/>\r\n",
       "     <path d=\"M 25.390625 -1.421875 \r\n",
       "Q 15.765625 -1.421875 10.171875 4.515625 \r\n",
       "Q 4.59375 10.453125 4.59375 20.703125 \r\n",
       "Q 4.59375 26.65625 6.515625 32.828125 \r\n",
       "Q 8.453125 39.015625 11.53125 43.21875 \r\n",
       "Q 16.359375 49.75 22.3125 52.875 \r\n",
       "Q 28.265625 56 35.796875 56 \r\n",
       "Q 45.125 56 50.859375 50.1875 \r\n",
       "Q 56.59375 44.390625 56.59375 35.015625 \r\n",
       "Q 56.59375 28.515625 54.6875 22.0625 \r\n",
       "Q 52.78125 15.625 49.703125 11.375 \r\n",
       "Q 44.921875 4.828125 38.96875 1.703125 \r\n",
       "Q 33.015625 -1.421875 25.390625 -1.421875 \r\n",
       "z\r\n",
       "M 13.921875 21 \r\n",
       "Q 13.921875 13.578125 17.015625 9.890625 \r\n",
       "Q 20.125 6.203125 26.421875 6.203125 \r\n",
       "Q 35.453125 6.203125 41.375 14.078125 \r\n",
       "Q 47.3125 21.96875 47.3125 34.078125 \r\n",
       "Q 47.3125 41.15625 44.140625 44.765625 \r\n",
       "Q 40.96875 48.390625 34.8125 48.390625 \r\n",
       "Q 29.734375 48.390625 25.78125 46.015625 \r\n",
       "Q 21.828125 43.65625 18.703125 38.8125 \r\n",
       "Q 16.40625 35.203125 15.15625 30.5625 \r\n",
       "Q 13.921875 25.921875 13.921875 21 \r\n",
       "z\r\n",
       "\" id=\"DejaVuSans-Oblique-111\"/>\r\n",
       "     <path d=\"M 55.71875 33.015625 \r\n",
       "L 49.3125 0 \r\n",
       "L 40.28125 0 \r\n",
       "L 46.6875 32.671875 \r\n",
       "Q 47.125 34.96875 47.359375 36.71875 \r\n",
       "Q 47.609375 38.484375 47.609375 39.5 \r\n",
       "Q 47.609375 43.609375 45.015625 45.890625 \r\n",
       "Q 42.4375 48.1875 37.796875 48.1875 \r\n",
       "Q 30.5625 48.1875 25.34375 43.375 \r\n",
       "Q 20.125 38.578125 18.5 30.328125 \r\n",
       "L 12.5 0 \r\n",
       "L 3.515625 0 \r\n",
       "L 14.109375 54.6875 \r\n",
       "L 23.09375 54.6875 \r\n",
       "L 21.296875 46.09375 \r\n",
       "Q 25.046875 50.828125 30.3125 53.40625 \r\n",
       "Q 35.59375 56 41.40625 56 \r\n",
       "Q 48.640625 56 52.609375 52.09375 \r\n",
       "Q 56.59375 48.1875 56.59375 41.109375 \r\n",
       "Q 56.59375 39.359375 56.375 37.359375 \r\n",
       "Q 56.15625 35.359375 55.71875 33.015625 \r\n",
       "z\r\n",
       "\" id=\"DejaVuSans-Oblique-110\"/>\r\n",
       "     <path d=\"M 7.171875 54.6875 \r\n",
       "L 16.703125 54.6875 \r\n",
       "L 24.703125 8.203125 \r\n",
       "L 50.875 54.6875 \r\n",
       "L 60.40625 54.6875 \r\n",
       "L 29.296875 0 \r\n",
       "L 17.1875 0 \r\n",
       "z\r\n",
       "\" id=\"DejaVuSans-Oblique-118\"/>\r\n",
       "     <path d=\"M 11.71875 12.40625 \r\n",
       "L 22.015625 12.40625 \r\n",
       "L 22.015625 4 \r\n",
       "L 14.015625 -11.625 \r\n",
       "L 7.71875 -11.625 \r\n",
       "L 11.71875 4 \r\n",
       "z\r\n",
       "\" id=\"DejaVuSans-44\"/>\r\n",
       "     <path d=\"M 18.3125 75.984375 \r\n",
       "L 27.296875 75.984375 \r\n",
       "L 25.09375 64.59375 \r\n",
       "L 16.109375 64.59375 \r\n",
       "z\r\n",
       "M 14.203125 54.6875 \r\n",
       "L 23.1875 54.6875 \r\n",
       "L 12.5 0 \r\n",
       "L 3.515625 0 \r\n",
       "z\r\n",
       "\" id=\"DejaVuSans-Oblique-105\"/>\r\n",
       "    </defs>\r\n",
       "    <g transform=\"translate(102.26 22.4)scale(0.14 -0.14)\">\r\n",
       "     <use transform=\"translate(0 0.584375)\" xlink:href=\"#DejaVuSans-Oblique-82\"/>\r\n",
       "     <use transform=\"translate(76.499193 38.865625)scale(0.7)\" xlink:href=\"#Cmsy10-48\"/>\r\n",
       "     <use transform=\"translate(99.433763 -15.821875)scale(0.7)\" xlink:href=\"#DejaVuSans-Oblique-99\"/>\r\n",
       "     <use transform=\"translate(137.920091 -15.821875)scale(0.7)\" xlink:href=\"#DejaVuSans-Oblique-111\"/>\r\n",
       "     <use transform=\"translate(180.74724 -15.821875)scale(0.7)\" xlink:href=\"#DejaVuSans-Oblique-110\"/>\r\n",
       "     <use transform=\"translate(225.112474 -15.821875)scale(0.7)\" xlink:href=\"#DejaVuSans-Oblique-118\"/>\r\n",
       "     <use transform=\"translate(266.538255 -15.821875)scale(0.7)\" xlink:href=\"#DejaVuSans-44\"/>\r\n",
       "     <use transform=\"translate(302.426927 -15.821875)scale(0.7)\" xlink:href=\"#DejaVuSans-Oblique-105\"/>\r\n",
       "    </g>\r\n",
       "   </g>\r\n",
       "   <g id=\"text_2\">\r\n",
       "    <!-- $R'_{cond,pipe}$ -->\r\n",
       "    <defs>\r\n",
       "     <path d=\"M 41.796875 8.203125 \r\n",
       "Q 38.1875 3.46875 33.25 1.015625 \r\n",
       "Q 28.328125 -1.421875 22.3125 -1.421875 \r\n",
       "Q 14.109375 -1.421875 9.34375 4.171875 \r\n",
       "Q 4.59375 9.765625 4.59375 19.484375 \r\n",
       "Q 4.59375 27.59375 7.46875 34.9375 \r\n",
       "Q 10.359375 42.28125 15.828125 48.09375 \r\n",
       "Q 19.4375 51.953125 23.96875 53.96875 \r\n",
       "Q 28.515625 56 33.5 56 \r\n",
       "Q 38.765625 56 42.796875 53.453125 \r\n",
       "Q 46.828125 50.921875 49.03125 46.1875 \r\n",
       "L 54.890625 75.984375 \r\n",
       "L 63.921875 75.984375 \r\n",
       "L 49.125 0 \r\n",
       "L 40.09375 0 \r\n",
       "z\r\n",
       "M 13.921875 21.09375 \r\n",
       "Q 13.921875 14.015625 17.109375 10.0625 \r\n",
       "Q 20.3125 6.109375 25.984375 6.109375 \r\n",
       "Q 30.171875 6.109375 33.765625 8.125 \r\n",
       "Q 37.359375 10.15625 40.09375 14.109375 \r\n",
       "Q 42.96875 18.21875 44.625 23.578125 \r\n",
       "Q 46.296875 28.953125 46.296875 34.1875 \r\n",
       "Q 46.296875 40.96875 43.09375 44.765625 \r\n",
       "Q 39.890625 48.578125 34.28125 48.578125 \r\n",
       "Q 30.03125 48.578125 26.359375 46.578125 \r\n",
       "Q 22.703125 44.578125 20.125 40.828125 \r\n",
       "Q 17.28125 36.765625 15.59375 31.390625 \r\n",
       "Q 13.921875 26.03125 13.921875 21.09375 \r\n",
       "z\r\n",
       "\" id=\"DejaVuSans-Oblique-100\"/>\r\n",
       "     <path d=\"M 49.609375 33.6875 \r\n",
       "Q 49.609375 40.875 46.484375 44.671875 \r\n",
       "Q 43.359375 48.484375 37.5 48.484375 \r\n",
       "Q 33.5 48.484375 29.859375 46.4375 \r\n",
       "Q 26.21875 44.390625 23.390625 40.484375 \r\n",
       "Q 20.609375 36.625 18.9375 31.15625 \r\n",
       "Q 17.28125 25.6875 17.28125 20.3125 \r\n",
       "Q 17.28125 13.484375 20.40625 9.796875 \r\n",
       "Q 23.53125 6.109375 29.296875 6.109375 \r\n",
       "Q 33.546875 6.109375 37.1875 8.109375 \r\n",
       "Q 40.828125 10.109375 43.40625 13.921875 \r\n",
       "Q 46.1875 17.921875 47.890625 23.34375 \r\n",
       "Q 49.609375 28.765625 49.609375 33.6875 \r\n",
       "z\r\n",
       "M 21.78125 46.390625 \r\n",
       "Q 25.390625 51.125 30.296875 53.5625 \r\n",
       "Q 35.203125 56 41.21875 56 \r\n",
       "Q 49.609375 56 54.25 50.5 \r\n",
       "Q 58.890625 45.015625 58.890625 35.109375 \r\n",
       "Q 58.890625 27 56 19.65625 \r\n",
       "Q 53.125 12.3125 47.703125 6.5 \r\n",
       "Q 44.09375 2.640625 39.546875 0.609375 \r\n",
       "Q 35.015625 -1.421875 29.984375 -1.421875 \r\n",
       "Q 24.171875 -1.421875 20.21875 1 \r\n",
       "Q 16.265625 3.421875 14.3125 8.203125 \r\n",
       "L 8.6875 -20.796875 \r\n",
       "L -0.296875 -20.796875 \r\n",
       "L 14.40625 54.6875 \r\n",
       "L 23.390625 54.6875 \r\n",
       "z\r\n",
       "\" id=\"DejaVuSans-Oblique-112\"/>\r\n",
       "     <path d=\"M 48.09375 32.234375 \r\n",
       "Q 48.25 33.015625 48.3125 33.84375 \r\n",
       "Q 48.390625 34.671875 48.390625 35.5 \r\n",
       "Q 48.390625 41.453125 44.890625 44.921875 \r\n",
       "Q 41.40625 48.390625 35.40625 48.390625 \r\n",
       "Q 28.71875 48.390625 23.578125 44.15625 \r\n",
       "Q 18.453125 39.9375 15.828125 32.171875 \r\n",
       "z\r\n",
       "M 55.90625 25.203125 \r\n",
       "L 14.109375 25.203125 \r\n",
       "Q 13.8125 23.34375 13.71875 22.265625 \r\n",
       "Q 13.625 21.1875 13.625 20.40625 \r\n",
       "Q 13.625 13.625 17.796875 9.90625 \r\n",
       "Q 21.96875 6.203125 29.59375 6.203125 \r\n",
       "Q 35.453125 6.203125 40.671875 7.515625 \r\n",
       "Q 45.90625 8.84375 50.390625 11.375 \r\n",
       "L 48.6875 2.484375 \r\n",
       "Q 43.84375 0.53125 38.6875 -0.4375 \r\n",
       "Q 33.546875 -1.421875 28.21875 -1.421875 \r\n",
       "Q 16.84375 -1.421875 10.71875 4.015625 \r\n",
       "Q 4.59375 9.46875 4.59375 19.484375 \r\n",
       "Q 4.59375 28.03125 7.640625 35.375 \r\n",
       "Q 10.6875 42.71875 16.609375 48.484375 \r\n",
       "Q 20.40625 52.09375 25.65625 54.046875 \r\n",
       "Q 30.90625 56 36.8125 56 \r\n",
       "Q 46.09375 56 51.578125 50.4375 \r\n",
       "Q 57.078125 44.875 57.078125 35.5 \r\n",
       "Q 57.078125 33.25 56.78125 30.6875 \r\n",
       "Q 56.5 28.125 55.90625 25.203125 \r\n",
       "z\r\n",
       "\" id=\"DejaVuSans-Oblique-101\"/>\r\n",
       "    </defs>\r\n",
       "    <g transform=\"translate(184.61 21.56)scale(0.14 -0.14)\">\r\n",
       "     <use transform=\"translate(0 0.584375)\" xlink:href=\"#DejaVuSans-Oblique-82\"/>\r\n",
       "     <use transform=\"translate(76.499193 38.865625)scale(0.7)\" xlink:href=\"#Cmsy10-48\"/>\r\n",
       "     <use transform=\"translate(99.433763 -15.821875)scale(0.7)\" xlink:href=\"#DejaVuSans-Oblique-99\"/>\r\n",
       "     <use transform=\"translate(137.920091 -15.821875)scale(0.7)\" xlink:href=\"#DejaVuSans-Oblique-111\"/>\r\n",
       "     <use transform=\"translate(180.74724 -15.821875)scale(0.7)\" xlink:href=\"#DejaVuSans-Oblique-110\"/>\r\n",
       "     <use transform=\"translate(225.112474 -15.821875)scale(0.7)\" xlink:href=\"#DejaVuSans-Oblique-100\"/>\r\n",
       "     <use transform=\"translate(269.546068 -15.821875)scale(0.7)\" xlink:href=\"#DejaVuSans-44\"/>\r\n",
       "     <use transform=\"translate(305.43474 -15.821875)scale(0.7)\" xlink:href=\"#DejaVuSans-Oblique-112\"/>\r\n",
       "     <use transform=\"translate(349.868333 -15.821875)scale(0.7)\" xlink:href=\"#DejaVuSans-Oblique-105\"/>\r\n",
       "     <use transform=\"translate(369.316576 -15.821875)scale(0.7)\" xlink:href=\"#DejaVuSans-Oblique-112\"/>\r\n",
       "     <use transform=\"translate(413.750169 -15.821875)scale(0.7)\" xlink:href=\"#DejaVuSans-Oblique-101\"/>\r\n",
       "    </g>\r\n",
       "   </g>\r\n",
       "   <g id=\"text_3\">\r\n",
       "    <!-- $R'_{conv,o}$ -->\r\n",
       "    <g transform=\"translate(284.25 22.4)scale(0.14 -0.14)\">\r\n",
       "     <use transform=\"translate(0 0.584375)\" xlink:href=\"#DejaVuSans-Oblique-82\"/>\r\n",
       "     <use transform=\"translate(76.499193 38.865625)scale(0.7)\" xlink:href=\"#Cmsy10-48\"/>\r\n",
       "     <use transform=\"translate(99.433763 -15.821875)scale(0.7)\" xlink:href=\"#DejaVuSans-Oblique-99\"/>\r\n",
       "     <use transform=\"translate(137.920091 -15.821875)scale(0.7)\" xlink:href=\"#DejaVuSans-Oblique-111\"/>\r\n",
       "     <use transform=\"translate(180.74724 -15.821875)scale(0.7)\" xlink:href=\"#DejaVuSans-Oblique-110\"/>\r\n",
       "     <use transform=\"translate(225.112474 -15.821875)scale(0.7)\" xlink:href=\"#DejaVuSans-Oblique-118\"/>\r\n",
       "     <use transform=\"translate(266.538255 -15.821875)scale(0.7)\" xlink:href=\"#DejaVuSans-44\"/>\r\n",
       "     <use transform=\"translate(302.426927 -15.821875)scale(0.7)\" xlink:href=\"#DejaVuSans-Oblique-111\"/>\r\n",
       "    </g>\r\n",
       "   </g>\r\n",
       "   <g id=\"text_4\">\r\n",
       "    <!-- $q'$ -->\r\n",
       "    <defs>\r\n",
       "     <path d=\"M 41.703125 8.203125 \r\n",
       "Q 38.09375 3.46875 33.171875 1.015625 \r\n",
       "Q 28.265625 -1.421875 22.3125 -1.421875 \r\n",
       "Q 14.015625 -1.421875 9.296875 4.171875 \r\n",
       "Q 4.59375 9.765625 4.59375 19.578125 \r\n",
       "Q 4.59375 27.484375 7.5 34.859375 \r\n",
       "Q 10.40625 42.234375 15.828125 48.09375 \r\n",
       "Q 19.34375 51.90625 23.90625 53.953125 \r\n",
       "Q 28.46875 56 33.5 56 \r\n",
       "Q 39.546875 56 43.453125 53.609375 \r\n",
       "Q 47.359375 51.21875 49.125 46.390625 \r\n",
       "L 50.6875 54.59375 \r\n",
       "L 59.71875 54.59375 \r\n",
       "L 45.125 -20.609375 \r\n",
       "L 36.078125 -20.609375 \r\n",
       "z\r\n",
       "M 13.921875 20.90625 \r\n",
       "Q 13.921875 13.671875 16.9375 9.890625 \r\n",
       "Q 19.96875 6.109375 25.6875 6.109375 \r\n",
       "Q 34.1875 6.109375 40.1875 14.234375 \r\n",
       "Q 46.1875 22.359375 46.1875 33.984375 \r\n",
       "Q 46.1875 41.015625 43.078125 44.75 \r\n",
       "Q 39.984375 48.484375 34.1875 48.484375 \r\n",
       "Q 29.9375 48.484375 26.3125 46.5 \r\n",
       "Q 22.703125 44.53125 20.015625 40.71875 \r\n",
       "Q 17.1875 36.71875 15.546875 31.34375 \r\n",
       "Q 13.921875 25.984375 13.921875 20.90625 \r\n",
       "z\r\n",
       "\" id=\"DejaVuSans-Oblique-113\"/>\r\n",
       "    </defs>\r\n",
       "    <g transform=\"translate(34.49 30.61)scale(0.14 -0.14)\">\r\n",
       "     <use transform=\"translate(0 0.584375)\" xlink:href=\"#DejaVuSans-Oblique-113\"/>\r\n",
       "     <use transform=\"translate(68.126458 38.865625)scale(0.7)\" xlink:href=\"#Cmsy10-48\"/>\r\n",
       "    </g>\r\n",
       "   </g>\r\n",
       "   <g id=\"patch_3\">\r\n",
       "    <path clip-path=\"url(#p9d10bd3d24)\" d=\"M 79.11 38.905 \r\n",
       "C 79.718641 38.905 80.302436 38.663184 80.73281 38.23281 \r\n",
       "C 81.163184 37.802436 81.405 37.218641 81.405 36.61 \r\n",
       "C 81.405 36.001359 81.163184 35.417564 80.73281 34.98719 \r\n",
       "C 80.302436 34.556816 79.718641 34.315 79.11 34.315 \r\n",
       "C 78.501359 34.315 77.917564 34.556816 77.48719 34.98719 \r\n",
       "C 77.056816 35.417564 76.815 36.001359 76.815 36.61 \r\n",
       "C 76.815 37.218641 77.056816 37.802436 77.48719 38.23281 \r\n",
       "C 77.917564 38.663184 78.501359 38.905 79.11 38.905 \r\n",
       "z\r\n",
       "\" style=\"stroke:#000000;stroke-linejoin:miter;stroke-width:2;\"/>\r\n",
       "   </g>\r\n",
       "   <g id=\"patch_4\">\r\n",
       "    <path clip-path=\"url(#p9d10bd3d24)\" d=\"M 170.91 38.905 \r\n",
       "C 171.518641 38.905 172.102436 38.663184 172.53281 38.23281 \r\n",
       "C 172.963184 37.802436 173.205 37.218641 173.205 36.61 \r\n",
       "C 173.205 36.001359 172.963184 35.417564 172.53281 34.98719 \r\n",
       "C 172.102436 34.556816 171.518641 34.315 170.91 34.315 \r\n",
       "C 170.301359 34.315 169.717564 34.556816 169.28719 34.98719 \r\n",
       "C 168.856816 35.417564 168.615 36.001359 168.615 36.61 \r\n",
       "C 168.615 37.218641 168.856816 37.802436 169.28719 38.23281 \r\n",
       "C 169.717564 38.663184 170.301359 38.905 170.91 38.905 \r\n",
       "z\r\n",
       "\" style=\"stroke:#000000;stroke-linejoin:miter;stroke-width:2;\"/>\r\n",
       "   </g>\r\n",
       "   <g id=\"patch_5\">\r\n",
       "    <path clip-path=\"url(#p9d10bd3d24)\" d=\"M 262.71 38.905 \r\n",
       "C 263.318641 38.905 263.902436 38.663184 264.33281 38.23281 \r\n",
       "C 264.763184 37.802436 265.005 37.218641 265.005 36.61 \r\n",
       "C 265.005 36.001359 264.763184 35.417564 264.33281 34.98719 \r\n",
       "C 263.902436 34.556816 263.318641 34.315 262.71 34.315 \r\n",
       "C 262.101359 34.315 261.517564 34.556816 261.08719 34.98719 \r\n",
       "C 260.656816 35.417564 260.415 36.001359 260.415 36.61 \r\n",
       "C 260.415 37.218641 260.656816 37.802436 261.08719 38.23281 \r\n",
       "C 261.517564 38.663184 262.101359 38.905 262.71 38.905 \r\n",
       "z\r\n",
       "\" style=\"stroke:#000000;stroke-linejoin:miter;stroke-width:2;\"/>\r\n",
       "   </g>\r\n",
       "   <g id=\"patch_6\">\r\n",
       "    <path clip-path=\"url(#p9d10bd3d24)\" d=\"M 354.51 38.905 \r\n",
       "C 355.118641 38.905 355.702436 38.663184 356.13281 38.23281 \r\n",
       "C 356.563184 37.802436 356.805 37.218641 356.805 36.61 \r\n",
       "C 356.805 36.001359 356.563184 35.417564 356.13281 34.98719 \r\n",
       "C 355.702436 34.556816 355.118641 34.315 354.51 34.315 \r\n",
       "C 353.901359 34.315 353.317564 34.556816 352.88719 34.98719 \r\n",
       "C 352.456816 35.417564 352.215 36.001359 352.215 36.61 \r\n",
       "C 352.215 37.218641 352.456816 37.802436 352.88719 38.23281 \r\n",
       "C 353.317564 38.663184 353.901359 38.905 354.51 38.905 \r\n",
       "z\r\n",
       "\" style=\"stroke:#000000;stroke-linejoin:miter;stroke-width:2;\"/>\r\n",
       "   </g>\r\n",
       "   <g id=\"text_5\">\r\n",
       "    <!-- $T_m$ -->\r\n",
       "    <defs>\r\n",
       "     <path d=\"M 5.90625 72.90625 \r\n",
       "L 67.578125 72.90625 \r\n",
       "L 66.015625 64.59375 \r\n",
       "L 39.984375 64.59375 \r\n",
       "L 27.484375 0 \r\n",
       "L 17.578125 0 \r\n",
       "L 30.078125 64.59375 \r\n",
       "L 4.296875 64.59375 \r\n",
       "z\r\n",
       "\" id=\"DejaVuSans-Oblique-84\"/>\r\n",
       "     <path d=\"M 89.796875 33.015625 \r\n",
       "L 83.40625 0 \r\n",
       "L 74.421875 0 \r\n",
       "L 80.71875 32.71875 \r\n",
       "Q 81.109375 34.8125 81.296875 36.328125 \r\n",
       "Q 81.5 37.84375 81.5 38.921875 \r\n",
       "Q 81.5 43.3125 79.046875 45.75 \r\n",
       "Q 76.609375 48.1875 72.21875 48.1875 \r\n",
       "Q 65.671875 48.1875 60.546875 43.28125 \r\n",
       "Q 55.421875 38.375 53.90625 30.515625 \r\n",
       "L 47.90625 0 \r\n",
       "L 38.921875 0 \r\n",
       "L 45.3125 32.71875 \r\n",
       "Q 45.703125 34.515625 45.890625 36.046875 \r\n",
       "Q 46.09375 37.59375 46.09375 38.8125 \r\n",
       "Q 46.09375 43.265625 43.65625 45.71875 \r\n",
       "Q 41.21875 48.1875 36.921875 48.1875 \r\n",
       "Q 30.28125 48.1875 25.140625 43.28125 \r\n",
       "Q 20.015625 38.375 18.5 30.515625 \r\n",
       "L 12.5 0 \r\n",
       "L 3.515625 0 \r\n",
       "L 14.203125 54.6875 \r\n",
       "L 23.1875 54.6875 \r\n",
       "L 21.484375 46.1875 \r\n",
       "Q 25.140625 50.984375 30.046875 53.484375 \r\n",
       "Q 34.96875 56 40.578125 56 \r\n",
       "Q 46.53125 56 50.359375 52.875 \r\n",
       "Q 54.203125 49.75 54.984375 44.1875 \r\n",
       "Q 59.078125 49.953125 64.46875 52.96875 \r\n",
       "Q 69.875 56 75.875 56 \r\n",
       "Q 82.90625 56 86.734375 51.953125 \r\n",
       "Q 90.578125 47.90625 90.578125 40.484375 \r\n",
       "Q 90.578125 38.875 90.375 36.9375 \r\n",
       "Q 90.1875 35.015625 89.796875 33.015625 \r\n",
       "z\r\n",
       "\" id=\"DejaVuSans-Oblique-109\"/>\r\n",
       "    </defs>\r\n",
       "    <g transform=\"translate(69.8 28.343438)scale(0.14 -0.14)\">\r\n",
       "     <use transform=\"translate(0 0.09375)\" xlink:href=\"#DejaVuSans-Oblique-84\"/>\r\n",
       "     <use transform=\"translate(61.083984 -16.3125)scale(0.7)\" xlink:href=\"#DejaVuSans-Oblique-109\"/>\r\n",
       "    </g>\r\n",
       "   </g>\r\n",
       "   <g id=\"text_6\">\r\n",
       "    <!-- $T_{s,i}$ -->\r\n",
       "    <defs>\r\n",
       "     <path d=\"M 50 53.078125 \r\n",
       "L 48.296875 44.578125 \r\n",
       "Q 44.734375 46.53125 40.765625 47.5 \r\n",
       "Q 36.8125 48.484375 32.625 48.484375 \r\n",
       "Q 25.53125 48.484375 21.453125 46.0625 \r\n",
       "Q 17.390625 43.65625 17.390625 39.5 \r\n",
       "Q 17.390625 34.671875 26.859375 32.078125 \r\n",
       "Q 27.59375 31.890625 27.9375 31.78125 \r\n",
       "L 30.8125 30.90625 \r\n",
       "Q 39.796875 28.421875 42.796875 25.6875 \r\n",
       "Q 45.796875 22.953125 45.796875 18.21875 \r\n",
       "Q 45.796875 9.515625 38.890625 4.046875 \r\n",
       "Q 31.984375 -1.421875 20.796875 -1.421875 \r\n",
       "Q 16.453125 -1.421875 11.671875 -0.578125 \r\n",
       "Q 6.890625 0.25 1.125 2 \r\n",
       "L 2.875 11.28125 \r\n",
       "Q 7.8125 8.734375 12.59375 7.421875 \r\n",
       "Q 17.390625 6.109375 21.78125 6.109375 \r\n",
       "Q 28.375 6.109375 32.5 8.9375 \r\n",
       "Q 36.625 11.765625 36.625 16.109375 \r\n",
       "Q 36.625 20.796875 25.78125 23.6875 \r\n",
       "L 24.859375 23.921875 \r\n",
       "L 21.78125 24.703125 \r\n",
       "Q 14.9375 26.515625 11.765625 29.46875 \r\n",
       "Q 8.59375 32.421875 8.59375 37.015625 \r\n",
       "Q 8.59375 45.75 15.15625 50.875 \r\n",
       "Q 21.734375 56 33.015625 56 \r\n",
       "Q 37.453125 56 41.671875 55.265625 \r\n",
       "Q 45.90625 54.546875 50 53.078125 \r\n",
       "z\r\n",
       "\" id=\"DejaVuSans-Oblique-115\"/>\r\n",
       "    </defs>\r\n",
       "    <g transform=\"translate(159.99 27.755)scale(0.14 -0.14)\">\r\n",
       "     <use transform=\"translate(0 0.09375)\" xlink:href=\"#DejaVuSans-Oblique-84\"/>\r\n",
       "     <use transform=\"translate(61.083984 -16.3125)scale(0.7)\" xlink:href=\"#DejaVuSans-Oblique-115\"/>\r\n",
       "     <use transform=\"translate(97.553711 -16.3125)scale(0.7)\" xlink:href=\"#DejaVuSans-44\"/>\r\n",
       "     <use transform=\"translate(133.442383 -16.3125)scale(0.7)\" xlink:href=\"#DejaVuSans-Oblique-105\"/>\r\n",
       "    </g>\r\n",
       "   </g>\r\n",
       "   <g id=\"text_7\">\r\n",
       "    <!-- $T_{s,o}$ -->\r\n",
       "    <g transform=\"translate(250.11 27.755)scale(0.14 -0.14)\">\r\n",
       "     <use transform=\"translate(0 0.09375)\" xlink:href=\"#DejaVuSans-Oblique-84\"/>\r\n",
       "     <use transform=\"translate(61.083984 -16.3125)scale(0.7)\" xlink:href=\"#DejaVuSans-Oblique-115\"/>\r\n",
       "     <use transform=\"translate(97.553711 -16.3125)scale(0.7)\" xlink:href=\"#DejaVuSans-44\"/>\r\n",
       "     <use transform=\"translate(133.442383 -16.3125)scale(0.7)\" xlink:href=\"#DejaVuSans-Oblique-111\"/>\r\n",
       "    </g>\r\n",
       "   </g>\r\n",
       "   <g id=\"text_8\">\r\n",
       "    <!-- $T_\\infty$ -->\r\n",
       "    <defs>\r\n",
       "     <path d=\"M 45.5625 17.046875 \r\n",
       "Q 44.046875 18.796875 41.65625 22.90625 \r\n",
       "Q 38.375 17.046875 35.5 14.453125 \r\n",
       "Q 31.890625 11.328125 26.265625 11.328125 \r\n",
       "Q 19.671875 11.328125 15.328125 16.265625 \r\n",
       "Q 10.75 21.4375 10.75 29.984375 \r\n",
       "Q 10.75 38.1875 15.328125 43.75 \r\n",
       "Q 19.4375 48.6875 26.375 48.6875 \r\n",
       "Q 29.9375 48.6875 32.5625 47.21875 \r\n",
       "Q 35.640625 45.609375 37.75 42.828125 \r\n",
       "Q 39.703125 40.328125 41.65625 36.96875 \r\n",
       "Q 44.921875 42.828125 47.796875 45.40625 \r\n",
       "Q 51.421875 48.53125 57.03125 48.53125 \r\n",
       "Q 63.625 48.53125 67.96875 43.609375 \r\n",
       "Q 72.5625 38.421875 72.5625 29.890625 \r\n",
       "Q 72.5625 21.6875 67.96875 16.109375 \r\n",
       "Q 63.875 11.1875 56.9375 11.1875 \r\n",
       "Q 53.375 11.1875 50.734375 12.640625 \r\n",
       "Q 48.09375 13.96875 45.5625 17.046875 \r\n",
       "z\r\n",
       "M 25.734375 17.71875 \r\n",
       "Q 33.796875 17.71875 38.625 29.4375 \r\n",
       "Q 32.421875 42.234375 25.734375 42.234375 \r\n",
       "Q 20.84375 42.234375 18.359375 38.71875 \r\n",
       "Q 15.671875 34.96875 15.671875 29.984375 \r\n",
       "Q 15.671875 24.515625 18.359375 21.140625 \r\n",
       "Q 21.09375 17.71875 25.734375 17.71875 \r\n",
       "z\r\n",
       "M 57.5625 42.140625 \r\n",
       "Q 50.296875 42.140625 44.671875 30.421875 \r\n",
       "Q 50.828125 17.625 57.5625 17.625 \r\n",
       "Q 62.453125 17.625 64.9375 21.140625 \r\n",
       "Q 67.625 24.90625 67.625 29.890625 \r\n",
       "Q 67.625 35.359375 64.9375 38.71875 \r\n",
       "Q 62.203125 42.140625 57.5625 42.140625 \r\n",
       "z\r\n",
       "\" id=\"DejaVuSans-8734\"/>\r\n",
       "    </defs>\r\n",
       "    <g transform=\"translate(345.9 28.343438)scale(0.14 -0.14)\">\r\n",
       "     <use transform=\"translate(0 0.09375)\" xlink:href=\"#DejaVuSans-Oblique-84\"/>\r\n",
       "     <use transform=\"translate(61.083984 -16.3125)scale(0.7)\" xlink:href=\"#DejaVuSans-8734\"/>\r\n",
       "    </g>\r\n",
       "   </g>\r\n",
       "  </g>\r\n",
       " </g>\r\n",
       " <defs>\r\n",
       "  <clipPath id=\"p9d10bd3d24\">\r\n",
       "   <rect height=\"40.12\" width=\"362.559\" x=\"7.2\" y=\"7.2\"/>\r\n",
       "  </clipPath>\r\n",
       " </defs>\r\n",
       "</svg>\r\n"
      ],
      "text/plain": [
       "<schemdraw.backends.mpl.Figure object at 0x000002546EE04A30>"
      ]
     },
     "execution_count": 6,
     "metadata": {},
     "output_type": "execute_result"
    }
   ],
   "source": [
    "from Libraries import HT_thermal_resistance as res\n",
    "\n",
    "Rp = []\n",
    "Rp.append(res.Resistance(\"$R'_{conv,i}$\", \"W/m\"))\n",
    "Rp.append(res.Resistance(\"$R'_{cond,pipe}$\", \"W/m\"))\n",
    "Rp.append(res.Resistance(\"$R'_{conv,o}$\", \"W/m\"))\n",
    "\n",
    "d = schem.Drawing()\n",
    "d.add(e.DOT, label = r\"$T_m$\")\n",
    "d.add(e.RES, d = 'right', label = Rp[0].name)\n",
    "d.add(e.DOT, label = r\"$T_{s,i}$\")\n",
    "R1 = d.add(e.RES, d = 'right', label = Rp[1].name)\n",
    "d.add(e.DOT, label = r\"$T_{s,o}$\")\n",
    "d.add(e.RES, d='right', label = Rp[2].name)\n",
    "d.add(e.DOT, label=\"$T_\\infty$\")\n",
    "L1 = d.add(e.LINE, toplabel = \"$q'$\", endpts = [[-2.25, 0], [-0.25, 0]])\n",
    "d.labelI(L1, arrowofst = 0)\n",
    "d.draw()"
   ]
  },
  {
   "cell_type": "code",
   "execution_count": 9,
   "metadata": {},
   "outputs": [],
   "source": [
    "from Libraries import thermodynamics as thermo\n",
    "from Libraries import HT_internal_convection as intconv\n",
    "\n",
    "k_pipe = 0.15\n",
    "Di = 0.15\n",
    "Do = 0.17\n",
    "T_infty = 17\n",
    "h_o = 1500\n",
    "T_mi = 29\n",
    "T_mo = 21\n",
    "\n",
    "Qdot = 0.025\n",
    "T_m = (T_mi + T_mo)/2\n",
    "\n",
    "airi = thermo.Fluid('air',T_mi,'C')\n",
    "airm = thermo.Fluid('air',T_m,'C')\n",
    "airflow = intconv.PipeFlow(D=Di,L=1,mdot = airi.rho*Qdot, nu=airm.nu, rho =airi.rho)\n"
   ]
  },
  {
   "cell_type": "markdown",
   "metadata": {},
   "source": [
    "### 8.36"
   ]
  },
  {
   "cell_type": "markdown",
   "metadata": {},
   "source": [
    "Hot water at mean temperature $T_m=50\\text{$^\\circ$C}$ is routed from one building in which it is generated to an adjoining building in which it is used for space heating. Transfer between the buildings occurs in a steel pipe ($k=60\\text{ W/m.K}$) of $100 \\text{ mm}$ outside diameter and 8-mm wall thickness. During the winter, representative environmental conditions involve air at $T_\\infty= -5\\text{$^\\circ$C}$ and $V_\\infty=3\\text{ m/s}$ in cross ﬂow over the pipe.\n",
    "Using the Churchill Bernstein and Dittus Boehler correlations, calculate the total heat transfer rate <b>per unit length</b> $q'$, the daily energy cost $Q'=q'\\times 24\\text{ h/d}$ per meter and the cost per day and per meter assuming an electricity cost of $\\text{\\$}0.05\\text{/kW.h}$."
   ]
  },
  {
   "cell_type": "code",
   "execution_count": 1,
   "metadata": {},
   "outputs": [
    {
     "ename": "ModuleNotFoundError",
     "evalue": "No module named 'libraries'",
     "output_type": "error",
     "traceback": [
      "\u001b[1;31m---------------------------------------------------------------------------\u001b[0m",
      "\u001b[1;31mModuleNotFoundError\u001b[0m                       Traceback (most recent call last)",
      "\u001b[1;32m<ipython-input-1-3422d330162b>\u001b[0m in \u001b[0;36m<module>\u001b[1;34m\u001b[0m\n\u001b[0;32m      8\u001b[0m \u001b[1;33m\u001b[0m\u001b[0m\n\u001b[0;32m      9\u001b[0m \u001b[1;33m\u001b[0m\u001b[0m\n\u001b[1;32m---> 10\u001b[1;33m \u001b[1;32mfrom\u001b[0m \u001b[0mlibraries\u001b[0m \u001b[1;32mimport\u001b[0m \u001b[0mHT_thermal_resistance\u001b[0m \u001b[1;32mas\u001b[0m \u001b[0mres\u001b[0m\u001b[1;33m\u001b[0m\u001b[1;33m\u001b[0m\u001b[0m\n\u001b[0m\u001b[0;32m     11\u001b[0m \u001b[0mRp\u001b[0m \u001b[1;33m=\u001b[0m\u001b[1;33m[\u001b[0m\u001b[1;33m]\u001b[0m\u001b[1;33m\u001b[0m\u001b[1;33m\u001b[0m\u001b[0m\n\u001b[0;32m     12\u001b[0m \u001b[0mRp\u001b[0m\u001b[1;33m.\u001b[0m\u001b[0mappend\u001b[0m\u001b[1;33m(\u001b[0m\u001b[0mres\u001b[0m\u001b[1;33m.\u001b[0m\u001b[0mResistance\u001b[0m\u001b[1;33m(\u001b[0m\u001b[1;34m\"$R'_{conv,int}\"\u001b[0m\u001b[1;33m,\u001b[0m \u001b[1;34m\"W/m\"\u001b[0m\u001b[1;33m)\u001b[0m\u001b[1;33m)\u001b[0m\u001b[1;33m\u001b[0m\u001b[1;33m\u001b[0m\u001b[0m\n",
      "\u001b[1;31mModuleNotFoundError\u001b[0m: No module named 'libraries'"
     ]
    }
   ],
   "source": [
    "T_m = 50 #C\n",
    "k = 60 #W/M*K\n",
    "D_o = 0.1 #m\n",
    "D_i = 0.084 #m \n",
    "T_infty = -5 #C\n",
    "V_infty = 3 #m/s\n",
    "t = 0.008 #m \n",
    "\n",
    "\n",
    "from libraries import HT_thermal_resistance as res\n",
    "Rp =[]\n",
    "Rp.append(res.Resistance(\"$R'_{conv,int}\", \"W/m\"))\n",
    "Rp.append(res.Resistance(\"$R'_{cond,p}\", \"W/m\"))\n",
    "Rp.append(res.Resistance(\"$R'_{conv,ext}\", \"W/m\"))\n",
    "\n"
   ]
  },
  {
   "cell_type": "markdown",
   "metadata": {},
   "source": [
    "### 8.42"
   ]
  },
  {
   "cell_type": "markdown",
   "metadata": {},
   "source": [
    "Atmospheric air enters a $10\\text{ m}$-long, $150\\text{ mm}$-diameter uninsulated heating duct at $60\\text{$^\\circ$C}$ and $0.04\\text{ kg/s}$. The duct surface temperature is approximately constant at $Ts=15\\text{$^\\circ$C}$.\n",
    "\n",
    "(a) What are the outlet air temperature, the heat rate q, and pressure drop $\\Delta p$ for these conditions?\n",
    "\n",
    "(b) To illustrate the tradeoff between heat transfer rate and pressure drop considerations, calculate $q$ and $\\Delta p$ for diameters in the range from $0.1$ to $0.2\\text{ m}$. In your analysis, maintain the total surface area,\n",
    "$A_s=\\pi DL$, at the value computed for part (a). Plot $q$, $\\Delta p$, and $L$ as a function of the duct diameter."
   ]
  },
  {
   "cell_type": "code",
   "execution_count": null,
   "metadata": {
    "collapsed": true
   },
   "outputs": [],
   "source": []
  }
 ],
 "metadata": {
  "anaconda-cloud": {},
  "kernelspec": {
   "display_name": "Python 3",
   "language": "python",
   "name": "python3"
  },
  "language_info": {
   "codemirror_mode": {
    "name": "ipython",
    "version": 3
   },
   "file_extension": ".py",
   "mimetype": "text/x-python",
   "name": "python",
   "nbconvert_exporter": "python",
   "pygments_lexer": "ipython3",
   "version": "3.8.3"
  }
 },
 "nbformat": 4,
 "nbformat_minor": 2
}
