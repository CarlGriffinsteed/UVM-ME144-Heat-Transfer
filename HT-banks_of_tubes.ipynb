{
 "cells": [
  {
   "cell_type": "code",
   "execution_count": 1,
   "metadata": {},
   "outputs": [],
   "source": [
    "%matplotlib inline \n"
   ]
  },
  {
   "cell_type": "markdown",
   "metadata": {},
   "source": [
    "This notebook deals with banks of cylinders in a cross flow. Cylinder banks are common heat exchangers where the cylinders may be heated by electricity or a fluid may be flowing within the cylinder to cool or heat the flow around the cylinders. The advantage of cylinder banks is the increase mixing in the fluid, thus the temperature downstream of the bank is likely to be quite homogeneous.\n",
    "\n",
    "<img src='figures_Tube_Banks/fig_07_11.jpg' alt=\"my awesome sketch\" width=50% >"
   ]
  },
  {
   "cell_type": "markdown",
   "metadata": {},
   "source": [
    "The arrangement of cylinders may be aligned or staggered as shown in the following figures. The flow and geometrical parameters will be used in the derivation of temperature equations and Nusselt number correlation.\n",
    "<img src='figures_Tube_Banks/fig_07_12.jpg' alt=\"my awesome sketch\" width=50% >"
   ]
  },
  {
   "cell_type": "markdown",
   "metadata": {},
   "source": [
    "This notebook should cover a wide variety of problems, providing that the assumption of isothermal boundary conditions on the tubes is (approximately) valid. The tube surface temperature is $T_s$. \n",
    "The flow and geometrical parameters of importance to solve this problem are:\n",
    "\n",
    "* Arithmetic mean of temperature between inlet $T_i$ and outlet $T_o$ of the bank. \n",
    "$$\n",
    "T_m = \\frac{T_i+T_o}{2}\n",
    "$$\n",
    "* Reynolds number based on the max velocity within the bank $V_\\text{max}$, the density and viscosity based on $T_m$:\n",
    "$$\n",
    "Re=\\frac{\\rho V_\\text{max}D}{\\mu}\n",
    "$$\n",
    "**Question: At what temperature should you estimate $\\rho$ and $\\mu$?** The energy of the flow comes from the inlet and the velocity $V_\\mathrm{max}$ is calculated from the inlet velocity. The density should therefore be estimated at $T_i$. The viscous forces however occur throughout the domain, so $\\mu$ should be estimated at $T_m$. In some cases $T_o$ is the quantity to be found. It is acceptable to use $\\mu(T_i)$, but you must verify that the temperature difference $\\Delta T=\\vert T_i-T_o\\vert$ is not too large. If it is, you must repeat the calculation iteratively with  $\\mu(T_i)$ until $T_o$ converges.\n",
    "\n",
    "* Prandtl number $Pr$ based on $T_m$ \n",
    "* Surface Prandtl number $Pr_s$ based on $T_s$\n",
    "* Number of tubes in the transversal direction $N_T$, longitudinal direction $N_L$ and total $N=N_T\\times N_L$\n",
    "* The transversal $S_T$ and longitudinal $S_L$ separations between tubes in a row and between rows.\n",
    "* The type of tube arrangement: \n",
    "    * Aligned\n",
    "$$\n",
    "V_\\text{max}=\\frac{S_T}{S_T-D}V_i\n",
    "$$\n",
    "    * Staggered\n",
    "$$\n",
    "V_\\text{max}=\\frac{S_T}{2(S_D-D)}V_i\\text{ with }S_D=\\sqrt{S_L^2+\\left(\\frac{S_T}{2}\\right)^2}\n",
    "$$\n"
   ]
  },
  {
   "cell_type": "markdown",
   "metadata": {},
   "source": [
    "The Nusselt number correlation for a bank of tubes is a variation of the Zukauskas correlation:\n",
    "$$\n",
    "Nu = C_2C_1Re^mPr^{0.36}\\left(\\frac{Pr}{Pr_s}\\right)^{1/4}\n",
    "$$\n",
    "where $C_2$ depends on $N_L$. In the library, the function for this correlation is\n",
    "<FONT FACE=\"courier\" style=\"color:red\">Nu_tube_banks(Re,Pr,Pr_s,S_L,S_T,N_L,arrangement) </FONT>.\n",
    "\n",
    "The heat rate per unit length across the tube bank is\n",
    "$$\n",
    "q'=N\\overline{h}\\pi D \\Delta T_\\text{lm}\n",
    "$$\n",
    "where the temperature drop is the log-mean temperature difference\n",
    "$$\n",
    "\\Delta T_\\text{lm}=\\cfrac{(T_s-T_i)-(T_s-T_o)}{\\ln\\left(\\cfrac{T_s-T_i}{T_s-T_o}\\right)}\n",
    "$$\n",
    "which accounts for the exponential variation of temperature across the bank\n",
    "$$\n",
    "\\cfrac{T_s-T_o}{T_s-T_i}=\\exp\\left(-\\cfrac{\\pi D N \\overline{h}}{\\rho V_i N_T S_T C_p}\\right)\n",
    "$$\n",
    "where $\\rho$, $C_p$ and $V_i$ are inlet quantities if $T_o$ is unknown of the arthimetic mean temperature if available. Note that $N=N_L\\times N_T$ thus \n",
    "$$\n",
    "\\cfrac{T_s-T_o}{T_s-T_i}=\\exp\\left(-\\cfrac{\\pi D N_L \\overline{h}}{\\rho V_i S_T C_p}\\right)\n",
    "$$\n",
    "One may want to determine the number of tubes necessary to achieve a given $T_o$. The number of tubes in the transverse directions is typically dictated by the geometry of the system, so we are looking for $N_L$:\n",
    "$$\n",
    "N_L = \\cfrac{\\rho V_i S_T C_p}{\\pi D \\overline{h}} \\log\\left(\\cfrac{T_s-T_i}{T_s-T_o}\\right)\n",
    "$$\n"
   ]
  },
  {
   "cell_type": "markdown",
   "metadata": {},
   "source": [
    "The pressure loss through the tube bank is a critical component of the heat exchanger design. The presence of obstacles in the flow requires an increase in the mechanical energy necessary to drive the flow at a given flow rate. The pressure loss, given all parameters above, is\n",
    "$$\n",
    "\\Delta p = N_L\\,\\chi\\, f\\,\\frac{\\rho V_\\text{max}^2}{2}\n",
    "$$\n",
    "where the friction factor $f$ and the parameter $\\chi$ are given by the graphs below for the aligned (top) and staggered (bottom) arrangements. These graphs use two new quantities, the longitudnal and transverse pitches:\n",
    "$$\n",
    "P_L=\\frac{S_L}{D}\\text{ and } P_T=\\frac{S_T}{D}\n",
    "$$\n",
    "<img src='figures_Tube_Banks/fig_07_14.jpg' alt=\"my awesome sketch\" width=100% >\n",
    "<img src='figures_Tube_Banks/fig_07_15.jpg' alt=\"my awesome sketch\" width=100% >"
   ]
  },
  {
   "cell_type": "markdown",
   "metadata": {},
   "source": [
    "## Problem1\n",
    "A preheater involves the use of condensing steam on the inside of a bank of tubes to heat air that enters at $P_i=1 \\text{ atm}$ and $T_i=25^\\circ\\text{C}$. The air moves at $V_i=5\\text{ m/s}$ in cross flow over the tubes. Each tube is $L=1\\text{ m}$ long and has an outside diameter of $D=10 \\text{ mm}$. The bank consists of columns of 14 tubes in the transversal direction $N_T=14$ and $N_L$ rows in the direction of flow. The arrangement of tubes is aligned array for which $S_T=S_L=15\\text{ mm}$. What is the minimum value of $N_L$ needed to achieve an outlet temperature of $T_o=75^\\circ\\text{C}$? What is the corresponding pressure drop across the tube bank?\n"
   ]
  },
  {
   "cell_type": "code",
   "execution_count": 18,
   "metadata": {},
   "outputs": [
    {
     "name": "stdout",
     "output_type": "stream",
     "text": [
      "The number of rows required to reach T_o=75 C is 15.26\n"
     ]
    }
   ],
   "source": [
    "import numpy as np\n",
    "from Libraries import thermodynamics as thermo\n",
    "from Libraries import HT_external_convection as extconv\n",
    "\n",
    "T_i = 25 #C\n",
    "T_o = 75 #C\n",
    "T_s = 100 #C\n",
    "V_i = 5 #m/s\n",
    "L = 1 #m\n",
    "D = 10e-3 #mm\n",
    "N_L = 14\n",
    "S_T = S_L = 15e-3 #m\n",
    "\n",
    "# ?extconv.BankofTubes\n",
    "bank = extconv.BankofTubes('aligned','air',T_i,T_s,T_o,\"C\",V_i,D,S_L,S_T,N_L)\n",
    "\n",
    "print(\"The number of rows required to reach T_o=%.0f C is %.2f\" %(bank.T_o,bank.N_L_for_given_To))\n"
   ]
  },
  {
   "cell_type": "markdown",
   "metadata": {},
   "source": [
    "If the outlet temperature can be slightly below $75^\\circ\\mathrm{C}$, then the number of rows is 15.\n",
    "\n",
    "If the outlet temperature has to be at least $75^\\circ\\mathrm{C}$, then the number of rows is 16."
   ]
  },
  {
   "cell_type": "code",
   "execution_count": 34,
   "metadata": {},
   "outputs": [
    {
     "name": "stdout",
     "output_type": "stream",
     "text": [
      "With N_L=15, T_o=74.54\n",
      "Re=9052, P_L = 1.50\n",
      "Pressure drop is 6401.70\n"
     ]
    }
   ],
   "source": [
    "N_L = 15\n",
    "bank = extconv.BankofTubes('aligned','air',T_i,T_s,T_o,\"C\",V_i,D,S_L,S_T,N_L)\n",
    "N_T = 14\n",
    "bank.temperature_outlet_tube_banks(N_T,N_L)\n",
    "print(\"With N_L=%.0f, T_o=%.2f\" %(bank.N_L,bank.T_o))\n",
    "print(\"Re=%.0f, P_L = %.2f\" %(bank.Re,bank.S_T/bank.D))\n",
    "bank.pressure_drop(N_L,3.2,1)\n",
    "print(\"Pressure drop is %.2f Pa\" %(bank.Delta_p))"
   ]
  },
  {
   "cell_type": "markdown",
   "metadata": {},
   "source": [
    "## Problem 2\n",
    "\n",
    "A preheater involves the use of condensing steam at $100^\\circ\\text{C}$ on the inside of a bank of tubes to heat air that enters at $1 \\text{ atm}$ and $25^\\circ\\text{C}$. The air moves at $5\\text{ m/s}$ in cross flow over the tubes. Each tube is $1\\text{ m}$ long and has an outside diameter of $10 \\text{ mm}$. The bank consists of 196 tubes in a square, aligned array for which $S_T=S_L=15\\text{ mm}$. What is the total rate of heat transfer to the air? What is the pressure drop associated with the airflow?"
   ]
  },
  {
   "cell_type": "code",
   "execution_count": 41,
   "metadata": {},
   "outputs": [
    {
     "name": "stdout",
     "output_type": "stream",
     "text": [
      "72.60620496012206\n",
      "9080.451003545966\n",
      "73.95776478607291\n",
      "59665.2457253688\n"
     ]
    }
   ],
   "source": [
    "N_L = N_T = 14\n",
    "# T_o = 50.\n",
    "# bank = extconv.BankofTubes('aligned','air',T_i,T_s,T_o,\"C\",V_i,D,S_L,S_T,N_L)\n",
    "# bank.temperature_outlet_tube_banks(N_T,N_L)\n",
    "# print(bank.T_o)\n",
    "# print(bank.Re)\n",
    "# print(bank.Nu)\n",
    "T_o = 72.6\n",
    "bank = extconv.BankofTubes('aligned','air',T_i,T_s,T_o,\"C\",V_i,D,S_L,S_T,N_L)\n",
    "bank.temperature_outlet_tube_banks(N_T,N_L)\n",
    "print(bank.T_o)\n",
    "print(bank.Re)\n",
    "print(bank.Nu)\n",
    "bank.heat_rate(N_T,N_L,L)\n",
    "print(bank.q)"
   ]
  },
  {
   "cell_type": "markdown",
   "metadata": {},
   "source": [
    "## Problem 3"
   ]
  },
  {
   "cell_type": "markdown",
   "metadata": {},
   "source": [
    "<img src='figures_Tube_Banks/probun_07_34.jpg' alt=\"my awesome sketch\" width=100% >\n",
    "An air duct heater consists of an aligned array of electrical heating elements in which the longitudinal and transverse pitches are $S_L=S_T= 24\\text{ mm}$. There are 3 rows of elements in the ﬂow direction ($N_L=3$) and 4 elements per row ($N_T=4$). Atmospheric air with an upstream velocity of $12\\text{ m/s}$ and a temperature of $25^\\circ\\text{C}$ moves in cross ﬂow over the elements, which have a diameter of $12\\text{ mm}$, a length of $250\\text{ mm}$, and are maintained at a surface temperature of $350^\\circ\\text{C}$.\n",
    "<ol>\n",
    "<li>\n",
    "Determine the total heat transfer to the air and the temperature of the air leaving the duct heater.\n",
    "</li>\n",
    "<li>\n",
    "Determine the pressure drop across the element bank and the fan power requirement.\n",
    "</li>\n",
    "<li>\n",
    "Compare the average convection coefﬁcient obtained in your analysis with the value for an isolated (single) element. Explain the difference between the results.\n",
    "</li>\n",
    "<li>\n",
    "What effect would increasing the longitudinal and transverse pitches to 30 mm have on the exit temperature of the air, the total heat rate, and the pressure drop?\n",
    "</li>\n",
    "</ol>"
   ]
  },
  {
   "cell_type": "code",
   "execution_count": null,
   "metadata": {},
   "outputs": [],
   "source": [
    "\n",
    "\n"
   ]
  },
  {
   "cell_type": "code",
   "execution_count": null,
   "metadata": {},
   "outputs": [],
   "source": []
  }
 ],
 "metadata": {
  "kernelspec": {
   "display_name": "Python 3",
   "language": "python",
   "name": "python3"
  },
  "language_info": {
   "codemirror_mode": {
    "name": "ipython",
    "version": 3
   },
   "file_extension": ".py",
   "mimetype": "text/x-python",
   "name": "python",
   "nbconvert_exporter": "python",
   "pygments_lexer": "ipython3",
   "version": "3.8.3"
  }
 },
 "nbformat": 4,
 "nbformat_minor": 2
}
