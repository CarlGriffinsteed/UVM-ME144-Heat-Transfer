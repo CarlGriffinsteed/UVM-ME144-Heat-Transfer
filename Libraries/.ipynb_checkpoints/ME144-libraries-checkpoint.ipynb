{
 "cells": [
  {
   "cell_type": "code",
   "execution_count": 1,
   "metadata": {
    "collapsed": true
   },
   "outputs": [],
   "source": [
    "%matplotlib inline \n",
    "# plots graphs within the notebook\n",
    "%config InlineBackend.figure_format='svg' # not sure what this does, may be default images to svg format\n",
    "\n",
    "from IPython.display import Image\n",
    "\n",
    "from IPython.core.display import HTML\n",
    "def header(text):\n",
    "    raw_html = '<h4>' + str(text) + '</h4>'\n",
    "    return raw_html\n",
    "\n",
    "def box(text):\n",
    "    raw_html = '<div style=\"border:1px dotted black;padding:2em;\">'+str(text)+'</div>'\n",
    "    return HTML(raw_html)\n",
    "\n",
    "def nobox(text):\n",
    "    raw_html = '<p>'+str(text)+'</p>'\n",
    "    return HTML(raw_html)\n",
    "\n",
    "def addContent(raw_html):\n",
    "    global htmlContent\n",
    "    htmlContent += raw_html"
   ]
  },
  {
   "cell_type": "code",
   "execution_count": 2,
   "metadata": {
    "collapsed": false
   },
   "outputs": [
    {
     "name": "stdout",
     "output_type": "stream",
     "text": [
      "Overwriting thermodynamics.py\n"
     ]
    }
   ],
   "source": [
    "%%file thermodynamics.py\n",
    "class Fluid(object):\n",
    "    def __init__(self,name,T0):\n",
    "        self.name = name\n",
    "        self.T = T0"
   ]
  },
  {
   "cell_type": "code",
   "execution_count": 3,
   "metadata": {
    "collapsed": false
   },
   "outputs": [
    {
     "name": "stdout",
     "output_type": "stream",
     "text": [
      "air\n",
      "20.0\n"
     ]
    }
   ],
   "source": [
    "from thermodynamics import Fluid\n",
    "air = Fluid('air', 20.)\n",
    "print(air.name)\n",
    "print(air.T)"
   ]
  },
  {
   "cell_type": "code",
   "execution_count": null,
   "metadata": {
    "collapsed": true
   },
   "outputs": [],
   "source": []
  }
 ],
 "metadata": {
  "kernelspec": {
   "display_name": "Python 2",
   "language": "python",
   "name": "python2"
  },
  "language_info": {
   "codemirror_mode": {
    "name": "ipython",
    "version": 2
   },
   "file_extension": ".py",
   "mimetype": "text/x-python",
   "name": "python",
   "nbconvert_exporter": "python",
   "pygments_lexer": "ipython2",
   "version": "2.7.11"
  }
 },
 "nbformat": 4,
 "nbformat_minor": 0
}
