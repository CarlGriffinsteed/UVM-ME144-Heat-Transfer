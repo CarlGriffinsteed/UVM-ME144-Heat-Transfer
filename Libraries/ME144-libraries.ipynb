{
 "cells": [
  {
   "cell_type": "code",
   "execution_count": 1,
   "metadata": {
    "collapsed": true
   },
   "outputs": [],
   "source": [
    "%matplotlib inline \n",
    "# plots graphs within the notebook\n",
    "%config InlineBackend.figure_format='svg' # not sure what this does, may be default images to svg format\n",
    "\n",
    "from IPython.display import Image\n",
    "\n",
    "from IPython.core.display import HTML\n",
    "def header(text):\n",
    "    raw_html = '<h4>' + str(text) + '</h4>'\n",
    "    return raw_html\n",
    "\n",
    "def box(text):\n",
    "    raw_html = '<div style=\"border:1px dotted black;padding:2em;\">'+str(text)+'</div>'\n",
    "    return HTML(raw_html)\n",
    "\n",
    "def nobox(text):\n",
    "    raw_html = '<p>'+str(text)+'</p>'\n",
    "    return HTML(raw_html)\n",
    "\n",
    "def addContent(raw_html):\n",
    "    global htmlContent\n",
    "    htmlContent += raw_html"
   ]
  },
  {
   "cell_type": "markdown",
   "metadata": {},
   "source": [
    "### Library for thermodynamic properties"
   ]
  },
  {
   "cell_type": "markdown",
   "metadata": {},
   "source": [
    "Defines thermodynamic properties of air and water at 1 atm. Air properties are tabled between $-150\\text{$^\\circ$C}$ and $400\\text{$^\\circ$C}$, water between $274\\text{K}$ and $373\\text{K}$, Argon between $100\\text{K}$ and $700\\text{K}$ and Krypton between $150\\text{K}$ and $750\\text{K}$\n",
    "<p class='alert alert-danger'>\n",
    "<b>Input must be in Kelvin</b>\n",
    "</p>\n",
    "Use the scipy functions <FONT FACE=\"courier\" style=\"color:blue\">C2K </FONT> and <FONT FACE=\"courier\" style=\"color:blue\">F2K </FONT> to convert temperatures to Kelvin. Thermodynamic properties are linearly interpolated from the two nearest temperature states."
   ]
  },
  {
   "cell_type": "code",
   "execution_count": 2,
   "metadata": {
    "collapsed": false
   },
   "outputs": [
    {
     "name": "stdout",
     "output_type": "stream",
     "text": [
      "Overwriting thermodynamics.py\n"
     ]
    }
   ],
   "source": [
    "%%file thermodynamics.py\n",
    "import numpy as np\n",
    "import scipy\n",
    "import scipy.optimize\n",
    "from scipy.constants.constants import C2K\n",
    "from scipy.constants.constants import K2C\n",
    "from scipy.constants.constants import F2K\n",
    "from scipy.constants.constants import K2F\n",
    "import scipy.constants as sc\n",
    "\n",
    "def interpolate_table(target,index,xquantity,yquantity):\n",
    "    return yquantity[index] + \\\n",
    "                (yquantity[index+1]-yquantity[index])* \\\n",
    "                (target-xquantity[index])/(xquantity[index+1]-xquantity[index])\n",
    "        \n",
    "class Fluid(object):\n",
    "    \"\"\" Compute thermodynamics properties of air between -150 C and 400 C, \n",
    "        water between 274K and 373K, argon between 100 and 700K and\n",
    "        krypton between 150 and 700 K under 1 atm. Argon, krypton and water were obtained \n",
    "        through http://webbook.nist.gov/chemistry/fluid/\n",
    "        Declare your fluid as fluid=Fluid('name') where\n",
    "        name is air, water, argon or krypton\n",
    "        Then run fluid.get_properties(T) where T is your temperature\n",
    "        Note that the temperature must be in Kelvin\n",
    "        More fluids to be added in the future\"\"\"\n",
    "    def __init__(self,name):\n",
    "        self.name = name\n",
    "        \n",
    "    def get_properties(self,T_o):\n",
    "        self.T = T_o\n",
    "        if self.name == 'water':\n",
    "            if T_o < 274 or T_o > 373:\n",
    "                print(\"Temperature is out of bounds for liquid water\")\n",
    "                return \n",
    "            Ttab,ptab,rhotab,Cptab,mutab,ktab = \\\n",
    "            np.genfromtxt('Tables/water1atm.csv', delimiter=',', skip_header = 1, unpack=True, dtype=float)\n",
    "            Ntab = len(Ttab)\n",
    "            Cptab *= 1e3\n",
    "            nutab = mutab/rhotab \n",
    "            alphatab = ktab/(rhotab*Cptab)\n",
    "            Prtab = nutab/alphatab\n",
    "            dTtab = Ttab[1] - Ttab[0]\n",
    "            # compute beta from -rho(d rho/dT)\n",
    "            betatab = -(1./rhotab)*np.gradient(rhotab)/dTtab\n",
    "            i = int((T_o-Ttab[0])/dTtab)\n",
    "            if (i == Ntab - 1):\n",
    "                i == Ntab - 2\n",
    "        elif self.name == 'argon':\n",
    "            if T_o < 100 or T_o > 700:\n",
    "                print(\"Temperature is out of bounds for argon\")\n",
    "                return \n",
    "            Ttab,ptab,rhotab,Cptab,mutab,ktab = \\\n",
    "            np.loadtxt('Tables/Argon1atm.csv', delimiter=',', skiprows = 1, unpack=True, dtype=float)\n",
    "            Ntab = len(Ttab)\n",
    "            Cptab *= 1e3\n",
    "            nutab = mutab/rhotab \n",
    "            alphatab = ktab/(rhotab*Cptab)\n",
    "            Prtab = nutab/alphatab\n",
    "            dTtab = Ttab[1] - Ttab[0]\n",
    "            # compute beta from -rho(d rho/dT)\n",
    "            betatab = -(1./rhotab)*np.gradient(rhotab)/dTtab\n",
    "            i = int((T_o-Ttab[0])/dTtab)\n",
    "            if (i == Ntab - 1):\n",
    "                i == Ntab - 2\n",
    "        elif self.name == 'krypton':\n",
    "            if T_o < 150 or T_o > 740:\n",
    "                print(\"Temperature is out of bounds for krypton\")\n",
    "                return \n",
    "            Ttab,ptab,rhotab,Cptab,mutab,ktab = \\\n",
    "            np.loadtxt('Tables/Krypton1atm.csv', delimiter=',', skiprows = 1, unpack=True, dtype=float)\n",
    "            Ntab = len(Ttab)\n",
    "            Cptab *= 1e3\n",
    "            nutab = mutab/rhotab \n",
    "            alphatab = ktab/(rhotab*Cptab)\n",
    "            Prtab = nutab/alphatab\n",
    "            dTtab = Ttab[1] - Ttab[0]\n",
    "            # compute beta from -rho(d rho/dT)\n",
    "            betatab = -(1./rhotab)*np.gradient(rhotab)/dTtab\n",
    "            i = int((T_o-Ttab[0])/dTtab)\n",
    "            if (i == Ntab - 1):\n",
    "                i == Ntab - 2\n",
    "        elif self.name == 'air':\n",
    "            if T_o < C2K(-150.) or T_o > C2K(400.):\n",
    "                print(\"Temperature is out of bounds of the table for air\")\n",
    "                return\n",
    "            Ttab,rhotab,Cptab,ktab,nutab,betatab,Prtab = \\\n",
    "            np.genfromtxt('Tables/air1atm.csv', delimiter=',', skip_header = 1, unpack=True, dtype=float)\n",
    "            Ntab = len(Ttab)\n",
    "            Ttab = C2K(Ttab)\n",
    "            Cptab *= 1e3\n",
    "            nutab *= 1e-6\n",
    "            mutab = rhotab*nutab\n",
    "            alphatab = ktab/(rhotab*Cptab)\n",
    "            Prtab = nutab/alphatab\n",
    "            i = 0\n",
    "            while (Ttab[i] < T_o) and (i<Ntab):\n",
    "                i += 1\n",
    "            i -=1\n",
    "            if (i == Ntab - 1):\n",
    "                i = Ntab - 2\n",
    "            \n",
    "        else:\n",
    "            print(\"warning, no table available for\", self.name)\n",
    "            return\n",
    "        \n",
    "        self.rho = interpolate_table(T_o,i,Ttab,rhotab)\n",
    "        self.Cp = interpolate_table(T_o,i,Ttab,Cptab)\n",
    "        self.mu = interpolate_table(T_o,i,Ttab,mutab)\n",
    "        self.k = interpolate_table(T_o,i,Ttab,ktab)\n",
    "        self.nu = interpolate_table(T_o,i,Ttab,nutab)\n",
    "        self.alpha = interpolate_table(T_o,i,Ttab,alphatab)\n",
    "        self.Pr = interpolate_table(T_o,i,Ttab,Prtab)\n",
    "        if (self.name == 'air'):\n",
    "            self.beta = 1./T_o\n",
    "        else:\n",
    "            self.beta = interpolate_table(T_o,i,Ttab,betatab)\n",
    "        "
   ]
  },
  {
   "cell_type": "code",
   "execution_count": 3,
   "metadata": {
    "collapsed": false
   },
   "outputs": [
    {
     "name": "stdout",
     "output_type": "stream",
     "text": [
      "argon\n",
      "0.01662565\n"
     ]
    }
   ],
   "source": [
    "import thermodynamics as thermo\n",
    "import numpy as np\n",
    "from scipy.constants.constants import C2K\n",
    "from scipy.constants.constants import K2C\n",
    "from scipy.constants.constants import F2K\n",
    "from scipy.constants.constants import K2F\n",
    "\n",
    "fluid = thermo.Fluid('argon')\n",
    "print(fluid.name)\n",
    "#array = np.genfromtxt('Tables/Argon1atm.csv', delimiter=',', skip_header = 1, unpack=True, dtype=float)\n",
    "#print(array[0,:])\n",
    "fluid.get_properties(C2K(5.))\n",
    "print(fluid.k)"
   ]
  },
  {
   "cell_type": "markdown",
   "metadata": {
    "collapsed": true
   },
   "source": [
    "### Library of thermal resistances"
   ]
  },
  {
   "cell_type": "code",
   "execution_count": 4,
   "metadata": {
    "collapsed": false
   },
   "outputs": [
    {
     "name": "stdout",
     "output_type": "stream",
     "text": [
      "Overwriting HT_thermal_resistance.py\n"
     ]
    }
   ],
   "source": [
    "%%file HT_thermal_resistance.py\n",
    "### definition of thermal resistance ###\n",
    "\n",
    "import numpy as np\n",
    "import math\n",
    "import scipy.constants as sc\n",
    "\n",
    "class Resistance(object):\n",
    "    \"\"\" Defines thermal resistances for conduction, convection and radiation heat transfer. \n",
    "        First define the mode when defining your object\n",
    "        Second use self.conduction, self.convection or self.radiation to calculate your resistance \"\"\"\n",
    "    def __init__(self,name):\n",
    "        self.name = name\n",
    "    def conduction(self,geo,k,r_a,r_b,A):\n",
    "        self.geometry = geo\n",
    "        if self.geometry == 'plane':\n",
    "            self.R = r_a/(k*A)\n",
    "        elif self.geometry == 'cylindrical':\n",
    "            self.R = np.log(r_b/r_a)/(2.*math.pi*L*k)\n",
    "        elif self.geometry == 'spherical':\n",
    "            self.R = (1./r_a-1./r_b)/(4.*math.pi*k)\n",
    "        else :\n",
    "            print(\"geometry is not plane, cylindrical or spherical, cannot compute\")\n",
    "    def convection(self,h,A):\n",
    "        self.R = 1./(h*A)\n",
    "    def radiation(eps,T_s,T_infty,A):\n",
    "        self.R = 1./(eps*sc.sigma*(T_s+T_infty)*(T_s**2+T_infty**2)*A)\n",
    "        \n",
    "### summation of thermal resistance (R is a vector) ###\n",
    "def serial_sum(R,nori,nend):\n",
    "    sum = 0.\n",
    "    for i in range(nori,nend+1):\n",
    "        sum += R[i].R\n",
    "    return sum\n",
    "\n",
    "def parallel_sum(R,nori,nend):\n",
    "    sum = 0.\n",
    "    for i in range(nori,nend+1):\n",
    "        sum += 1./R[i].R\n",
    "    return 1./sum"
   ]
  },
  {
   "cell_type": "code",
   "execution_count": 5,
   "metadata": {
    "collapsed": false
   },
   "outputs": [
    {
     "name": "stdout",
     "output_type": "stream",
     "text": [
      "Rcond1\n",
      "0.0999000999001\n"
     ]
    }
   ],
   "source": [
    "from HT_thermal_resistance import Resistance,serial_sum,parallel_sum\n",
    "\n",
    "Rth = []\n",
    "Rth.append(Resistance('Rcond1')) \n",
    "Rth[0].conduction('plane',0.01,1.,0.,1.)\n",
    "Rth.append(Resistance('Rcond1')) \n",
    "Rth[1].conduction('plane',10.,1.,0.,1.)\n",
    "print(Rth[1].name)\n",
    "\n",
    "\n",
    "print(parallel_sum(Rth,0,1))\n",
    "    \n",
    "#R_total = serial_sum(Rth[:].R)\n",
    "#print(R_total)"
   ]
  },
  {
   "cell_type": "markdown",
   "metadata": {},
   "source": [
    "### Library of Nu correlations for external flow around a pipe"
   ]
  },
  {
   "cell_type": "code",
   "execution_count": 6,
   "metadata": {
    "collapsed": false
   },
   "outputs": [
    {
     "name": "stdout",
     "output_type": "stream",
     "text": [
      "Overwriting HT_external_convection_cylinder.py\n"
     ]
    }
   ],
   "source": [
    "%%file HT_external_convection_cylinder.py\n",
    "def Nu_Hilbert(Re,Pr):\n",
    "    if (Re < 0.4) or (Re > 400000.):\n",
    "        Nu = 0.\n",
    "    else:\n",
    "        if (Re < 4.):\n",
    "            C = 0.989\n",
    "            m = 0.33\n",
    "        elif (Re < 40.):\n",
    "            C = 0.911\n",
    "            m = 0.385\n",
    "        elif (Re < 4000.):\n",
    "            C = 0.683\n",
    "            m = 0.466\n",
    "        elif (Re < 40000.):\n",
    "            C = 0.193\n",
    "            m = 0.618\n",
    "        else:\n",
    "            C = 0.027\n",
    "            m = 0.805\n",
    "        Nu = C*Re**m*Pr**(1./3.)\n",
    "    return Nu\n",
    "\n",
    "def Nu_Churchill_Bernstein(Re,Pr):\n",
    "    \n",
    "    if (Re*Pr < 0.2):\n",
    "        Nu = 0.\n",
    "    \n",
    "    else:\n",
    "        Nu = 0.3+(0.62*Re**(0.5)*Pr**(1./3.)) \\\n",
    "          /(1.+(0.4/Pr)**(2./3.))**(1./4.) \\\n",
    "        *(1.+(Re/282000.)**(5./8.))**(4./5.)\n",
    "    return Nu\n",
    "\n",
    "def Nu_Zukauskas(Re,Pr,Pr_s):\n",
    "    if (Pr <= 10):\n",
    "        n = 0.37\n",
    "    else:\n",
    "        n = 0.36\n",
    "    inbound = True\n",
    "    if (Re < 1.) and (Re > 1.e6):\n",
    "        Nu = 0.\n",
    "    else:\n",
    "        if (Re < 40.):\n",
    "            C = 0.75\n",
    "            m = 0.4\n",
    "        elif (Re < 1000.):\n",
    "            C = 0.51\n",
    "            m = 0.5\n",
    "        elif (Re < 2.e5):\n",
    "            C = 0.26\n",
    "            m = 0.6\n",
    "        else:\n",
    "            C = 0.076\n",
    "            m = 0.7\n",
    "        Nu = C*Re**m*Pr**n*(Pr/Pr_s)**(1./4.)\n",
    "    return Nu"
   ]
  },
  {
   "cell_type": "markdown",
   "metadata": {},
   "source": [
    "### Library of Nu correlations and functions for internal flow in pipes"
   ]
  },
  {
   "cell_type": "code",
   "execution_count": 7,
   "metadata": {
    "collapsed": false
   },
   "outputs": [
    {
     "name": "stdout",
     "output_type": "stream",
     "text": [
      "Overwriting HT_internal_convection.py\n"
     ]
    }
   ],
   "source": [
    "%%file HT_internal_convection.py\n",
    "import numpy as np\n",
    "import scipy\n",
    "import scipy.optimize\n",
    "\n",
    "def linear_interpolation(x_t,x_1,x_2,y_1,y_2):\n",
    "    return y_1+(y_2-y_1)*(x_t-x_1)/(x_2-x_1)\n",
    "\n",
    "def pressure_drop_pipe(f,L,D,rho,u_m):\n",
    "    return f*(L/D)*(rho*u_m**2)/2.\n",
    "\n",
    "def f_pipe_laminar(Re_D):\n",
    "    return 64./Re_D\n",
    "\n",
    "def f_pipe_colebrook(Re_D,eps):\n",
    "    Re = Re_D\n",
    "    e = eps\n",
    "     \n",
    "    f_0 = (0.790*np.log(Re)- 1.64)**(-2.)\n",
    "    if (e > 0.):\n",
    "        f_1 = 1./(-2.0*np.log10(e/3.71))**2\n",
    "    else:\n",
    "        f_1 = f_0\n",
    "    f_guess = np.max(f_0,f_1)\n",
    "    #f_guess = 0.04\n",
    "    def f_tmp(x):\n",
    "        y = (-2*np.log10((2.51/(Re*np.sqrt(x))) + (e/(3.71))) - 1.0/np.sqrt(x))\n",
    "        return y\n",
    "    y = scipy.optimize.fsolve(f_tmp, f_guess)\n",
    "    return y\n",
    "def log_mean_temperature(T_s,T_o,T_i):\n",
    "    if (T_s < min(T_o,T_i)):\n",
    "        DT_o = T_o-T_s\n",
    "        DT_i = T_i-T_s\n",
    "    elif (T_s > max(T_o,T_i)):\n",
    "        DT_o = T_s-T_o\n",
    "        DT_i = T_s-T_i\n",
    "    return (DT_o-DT_i)/np.log(DT_o/DT_i)\n",
    "\n",
    "def T_mx_Ts_constant(T_s,T_mi,P,mdot,Cp,hbar,x):\n",
    "    return T_s-(T_s-T_mi)*np.exp(-P*x*hbar/(mdot*Cp))\n",
    "\n",
    "def T_mo_T_infty(T_infty,T_mi,P,L,mdot,Cp,R_tot):\n",
    "    return T_infty-(Tinfty-T_mi)*np.exp(-1/(mdot*Cp*Rtot))\n",
    "\n",
    "def hbar_laminar_isothermal(k,D):\n",
    "    return 3.66*k/D\n",
    "\n",
    "def hbar_laminar_isoflux(k,D):\n",
    "    return 4.36*k/D\n",
    "\n",
    "def Nu_turbulent_Dittus_Boelter(Re,Pr,mode):\n",
    "    if (mode == 'heating'):\n",
    "        n = 0.4\n",
    "    elif (mode == 'cooling'):\n",
    "        n = 0.3\n",
    "    return 0.023*Re**(4./5.)*Pr**n\n",
    "\n",
    "def Nu_turbulent_Sieder_Tate(Re,Pr,mu,mu_s):\n",
    "    return 0.027*Re**(4./5.)*Pr*(1./3.)*(mu/mu_s)**0.14\n",
    "\n",
    "def Nu_turbulent_Gnielinski(Re,Pr,f):\n",
    "    return (f/8.)*(Re-1000.)*Pr/(1+12.7*(f/8.)**0.5*(Pr**(2./3.)-1.))\n",
    "\n",
    "def Nu_turbulent_Skupinski(Re,Pr):\n",
    "    return 4.82+0.0185*(Re*Pr)**0.827\n",
    "\n",
    "def Nu_turbulent_Seban(Re,Pr):\n",
    "    return 5.0+0.025*(Re*Pr)**0.8"
   ]
  },
  {
   "cell_type": "markdown",
   "metadata": {},
   "source": [
    "### Library for natural convection around cylinders"
   ]
  },
  {
   "cell_type": "code",
   "execution_count": 8,
   "metadata": {
    "collapsed": false
   },
   "outputs": [
    {
     "name": "stdout",
     "output_type": "stream",
     "text": [
      "Overwriting HT_natural_convection_cylinder.py\n"
     ]
    }
   ],
   "source": [
    "%%file HT_natural_convection_cylinder.py\n",
    "import numpy as np\n",
    "import scipy\n",
    "import scipy.optimize\n",
    "\n",
    "def Gr(g,beta,DT,D,nu):\n",
    "    return (g*beta*DT*D**3)/(nu**2)\n",
    "\n",
    "def Ra(g,beta,DT,D,nu,alpha):\n",
    "    return (g*beta*DT*D**3)/(nu*alpha)\n",
    "\n",
    "\n",
    "def Nu_Morgan(Ra):\n",
    "    if (Ra <= 1e-2):\n",
    "        C=0.675\n",
    "        n=0.058\n",
    "    elif (Ra <= 1e2):\n",
    "        C=1.02\n",
    "        n=0.148\n",
    "    elif (Ra <= 1e4):\n",
    "        C=0.85\n",
    "        n=0.188\n",
    "    elif (Ra <= 1e7):\n",
    "        C=0.480\n",
    "        n=0.250\n",
    "    elif (Ra <= 1e12):\n",
    "        C=0.125\n",
    "        n=0.333\n",
    "    return C*Ra**n\n",
    "\n",
    "def Nu_Churchill_Chu(Ra,Pr):\n",
    "    return (0.60+(0.387*Ra**(1./6.))/(1.+(0.559/Pr)**(9./16.))**(8./27.))**2 \n"
   ]
  },
  {
   "cell_type": "markdown",
   "metadata": {},
   "source": [
    "### Library of natural convection in enclosure"
   ]
  },
  {
   "cell_type": "code",
   "execution_count": 9,
   "metadata": {
    "collapsed": false
   },
   "outputs": [
    {
     "name": "stdout",
     "output_type": "stream",
     "text": [
      "Overwriting HT_natural_convection_enclosure.py\n"
     ]
    }
   ],
   "source": [
    "%%file HT_natural_convection_enclosure.py\n",
    "import numpy as np\n",
    "import scipy\n",
    "import scipy.optimize\n",
    "\n",
    "def Gr(g,beta,DT,L,nu):\n",
    "    return (g*beta*DT*L**3)/(nu**2)\n",
    "\n",
    "def Ra(g,beta,DT,L,nu,alpha):\n",
    "    return (g*beta*DT*L**3)/(nu*alpha)\n",
    "\n",
    "def Nu_vertical_enclosure(Ra,Pr,H,L):\n",
    "    if (H/L) < 2.:\n",
    "        if Ra*Pr/(0.2+Pr)> 1.e3:\n",
    "            Nu = 0.18*(Pr/(0.2+Pr)*Ra)**0.29\n",
    "        else:\n",
    "            print('Ra is too low for this correlation')\n",
    "            Nu = np.inf\n",
    "    elif H/L < 10:\n",
    "        if Ra < 1e10:\n",
    "            Nu = 0.22*(Pr/(0.2+Pr)*Ra)**0.28*(H/L)**(-0.25)\n",
    "        else:\n",
    "            print('Ra is too high for this correlation')\n",
    "            Nu = np.inf\n",
    "    elif Ra < 1e4:\n",
    "        print('Ra is too low for this correlation')\n",
    "        Nu = np.inf\n",
    "    elif Ra < 1e7:\n",
    "        if Pr > 0.6 and Pr < 2e4:\n",
    "            print('ok')\n",
    "            Nu =0.42*Ra**0.25*Pr**0.012*(H/L)**(-0.3)\n",
    "        else :\n",
    "            print('Pr is out of bounds for this correlation')\n",
    "            Nu = np.inf\n",
    "    elif Ra < 1e9:\n",
    "        if Pr > 0.6 and Pr < 20.:\n",
    "            Nu =0.46*Ra**(1./3.)\n",
    "        else :\n",
    "            print('Pr is out of bounds for this correlation')\n",
    "            Nu = np.inf\n",
    "    else:\n",
    "        print('Ra is too high, got nothing for you')\n",
    "        Nu = np.inf\n",
    "    return Nu\n",
    "            "
   ]
  },
  {
   "cell_type": "markdown",
   "metadata": {
    "collapsed": true
   },
   "source": []
  }
 ],
 "metadata": {
  "kernelspec": {
   "display_name": "Python 2",
   "language": "python",
   "name": "python2"
  },
  "language_info": {
   "codemirror_mode": {
    "name": "ipython",
    "version": 2
   },
   "file_extension": ".py",
   "mimetype": "text/x-python",
   "name": "python",
   "nbconvert_exporter": "python",
   "pygments_lexer": "ipython2",
   "version": "2.7.11"
  }
 },
 "nbformat": 4,
 "nbformat_minor": 0
}
