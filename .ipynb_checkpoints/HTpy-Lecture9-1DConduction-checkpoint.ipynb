{
 "cells": [
  {
   "cell_type": "markdown",
   "metadata": {},
   "source": [
    "# 1D Thermal Boundary Conduction: Boundary Conditions, Plans, Cylindrical and Spherical Conduction, Thermal Resistance"
   ]
  },
  {
   "cell_type": "markdown",
   "metadata": {},
   "source": [
    "Local heat flux is measured by the phenomenological <b>Fourier's Law</b>:\n",
    "$$\n",
    "\\vec{q}''=-k\\vec{\\nabla}T\n",
    "$$\n",
    "where $k$ is the local thermal conduction, W/(m.K), and the gradient of temperature $\\vec{\\nabla}T$. Since the latter is effectively a temperature difference, temperature may be expressed in Kelvin or Celsius.\n",
    "In the previous notebook, we established that in <u>steady-state, planar, 1D</u> conduction, the heat flux (and heat rate) in an <u>homogenous</u> material is proportional to the temperature difference between the boundaries of the material:\n",
    "$$\n",
    "q''=-\\frac{\\Delta T}{R''} \\text{ and } q=-\\frac{\\Delta T}{R}\n",
    "$$\n",
    "where the thermal resistances for heat flux and heat rate are\n",
    "$$\n",
    "R''=\\frac{L}{k}\\text{ and }R=\\frac{L}{kA}\n",
    "$$\n",
    "$A$ is the cross sectional area of the material.\n",
    "\n",
    "In this notebook, you will learn how to calculate heat flux with various boundary conditions and in different geometries. We will still limit heat transfer within the system of interest to pure conduction."
   ]
  },
  {
   "cell_type": "markdown",
   "metadata": {},
   "source": [
    "## 1. Boundary Conditions"
   ]
  },
  {
   "cell_type": "markdown",
   "metadata": {},
   "source": [
    "In the previous notebook, we saw that the solution of a heat transfer problem requires the knowledge of heat transfer at the boundaries of the domain of interest. This section defines the possible scenarios for boundary conditions.\n",
    "<center><img src=\"Notebook2-1D-cell.jpg\"></center>"
   ]
  },
  {
   "cell_type": "markdown",
   "metadata": {},
   "source": [
    "### 1.1 Imposed Temperature (Isothermal)"
   ]
  },
  {
   "cell_type": "markdown",
   "metadata": {},
   "source": [
    "This is the first scenario in the above figure: $T_{s0}$ and and $T_{s3}$ are fixed, the flux is a consequence. This condition is called isothermal, and its mathematical name is the Dirichlet condition."
   ]
  },
  {
   "cell_type": "markdown",
   "metadata": {},
   "source": [
    "### 1.2 Imposed Flux"
   ]
  },
  {
   "cell_type": "markdown",
   "metadata": {},
   "source": [
    "If the wall is heated by an electric resistance for instance, the heat flux is fixed. The mathematical name is the Neumann condition. A special case is the <b>adiabatic</b> condition when $q_\\infty''=0$ (no heat transfer). In this case, the interface temperature $T_{s0}$ is governed by the imposed flux "
   ]
  },
  {
   "cell_type": "markdown",
   "metadata": {},
   "source": [
    "### 1.3 Convection Heat Transfer"
   ]
  },
  {
   "cell_type": "markdown",
   "metadata": {},
   "source": [
    "When a surface is cooled or warmed by a flowing fluid, the heat transfer is convection driven. There are three types of convection:\n",
    "<ul>\n",
    "<li> Natural convection: the fluid motion is driven by buoyancy, i.e. the temperature gradients imposed by the boundary conditions. </li>\n",
    "<li> Forced convection: the flow is driven by an external force (fan, pressure gradient, gravity) in a way that is stronger than the buoyancy-driven flow.</li>\n",
    "<li> Mixed convection happens when the strength of the external force driven flow and that of the buoyancy driven flow are comparable.</li>\n",
    "</ul>\n",
    "For now, convection heat transfer is modeled as\n",
    "$$\n",
    "q_\\text{conv}=hA\\left(T_{\\infty,0}-T_{s,0}\\right)\n",
    "$$\n",
    "and $h$ is the convection heat transfer coefficient, which is a function of the nature of the fluid, the flow characteristics, and the temperature scales involved. We will learn to determine $h$ later on. Until then, $h$ will be provided.\n",
    "\n",
    "The thermal resistance of convection heat transfer is\n",
    "$$\n",
    "R_\\text{conv}''=\\frac{1}{h}\\text{ and }R_\\text{conv}=\\frac{1}{hA}\n",
    "$$\n"
   ]
  },
  {
   "cell_type": "markdown",
   "metadata": {},
   "source": [
    "### 1.4 Radiation Heat Transfer"
   ]
  },
  {
   "cell_type": "markdown",
   "metadata": {},
   "source": [
    "The last mode of heat transfer is radiation. For now, we consider radiation between a small surface at temperature $T_\\text{s}$ and a vast surrounding at temperature $T_\\text{sur}$. The surface of interest is characterized by an emissivity $0\\leq\\varepsilon\\leq1$. Thermal radiation is energy emitted by matter and transported by electromagnetic waves. \n",
    "For now, we consider radiation from a small surface tThe radiation heat flux, or radiation heat transfer per unit area is\n",
    "$$\n",
    "q_\\text{rad}''=\\frac{q}{A}=\\varepsilon\\sigma\\left(T_\\text{s}^4-T_\\text{sur}^4\\right)\n",
    "$$\n",
    "where $\\sigma=5.67\\times10^8 \\text{W/(m}^2\\text{K}^4$ is the Stefan Boltzmann constant.\n",
    "\n",
    "You should note that <b>the temperature should always be expressed in <u>Kelvin</u> when dealing with radiation</b>. \n",
    "\n",
    "The radiation heat transfer coefficient is\n",
    "$$\n",
    "h_\\text{rad}=\\varepsilon\\sigma\\left(T_\\text{s}+T_\\text{sur}\\right)\\left(T_\\text{s}^2+T_\\text{sur}^2\\right)\n",
    "$$\n",
    "yielding\n",
    "$$\n",
    "q_\\text{rad}=h_\\text{rad}A\\left(T_\\text{s}-T_\\text{sur}\\right)\n",
    "$$\n",
    "and the thermal resitance of radiation heat transfer:\n",
    "$$\n",
    "R_\\text{rad}=\\frac{1}{h_\\text{rad}A}\n",
    "$$\n"
   ]
  },
  {
   "cell_type": "markdown",
   "metadata": {},
   "source": [
    "## 2. Cylindrical walls"
   ]
  },
  {
   "cell_type": "markdown",
   "metadata": {},
   "source": [
    "In many systems, heat transfer occurs between a fluid transported between two points: heating in building, mass transport in chemical and food processing plants, etc... Typically, ducts are cylindrical. Why?"
   ]
  },
  {
   "cell_type": "markdown",
   "metadata": {},
   "source": [
    "Consider an pipe of thickness $r_\\text{out}-r_\\text{in}$, where $r_\\text{in}$ and $r_\\text{out}$ are inner and outer radii, which are at constant temperatures $T_\\text{in}>T_\\text{out}$. To solve this problem, we proposed to\n",
    "<ol>\n",
    "<li> Assume 1D conduction heat transfer: The transport of heat is assumed to be purely radial, no heat escapes in other directions.</li>\n",
    "<li> Divide the system in $n$ shells of constant thickness. The cylindrical shell numbered $i$ is defined by the volume between the cylindrical surfaces $r_i-\\Delta r/2$ and $r_i+\\Delta r/2$. The cylindrical surface at the center of the cell has the radius\n",
    "$$\n",
    "r_i=r_\\text{in}+i.\\Delta r\\text{ with } \\Delta r=\\frac{r_\\text{out}-r_\\text{in}}{n-1}\n",
    "$$</li>\n",
    "</ol>\n",
    "Since the problem is 1D, the temperature is constant on any cylindrical surface of radius $r\\in\\left[r_\\text{in},r_\\text{out}\\right]$. \n",
    "\n",
    "Writing the conservation of energy between cylindrical shells results in\n",
    "$$\n",
    "-2\\pi\\left(r_i-\\frac{\\Delta r}{2}\\right)Lk\\frac{T_{i}-T_{i-1}}{\\Delta r}=\n",
    "-2\\pi\\left(r_i+\\frac{\\Delta r}{2}\\right)Lk\\frac{T_{i+1}-T_{i}}{\\Delta r}\n",
    "$$\n",
    "This equation states that the heat rate crossing surface $r_i-\\Delta r/2$ is equal to the heat rate crossing surface $r_i+\\Delta r/2$. You should recognise the surface area of the form $2\\pi r L$ and the Fourier's Law $-k(T_i-T_{i-1})/\\Delta r$. "
   ]
  },
  {
   "cell_type": "markdown",
   "metadata": {},
   "source": [
    "The conservation of energy or heat rate can be recast in a matrix friendly form:\n",
    "$$\n",
    "\\left(r_i-\\frac{\\Delta r}{2}\\right)T_{i-1}-2r_iT_{i}+\\left(r_i+\\frac{\\Delta r}{2}\\right)T_{i+1}=0\n",
    "$$\n",
    "Note that in this particular problem the temperature distribution does not depend upon the thermal conductivity of the cylinder.\n",
    "\n",
    "The boundary conditions are simply:\n",
    "$$\n",
    "T_0=T_\\text{in}\\text{ and }T_{n-1}=T_\\text{out}\n",
    "$$\n",
    "and the system in matrix form looks like this:"
   ]
  },
  {
   "cell_type": "markdown",
   "metadata": {},
   "source": [
    "$$\n",
    "\\left(\\begin{array}{ccccccc}\n",
    "1 & 0 & \\ldots & \\ldots & \\ldots & \\ldots & 0 \\\\\n",
    "r_{\\frac{1}{2}} & -2r_1 & r_{\\frac{3}{2}} & & & & \\vdots \\\\\n",
    "0 &\\ddots & \\ddots & \\ddots &  & & \\vdots\\\\\n",
    "\\vdots & & r_{i-\\frac{1}{2}} & -2r_i & r_{i+\\frac{1}{2}} & & \\vdots\\\\\n",
    "\\vdots & & & \\ddots & \\ddots & \\ddots & 0\\\\\n",
    "\\vdots & & & & r_{n-\\frac{5}{2}} & -2r_{n-2} & r_{n-\\frac{3}{2}}\\\\ \n",
    "0 & \\ldots & \\ldots & \\ldots & \\ldots & 0 & 1\\\\\n",
    "\\end{array}\\right)\n",
    "\\left(\\begin{array}{c}\n",
    "T_0\\\\\n",
    "%T_1\\\\\n",
    "\\vdots \\\\\n",
    "T_{i-2} \\\\\n",
    "T_{i} \\\\\n",
    "T_{i+1} \\\\\n",
    "\\vdots \\\\\n",
    "%T_{n-2}\\\\\n",
    "T_{n-1}\\\\\n",
    "\\end{array}\\right)=\n",
    "\\left(\\begin{array}{c}\n",
    "T_\\text{in}\\\\\n",
    "0\\\\\n",
    "\\vdots \\\\\n",
    "\\vdots \\\\\n",
    "\\vdots \\\\\n",
    "0\\\\\n",
    "T_\\text{out}\\\\\n",
    "\\end{array}\\right)\n",
    "$$"
   ]
  },
  {
   "cell_type": "code",
   "execution_count": null,
   "metadata": {},
   "outputs": [],
   "source": [
    "%matplotlib inline \n",
    "# plots graphs within the notebook\n",
    "%config InlineBackend.figure_format='svg' # not sure what this does, may be default images to svg format\n",
    "\n",
    "import matplotlib.pyplot as plt #calls the plotting library hereafter referred as to plt\n",
    "import numpy as np #calls the numerical method library hereafter referred as to np for linear algebra\n",
    "\n",
    "##############################\n",
    "#        Parameters          #\n",
    "##############################\n",
    "r_in = 0.1 \n",
    "T_in = 10.\n",
    "T_out = 100.\n",
    "r_out = 10.\n",
    "n = 51\n",
    "\n",
    "##############################\n",
    "#     Variable definition    #\n",
    "##############################\n",
    "dr = float(r_out-r_in)/float(n-1) #shell thickness\n",
    "r = r_in + np.array([i*dr for i in range(n)]) #radius of the center of the shell\n",
    "A = np.zeros((n, n))     # pre-allocate [A] array\n",
    "b = np.zeros((n, 1))     # pre-allocate {b} column vector\n",
    "\n",
    "##################################\n",
    "#  Matrix and vector definition  #\n",
    "##################################\n",
    "A[0, 0] = 1.\n",
    "b[0, 0] = T_in\n",
    "A[n-1,n-1] = 1.\n",
    "b[n-1,0] = T_out\n",
    "\n",
    "for i in range(1, n-1):\n",
    "    A[i, i-1] = r[i]-dr/2.   # node-1\n",
    "    A[i, i] = -2.*r[i]     # node\n",
    "    A[i, i+1] = r[i]+dr/2.   # node+1\n",
    "    \n",
    "#print('A \\n', A) # if you want to see what you matrix looks like\n",
    "#print('B \\n', b)\n",
    "\n",
    "#---- Solve using numpy.linalg.solve\n",
    "\n",
    "T = np.linalg.solve(A, b)     # solve A*x = B for x\n",
    "\n",
    "#############################################\n",
    "#  Compute linear temperature distribution  #\n",
    "#############################################\n",
    "Tlin = np.zeros((n,1)) \n",
    "\n",
    "for i in range(n):\n",
    "    Tlin[i] = T_in + (T_out - T_in)*(r[i] - r_in)/(r_out - r_in)\n",
    "\n",
    "plt.figure(figsize=(6,4), dpi=100)\n",
    "plt.plot(r,T, lw=2, label='Computed temperature')\n",
    "plt.plot(r,Tlin, lw=2, label='Linear temperature')\n",
    "plt.xlim([r_in,r_out])\n",
    "plt.ylim([T_out,T_in])\n",
    "plt.xlabel('$r$ (m)')\n",
    "plt.ylabel('$T$ ($^\\circ$C)')\n",
    "plt.legend()\n",
    "plt.show"
   ]
  },
  {
   "cell_type": "markdown",
   "metadata": {},
   "source": [
    "Play with different number of shells. Is the temperature distribution linear?\n",
    "To gain some insights on what type of distribution we are dealing with, we could try to plot in logarithmic-linear and log-log format. This investigation is motivated by the fact that many physical phenomena follow logarithmic or power laws. The former results in a line in a log-lin plot, and the latter in a log-log"
   ]
  },
  {
   "cell_type": "code",
   "execution_count": null,
   "metadata": {},
   "outputs": [],
   "source": [
    "plt.figure(figsize=(10,4), dpi=100)\n",
    "plt.subplot(1,2,1)\n",
    "plt.plot(r,T, lw=2, label='Computed temperature')\n",
    "plt.plot(r,Tlin, lw=2, label='Linear temperature')\n",
    "plt.xscale('log')\n",
    "plt.xlim([r_in,r_out])\n",
    "plt.ylim([T_out,T_in])\n",
    "plt.xlabel('$r$ (m)')\n",
    "plt.ylabel('$T$ ($^\\circ$C)')\n",
    "plt.legend()\n",
    "plt.subplot(1,2,2)\n",
    "plt.plot(r,T, lw=2, label='Computed temperature')\n",
    "plt.plot(r,Tlin, lw=2, label='Linear temperature')\n",
    "plt.xscale('log')\n",
    "plt.yscale('log')\n",
    "plt.xlim([r_in,r_out])\n",
    "plt.ylim([T_out,T_in])\n",
    "plt.xlabel('$r$ (m)')\n",
    "plt.ylabel('$T$ ($^\\circ$C)')\n",
    "plt.legend()\n",
    "plt.show\n"
   ]
  },
  {
   "cell_type": "markdown",
   "metadata": {},
   "source": [
    "Our educated guess payed off! The temperature distribution is obviously logarithmic, i.e.\n",
    "$$\n",
    "T(r)\\propto\\ln(r)\n",
    "$$\n",
    "To fit the boundary conditions, this profile ought to be:\n",
    "$$\n",
    "T(r)=T_\\text{in}+(T_\\text{out}-T_\\text{in})\\cfrac{\\ln\\left(\\cfrac{r}{r_\\text{in}}\\right)}{\\ln\\left(\\cfrac{r_\\text{out}}{r_\\text{in}}\\right)}\n",
    "$$\n",
    "and we can verify that this is the appropriate function:"
   ]
  },
  {
   "cell_type": "code",
   "execution_count": null,
   "metadata": {},
   "outputs": [],
   "source": [
    "\n",
    "Tlog = np.zeros((n,1))\n",
    "for i in range(n):\n",
    "    Tlog[i] = T_in+(T_out-T_in)*np.log(r[i]/r_in)/np.log(r_out/r_in)\n",
    "plt.figure(figsize=(10,4), dpi=100)\n",
    "plt.subplot(1,2,1)\n",
    "plt.plot(r,T, lw=2, label='Computed temperature')\n",
    "plt.plot(r,Tlog,marker='o', mfc='none', label='Analytical solution')\n",
    "#plt.xscale('log')\n",
    "plt.xlim([r_in,r_out])\n",
    "plt.ylim([T_out,T_in])\n",
    "plt.xlabel('$r$ (m)')\n",
    "plt.ylabel('$T$ ($^\\circ$C)')\n",
    "plt.legend()\n",
    "plt.subplot(1,2,2)\n",
    "plt.plot(r,T, lw=2, label='Computed temperature')\n",
    "plt.plot(r,Tlog, marker='o', mfc='none', label='Analytical solution')\n",
    "plt.xscale('log')\n",
    "plt.xlim([r_in,r_out])\n",
    "plt.ylim([T_out,T_in])\n",
    "plt.xlabel('$r$ (m)')\n",
    "plt.ylabel('$T$ ($^\\circ$C)')\n",
    "plt.legend()\n",
    "plt.show"
   ]
  },
  {
   "cell_type": "markdown",
   "metadata": {},
   "source": [
    "Another way to derive the analytical solution is to consider the mathematical definition of Fourier's Law:\n",
    "$$\n",
    "q''=-k\\vec{\\nabla}T\\text{ which reduces to }q''=-k\\frac{dT}{dr}\\text{ in 1D radial conduction}\n",
    "$$\n",
    "Conservation of energy dictates that the <b>heat rate</b> be constant of any cylindrical surface of radius $r$. Owing to the expansion of the surface area with $r$, $A=2\\pi r L$ ($L$ is the length of the cylinder), the heat flux is <b>not</b> constant. \n",
    "\n",
    "Consequently, we have\n",
    "$$\n",
    "-(2\\pi r L)k\\frac{dT}{dr}=q\\text{ or }r\\frac{dT}{dr}=\\text{constant}=C\n",
    "$$\n",
    "which leads to:\n",
    "$$\n",
    "\\frac{dT}{dr}=\\frac{C}{r}\\Rightarrow T(r)=C\\ln(r)+B\n",
    "$$\n",
    "Consider the heat transfer between two cylindrical surfaces of length $L$ and radii $r_1<r_2$, the temperature distribution becomes\n",
    "$$\n",
    "T(r)=T_1+\\left(T_2-T_1\\right)\\frac{\\ln(r/r_1)}{\\ln(r_2/r_1)}\n",
    "$$\n",
    "Using Fourier's law, the heat rate is\n",
    "$$\n",
    "q=-(2\\pi r L)k\\frac{dT}{dr}=-(2\\pi r L)k\\frac{\\left(T_2-T_1\\right)}{\\ln(r_2/r_1)}\\frac{1}{r}=\\frac{2\\pi kL}{\\ln(r_2/r_1)}\\left(T_1-T_2\\right)\n",
    "$$\n",
    "In the last term, we can identify the thermal resistance of our cylindrical wall:\n",
    "$$\n",
    "\\color{red}{R_t=\\frac{\\ln(r_2/r_1)}{2\\pi kL}}\n",
    "$$"
   ]
  },
  {
   "cell_type": "markdown",
   "metadata": {},
   "source": [
    "### Problem:"
   ]
  },
  {
   "cell_type": "markdown",
   "metadata": {},
   "source": [
    "Consider the case of a fluid flowing in a pipe of radius 18mm. The fluid is at $T_{\\infty,\\text{in}}=6^\\circ$C and the flow creates a convection heat transfer coefficient $h_i=400$ W/m<sup>2</sup>.K. The pipe wall is 2 mm thick and its thermal conductivity is $k_\\text{p}=14$ W/m.K. The pipe is covered by insulation of thickness 10mm and thermal conductivity $k_\\text{ins}=0.05$ W/m.K. The oustide air is at $T_{\\infty,o}=23^\\circ$C and a convection heat transfer coefficient $h_\\text{o}=6$ W/m<sup>2</sup>.K. Calculate the heat gain in the fluid, and temperature distribution."
   ]
  },
  {
   "cell_type": "markdown",
   "metadata": {},
   "source": [
    "We break the system in cylindrical shells of constant thickness $\\Delta r$. According to Fourier's Law, the heat rates through the boundary at $r_i+\\Delta r/2$ and $r-\\Delta r_i/2$ must be equal and are respectively,\n",
    "$$\n",
    "-2\\pi\\left(r_i+\\Delta r/2\\right)k_{i-\\frac{1}{2}}\\frac{T_{i}-T_{i-1}}{\\Delta r}=\n",
    "-2\\pi\\left(r_i-\\Delta r/2\\right)k_{i+\\frac{1}{2}}\\frac{T_{i+1}-T_{i}}{\\Delta r}\n",
    "$$\n",
    "After a few simplifications, this identity reduces to\n",
    "$$\n",
    "\\left(r_i+\\Delta r/2\\right)k_{i-\\frac{1}{2}}T_{i-1}-\\left(\\left(r_i+\\Delta r/2\\right)k_{i-\\frac{1}{2}}+\\left(r_i-\\Delta r/2\\right)k_{i+\\frac{1}{2}}\\right)T_{i}+\\left(r_i-\\Delta r/2\\right)k_{i+\\frac{1}{2}}T_{i+1}=0\n",
    "$$\n",
    "At the boundaries, the temperature is defined by\n",
    "$$\n",
    "2\\pi r_0h_o\\left((T_{\\infty,\\text{out}}-T_0\\right)=-2\\pi\\left(r_0-\\Delta r/2\\right)k_\\frac{1}{2}\\frac{T_0-T_1}{\\Delta r}\n",
    "$$\n",
    "and\n",
    "$$\n",
    "-2\\pi\\left(r_{n-1}+\\Delta r/2\\right)k_\\frac{1}{2}\\frac{T_{n-2}-T_{n-1}}{\\Delta r}=2\\pi r_{n-1} h_\\text{in}\\left(T_{n-1}-T_{\\infty,\\text{in}}\\right)\n",
    "$$"
   ]
  },
  {
   "cell_type": "markdown",
   "metadata": {},
   "source": [
    "To summarize the system of equations writes:\n",
    "$$\n",
    "\\begin{split}\n",
    "&-\\left(r_0h_o+\\frac{\\left(r_0-\\Delta r/2\\right)k_\\frac{1}{2}}{\\Delta r}\\right)T_0+\\frac{\\left(r_0-\\Delta r/2\\right)k_\\frac{1}{2}}{\\Delta r}T_1=r_0h_0T_{\\infty,\\text{out}}\\\\\n",
    "&\\left(r_i+\\Delta r/2\\right)k_{i-\\frac{1}{2}}T_{i-1}-\\left(\\left(r_i+\\Delta r/2\\right)k_{i-\\frac{1}{2}}+\\left(r_i-\\Delta r/2\\right)k_{i+\\frac{1}{2}}\\right)T_{i}+\\left(r_i-\\Delta r/2\\right)k_{i+\\frac{1}{2}}T_{i+1}=0\\\\\n",
    "&\\frac{\\left(r_{n-1}+\\Delta r/2\\right)k_\\frac{1}{2}}{\\Delta r}T_{n-2}-\\left(h_\\text{in}r_{n-1}+\\frac{\\left(r_{n-1}+\\Delta r/2\\right)k_\\frac{1}{2}}{\\Delta r}T_{n-2}\\right)T_{n-1}=h_\\text{in}r_{n-1}T_{\\infty,\\text{in}}\n",
    "\\end{split}\n",
    "$$"
   ]
  },
  {
   "cell_type": "code",
   "execution_count": null,
   "metadata": {},
   "outputs": [],
   "source": [
    "%matplotlib inline\n",
    "%config InlineBackend.figure_format='svg'\n",
    "\n",
    "import matplotlib.pyplot as plt\n",
    "import numpy as np\n",
    "\n",
    "L = 12e-3 #wall thickness is 2.5 cm\n",
    "rout = 30e-3\n",
    "rin = 18e-3\n",
    "rinterface = 20e-3\n",
    "kins=0.05\n",
    "kpipe = 0.1\n",
    "hout = 6\n",
    "hin = 400\n",
    "n = 37 # Number of cells in the wall\n",
    "Tin = 6. #\n",
    "Tout = 23. #\n",
    "dr = float(L)/float(n-1) #cell size\n",
    "r = rout-np.array([i*dr for i in range(n)])\n",
    "A = np.zeros((n, n))     # pre-allocate [A] array\n",
    "b = np.zeros((n, 1))     # pre-allocate {b} column vector\n",
    "k = np.ones((n, 1))\n",
    "\n",
    "for i in range(n):\n",
    "    if (r[i]-dr/2 > rinterface):\n",
    "        k[i] = kins\n",
    "    else:\n",
    "        k[i] = kpipe\n",
    "        \n",
    "A[0, 0] = -(rout*hout+(r[0]-dr/2)/dr*k[0])\n",
    "A[0, 1] = (r[0]-dr/2)/dr*k[0]\n",
    "b[0, 0] = -rout*hout*Tout\n",
    "A[n-1,n-2] = (r[n-1]+dr/2)/dr*k[n-1]\n",
    "A[n-1,n-1] = -(rin*hin+(r[n-1]+dr/2)/dr*k[n-1])\n",
    "b[n-1,0] = -rin*hin*Tin\n",
    "\n",
    "for i in range(1, n-1):\n",
    "    A[i, i-1] = (r[i]+dr/2)/dr*k[i-1]   # node-1\n",
    "    A[i, i] = -(r[i]+dr/2)/dr*k[i-1]-(r[i]-dr/2)/dr*k[i]    # node\n",
    "    A[i, i+1] = (r[i]-dr/2)/dr*k[i]   # node+1\n",
    "    \n",
    "#print('A \\n', A)\n",
    "#print('B \\n', b)\n",
    "\n",
    "#---- Solve using numpy.linalg.solve\n",
    "\n",
    "T = np.linalg.solve(A, b)     # solve A*x = B for x\n",
    "\n",
    "#print('T \\n', T)\n",
    "\n",
    "plt.figure(figsize=(6,4), dpi=100)\n",
    "plt.plot(r,T, lw=2, label='Wall temperature')\n",
    "#plt.xlim([0,L])\n",
    "#plt.ylim([To,Ti])\n",
    "plt.xlabel('$x$ (m)')\n",
    "plt.ylabel('$T$ ($^\\circ$C)')\n",
    "plt.legend()\n",
    "plt.show"
   ]
  },
  {
   "cell_type": "code",
   "execution_count": null,
   "metadata": {},
   "outputs": [],
   "source": []
  },
  {
   "cell_type": "code",
   "execution_count": null,
   "metadata": {},
   "outputs": [],
   "source": []
  }
 ],
 "metadata": {
  "kernelspec": {
   "display_name": "Python 3",
   "language": "python",
   "name": "python3"
  },
  "language_info": {
   "codemirror_mode": {
    "name": "ipython",
    "version": 3
   },
   "file_extension": ".py",
   "mimetype": "text/x-python",
   "name": "python",
   "nbconvert_exporter": "python",
   "pygments_lexer": "ipython3",
   "version": "3.8.5"
  }
 },
 "nbformat": 4,
 "nbformat_minor": 2
}
