{
 "cells": [
  {
   "cell_type": "markdown",
   "metadata": {},
   "source": [
    "# Design of a low temperature ablation experimental facility\n",
    "\n",
    "During atmopheric entry, the heat shield of a space vehicle experiences tremendous heat load and aggressive chemical reactions. On some materials, the formation of roughness patterns is observed. These patterns are caused by the local ablation of the matieral. Roughness may cause extra heat flux through increased turbulence that could lead to the failure of the heat shield. The mechanisms by which such ablation or erosion patterns are formed are poorly understood, leaving engineers with few if any ability to predict the outcome of the heat shield. \n",
    "\n",
    "Here we consider a simple system made out of a plate of wax of thickness $0.05\\text{ m}$ in order to study this system in a lab without worrying about high-temperatures.\n",
    "\n",
    "The local ablation velocity of wax $V_a(x)$ (i.e. the removal rate of solid wax) is derived from a conservation of energy:\n",
    "\n",
    "$$\n",
    "\\rho_{wax}h_lV_a(x) =\\begin{cases}\\max\\left(q''_\\text{conv}-q''_\\text{cond},0\\right)&\\mathrm{if}\\; T_s(x)\\leq T_m\\\\\n",
    "0& \\text{otherwise}\\end{cases}\n",
    "$$\n",
    "\n",
    "where $\\rho_{wax}=900\\,\\mathrm{kg}/\\mathrm{m}^3$ is the wax density, $h_l= 200\\;\\mathrm{kJ}/\\mathrm{kg}$ is the latent heat of wax and $q''_\\text{conv}$ and $q''_\\text{cond}$ are the *local* heat fluxes by convection and conduction, respectively. $T_s(x)$ an $T_m$ are the *local* surface temperature, and the surface temperature, respectively.\n",
    "\n",
    "The goal is to study the formation of erosion patterns on the surface of the wax plate, thus we are interested in maximumizing the ablation velocity. We will consider two fluids, air and water. \n",
    "\n",
    "For both case, the bottom of the wax plate is maintained at constant temperature $T_\\text{cool}=20^\\circ\\mathrm{C}$. \n",
    "In the following, you are asked to find the initial ablation velocity assuming that (a) the plate has not started to melt yet and (b) the flow-exposed surface is at melting temperature $T_\\text{melt}=50^\\circ\\mathrm{C}$. The thermal conductivity of wax is $k_{wax}=0.25\\mathrm{W}/\\mathrm{m.K}$ and radiation heat transfer is neglected."
   ]
  },
  {
   "cell_type": "markdown",
   "metadata": {},
   "source": [
    "2.1 The upstream air flow velocity is $10 \\,\\mathrm{m/s}$ and its upstream temperature is $150^\\circ\\mathrm{C}$. Plot the evolution of the initial ablation velocity in $\\mathrm{mm/s}$ and/or give its values for $x=0.01,0.1,0.2,0.5,1.0\\mathrm{m}$. The leading edge is a very thin, adiabatic rounded edge."
   ]
  },
  {
   "cell_type": "code",
   "execution_count": null,
   "metadata": {},
   "outputs": [],
   "source": [
    "from Libraries import thermodynamics as thermo\n",
    "from Libraries import HT-\n",
    "import numpy as np\n",
    "import matplotlib.pyplot as plt\n",
    "import scipy.constants as csts"
   ]
  },
  {
   "cell_type": "markdown",
   "metadata": {},
   "source": [
    "2.2 The upstream water flow velocity is $1 \\mathrm{m/s}$ and its upstream temperature is $99^\\circ\\mathrm{C}$. Plot the evolution of the initial ablation velocity in $\\text{mm/s}$ and/or give its values for $x=0.01,0.1,0.2,0.5,1.0\\mathrm{m}$. Discuss which fluid is more likley to achieve the formation of distinct erosion-driven roughness."
   ]
  },
  {
   "cell_type": "code",
   "execution_count": null,
   "metadata": {},
   "outputs": [],
   "source": []
  }
 ],
 "metadata": {
  "kernelspec": {
   "display_name": "Python 3",
   "language": "python",
   "name": "python3"
  },
  "language_info": {
   "codemirror_mode": {
    "name": "ipython",
    "version": 3
   },
   "file_extension": ".py",
   "mimetype": "text/x-python",
   "name": "python",
   "nbconvert_exporter": "python",
   "pygments_lexer": "ipython3",
   "version": "3.8.5"
  }
 },
 "nbformat": 4,
 "nbformat_minor": 4
}
