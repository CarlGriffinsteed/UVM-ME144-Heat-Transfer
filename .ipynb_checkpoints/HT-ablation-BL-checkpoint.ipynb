{
 "cells": [
  {
   "cell_type": "markdown",
   "metadata": {},
   "source": [
    "# External convection flow\n",
    "\n",
    "## Flat plate\n",
    "\n",
    "In the heating or cooling of a plate by a flow (or a flow by a plate), the quantities of interest are\n",
    "* Reynolds number and Prandtl number based on the thermodynamics of the **fluid** at **film temperature**.\n",
    "* Boundary layer thickness and thermal boundary layer thickness\n",
    "* Local and average coefficients of friction\n",
    "* Local and average oefficients of convection heat transfer obtained through a Nusselt number correlation\n"
   ]
  },
  {
   "cell_type": "markdown",
   "metadata": {},
   "source": [
    "# Design of a low temperature ablation experimental facility\n",
    "\n",
    "During atmopheric entry, the heat shield of a space vehicle experiences tremendous heat load and aggressive chemical reactions. On some materials, the formation of roughness patterns is observed. These patterns are caused by the local ablation of the matieral. Roughness may cause extra heat flux through increased turbulence that could lead to the failure of the heat shield. The mechanisms by which such ablation or erosion patterns are formed are poorly understood, leaving engineers with few if any ability to predict the outcome of the heat shield. \n",
    "\n",
    "Here we consider a simple system made out of a plate of wax of thickness $0.05\\text{ m}$ in order to study this system in a lab without worrying about high-temperatures.\n",
    "\n",
    "The local ablation velocity of wax $V_a(x)$ (i.e. the removal rate of solid wax) is derived from a conservation of energy:\n",
    "\n",
    "$$\n",
    "\\rho_{wax}h_lV_a(x) =\\begin{cases}\\max\\left(q''_\\text{conv}-q''_\\text{cond},0\\right)&\\mathrm{if}\\; T_s(x)\\geq T_m\\\\\n",
    "0& \\text{otherwise}\\end{cases}\n",
    "$$\n",
    "\n",
    "where $\\rho_{wax}=900\\,\\mathrm{kg}/\\mathrm{m}^3$ is the wax density, $h_l= 200\\;\\mathrm{kJ}/\\mathrm{kg}$ is the latent heat of wax and $q''_\\text{conv}$ and $q''_\\text{cond}$ are the *local* heat fluxes by convection and conduction, respectively. $T_s(x)$ an $T_m$ are the *local* surface temperature, and the surface temperature, respectively.\n",
    "\n",
    "The goal is to study the formation of erosion patterns on the surface of the wax plate, thus we are interested in maximumizing the ablation velocity. We will consider two fluids, air and water. \n",
    "\n",
    "For both case, the bottom of the wax plate is maintained at constant temperature $T_\\text{cool}=20^\\circ\\mathrm{C}$. \n",
    "In the following, you are asked to find the initial ablation velocity assuming that (a) the plate has not started to melt yet and (b) the flow-exposed surface is at melting temperature $T_\\text{melt}=50^\\circ\\mathrm{C}$. The thermal conductivity of wax is $k_{wax}=0.25\\mathrm{W}/\\mathrm{m.K}$ and radiation heat transfer is neglected."
   ]
  },
  {
   "cell_type": "markdown",
   "metadata": {},
   "source": [
    "2.1 The upstream air flow velocity is $10 \\,\\mathrm{m/s}$ and its upstream temperature is $150^\\circ\\mathrm{C}$. Plot the evolution of the initial ablation velocity in $\\mathrm{mm/s}$ and/or give its values for $x=0.01,0.1,0.2,0.5,1.0\\mathrm{m}$. The leading edge is a very thin, adiabatic rounded edge."
   ]
  },
  {
   "cell_type": "markdown",
   "metadata": {},
   "source": [
    "### Assumptions\n",
    "\n",
    "* Radiation is negligible\n",
    "* Leading edge does not trip boundary layer into turbulent regime\n",
    "* Heat transfer is predominantly vertical, we use the 1D approximation.\n",
    "* Both horizontal surfaces of the wax slab are isothermal.\n",
    "\n",
    "\n",
    "<img src=\"BLablation.png\" alt=\"my awesome sketch\" width=50% >\n",
    "\n",
    "The ablation velocity is given by the equation above. The conduction heat flux within the wax slab is\n",
    "$$\n",
    "q''_{cond}=\\frac{k_{wax}}{t_{wax}}(T_m-T_{cool})\n",
    "$$\n",
    "\n",
    "The convection heat flux is defined as\n",
    "$$\n",
    "q''_{conv}(x)=h(x)(T_\\infty-T_m)\n",
    "$$\n",
    "and $h(x)$ is given by the correlation for external convection over a flat plate. \n",
    "\n",
    "The flow starts in the laminar regime and may transition to turbulence if $Re_{x=L}$ is larger than $Re_{c}\\approx 5\\times10^5$.\n",
    "\n",
    "Flow thermodynamics properties are determined at the film temperature:\n",
    "$$\n",
    "T_f=\\frac{T_m+T_\\infty}{2}\n",
    "$$"
   ]
  },
  {
   "cell_type": "code",
   "execution_count": 55,
   "metadata": {},
   "outputs": [
    {
     "data": {
      "image/png": "[encoded data removed]",
      "text/plain": [
       "<Figure size 432x288 with 1 Axes>"
      ]
     },
     "metadata": {
      "needs_background": "light"
     },
     "output_type": "display_data"
    }
   ],
   "source": [
    "from Libraries import thermodynamics as thermo\n",
    "from Libraries import HT_external_convection as extconv\n",
    "import numpy as np\n",
    "import matplotlib.pyplot as plt\n",
    "import scipy.constants as csts\n",
    "\n",
    "# Upstream air properties:\n",
    "U_infty = 10. #m/s\n",
    "T_infty = 300. #C\n",
    "\n",
    "#Melting surface \n",
    "T_melt = 50. #C\n",
    "\n",
    "#Bottom temperature\n",
    "T_cool = 20. #C\n",
    "\n",
    "#Wax properties\n",
    "k_wax = 0.25 #W/m.K\n",
    "rho_wax = 900. #kg/m^3\n",
    "h_L_wax = 200.e3 #J/kg\n",
    "t_wax = 0.05 #m\n",
    "L_plate = 1. #m\n",
    "\n",
    "# conduction heat flux in the wax\n",
    "qpp_cond = k_wax*(T_melt - T_cool)/t_wax\n",
    "\n",
    "def Va(qpp, Ts):\n",
    "    global T_melt, rho_wax, h_L_wax, qpp_cond\n",
    "    if (Ts >= T_melt):\n",
    "        Va = np.maximum.reduce([(qpp - qpp_cond)/(rho_wax*h_L_wax), 0.])\n",
    "    else:\n",
    "        Va = 0.\n",
    "    return Va\n",
    "\n",
    "# convection heat flux\n",
    "T_f = (T_melt + T_infty)/2.\n",
    "airprop = thermo.Fluid('air',thermo.C2K(T_f))\n",
    "airconv = extconv.FlatPlate('mixed','isothermal',U_infty,airprop.nu,airprop.alpha,1.)\n",
    "\n",
    "npts = 500\n",
    "x = np.logspace(-3,0,npts)\n",
    "Va_x = np.zeros_like(x)\n",
    "for i in range(npts):\n",
    "    xlocal = x[i]\n",
    "    airconv.local(xlocal)\n",
    "    hx = airconv.Nu_x*airprop.k/xlocal\n",
    "    qpp_x = hx*(T_infty - T_melt)\n",
    "    Va_x[i] = Va(qpp_x,T_melt)\n",
    "\n",
    "# plt.figure(figsize(3,2),dpi=150)\n",
    "plt.plot(x,Va_x*1e3)\n",
    "plt.xlabel(\"$x\\;(\\mathrm{m})$\")\n",
    "plt.ylabel(\"$Va\\;(\\mathrm{mm}/\\mathrm{s})$\")\n",
    "plt.show()"
   ]
  },
  {
   "cell_type": "code",
   "execution_count": 47,
   "metadata": {},
   "outputs": [
    {
     "data": {
      "text/latex": [
       "$\\displaystyle 4.5842204364201207e-05$"
      ],
      "text/plain": [
       "4.5842204364201207e-05"
      ]
     },
     "execution_count": 47,
     "metadata": {},
     "output_type": "execute_result"
    }
   ],
   "source": []
  },
  {
   "cell_type": "code",
   "execution_count": 43,
   "metadata": {},
   "outputs": [],
   "source": [
    "?extconv.FlatPlate"
   ]
  },
  {
   "cell_type": "markdown",
   "metadata": {},
   "source": [
    "2.2 The upstream water flow velocity is $1 \\mathrm{m/s}$ and its upstream temperature is $99^\\circ\\mathrm{C}$. Plot the evolution of the initial ablation velocity in $\\text{mm/s}$ and/or give its values for $x=0.01,0.1,0.2,0.5,1.0\\mathrm{m}$. Discuss which fluid is more likley to achieve the formation of the deepest erosion-driven roughness."
   ]
  },
  {
   "cell_type": "code",
   "execution_count": null,
   "metadata": {},
   "outputs": [],
   "source": []
  }
 ],
 "metadata": {
  "kernelspec": {
   "display_name": "Python 3",
   "language": "python",
   "name": "python3"
  },
  "language_info": {
   "codemirror_mode": {
    "name": "ipython",
    "version": 3
   },
   "file_extension": ".py",
   "mimetype": "text/x-python",
   "name": "python",
   "nbconvert_exporter": "python",
   "pygments_lexer": "ipython3",
   "version": "3.8.5"
  }
 },
 "nbformat": 4,
 "nbformat_minor": 4
}
