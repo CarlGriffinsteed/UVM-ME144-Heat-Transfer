{
 "cells": [
  {
   "cell_type": "markdown",
   "metadata": {},
   "source": [
    "# Heat transfer for pipes"
   ]
  },
  {
   "cell_type": "code",
   "execution_count": 1,
   "metadata": {},
   "outputs": [],
   "source": [
    "\"\"\"\n",
    "importing the necessary libraries, do not modify\n",
    "\"\"\"\n",
    "%matplotlib inline \n",
    "\n",
    "\n",
    "from IPython.display import clear_output\n",
    "\n",
    "import schemdraw as schem\n",
    "import schemdraw.elements as e\n",
    "\n",
    "import matplotlib.pyplot as plt\n",
    "import numpy as np\n",
    "import math\n",
    "import scipy.constants as sc\n",
    "\n",
    "import sympy as sym\n",
    "\n"
   ]
  },
  {
   "cell_type": "markdown",
   "metadata": {},
   "source": [
    "<img src=\"figures/fig_08_08.jpg\" alt=\"my awesome sketch\" width=75% >\n",
    "<i>Fig. 1: Illustration of internal convection.</i>"
   ]
  },
  {
   "cell_type": "markdown",
   "metadata": {},
   "source": [
    "The above sketch illustrates the focus of this notebook: How to quantify the heat transfer between a pipe, in which a fluid flows, and its surroundings. The heat transfer from the outer surface of the pipe to the outer flow is to defined in the previous chapter, external convection. In the following, this notebook establishes the tools necessary to solve the internal convection problem."
   ]
  },
  {
   "cell_type": "markdown",
   "metadata": {},
   "source": [
    "## Entry flow and fully developed internal flow"
   ]
  },
  {
   "cell_type": "markdown",
   "metadata": {},
   "source": [
    "<img src=\"figures/fig_08_01.jpg\" alt=\"my awesome sketch\" width=100% >\n",
    "<i>Fig. 2: Pipe flow nomenclature.</i>"
   ]
  },
  {
   "cell_type": "markdown",
   "metadata": {},
   "source": [
    "### Python module\n",
    "\n",
    "For internal flow, the module is loaded as:"
   ]
  },
  {
   "cell_type": "code",
   "execution_count": 2,
   "metadata": {},
   "outputs": [],
   "source": [
    "from Libraries import HT_internal_convection as intconv\n"
   ]
  },
  {
   "cell_type": "markdown",
   "metadata": {},
   "source": [
    "As an example, consider the flow of water in a pipe of diameter $D=10$ cm, length $L=10$m. The water thermodynamic properties are estimated at $T_f=50^\\circ$C. The bulk velocity is $U_m=2$m/s.\n"
   ]
  },
  {
   "cell_type": "code",
   "execution_count": 3,
   "metadata": {},
   "outputs": [],
   "source": [
    "from Libraries import thermodynamics as thermo\n",
    "T_f = 50 #C\n",
    "waterflow = thermo.Fluid('water',T_f,\"C\")\n",
    "\n",
    "L_pipe = 10. #m\n",
    "D_pipe = 0.1 #m\n",
    "Um_pipe = 2 #m/s"
   ]
  },
  {
   "cell_type": "code",
   "execution_count": 4,
   "metadata": {},
   "outputs": [],
   "source": [
    "pipe = intconv.PipeFlow(D= D_pipe, L=L_pipe,\n",
    "                        rho=waterflow.rho, nu=waterflow.nu, Um=Um_pipe)"
   ]
  },
  {
   "cell_type": "markdown",
   "metadata": {},
   "source": [
    "<img src=\"figures/fig_08_03.jpg\" alt=\"my awesome sketch\" width=100% >\n",
    "<i> Fig. 3. Friction factor in pipe flow as a function of Re and relative surface roughness.</i>"
   ]
  },
  {
   "cell_type": "markdown",
   "metadata": {},
   "source": [
    "A uniform flow entering a pipe (Fig. 2) first experiences streamwise variation of velocity to accommodate the wall boundary conditions. A boundary layer, of thickness $\\delta$, forms on the wall and grows until its edge reaches the pipe centerline. This region is the hydrodynamic entrance region. Beyond that point, the flow becomes fully developed, which means that\n",
    "<ul>\n",
    "<li> In the laminar regime, the velocity profile is only a function of $r$,</li>\n",
    "<li> In the turbulent regime, the <b>mean</b> velocity profile is only a function of $r$.</li>\n",
    "</ul>\n",
    "Friction drag or the force exerted by the flow onto the pipe wall governs the pressure gradient necessary to generate a desired flowrate. Calculation of the friction drag leads to the design of the mechanical force creating the pressure gradient. In fully developed (laminar or turbulent) regimes, the pressure gradient may be determined by\n",
    "<p class='alert alert-danger'>\n",
    "$$\n",
    "-\\frac{\\Delta\\overline{P}}{L}=f\\,\\frac{1}{D}\\,\\frac{\\rho U_m^2}{2}\n",
    "$$\n",
    "</p>\n",
    "where $D=2R$ and $L$ are the diameter and length of the pipe, respectively, and $f$ is the <b>friction factor</b>. The bulk velocity or average velocity is\n",
    "<p class='alert alert-info'>\n",
    "$$\n",
    "U_m=\\frac{\\dot{m}}{\\rho A_c}\n",
    "$$\n",
    "</p>\n",
    "where $\\dot{m}$ is the mass flux\n",
    "$$\n",
    "\\dot{m}=\\int_0^{2\\pi}\\int_0^R\\rho \\overline{u}(r)\\,r\\,dr d\\theta=2\\pi\\int_0^R\\rho \\overline{u}(r)\\,r\\,dr\n",
    "$$\n",
    "and $A_c=\\pi R^2$\n",
    "The Reynolds number of the flow is based on the bulk velocity and pipe diameter:\n",
    "<p class='alert alert-danger'>\n",
    "$$\n",
    "Re_D=\\frac{\\rho U_mD}{\\mu}=\\frac{4\\dot{m}}{\\pi D\\mu}\n",
    "$$\n",
    "</p>\n",
    "The friction factor in the laminar regime is rigorously derived:\n",
    "$$\n",
    "f = \\frac{64}{Re_D}\n",
    "$$\n",
    "</p>\n",
    "and is valid up to the critical Reynolds number $Re_{D,c}$, which in most pipe is around 2,000. Be aware that in certain research facilities, the flow can remain laminar for Reynolds numbers up to 10,000. The Reynolds 2,000 is not absolute, universal property, but is the best guess from most engineering applications.\n",
    "\n",
    "Beyond the critical Reynolds number, $f$ is a function of the roughness to diameter ratio $\\varepsilon=e/D$ (e is typically the standard deviation of the roughness height) and the Reynolds number. A trustworthy empirical correlation is the Colebrook formula:\n",
    "<p class='alert alert-danger'>\n",
    "$$\n",
    "\\frac{1}{\\sqrt{f}}=-2\\log_{10}\\left[\\frac{\\varepsilon}{3.7}+\\frac{2.51}{Re_D\\sqrt{f}}\\right]\n",
    "$$\n",
    "</p>\n",
    "which is solved below for a range of relative roughness $\\varepsilon$.\n",
    "\n",
    "Often there is a need to determine the pump or blower power $P$ necessary to move the flow at a prescribed pressure drop:\n",
    "<p class='alert alert-danger'>\n",
    "$$\n",
    "P=\\frac{\\dot{m}}{\\rho}\\Delta p= \\underbrace{(\\Delta p)A_c}_\\text{force}\\cdot U_m\n",
    "$$\n",
    "</p>\n",
    "\n",
    "### Example of functions\n",
    "Going back to our library, let's explore how to determine some of the properties defined above:"
   ]
  },
  {
   "cell_type": "markdown",
   "metadata": {},
   "source": [
    "Reynolds number:"
   ]
  },
  {
   "cell_type": "code",
   "execution_count": 5,
   "metadata": {},
   "outputs": [
    {
     "name": "stdout",
     "output_type": "stream",
     "text": [
      "Re= 3.61e+05\n"
     ]
    }
   ],
   "source": [
    "print(\"Re= %1.2e\" %pipe.Re)"
   ]
  },
  {
   "cell_type": "markdown",
   "metadata": {},
   "source": [
    "Mass flow rate:"
   ]
  },
  {
   "cell_type": "code",
   "execution_count": 6,
   "metadata": {},
   "outputs": [
    {
     "name": "stdout",
     "output_type": "stream",
     "text": [
      "mass flowrate= 15.5 kg/s\n"
     ]
    }
   ],
   "source": [
    "print(\"mass flowrate= %1.1f kg/s\" %pipe.mdot)"
   ]
  },
  {
   "cell_type": "markdown",
   "metadata": {},
   "source": [
    "Compute the friction factor:"
   ]
  },
  {
   "cell_type": "code",
   "execution_count": 7,
   "metadata": {},
   "outputs": [
    {
     "name": "stdout",
     "output_type": "stream",
     "text": [
      "Pipe wall is assumed to be hydrodynamically smooth\n"
     ]
    }
   ],
   "source": [
    "pipe.f_turbulent()"
   ]
  },
  {
   "cell_type": "code",
   "execution_count": 8,
   "metadata": {},
   "outputs": [
    {
     "name": "stdout",
     "output_type": "stream",
     "text": [
      "f= 0.01397\n"
     ]
    }
   ],
   "source": [
    "print(\"f= %1.5f\" %pipe.f)"
   ]
  },
  {
   "cell_type": "markdown",
   "metadata": {},
   "source": [
    "The mean pressure gradient is:"
   ]
  },
  {
   "cell_type": "code",
   "execution_count": 9,
   "metadata": {},
   "outputs": [
    {
     "name": "stdout",
     "output_type": "stream",
     "text": [
      "-dP/dx= 2760 Pa/m\n"
     ]
    }
   ],
   "source": [
    "print(\"-dP/dx= %1.0f Pa/m\" %pipe.dPdx)"
   ]
  },
  {
   "cell_type": "markdown",
   "metadata": {},
   "source": [
    "## Heat transfer by internal convection"
   ]
  },
  {
   "cell_type": "markdown",
   "metadata": {},
   "source": [
    "The temperature is expected to vary both in the streamwise direction and in the radial direction. To reduce the complexity of the problem, we define the mean temperature as:\n",
    "$$\n",
    "T_m=\\frac{1}{\\dot{m}C_p}\\int_{A_c}\\rho\\,u\\,C_p\\, T\\,dA_c\n",
    "$$\n",
    "where $\\dot{m}$ is the mass flow rate, $rho$ and $C_p$ are the density and specific heat of the fluid and $A_c$ is the cross-sectional area of the pipe.\n",
    "The local heat flux may be now expressed as:\n",
    "$$\n",
    "q_s''=h(T_s-T_m)\n",
    "$$\n",
    "where $h$ is the <b>local</b> convection heat transfer coefficient and $T_s$ is the surface temperature on the inner wall of the pipe. The variation of temperature in the <b>fully developed</b> flow can be shown to be governed by the following ODE:\n",
    "<p class='alert alert-info'>\n",
    "$$\n",
    "\\frac{dT_m}{dx}=\\frac{P}{\\dot{m}C_p}h(T_s-T_m)\n",
    "$$\n",
    "</p>\n",
    "where $P$ is the perimeter of the pipe.\n",
    "If the local heat flux is maintained constant over the length of the pipe $L$, the total heat rate is \n",
    "<p class='alert alert-danger'>\n",
    "$$\n",
    "q_\\text{conv}=(PL)q_s''\\, \\text{$q_s''=$constant}\n",
    "$$\n",
    "</p>\n",
    "and the streamwise distribution of the mean temperature is linear:\n",
    "$$\n",
    "T_m(x)=T_{m,i}+\\frac{q_s''P}{\\dot{m}C_p}x,\\, \\text{$q_s''=$constant}\n",
    "$$\n",
    "For the case of constant wall temperature $T_s$, the temperature distribution is the solution of the above ODE, thus of exponential nature. For practical applications, you most always need to compute the overall heat transfer and the outlet mean temperature $T_{m,o}$. The integration of the above ODE for $x=0$ to $x=L$ yields\n",
    "<p class='alert alert-danger'>\n",
    "$$\n",
    "\\frac{T_s-T_{m,o}}{T_s-T_{m,i}}=\\exp\\left(-\\frac{PL}{\\dot{m}C_p}\\overline{h}\\right),\\, \\text{$T_s=$constant}\n",
    "$$\n",
    "</p>\n",
    "where \n",
    "$$\n",
    "\\overline{h}=\\frac{1}{L}\\int_0^L h(x)dx\n",
    "$$\n",
    "If you must compute the mean temperature at $x$ an integration from $0$ to $x$ yields\n",
    "<FONT FACE=\"courier\" style=\"color:blue\">T_mx_Ts_constant(T_s,T_mi,P,L,mdot,Cp,hbar,x)</FONT>\n",
    "<p class='alert alert-danger'>\n",
    "$$\n",
    "\\frac{T_s-T_{m}(x)}{T_s-T_{m,i}}=\\exp\\left(-\\frac{PL}{\\dot{m}C_p}\\overline{h}_x\\right),\\, \\text{$T_s=$constant}\n",
    "$$\n",
    "</p>\n",
    "where \n",
    "$$\n",
    "\\overline{h}_x=\\frac{1}{L}\\int_0^x h(x')dx'\n",
    "$$\n",
    "The computation of the total heat transfer rate can be shown to write:\n",
    "<p class='alert alert-danger'>\n",
    "$$\n",
    "q_\\text{conv}=\\overline{h}(PL)\\Delta T_\\text{lm},\\, \\text{$T_s=$constant}\n",
    "$$\n",
    "</p>\n",
    "with the log mean temperature\n",
    "<FONT FACE=\"courier\" style=\"color:blue\">log_mean_temperature(T_s,T_o,T_i)</FONT>\n",
    "<p class='alert alert-danger'>\n",
    "$$\n",
    "\\Delta T_\\text{lm}=\\cfrac{T_{m,i}-T_{m,o}}{\\ln\\left(\\cfrac{T_s-T_{m,o}}{T_s-T_{m,i}}\\right)}\n",
    "$$\n",
    "</p>\n",
    "In many problem, $T_s$ is not defined but the outside ambient temperature $T_\\infty$, the thermal conductivity of the pipe is known. One needs to determine the total resistance of the system $R_\\text{tot}$, which requires calculating the heat transfer coefficient of the forced or natural convection, occuring on the outside of the pipe, the radiation coefficient if needed, the thermal resistance due by conduction within the pipe, which may include multiple components in the presence of insulation for example, and the internal convection heat transfer coefficient (to be defined below). In such cases, the variation of temperature between inlet and outlet becomes:\n",
    "<FONT FACE=\"courier\" style=\"color:blue\">T_mo_T_infty(T_infty,T_mi,P,L,mdot,Cp,R_tot)</FONT>\n",
    "<p class='alert alert-danger'>\n",
    "$$\n",
    "\\frac{T_\\infty-T_{m,o}}{T_\\infty-T_{m,i}}=\\exp\\left(-\\frac{1}{\\dot{m}C_pR_\\text{tot}}\\right)\n",
    "$$\n",
    "</p>\n",
    "and the total heat transfer rate is\n",
    "<p class='alert alert-danger'>\n",
    "$$\n",
    "q=\\frac{\\Delta T_\\text{lm}}{R_\\text{tot}}\n",
    "$$\n",
    "</p>\n",
    "The equations derived in this cell enable:\n",
    "<ul>\n",
    "<li> The computation of the internal convection heat transfer coefficient if $T_{m,i}$ and $T_{m,o}$ are known.</li>\n",
    "<li> The computation of $T_{m,i}$ or $T_{m,o}$ if one is known and $\\overline{h}$ is known </li>\n",
    "<li> The computation of the required mass flux to achieve given $T_{m,i}$ and $T_{m,o}$, albeit through an iterative process</li>\n",
    "</ul>"
   ]
  },
  {
   "cell_type": "markdown",
   "metadata": {},
   "source": [
    "## Correlations for convection heat transfer coefficients in internal pipe flows"
   ]
  },
  {
   "cell_type": "markdown",
   "metadata": {},
   "source": [
    "Here we detailed only the correlations for fully developed flows. For laminar flows, the nusselt numbers are constant, thus the library <FONT FACE=\"courier\" style=\"color:blue\">HT_internal_convection</FONT> provides directly $\\overline{h}$:\n",
    "<FONT FACE=\"courier\" style=\"color:blue\">laminar_isoflux() </FONT>\n",
    "<p class='alert alert-danger'>\n",
    "$$\n",
    "Nu=\\frac{hD}{k}=4.36,\\, \\text{$q_s''=$constant}\n",
    "$$\n",
    "</p>\n",
    "<FONT FACE=\"courier\" style=\"color:blue\">laminar_isothermal() </FONT>\n",
    "<p class='alert alert-danger'>\n",
    "$$\n",
    "Nu=\\frac{hD}{k}=4.36,\\, \\text{$q_s''=$constant}\n",
    "$$\n",
    "</p>\n"
   ]
  },
  {
   "cell_type": "code",
   "execution_count": 10,
   "metadata": {},
   "outputs": [
    {
     "name": "stdout",
     "output_type": "stream",
     "text": [
      "Nu= 4.36 for laminar isoflux\n",
      "Nu= 3.66 for laminar isothermal\n"
     ]
    }
   ],
   "source": [
    "pipe.laminar_isoflux()\n",
    "print(\"Nu= %1.2f for laminar isoflux\" %pipe.Nu)\n",
    "pipe.laminar_isothermal()\n",
    "print(\"Nu= %1.2f for laminar isothermal\" %pipe.Nu)"
   ]
  },
  {
   "cell_type": "markdown",
   "metadata": {},
   "source": [
    "In turbulent flows, there is a choice of correlations:\n",
    "<FONT FACE=\"courier\" style=\"color:blue\">Dittus_Boelter(Re,Pr,mode) </FONT>\n",
    "<p class='alert alert-danger'>\n",
    "$$\n",
    "Nu=\\frac{hD}{k}=0.023Re^{4/5}Pr^n\n",
    "$$\n",
    "</p>\n",
    "with mode being either <FONT FACE=\"courier\" style=\"color:blue\">'cooling'</FONT> or <FONT FACE=\"courier\" style=\"color:blue\">'heating'</FONT>"
   ]
  },
  {
   "cell_type": "code",
   "execution_count": 11,
   "metadata": {},
   "outputs": [
    {
     "name": "stdout",
     "output_type": "stream",
     "text": [
      "Nu= 940 for cooling\n",
      "Nu= 1067 for heating\n"
     ]
    }
   ],
   "source": [
    "pipe.Dittus_Boelter(mode='cooling',Pr=waterflow.Pr)\n",
    "print(\"Nu= %1.0f for cooling\" %pipe.Nu)\n",
    "pipe.Dittus_Boelter(mode='heating',Pr=waterflow.Pr)\n",
    "print(\"Nu= %1.0f for heating\" %pipe.Nu)"
   ]
  },
  {
   "cell_type": "markdown",
   "metadata": {},
   "source": [
    "<FONT FACE=\"courier\" style=\"color:blue\">Sieder_Tate(Re,Pr,mu,mu_s) </FONT>\n",
    "<p class='alert alert-danger'>\n",
    "$$\n",
    "Nu=\\frac{hD}{k}=0.027Re^{4/5}Pr^{1/3}\\left(\\cfrac{\\mu}{\\mu_s}\\right)^{0.14}\n",
    "$$"
   ]
  },
  {
   "cell_type": "code",
   "execution_count": 12,
   "metadata": {},
   "outputs": [
    {
     "name": "stdout",
     "output_type": "stream",
     "text": [
      "Nu= 1213\n"
     ]
    }
   ],
   "source": [
    "T_s = 75 #C\n",
    "watersurface = thermo.Fluid('water',thermo.C2K(T_s))\n",
    "pipe.Sieder_Tate(mu=waterflow.mu,mu_s=watersurface.mu,Pr=waterflow.Pr)\n",
    "print(\"Nu= %1.0f\" %pipe.Nu)"
   ]
  },
  {
   "cell_type": "markdown",
   "metadata": {},
   "source": [
    "<FONT FACE=\"courier\" style=\"color:blue\">Gnielinski(Re,Pr,f) </FONT>\n",
    "<p class='alert alert-danger'>\n",
    "$$\n",
    "Nu=\\frac{hD}{k}=\\frac{(f/8)(Re-1000)Pr}{1+12.7(f/8)^{1/2}(Pr^{2/3}-1)}\n",
    "$$\n",
    "</p>"
   ]
  },
  {
   "cell_type": "code",
   "execution_count": 13,
   "metadata": {},
   "outputs": [
    {
     "name": "stdout",
     "output_type": "stream",
     "text": [
      "Nu= 1311\n"
     ]
    }
   ],
   "source": [
    "pipe.Gnielinski(f=pipe.f, Pr=waterflow.Pr)\n",
    "print(\"Nu= %1.0f\" %pipe.Nu)"
   ]
  },
  {
   "cell_type": "markdown",
   "metadata": {},
   "source": [
    "<FONT FACE=\"courier\" style=\"color:blue\">Skupinski(Re,Pr) </FONT>\n",
    "<p class='alert alert-danger'>\n",
    "$$\n",
    "Nu=\\frac{hD}{k}=4.82+0.0185\\left(Re\\,Pr\\right)^{0.827},\\, \\text{$q_s''=$constant}\n",
    "$$\n",
    "</p>"
   ]
  },
  {
   "cell_type": "code",
   "execution_count": 14,
   "metadata": {},
   "outputs": [
    {
     "name": "stdout",
     "output_type": "stream",
     "text": [
      "Nu= 2089\n"
     ]
    }
   ],
   "source": [
    "pipe.Skupinski(Pr=waterflow.Pr)\n",
    "print(\"Nu= %1.0f\" %pipe.Nu)"
   ]
  },
  {
   "cell_type": "markdown",
   "metadata": {},
   "source": [
    "<FONT FACE=\"courier\" style=\"color:blue\">Seban(Re,Pr) </FONT>\n",
    "<p class='alert alert-danger'>\n",
    "$$\n",
    "Nu=\\frac{hD}{k}=5.0+0.025\\left(Re\\,Pr\\right)^{0.8},\\, \\text{$T_s=$constant}\n",
    "$$\n",
    "</p>"
   ]
  },
  {
   "cell_type": "code",
   "execution_count": 15,
   "metadata": {},
   "outputs": [
    {
     "name": "stdout",
     "output_type": "stream",
     "text": [
      "Nu= 1931\n"
     ]
    }
   ],
   "source": [
    "pipe.Seban(Pr=waterflow.Pr)\n",
    "print(\"Nu= %1.0f\" %pipe.Nu)"
   ]
  },
  {
   "cell_type": "markdown",
   "metadata": {},
   "source": [
    "## Natural convection around cylinder"
   ]
  },
  {
   "cell_type": "markdown",
   "metadata": {},
   "source": [
    "<img src=\"figures/fig_09_08.jpg\" alt=\"my awesome sketch\" width=75% >\n",
    "<i>Fig. 4: Illustration of the flow induced by natural convection around a cylinder. Insert shows the angular distribution of the local Nu.</i>"
   ]
  },
  {
   "cell_type": "markdown",
   "metadata": {},
   "source": [
    "In a fluid entirely at rest, a heated surface transfers its heat via pure conduction. Natural convection is the enhanced heat transfer between a body of fluid at rest (at infinity) and a heated surface through the creation of a convective flow driven by buoyancy forces. Fig. 4 illustrates a natural convection flow occuring around a cylinder. The fluid at the bottom of the cylinder $\\theta=0$ becomes buoyant through heat transfer between the cylinder and the fluid and rises along the surface of the cylinder. This process creates two boundary layers that merge at $\\theta = \\pi$ to create a vertical jet-like flow, also called a plume. Plumes are characteristic flows of natural convection, i.e. they are found irrespective of the geometry of the heated object.\n",
    "\n",
    "The library is called in the following way:"
   ]
  },
  {
   "cell_type": "code",
   "execution_count": 16,
   "metadata": {},
   "outputs": [],
   "source": [
    "from Libraries import HT_natural_convection as natconv"
   ]
  },
  {
   "cell_type": "markdown",
   "metadata": {},
   "source": [
    "The non-dimensional numbers relevant to natural convection are:\n",
    "the Grashof number\n",
    "<FONT FACE=\"courier\" style=\"color:blue\">Grashof(g,beta,DT,D,nu) </FONT>\n",
    "<p class='alert alert-danger'>\n",
    "$$\n",
    "Gr = \\frac{g\\beta(\\Delta T)D^3}{\\nu^2}\n",
    "$$\n",
    "</p>\n",
    "and the Rayleigh number \n",
    "<FONT FACE=\"courier\" style=\"color:blue\">Rayleigh(g,beta,DT,D,nu,alpha) </FONT>\n",
    "<p class='alert alert-danger'>\n",
    "$$\n",
    "Ra = Gr.Pr= \\frac{g\\beta(\\Delta T)D^3}{\\nu\\alpha}\n",
    "$$\n",
    "</p>\n",
    "where $g$ is the gravity magnitude, $\\beta$ is the volumetric thermal expansion coefficient at a given pressure $p$\n",
    "$$\n",
    "\\beta = -\\frac{1}{\\rho}\\left(\\frac{\\partial\\rho}{\\partial T}\\right)_p\n",
    "$$\n",
    "$\\Delta T$ is the absolute temperature difference between the heated surface temperature $T_s$ and the fluid temperature at infinity $T_\\infty$, $\\Delta T= \\vert T_s-T_\\infty\\vert$, $D$ is the characteristic length of the system (here the diameter) and $\\nu$ and $\\alpha$ are the kinematic viscosity and the thermal diffusivity, both of dimensions $\\text{m$^2$/s}$. \n",
    "Note that for the ideal gas law\n",
    "$$\n",
    "p =\\rho \\frac{R}{M}T\\text{ or } \\rho = \\frac{p}{\\frac{R}{M}T}\n",
    "$$\n",
    "thus the expansion coefficient is \n",
    "<p class='alert alert-info'>\n",
    "$$\n",
    "\\beta = \\frac{1}{T}\\text{ for an ideal gas, $T$ in K}\n",
    "$$\n",
    "</p>\n",
    "For a liquid, $\\beta$ must be interpolated from a table. All thermodynamics quantities involved are to be defined at the film temperature which is the arithmetic mean\n",
    "<p class='alert alert-info'>\n",
    "$$\n",
    "T_f=\\frac{T_s+T_\\infty}{2} \n",
    "$$\n",
    "</p>"
   ]
  },
  {
   "cell_type": "code",
   "execution_count": 17,
   "metadata": {},
   "outputs": [
    {
     "name": "stdout",
     "output_type": "stream",
     "text": [
      "Natural convection Gr= 5.03e+06\n",
      "Natural convection Ra= 3.57e+06\n"
     ]
    }
   ],
   "source": [
    "#air\n",
    "T_infty = 10#C\n",
    "T_s = 50#C\n",
    "D = 0.1#m\n",
    "T_f = (T_s+T_infty)/2\n",
    "airflow = thermo.Fluid('air',T_f,\"C\")\n",
    "Gr= natconv.Gr(beta=airflow.beta,D=D,DT=T_s-T_infty,nu=airflow.nu)\n",
    "print('Natural convection Gr= %1.2e'%Gr)\n",
    "Ra= natconv.Ra(alpha=airflow.alpha,beta=airflow.beta,D=D,DT=T_s-T_infty,nu=airflow.nu)\n",
    "print('Natural convection Ra= %1.2e'%Ra)"
   ]
  },
  {
   "cell_type": "markdown",
   "metadata": {},
   "source": [
    "The Grashof and Rayleigh number quantify the ratio of buoyancy to viscous forces. When they are large enough, a convective flow sets in and the heat transfer increases in comparison to pure conduction. The Nusselt number, ratio of convective to conduction heat transfer (i.e. $>1$ in the presence of a convection flow) is typically a power law of the Rayleigh number. In the case of the flow around a cylinder with isothermal surface temperature, there are two correlations:\n",
    "<FONT FACE=\"courier\" style=\"color:blue\">Morgan(Ra) </FONT>\n",
    "<p class='alert alert-danger'>\n",
    "$$\n",
    "\\overline{Nu}=\\frac{\\overline{h}D}{k}=C\\,Ra^n\n",
    "$$\n",
    "</p>\n",
    "<FONT FACE=\"courier\" style=\"color:blue\">Churchill-Chu(Ra,Pr) </FONT>\n",
    "<p class='alert alert-danger'>\n",
    "$$\n",
    "\\overline{Nu}=\\frac{\\overline{h}D}{k}=\\left[0.60+\\frac{0.387Ra^{1/6}}{\\left[1+\\left(\\frac{0.559}\n",
    "{Pr}\\right)^{9/16}\\right]^{8/27}}\n",
    "\\right]^2 \n",
    "$$\n",
    "</p>\n",
    "Both are valid for $Ra\\leq10^{12}$. The Nusselt is averaged over the perimeter of the cylinder to account for the angular variation of heat transfer discussed earlier. The heat transfer from natural convection from a heated cylinder of diameter $D$ and length $L$ is\n",
    "<p class='alert alert-info'>\n",
    "$$\n",
    "q=\\overline{h}(\\pi DL)(T_s-T_\\infty)=\\frac{1}{R_\\text{th,conv}}(T_s-T_\\infty)\n",
    "$$\n",
    "</p>\n",
    "where $R_\\text{th,conv}$ may computed with <FONT FACE=\"courier\" style=\"color:blue\">R_th_convection(h,A)</FONT>\n"
   ]
  },
  {
   "cell_type": "code",
   "execution_count": 18,
   "metadata": {},
   "outputs": [
    {
     "name": "stdout",
     "output_type": "stream",
     "text": [
      "Morgan correlation: Nu= 20.87\n",
      "Churchill-Chu correlation: Nu= 20.91\n"
     ]
    }
   ],
   "source": [
    "airnatconv = natconv.HorizontalCylinder(correlation='Morgan',Ra=Ra)\n",
    "print(\"Morgan correlation: Nu= %1.2f\" %airnatconv.Nu)\n",
    "airnatconv = natconv.HorizontalCylinder(correlation='Churchill-Chu',Ra=Ra,Pr=airflow.Pr)\n",
    "print(\"Churchill-Chu correlation: Nu= %1.2f\" %airnatconv.Nu)"
   ]
  },
  {
   "cell_type": "code",
   "execution_count": 19,
   "metadata": {},
   "outputs": [
    {
     "data": {
      "image/png": "[encoded data removed]",
      "text/plain": [
       "<Figure size 432x288 with 1 Axes>"
      ]
     },
     "metadata": {
      "needs_background": "light"
     },
     "output_type": "display_data"
    }
   ],
   "source": [
    "font = {'family' : 'serif',\n",
    "        #'color'  : 'black',\n",
    "        'weight' : 'normal',\n",
    "        'size'   : 14,\n",
    "        }\n",
    "\n",
    "from matplotlib.ticker import FormatStrFormatter\n",
    "plt.rc('font', **font)\n",
    "N = 100\n",
    "Ra = np.logspace(5,12,N)\n",
    "Nu_Morgan = np.zeros(N)\n",
    "Nu_ChurchillChu = np.zeros(N)\n",
    "Pr = 1.0\n",
    "for i in range(N):\n",
    "    flow = natconv.HorizontalCylinder(correlation='Morgan',Ra=Ra[i])\n",
    "    Nu_Morgan[i] = flow.Nu\n",
    "    flow = natconv.HorizontalCylinder(correlation='Churchill-Chu',Ra=Ra[i],Pr=Pr)\n",
    "    Nu_ChurchillChu[i] = flow.Nu\n",
    "\n",
    "plt.loglog(Ra,Nu_Morgan, label = r\"Morgan\",lw = 2)\n",
    "plt.loglog(Ra,Nu_ChurchillChu, label = r\"Churchill-Chu\", lw= 2)\n",
    "plt.xlabel(r\"$Ra$\")\n",
    "plt.ylabel(r\"$Nu$\")\n",
    "plt.legend(loc=3, bbox_to_anchor=[0., 1.01], ncol=2, shadow=False, fancybox=True)\n",
    "plt.show()"
   ]
  },
  {
   "cell_type": "code",
   "execution_count": 20,
   "metadata": {},
   "outputs": [
    {
     "data": {
      "image/png": "[encoded data removed]",
      "text/plain": [
       "<Figure size 432x288 with 1 Axes>"
      ]
     },
     "metadata": {
      "needs_background": "light"
     },
     "output_type": "display_data"
    }
   ],
   "source": [
    "plt.semilogx(Ra,Nu_Morgan-Nu_ChurchillChu,lw = 2)\n",
    "plt.xlabel(r\"$Ra$\")\n",
    "plt.ylabel(r\"$Nu_{Morgan}-Nu_{Churchill-Chu}$\")\n",
    "plt.show()"
   ]
  },
  {
   "cell_type": "markdown",
   "metadata": {},
   "source": [
    "## Assignment"
   ]
  },
  {
   "cell_type": "markdown",
   "metadata": {},
   "source": [
    "<ol>\n",
    "<li> Read this entire notebook. Using the textbook, add restrictions and range of validity for the above correlations when applicable. Add the entry length Nu correlation for laminar flow</li>\n",
    "<li> Add a section on entrance flow</li>\n",
    "<li> How should the entrance flow region be treated in turbulent flows?</li>\n",
    "<li>Solve 8.31, 8.36, 8.43</li>\n",
    "</ol>"
   ]
  },
  {
   "cell_type": "markdown",
   "metadata": {},
   "source": [
    "### 8.31"
   ]
  },
  {
   "cell_type": "markdown",
   "metadata": {},
   "source": [
    "<img src=\"figures/probun_08_07.jpg\" alt=\"my awesome sketch\" width=50% >\n",
    "To cool a summer home without using a vapor-compression refrigeration cycle, air is routed through a plastic pipe ($k=0.15\\text{ W/m.K}$, $D_i=0.15\\text{ m}$, $D_o=0.17\\text{ m}$) that is submerged in an adjoining body of water. The water temperature is nominally at $T_\\infty= 17^\\circ\\text{C}$, and a convection coefﬁcient of $h_o\\approx 1500\\text{ W/m$^2$. K}$ is maintained at the outer surface of the pipe.\n",
    "\n",
    "If air from the home enters the pipe at a temperature of $T_{m,i}= 29^\\circ\\text{C}$ and a volumetric ﬂow rate of $\\dot{\\forall}_i= 0.025\\text{ m$^3$/s}$, what pipe length $L$ is needed to provide a discharge temperature of $T_{m,o}=21^\\circ\\text{C}$? What is the fan power required\n",
    "to move the air through this length of pipe if its inner surface is smooth?"
   ]
  },
  {
   "cell_type": "code",
   "execution_count": null,
   "metadata": {},
   "outputs": [],
   "source": []
  },
  {
   "cell_type": "markdown",
   "metadata": {},
   "source": [
    "### 8.36"
   ]
  },
  {
   "cell_type": "markdown",
   "metadata": {},
   "source": [
    "Hot water at mean temperature $T_m=50\\text{$^\\circ$C}$ is routed from one building in which it is generated to an adjoining building in which it is used for space heating. Transfer between the buildings occurs in a steel pipe ($k=60\\text{ W/m.K}$) of $100 \\text{ mm}$ outside diameter and 8-mm wall thickness. During the winter, representative environmental conditions involve air at $T_\\infty= -5\\text{$^\\circ$C}$ and $V_\\infty=3\\text{ m/s}$ in cross ﬂow over the pipe.\n",
    "Using the Churchill Bernstein and Dittus Boehler correlations, calculate the total heat transfer rate <b>per unit length</b> $q'$, the daily energy cost $Q'=q'\\times 24\\text{ h/d}$ per meter and the cost per day and per meter assuming an electricity cost of $\\text{\\$}0.05\\text{/kW.h}$."
   ]
  },
  {
   "cell_type": "code",
   "execution_count": null,
   "metadata": {},
   "outputs": [],
   "source": [
    "T_m = 50 #C\n",
    "k = 60 #W/M*K\n",
    "D_o = 0.1 #m\n",
    "D_i = 0.084 #m \n",
    "T_infty = -5 #C\n",
    "V_infty = 3 #m/s\n",
    "t = 0.008 #m \n",
    "\n",
    "\n",
    "from libraries import HT_thermal_resistance as res\n",
    "Rp =[]\n",
    "Rp.append(res.Resistance(\"$R'_{conv,int}\", \"W/m\"))\n",
    "Rp.append(res.Resistance(\"$R'_{cond,p}\", \"W/m\"))\n",
    "Rp.append(res.Resistance(\"$R'_{conv,ext}\", \"W/m\"))\n",
    "\n"
   ]
  },
  {
   "cell_type": "markdown",
   "metadata": {},
   "source": [
    "### 8.42"
   ]
  },
  {
   "cell_type": "markdown",
   "metadata": {},
   "source": [
    "Atmospheric air enters a $10\\text{ m}$-long, $150\\text{ mm}$-diameter uninsulated heating duct at $60\\text{$^\\circ$C}$ and $0.04\\text{ kg/s}$. The duct surface temperature is approximately constant at $Ts=15\\text{$^\\circ$C}$.\n",
    "\n",
    "(a) What are the outlet air temperature, the heat rate q, and pressure drop $\\Delta p$ for these conditions?\n",
    "\n",
    "(b) To illustrate the tradeoff between heat transfer rate and pressure drop considerations, calculate $q$ and $\\Delta p$ for diameters in the range from $0.1$ to $0.2\\text{ m}$. In your analysis, maintain the total surface area,\n",
    "$A_s=\\pi DL$, at the value computed for part (a). Plot $q$, $\\Delta p$, and $L$ as a function of the duct diameter."
   ]
  },
  {
   "cell_type": "code",
   "execution_count": null,
   "metadata": {
    "collapsed": true
   },
   "outputs": [],
   "source": []
  }
 ],
 "metadata": {
  "anaconda-cloud": {},
  "kernelspec": {
   "display_name": "Python 3",
   "language": "python",
   "name": "python3"
  },
  "language_info": {
   "codemirror_mode": {
    "name": "ipython",
    "version": 3
   },
   "file_extension": ".py",
   "mimetype": "text/x-python",
   "name": "python",
   "nbconvert_exporter": "python",
   "pygments_lexer": "ipython3",
   "version": "3.8.3"
  }
 },
 "nbformat": 4,
 "nbformat_minor": 2
}
