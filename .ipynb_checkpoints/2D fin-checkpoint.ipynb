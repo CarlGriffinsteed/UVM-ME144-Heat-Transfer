{
 "cells": [
  {
   "cell_type": "markdown",
   "metadata": {},
   "source": [
    "# Heat transfer for Extended surfaces"
   ]
  },
  {
   "cell_type": "markdown",
   "metadata": {},
   "source": [
    "Fins are widely used to increase heat transfer through an increase of the surface area exposed to convection and radiation heat transfer. The following shows the comparison between theory and (an almost realistic) simulation of a rectangular fin subjected to a convection flow, with characteristics $h$ and $T_\\infty$. The fin material has a conductivity of $k$ assumed to be constant for the range of temperature of our problem\n",
    "\n",
    "The theory starts with the geometry of the fin. Here we consider the simplest case, a rectangular thin. The cross-sectional area is $A_c=wt$, where $w$ is the width and $t$ the tickness. The perimeter of this area is $P=2(w+t)$. The length is $L$. \n",
    "\n",
    "A control volume between $x$ and $x+\\Delta x$ and bounded from the whole of cross sectional area $A_c$. If one assumes on any cross-sectional area temperature variation to be negligible, the problem reduces to the following ODE (derived in great details in your book).\n",
    "$$\n",
    "\\frac{d^2T}{dx^2}-\\frac{hP}{kA_c}\\left(T(x)-T_\\infty\\right)=0\n",
    "$$\n",
    "and by operating the variable transformation $\\theta(x)=\\left(T(x)-T_\\infty\\right)$:\n",
    "$$\n",
    "\\frac{d^2\\theta}{dx^2}-m^2\\theta=0 \\text{ with }m^2=\\frac{hP}{kA_c}\n",
    "$$\n",
    "The general solution is\n",
    "$$\n",
    "\\theta(x)=C_1e^{+mx}+C_2e^{-mx}\n",
    "$$\n",
    "The constants are determined by the boundary conditions at\n",
    "<ul>\n",
    "<li> $x=0$. Here we assume constant base temperature $T_b$ or $\\theta_b=T_b-T_\\infty$\n",
    "$$\n",
    "\\theta_b=C_1+C_2\n",
    "$$</li>\n",
    "<li> $x=L$. The solution for this boundary depends on the approximation we think we can make:\n",
    "<ul>\n",
    "<li> Convection flow\n",
    "$$\n",
    "h\\theta(L)=-k\\left.\\frac{d\\theta}{dx}\\right\\vert_{x=L}\n",
    "$$\n",
    "</li>\n",
    "<li> Adiabatic\n",
    "$$\n",
    "\\left.\\frac{d\\theta}{dx}\\right\\vert_{x=L}=0\n",
    "$$\n",
    "</li>\n",
    "<li> Constant temperature\n",
    "$$\n",
    "\\theta(L)=T_L-T_\\infty\n",
    "$$\n",
    "</li>\n",
    "<li> Infinite fin ($L/t\\gg 1$?)\n",
    "$$\n",
    "\\theta(L)=0\n",
    "$$\n",
    "</li>\n",
    "</ul>\n",
    "</li>\n",
    "</ul>"
   ]
  },
  {
   "cell_type": "code",
   "execution_count": 1,
   "metadata": {},
   "outputs": [],
   "source": [
    "%matplotlib inline \n",
    "\n",
    "\n",
    "from IPython.display import clear_output\n",
    "\n",
    "import schemdraw as schem\n",
    "import schemdraw.elements as e\n",
    "\n",
    "import matplotlib.pyplot as plt\n",
    "import numpy as np\n",
    "import math\n",
    "import scipy.constants as sc\n",
    "\n",
    "import sympy as sym\n",
    "\n",
    "\n"
   ]
  },
  {
   "cell_type": "markdown",
   "metadata": {},
   "source": [
    "## Discretized heat equation for steady, pure conduction\n",
    "\n",
    "Under the assumption of constant thermodynamic properties, the heat transport equation can be derived as:\n",
    "$$\n",
    "\\rho C_p\\left(\\frac{\\partial T}{\\partial t}+\\mathbf{u}.\\boldsymbol{\\nabla}T\\right)=k\\nabla^2T\n",
    "$$\n",
    "For a pure conduction (velocity vector $\\mathbf{u}=\\mathbf{0}$) and steady state $\\partial T/\\partial t=0$, the temperature field is the solution of:\n",
    "$$\n",
    "\\nabla^2 T=0\\Leftrightarrow \\frac{\\partial^2 T}{\\partial x^2}+\\frac{\\partial^2 T}{\\partial y^2}+\\frac{\\partial^2 T}{\\partial z^2}=0\n",
    "$$\n",
    "\n",
    "This equation can be derived by using a 2D control volume of dimensions $\\Delta x\\times\\Delta y$ and applying the conservation of energy and Fourier's law on the surface of the control volume.\n",
    "\n",
    "Show that:\n",
    "\n",
    "$$\n",
    "\\frac{k\\Delta y}{\\Delta x}\\left(T_{i,j}-T_{i-1,j}\\right)\n",
    "-\\frac{k\\Delta y}{\\Delta x}\\left(T_{i+1,j}-T_{i,j}\\right)\n",
    "+\\frac{k\\Delta x}{\\Delta y}\\left(T_{i,j}-T_{i,j-1}\\right)\n",
    "-\\frac{k\\Delta x}{\\Delta y}\\left(T_{i,j+1}-T_{i,j}\\right)=0\n",
    "$$\n"
   ]
  },
  {
   "cell_type": "markdown",
   "metadata": {},
   "source": [
    "Using Taylor series expansion, show that:\n",
    "$$\n",
    "\\frac{\\partial^2 T}{\\partial x^2}=\\frac{T_{i+1,j} - 2T_{i,j} + T_{i-1,j}}{\\Delta x^2}\n",
    "$$\n",
    "and then show\n",
    "$$\n",
    "-\\frac{k\\Delta x}{\\Delta y}T_{i,j-1}\n",
    "-\\frac{k\\Delta x}{\\Delta y}T_{i-1,j}\n",
    "+\\left(2\\frac{k\\Delta x}{\\Delta y}+2\\frac{k\\Delta y}{\\Delta x}\\right)T_{i,j}\n",
    "-\\frac{k\\Delta x}{\\Delta y}T_{i+1,j}\n",
    "-\\frac{k\\Delta x}{\\Delta y}T_{i,j+1}=0\n",
    "$$\n",
    "$$\n",
    "\\Leftrightarrow\\frac{\\partial^2 T}{\\partial x^2}+\\frac{\\partial^2 T}{\\partial y^2}=0\n",
    "$$"
   ]
  },
  {
   "cell_type": "code",
   "execution_count": 2,
   "metadata": {},
   "outputs": [],
   "source": [
    "def build_matrix(n,A,b,nx,ny,dx,dy,k_cond,h,alpha,beta,T_infty,Tiso):\n",
    "    for j in range (1,ny-1):\n",
    "        for i in range (1,nx-1):\n",
    "            k = i + j * nx\n",
    "            kim = k - 1\n",
    "            kip = k + 1\n",
    "            kjm = k - nx\n",
    "            kjp = k + nx\n",
    "            A[k, k] = k_cond*(2.*dx/dy+2.*dy/dx) \n",
    "            A[k, kim] = -k_cond*dy/dx\n",
    "            A[k, kip] = -k_cond*dy/dx\n",
    "            A[k, kjm] = -k_cond*dx/dy\n",
    "            A[k, kjp] = -k_cond*dx/dy\n",
    "            \n",
    "    i = 0 \n",
    "    j = 0\n",
    "    k = i + j * nx\n",
    "    kip = 1\n",
    "    kjp = nx\n",
    "    A[k,k] = 3.*k_cond*dy/dx+k_cond*dx/dy+alpha*h*dx\n",
    "    A[k,kip] = -k_cond*dy/dx\n",
    "    A[k,kjp] = -k_cond*dx/dy+beta*h*dx\n",
    "    b[k] = 2.*k_cond*dy/dx*T_iso+h*dx*T_infty\n",
    "    \n",
    "    i = 0\n",
    "    j = ny-1\n",
    "    k = i + j * nx\n",
    "    kim = k - 1\n",
    "    kip = k + 1\n",
    "    kjm = k - nx\n",
    "    kjp = k + nx\n",
    "\n",
    "    A[k,kjm] = -k_cond*dx/dy + beta*h*dx\n",
    "    A[k,k] = 3.*k_cond*dy/dx+k_cond*dx/dy + alpha*h*dx\n",
    "    A[k,kip] = -k_cond*dy/dx\n",
    "    b[k] = 2.*k_cond*dy/dx*T_iso + h*dx*T_infty\n",
    "    \n",
    "    i = 0\n",
    "    for j in range (1,ny-1):\n",
    "        k = i + j * nx\n",
    "        kim = k - 1\n",
    "        kip = k + 1\n",
    "        kjm = k - nx\n",
    "        kjp = k + nx\n",
    "        A[k,kjm] = -k_cond*dx/dy\n",
    "        A[k,k] = 3.*k_cond*dy/dx+2.*k_cond*dx/dy\n",
    "        A[k,kip] = -k_cond*dy/dx\n",
    "        A[k,kjp] = -k_cond*dx/dy\n",
    "        b[k] = 2.*k_cond*dy/dx*T_iso\n",
    "        \n",
    "    i = nx-1\n",
    "    j = 0\n",
    "    k = i + j * nx\n",
    "    kim = k - 1\n",
    "    kip = k + 1\n",
    "    kjm = k - nx\n",
    "    kjp = k + nx\n",
    "    A[k,kim] = -k_cond*dy/dx+beta*h*dy\n",
    "    A[k,k] = k_cond*dy/dx+k_cond*dx/dy+alpha*h*dy\n",
    "    A[k,kjp] = -k_cond*dx/dy\n",
    "    b[k] = +h*dy*T_infty\n",
    "    \n",
    "    i = nx-1\n",
    "    j = ny-1\n",
    "    k = i + j * nx\n",
    "    kim = k - 1\n",
    "    kip = k + 1\n",
    "    kjm = k - nx\n",
    "    kjp = k + nx\n",
    "    A[k,kjm] = -k_cond*dx/dy\n",
    "    A[k,kim] = -k_cond*dy/dx+beta*h*dy\n",
    "    A[k,k] = k_cond*dy/dx+k_cond*dx/dy+alpha*h*dy\n",
    "    b[k] = h*dy*T_infty\n",
    "    \n",
    "    i = nx-1\n",
    "    for j in range (1,ny-1):\n",
    "        k = i + j * nx\n",
    "        kim = k - 1\n",
    "        kip = k + 1\n",
    "        kjm = k - nx\n",
    "        kjp = k + nx\n",
    "        A[k,kjm] = -k_cond*dx/dy\n",
    "        A[k,kim] = -k_cond*dy/dx + beta*h*dy\n",
    "        A[k,k] = k_cond*dy/dx+2.*k_cond*dx/dy + alpha*h*dy\n",
    "        A[k,kjp] = -k_cond*dx/dy\n",
    "        b[k] = h*dy*T_infty\n",
    "        \n",
    "    j = 0\n",
    "    for i in range (1,nx-1):\n",
    "        k = i + j * nx\n",
    "        kim = k - 1\n",
    "        kip = k + 1\n",
    "        kjm = k - nx\n",
    "        kjp = k + nx\n",
    "        A[k,kim] = -k_cond*dy/dx\n",
    "        A[k,k] = 2.*k_cond*dy/dx+k_cond*dx/dy + alpha*h*dx\n",
    "        A[k,kip] = -k_cond*dy/dx\n",
    "        A[k,kjp] = -k_cond*dx/dy + beta*h*dx\n",
    "        b[k] = h*dx*T_infty\n",
    "        \n",
    "    j = ny-1\n",
    "    for i in range (1,nx-1):\n",
    "        k = i + j * nx\n",
    "        kim = k - 1\n",
    "        kip = k + 1\n",
    "        kjm = k - nx\n",
    "        kjp = k + nx\n",
    "        A[k,kjm] = -k_cond*dx/dy+beta*h*dx\n",
    "        A[k,kim] = -k_cond*dy/dx\n",
    "        A[k,k] = 2.*k_cond*dy/dx+k_cond*dx/dy+alpha*h*dx\n",
    "        A[k,kip] = -k_cond*dy/dx\n",
    "        b[k] = h*dx*T_infty\n",
    "    "
   ]
  },
  {
   "cell_type": "markdown",
   "metadata": {},
   "source": [
    "A major difficulty of this code resides in the rearrangement of the matrix $T_{i,j}$ into the vector $T_k$ with $k=i+j.nx$. The matrix is now pentadiagonal with its two furthest diagonal at $\\pm nx$ from the main diagonal\n",
    "\n",
    "Boundary condition: Isothermal at the base, convection everywhere else.\n",
    "$i=0,j=0$:\n",
    "$$\n",
    "k\\frac{T_{0,0}-T_a}{\\Delta x/2}\\Delta y-k\\frac{T_{1,0}-T_{0,0}}{\\Delta x}\\Delta y+h\\Delta x\\left(\\alpha T_{0,0}+\\beta T_{0,1}-T\\infty\\right)-k\\frac{T_{0,1}-T_{0,0}}{\\Delta y}\\Delta x = 0\n",
    "$$"
   ]
  },
  {
   "cell_type": "markdown",
   "metadata": {},
   "source": [
    "$$\\left(3\\frac{k\\Delta y}{\\Delta x}+k\\frac{\\Delta x}{\\Delta y}+\\alpha h \\Delta x\\right)T_{0,0}\n",
    "-\\frac{k\\Delta y}{\\Delta x}T_{1,0}\n",
    "+\\left(-\\frac{k\\Delta x}{\\Delta y}+\\beta h \\Delta x\\right)T_{0,1}\n",
    "=2\\frac{k\\Delta y}{\\Delta x}T_a+h\\Delta x T_\\infty\n",
    "$$"
   ]
  },
  {
   "cell_type": "markdown",
   "metadata": {},
   "source": [
    "$i=0,j=ny-1$:\n",
    "$$\n",
    "k\\frac{T_{0,ny-1}-T_a}{\\Delta x/2}\\Delta y-k\\frac{T_{1,ny-1}-T_{0,ny-1}}{\\Delta x}\\Delta y +k\\frac{T_{0,ny-1}-T_{0,ny-2}}{\\Delta y}\\Delta x +h\\Delta x\\left(\\alpha T_{0,ny-1}+\\beta T_{0,ny-2}-T_\\infty\\right) = 0\n",
    "$$"
   ]
  },
  {
   "cell_type": "markdown",
   "metadata": {},
   "source": [
    "$$\n",
    "\\left(-\\frac{k\\Delta x}{\\Delta y}+\\beta h\\Delta x\\right)T_{0,ny-2}+\\left(3\\frac{k\\Delta y}{\\Delta x}T+\\frac{k\\Delta x}{\\Delta y}+\\alpha h\\Delta x\\right)T_{0,ny-1}-\\frac{k\\Delta y}{\\Delta x}T_{1,ny-1}=2\\frac{k\\Delta y}{\\Delta x}T_a + h\\Delta x T_\\infty\n",
    "$$"
   ]
  },
  {
   "cell_type": "markdown",
   "metadata": {},
   "source": [
    "$i=0,j\\in\\left]0,ny-1\\right[$:\n",
    "$$\n",
    "k\\frac{T_{0,j}-T_a}{\\Delta x/2}\\Delta y-k\\frac{T_{1,j}-T_{0,j}}{\\Delta x}\\Delta y +k\\frac{T_{0,j}-T_{0,j-1}}{\\Delta y}\\Delta x -k\\frac{T_{0,j+1}-T_{0,j}}{\\Delta y}\\Delta x = 0\n",
    "$$"
   ]
  },
  {
   "cell_type": "markdown",
   "metadata": {},
   "source": [
    "$$\n",
    "-\\frac{k\\Delta x}{\\Delta y}T_{0,j-1}\n",
    "+\\left(3\\frac{k\\Delta y}{\\Delta x}+2\\frac{k\\Delta x}{\\Delta y}\\right)T_{0,j}\n",
    "-\\frac{k\\Delta y}{\\Delta x}T_{1,j}\n",
    "-\\frac{k\\Delta x}{\\Delta y}T_{0,j+1}=2\\frac{k\\Delta y}{\\Delta x}T_a\n",
    "$$"
   ]
  },
  {
   "cell_type": "markdown",
   "metadata": {},
   "source": [
    "$i=nx-1,j=0$:\n",
    "$$\n",
    "k\\frac{T_{nx-1,0}-T_{nx-2,0}}{\\Delta x}\\Delta y-h\\Delta y\\left(\\alpha T_{nx-1,0}+\\beta T_{nx-2,0}-T_\\infty\\right)-k\\frac{T_{nx-1,1}-T_{nx-1,0}}{\\Delta y}\\Delta x = 0\n",
    "$$"
   ]
  },
  {
   "cell_type": "markdown",
   "metadata": {},
   "source": [
    "$$\n",
    "\\left(-\\frac{k\\Delta y}{\\Delta x}-\\beta h \\Delta y\\right)T_{nx-2,0}+\n",
    "\\left(\\frac{k\\Delta y}{\\Delta x}+k\\frac{\\Delta x}{\\Delta y}-\\alpha h \\Delta y\\right)T_{nx-1,0}-\\frac{k\\Delta x}{\\Delta y}T_{nx-1,1}=-h\\Delta y T_\\infty\n",
    "$$"
   ]
  },
  {
   "cell_type": "markdown",
   "metadata": {},
   "source": [
    "$i=nx-1,j=ny-1$:\n",
    "$$\n",
    "k\\frac{T_{nx-1,ny-1}-T_{nx-2,ny-1}}{\\Delta x}\\Delta y+h\\Delta y\\left(\\alpha T_{nx-1,ny-1}+\\beta T_{nx-2,ny-1}-T_\\infty\\right)+k\\frac{T_{nx-1,ny-1}-T_{nx-1,ny-2}}{\\Delta y}\\Delta x = 0\n",
    "$$"
   ]
  },
  {
   "cell_type": "markdown",
   "metadata": {},
   "source": [
    "$$\n",
    "-\\frac{k\\Delta x}{\\Delta y}T_{nx-1,ny-2}\n",
    "+\\left(-\\frac{k\\Delta y}{\\Delta x}+\\beta h\\Delta y\\right)T_{nx-2,ny-1}+\n",
    "\\left(\\frac{k\\Delta y}{\\Delta x}+k\\frac{\\Delta x}{\\Delta y}+\\alpha h \\Delta y\\right)T_{nx-1,ny-1}\n",
    "=h\\Delta yT_\\infty\n",
    "$$"
   ]
  },
  {
   "cell_type": "markdown",
   "metadata": {},
   "source": [
    "$i=nx-1,j\\in\\left]0,ny-1\\right[$:\n",
    "$$\n",
    "k\\frac{T_{nx-1,j}-T_{nx-2,j}}{\\Delta x}\\Delta y+h\\Delta y\\left(\\alpha T_{nx-1,j}+\\beta T_{nx-2,j}-T_\\infty\\right)\n",
    "+k\\frac{T_{nx-1,j}-T_{nx-1,j-1}}{\\Delta y}\\Delta x-k\\frac{T_{nx-1,j+1}-T_{nx-1,j}}{\\Delta y}\\Delta x = 0\n",
    "$$"
   ]
  },
  {
   "cell_type": "markdown",
   "metadata": {},
   "source": [
    "$$\n",
    "-\\frac{k\\Delta x}{\\Delta y}T_{nx-1,j-1}\n",
    "+\\left(-\\frac{k\\Delta y}{\\Delta x}+\\beta h \\Delta y\\right)T_{nx-2,j}+\n",
    "\\left(\\frac{k\\Delta y}{\\Delta x}+2k\\frac{\\Delta x}{\\Delta y}+\\alpha h \\Delta y\\right)T_{nx-1,j}-\\frac{k\\Delta x}{\\Delta y}T_{nx-1,j+1}=h\\Delta y T_\\infty\n",
    "$$"
   ]
  },
  {
   "cell_type": "markdown",
   "metadata": {},
   "source": [
    "$0<i<nx-1,j=0$:\n",
    "$$\n",
    "k\\frac{T_{i,0}-T_{i-1,0}}{\\Delta x}\\Delta y-k\\frac{T_{i+1,0}-T_{i,0}}{\\Delta x}\\Delta y\n",
    "+h\\Delta x\\left(\\alpha T_{i,0}+\\beta T_{i,1}-T_\\infty\\right)-k\\frac{T_{i,1}-T_{i,0}}{\\Delta y}\\Delta x = 0\n",
    "$$"
   ]
  },
  {
   "cell_type": "markdown",
   "metadata": {},
   "source": [
    "$$\n",
    "-\\frac{k\\Delta y}{\\Delta x}T_{i-1,0}+\\left(2\\frac{k\\Delta y}{\\Delta x}+\\frac{k\\Delta x}{\\Delta y}+\\alpha h \\Delta x\\right)T_{i,0}\n",
    "-\\frac{k\\Delta y}{\\Delta x}T_{i+1,0}\n",
    "+\\left(-\\frac{k\\Delta x}{\\Delta y}+\\beta h\\Delta x\\right)T_{i,1} = h\\Delta x T_\\infty\n",
    "$$"
   ]
  },
  {
   "cell_type": "markdown",
   "metadata": {},
   "source": [
    "$0<i<nx-1,j=ny-1$:\n",
    "$$\n",
    "k\\frac{T_{i,ny-1}-T_{i-1,ny-1}}{\\Delta x}\\Delta y-k\\frac{T_{i+1,ny-1}-T_{i,ny-1}}{\\Delta x}\\Delta y +k\\frac{T_{i,ny-1}-T_{i,ny-2}}{\\Delta y}\\Delta x +h\\Delta x\\left(\\alpha T_{i,ny-1}+\\beta T_{i,ny-2}-T_\\infty\\right) = 0\n",
    "$$"
   ]
  },
  {
   "cell_type": "markdown",
   "metadata": {},
   "source": [
    "$$\n",
    "\\left(-\\frac{k\\Delta x}{\\Delta y}+\\beta h\\Delta x\\right)T_{i,ny-2}-\\frac{k\\Delta y}{\\Delta x}T_{i-1,ny-1}+\\left(2\\frac{k\\Delta y}{\\Delta x}+\\frac{k\\Delta x}{\\Delta y}+\\alpha h \\Delta x\\right)T_{i,ny-1}-\\frac{k\\Delta y}{\\Delta x}T_{i+1,ny-1} = h\\Delta x T_\\infty\n",
    "$$"
   ]
  },
  {
   "cell_type": "code",
   "execution_count": 3,
   "metadata": {},
   "outputs": [],
   "source": [
    "def fin(k_cond,T_iso,T_infty,h,lx,ly,nx,ny):\n",
    "    \n",
    "    dx = lx/(nx)\n",
    "    dy = ly/(ny)\n",
    "    n = nx*ny\n",
    "    alpha = 3./2.\n",
    "    beta = -1./2.\n",
    "    t = ly\n",
    "    w = 1 #m \n",
    "    A_c = t*w\n",
    "    P = 2.*(t+w)\n",
    "    m = np.sqrt(h*P/(k_cond*A_c))\n",
    "    L = lx\n",
    "    theta_b = T_iso - T_infty\n",
    "\n",
    "    A = np.zeros((n,n), dtype = np.float)\n",
    "    b = np.zeros((n,1), dtype = np.float)\n",
    "    Tn = np.zeros((nx,ny), dtype = np.float)\n",
    "    theta_comp = np.zeros((nx,ny))\n",
    "    theta_conv = np.zeros(nx)\n",
    "    theta_inf = np.zeros(nx)\n",
    "    Xn = np.zeros((nx,ny), dtype = np.float)\n",
    "    Yn = np.zeros((nx,ny), dtype = np.float)\n",
    "\n",
    "    x = np.array([(i+0.5)*dx for i in range(nx)])\n",
    "    y = np.array([(j+0.5)*dy for j in range(ny)])\n",
    "\n",
    "    for j in range (ny):\n",
    "        for i in range (nx):\n",
    "            Xn[i,j] = x[i]\n",
    "            Yn[i,j] = y[j]\n",
    "\n",
    "    build_matrix(n,A,b,nx,ny,dx,dy,k_cond,h,alpha,beta,T_infty,T_iso)\n",
    "\n",
    "\n",
    "    T = np.linalg.solve(A, b)\n",
    "\n",
    "\n",
    "    i = 0\n",
    "    j = 0\n",
    "    for k in range (n):\n",
    "        i = k - j*nx\n",
    "        if (i > nx-1):\n",
    "            j += 1\n",
    "            i = 0\n",
    "        Tn[i,j] = T[k]\n",
    "        theta_comp[i,j] = Tn[i,j] - T_infty\n",
    "\n",
    "    for i in range (nx):\n",
    "        # Temperature distribution for an infinite fin\n",
    "        theta_inf[i] = np.exp(-m*x[i])\n",
    "        # Temperature for convection boundary condition at the tip\n",
    "        theta_conv[i] = (np.cosh(m*(L-x[i]))+(h/(m*k_cond))*np.sinh(m*(L-x[i]))) \\\n",
    "                        /(np.cosh(m*L)+(h/(m*k_cond))*np.sinh(m*L))\n",
    "    theta_conv *= theta_b \n",
    "    theta_inf *= theta_b\n",
    "    return x,y,dx,dy,Xn,Yn,Tn,theta_comp,theta_conv,theta_inf,m*L"
   ]
  },
  {
   "cell_type": "code",
   "execution_count": 4,
   "metadata": {},
   "outputs": [],
   "source": [
    "import numpy as np\n",
    "##############################\n",
    "#        Parameters          #\n",
    "##############################\n",
    "k_cond = 180.\n",
    "nx = 100\n",
    "ny = 20\n",
    "\n",
    "lx = 1.2\n",
    "ly = 0.1\n",
    "\n",
    "\n",
    "\n",
    "n = nx*ny\n",
    "\n",
    "T_iso = 100.\n",
    "T_infty = 25.\n",
    "h = 100. #W/m^2.K\n",
    "\n",
    "\n",
    "\n",
    "x,y,dx,dy,Xn,Yn,Tn,theta_comp,theta_conv,theta_inf,mL = \\\n",
    "        fin(k_cond,T_iso,T_infty,h,lx,ly,nx,ny)\n",
    "\n"
   ]
  },
  {
   "cell_type": "code",
   "execution_count": 6,
   "metadata": {},
   "outputs": [
    {
     "name": "stdout",
     "output_type": "stream",
     "text": [
      "heat rate= 4477.6 W/m\n",
      "mL= 4.195\n"
     ]
    },
    {
     "data": {
      "image/png": "[encoded data removed]",
      "text/plain": [
       "<Figure size 960x640 with 3 Axes>"
      ]
     },
     "metadata": {},
     "output_type": "display_data"
    }
   ],
   "source": [
    "fig = plt.figure(num=None, figsize=(6, 4), dpi=160, facecolor='w', edgecolor='k')\n",
    "ax = fig.add_subplot(211)\n",
    "im = ax.contourf(Xn, Yn, Tn, 20, cmap='jet')\n",
    "ax.set_aspect('equal')\n",
    "#ax.set_xlabel('$x$ (m)')\n",
    "ax.set_ylabel('$y$ (m)')\n",
    "fig.colorbar(im, ax = ax, orientation = 'horizontal')\n",
    "bx = fig.add_subplot(212)\n",
    "bx.plot(x, theta_comp[:,0], label='Computed at $y=0$')\n",
    "bx.plot(x, theta_comp[:,ny//2], label='Computed at $y=t/2$')\n",
    "bx.plot(x, theta_conv,'--', label='tip convection b.c.')\n",
    "bx.plot(x, theta_inf,'-', label='Infinite fin sol.')\n",
    "bx.set_xlabel('$x$ (m)')\n",
    "bx.set_ylabel(r'$\\theta$ ($^\\circ$C)')\n",
    "bx.legend(loc='upper center', bbox_to_anchor=(0.5, -0.5),\n",
    "          fancybox=True, shadow=True, ncol=5)\n",
    "\n",
    "heat_rate = 0.\n",
    "\n",
    "\n",
    "heat_rate = np.sum(-k_cond*(Tn[0,:]-T_iso)/(dx/2.)*dy)\n",
    "print('heat rate= %4.1f W/m' %heat_rate)\n",
    "print('mL= %2.3f' %mL)"
   ]
  },
  {
   "cell_type": "code",
   "execution_count": 14,
   "metadata": {},
   "outputs": [
    {
     "name": "stdout",
     "output_type": "stream",
     "text": [
      "error: 0.09950832845317478\n"
     ]
    }
   ],
   "source": [
    "print('error:',np.mean(theta_comp[-1,:])/T_infty)"
   ]
  },
  {
   "cell_type": "code",
   "execution_count": null,
   "metadata": {},
   "outputs": [],
   "source": []
  },
  {
   "cell_type": "code",
   "execution_count": null,
   "metadata": {},
   "outputs": [],
   "source": []
  }
 ],
 "metadata": {
  "kernelspec": {
   "display_name": "Python 3",
   "language": "python",
   "name": "python3"
  },
  "language_info": {
   "codemirror_mode": {
    "name": "ipython",
    "version": 3
   },
   "file_extension": ".py",
   "mimetype": "text/x-python",
   "name": "python",
   "nbconvert_exporter": "python",
   "pygments_lexer": "ipython3",
   "version": "3.8.5"
  }
 },
 "nbformat": 4,
 "nbformat_minor": 1
}
