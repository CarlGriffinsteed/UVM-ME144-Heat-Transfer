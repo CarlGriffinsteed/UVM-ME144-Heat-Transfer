{
 "cells": [
  {
   "cell_type": "markdown",
   "metadata": {},
   "source": [
    "# HW2\n",
    "\n",
    "\n",
    "Before submitting your **HTpy-HW2.ipynb** file, perform the following\n",
    "* `Kernel>Restart & Run All`\n",
    "* Make sure that there are no errors\n",
    "\n",
    "The following includes problems that need coding and others that only need to perform simple operations (python as a calculator)."
   ]
  },
  {
   "cell_type": "code",
   "execution_count": 1,
   "metadata": {},
   "outputs": [],
   "source": [
    "from Libraries import thermodynamics as thermo\n",
    "import numpy as np\n",
    "import matplotlib.pyplot as plt\n",
    "import scipy.constants as csts"
   ]
  },
  {
   "cell_type": "markdown",
   "metadata": {},
   "source": [
    "## 1 Convection heat transfer coefficient\n",
    "A plate of metal of mass $m=4.25 kg$, specific heat $C_p= 2770 J/kg.K$ and surface area $0.4m\\times0.4m$ is cooled in ambient air at temperature $T_\\infty=25^\\circ C$. The plate is thin enough and its thermal conductivity high enough that the plate is assumed to be isothermal at any time. At a given time, the plate temperature is $T_s = 245^\\circ C$ and the rate of temperature cooling is\n",
    "$$\n",
    "\\frac{dT}{dt}=-0.028 K/s\n",
    "$$\n",
    "\n",
    "Find the convection heat transfer coefficient from conservation of energy applied to the plate."
   ]
  },
  {
   "cell_type": "markdown",
   "metadata": {},
   "source": [
    "### Solution\n",
    "Assumptions:\n",
    "* Plate is isothermal\n",
    "* Only heat transfer is convection heat transfer\n",
    "* Conservation of energy is applied to the plate\n",
    "* The plate is thin therefore the area exposed to convection is $A=2\\times0.4^2m^2$\n",
    "\n",
    "Conservation of energy applied to the metal plates writes:\n",
    "$$\n",
    "\\frac{d E_{st}}{dt}=\\dot{E}_{in} - \\dot{E}_{out} + \\dot{E}_g\n",
    "$$\n",
    "\n",
    "reduces to\n",
    "\n",
    "$$\n",
    "\\frac{d E_{st}}{dt}=- \\dot{E}_{out}\n",
    "$$\n",
    "\n",
    "where $\\dot{E}_{out}$ is the thermal energy lost by convection to the ambient air:\n",
    "$$\n",
    "\\dot{E}_{out}=q_{conv}=hA(T_s-T_\\infty).\n",
    "$$\n",
    "\n",
    "Since $T_s=T$, the conservation of energy becomes:\n",
    "$$\n",
    "\\frac{d}{dt}\\int_V\\rho C_pT dV=-hA(T-T_\\infty)\n",
    "$$\n",
    "\n",
    "$$\n",
    "mC_p\\frac{dT}{dt}=-hA(T-T_\\infty)\n",
    "$$\n",
    "\n",
    "Therefore,\n",
    "\n",
    "$$\n",
    "\\frac{dT}{dt}=-\\frac{hA}{mC_p}(T-T_\\infty)\n",
    "$$\n",
    "\n",
    "or\n",
    "\n",
    "$$\n",
    "h=-\\frac{mC_p}{A(T-T_\\infty)}\\frac{dT}{dt}\n",
    "$$\n",
    "\n"
   ]
  },
  {
   "cell_type": "code",
   "execution_count": 2,
   "metadata": {},
   "outputs": [
    {
     "name": "stdout",
     "output_type": "stream",
     "text": [
      "The convection heat transfer for the given conditions is 4.7 W/m^2.K\n"
     ]
    }
   ],
   "source": [
    "Cp = 2770. #J/kg.K\n",
    "m = 4.25 #kg\n",
    "dTdt = -0.028 #K/s\n",
    "T_infty = 25. #C\n",
    "T_s = 245. #C\n",
    "A = 2*0.4**2\n",
    "\n",
    "h = -m*Cp/(A*(T_s - T_infty))*dTdt\n",
    "print (\"The convection heat transfer for the given conditions is %.1f W/m^2.K\" %h)"
   ]
  },
  {
   "cell_type": "markdown",
   "metadata": {},
   "source": [
    "## 2 Radiation in a vacuum \n",
    "\n",
    "The same plate as above is now in a vacuum (no flow). Using all conditions defined in 1, determine the emissivity of the plate and the heat rate at which radiation is emitted from the plate. Assume that $T_{sur}=T_\\infty$. "
   ]
  },
  {
   "cell_type": "markdown",
   "metadata": {},
   "source": [
    "### Solution\n",
    "Assumptions:\n",
    "* Same as above, except no convection\n",
    "\n",
    "Using the same approache as above, with $\\dot{E}_{out}=q_{rad}=\\sigma\\varepsilon A(T_s^4-T_\\infty^4)$, the emissivity is\n",
    "$$\n",
    "m C_p\\frac{dT}{dt}=\\sigma\\varepsilon A(T_s^4-T_\\infty^4)\n",
    "$$\n",
    "$$\n",
    "\\varepsilon=-\\frac{mC_p}{\\sigma A(T_s^4-T_\\infty^4)}\\frac{dT}{dt}\n",
    "$$\n",
    "\n",
    "Emissive power of the plate is \n",
    "\n",
    "$$\n",
    "q_{rad}=\\varepsilon \\sigma A T_s^4\n",
    "$$"
   ]
  },
  {
   "cell_type": "code",
   "execution_count": 3,
   "metadata": {},
   "outputs": [
    {
     "name": "stdout",
     "output_type": "stream",
     "text": [
      "The Stefan-Boltzmann constant is available from scipy 5.67e-08 W/m^2.K^4\n"
     ]
    }
   ],
   "source": [
    "print('The Stefan-Boltzmann constant is available from scipy %.2e W/m^2.K^4' %csts.sigma)"
   ]
  },
  {
   "cell_type": "code",
   "execution_count": 5,
   "metadata": {},
   "outputs": [
    {
     "name": "stdout",
     "output_type": "stream",
     "text": [
      "The emissivity of the plate is 0.28\n",
      "The heat rate of radiation emitted by the plate is 370 W\n"
     ]
    }
   ],
   "source": [
    "Cp = 2770. #J/kg.K\n",
    "m = 4.25 #kg\n",
    "dTdt = -0.028 #K/s\n",
    "T_infty = 25. #C\n",
    "T_s = 245. #C\n",
    "A = 2*0.4**2\n",
    "eps = -m*Cp/(csts.sigma*A*(thermo.C2K(T_s)**4 - thermo.C2K(T_infty)**4))*dTdt\n",
    "print('The emissivity of the plate is %.2f' %eps)\n",
    "q_rad = eps*csts.sigma*A*thermo.C2K(T_s)**4\n",
    "print('The heat rate of radiation emitted by the plate is %.0f W' %q_rad)"
   ]
  },
  {
   "cell_type": "markdown",
   "metadata": {},
   "source": [
    "## 3 Surface temperature of steam line\n",
    "\n",
    "A steam line of diameter $D=0.1m$ and length $L=25m$ loses $18.405 kW$ to the ambient air. The air is at $T_\\infty=T_{sur}=25^\\circ C$, the convection coefficient of the air flow is $h=10W/m^2.K$ and the emissivity of the pipe is $\\varepsilon=0.8$.\n",
    "\n",
    "Find the surface temperature of the steam line, the annual energy loss and the annual cost assuming that the steam is generated by a furnace with an efficiency $\\eta_f = 0.9$ running at a cost of natural gas of  $0.02\\$/MJ$.\n",
    "\n",
    "For the surface temperature, use `scipy.optimize.fsolve`"
   ]
  },
  {
   "cell_type": "markdown",
   "metadata": {},
   "source": [
    "### Solution\n",
    "Assumptions:\n",
    "* Heat transfer is steady and 1D\n",
    "* Conservation of energy is applied to the surface of the pipe. There is no energy generation in that control volume. \n",
    "\n",
    "The control volume is the external surface of the pipe of surface area $A=\\pi D\\times L=2.5m^2$. The steam loses heat to the outside at a rate $q=18.405kW$. This energy is transferred to the outside through radiation and convection. The conservation of energy applied to the surface of the pipe therefore reduces to:\n",
    "\n",
    "$$\n",
    "\\dot{E}_{in}-\\dot{E}_{out}=0\n",
    "$$\n",
    "\n",
    "with $\\dot{E}_{in}=q$ and $\\dot{E}_{out}=q_{conv}+q_{rad}$. For a surface temperature $T_s$, this equation becomes\n",
    "\n",
    "$$\n",
    "q-hA(T_s-T_\\infty)-\\sigma\\varepsilon A(T_s^4-T_\\infty^4)=0\n",
    "$$\n",
    "\n",
    "that we solve for $T_s$ using the function root finder solver fsolve from scipy.optimize.\n",
    "\n",
    "The annual energy loss $E_{loss}$ is q multiplied by a year. The energy consumed by the boiler to create the total energy loss is\n",
    "$$\n",
    "E_{furnace}=\\frac{E_{loss}}{\\eta_f}\n",
    "$$\n",
    "\n",
    "Warning: the cost is in dollars per MEGAJoule."
   ]
  },
  {
   "cell_type": "markdown",
   "metadata": {},
   "source": [
    "with \n",
    "$$\n",
    "\\dot{E}_{in}=q_{loss} = 18.405kW\n",
    "$$\n",
    "\n",
    "$$\n",
    "\\dot{E}_{out}=q_{conv}+q_{rad}\n",
    "$$"
   ]
  },
  {
   "cell_type": "code",
   "execution_count": null,
   "metadata": {},
   "outputs": [],
   "source": [
    "from scipy.optimize import fsolve\n",
    "D = 0.1\n",
    "L = 25.\n",
    "q = 18405.\n",
    "h = 10.\n",
    "T_infty = 25.\n",
    "eps = 0.8\n",
    "eta_f = 0.9\n",
    "Cost = 0.02\n",
    "A = np.pi*D*L\n",
    "\n",
    "\n",
    "# print('The steam line surface temperature is %.0f C' %T_s)\n",
    "# print('verification:',A*h*(T_s-T_infty) + eps*sccst.sigma*A*(C2K(T_s)**4-C2K(T_infty)**4))\n",
    "# cost = q*(365*24*3600)/0.9*C*1e-6\n",
    "# print('The cost of operation for a year is $%.f' %cost)"
   ]
  },
  {
   "cell_type": "markdown",
   "metadata": {},
   "source": [
    "## 4 Insulation\n",
    "\n",
    "Assuming that the surface temperature is $150^\\circ C$, find an insulation that works (i.e. an insulation that will not melt, for which you can retrieve the price and thermal conductivity). Derive the necessary equations that will give optimum savings.\n",
    "\n",
    "Hint: Derive the heat loss for a variable thickness of insulation, then apply this formula for a range of thicknesses. Compare savings of gas vs cost of insulation."
   ]
  },
  {
   "cell_type": "markdown",
   "metadata": {},
   "source": [
    "### Solution\n",
    "Assumptions:\n",
    "<ul>\n",
    "    <li>Heat transfer is steady and 1D</li>\n",
    "</ul>"
   ]
  },
  {
   "cell_type": "code",
   "execution_count": null,
   "metadata": {},
   "outputs": [],
   "source": []
  },
  {
   "cell_type": "markdown",
   "metadata": {},
   "source": [
    "## 5 Window\n",
    "\n",
    "Set up calculations to discuss heat losses of a single pane window, a single pane window with storm window and a double paned window with Argon vacuum."
   ]
  },
  {
   "cell_type": "markdown",
   "metadata": {},
   "source": [
    "### Solution\n",
    "Assumptions:\n",
    "<ul>\n",
    "    <li>Heat transfer is steady and 1D</li>\n",
    "</ul>"
   ]
  },
  {
   "cell_type": "code",
   "execution_count": null,
   "metadata": {},
   "outputs": [],
   "source": []
  },
  {
   "cell_type": "code",
   "execution_count": null,
   "metadata": {},
   "outputs": [],
   "source": []
  }
 ],
 "metadata": {
  "kernelspec": {
   "display_name": "Python 3",
   "language": "python",
   "name": "python3"
  },
  "language_info": {
   "codemirror_mode": {
    "name": "ipython",
    "version": 3
   },
   "file_extension": ".py",
   "mimetype": "text/x-python",
   "name": "python",
   "nbconvert_exporter": "python",
   "pygments_lexer": "ipython3",
   "version": "3.8.5"
  }
 },
 "nbformat": 4,
 "nbformat_minor": 4
}
